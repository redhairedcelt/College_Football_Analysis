{
 "cells": [
  {
   "cell_type": "code",
   "execution_count": 115,
   "metadata": {},
   "outputs": [],
   "source": [
    "import pandas as pd\n",
    "import matplotlib.pyplot as plt\n",
    "import numpy as np\n",
    "import seaborn as sns\n",
    "import plotly.graph_objects as go\n",
    "\n",
    "%matplotlib inline"
   ]
  },
  {
   "cell_type": "code",
   "execution_count": 116,
   "metadata": {},
   "outputs": [],
   "source": [
    "sns.set(rc={'figure.figsize':(12, 6)})"
   ]
  },
  {
   "cell_type": "markdown",
   "metadata": {},
   "source": [
    "We'll start our process by reading in the scarped results and conducting some data transformations and other changes to clean the date."
   ]
  },
  {
   "cell_type": "code",
   "execution_count": 117,
   "metadata": {},
   "outputs": [],
   "source": [
    "records = pd.read_csv('scraped_results_df.csv')"
   ]
  },
  {
   "cell_type": "code",
   "execution_count": 118,
   "metadata": {},
   "outputs": [
    {
     "name": "stdout",
     "output_type": "stream",
     "text": [
      "<class 'pandas.core.frame.DataFrame'>\n",
      "RangeIndex: 48899 entries, 0 to 48898\n",
      "Data columns (total 13 columns):\n",
      "Unnamed: 0     48899 non-null int64\n",
      "row            48899 non-null int64\n",
      "week_number    48899 non-null int64\n",
      "winner         48899 non-null object\n",
      "winner_pts     48897 non-null float64\n",
      "loser          48899 non-null object\n",
      "loser_pts      48897 non-null float64\n",
      "game_date      48899 non-null object\n",
      "game_time      5225 non-null object\n",
      "game_day       48899 non-null object\n",
      "game_loc       17923 non-null object\n",
      "notes          4066 non-null object\n",
      "year           48899 non-null int64\n",
      "dtypes: float64(2), int64(4), object(7)\n",
      "memory usage: 4.9+ MB\n"
     ]
    }
   ],
   "source": [
    "records.info()"
   ]
  },
  {
   "cell_type": "code",
   "execution_count": 119,
   "metadata": {},
   "outputs": [
    {
     "data": {
      "text/html": [
       "<div>\n",
       "<style scoped>\n",
       "    .dataframe tbody tr th:only-of-type {\n",
       "        vertical-align: middle;\n",
       "    }\n",
       "\n",
       "    .dataframe tbody tr th {\n",
       "        vertical-align: top;\n",
       "    }\n",
       "\n",
       "    .dataframe thead th {\n",
       "        text-align: right;\n",
       "    }\n",
       "</style>\n",
       "<table border=\"1\" class=\"dataframe\">\n",
       "  <thead>\n",
       "    <tr style=\"text-align: right;\">\n",
       "      <th></th>\n",
       "      <th>Unnamed: 0</th>\n",
       "      <th>row</th>\n",
       "      <th>week_number</th>\n",
       "      <th>winner_pts</th>\n",
       "      <th>loser_pts</th>\n",
       "      <th>year</th>\n",
       "    </tr>\n",
       "  </thead>\n",
       "  <tbody>\n",
       "    <tr>\n",
       "      <td>count</td>\n",
       "      <td>48899.000000</td>\n",
       "      <td>48899.000000</td>\n",
       "      <td>48899.000000</td>\n",
       "      <td>48897.000000</td>\n",
       "      <td>48897.000000</td>\n",
       "      <td>48899.000000</td>\n",
       "    </tr>\n",
       "    <tr>\n",
       "      <td>mean</td>\n",
       "      <td>360.076361</td>\n",
       "      <td>361.076361</td>\n",
       "      <td>7.479539</td>\n",
       "      <td>31.192159</td>\n",
       "      <td>13.981389</td>\n",
       "      <td>1985.805047</td>\n",
       "    </tr>\n",
       "    <tr>\n",
       "      <td>std</td>\n",
       "      <td>215.386657</td>\n",
       "      <td>215.386657</td>\n",
       "      <td>3.950671</td>\n",
       "      <td>13.186025</td>\n",
       "      <td>9.711082</td>\n",
       "      <td>19.962510</td>\n",
       "    </tr>\n",
       "    <tr>\n",
       "      <td>min</td>\n",
       "      <td>0.000000</td>\n",
       "      <td>1.000000</td>\n",
       "      <td>1.000000</td>\n",
       "      <td>0.000000</td>\n",
       "      <td>0.000000</td>\n",
       "      <td>1950.000000</td>\n",
       "    </tr>\n",
       "    <tr>\n",
       "      <td>25%</td>\n",
       "      <td>177.000000</td>\n",
       "      <td>178.000000</td>\n",
       "      <td>4.000000</td>\n",
       "      <td>21.000000</td>\n",
       "      <td>7.000000</td>\n",
       "      <td>1969.000000</td>\n",
       "    </tr>\n",
       "    <tr>\n",
       "      <td>50%</td>\n",
       "      <td>354.000000</td>\n",
       "      <td>355.000000</td>\n",
       "      <td>7.000000</td>\n",
       "      <td>30.000000</td>\n",
       "      <td>13.000000</td>\n",
       "      <td>1985.000000</td>\n",
       "    </tr>\n",
       "    <tr>\n",
       "      <td>75%</td>\n",
       "      <td>531.000000</td>\n",
       "      <td>532.000000</td>\n",
       "      <td>10.000000</td>\n",
       "      <td>40.000000</td>\n",
       "      <td>20.000000</td>\n",
       "      <td>2004.000000</td>\n",
       "    </tr>\n",
       "    <tr>\n",
       "      <td>max</td>\n",
       "      <td>883.000000</td>\n",
       "      <td>884.000000</td>\n",
       "      <td>21.000000</td>\n",
       "      <td>100.000000</td>\n",
       "      <td>72.000000</td>\n",
       "      <td>2018.000000</td>\n",
       "    </tr>\n",
       "  </tbody>\n",
       "</table>\n",
       "</div>"
      ],
      "text/plain": [
       "         Unnamed: 0           row   week_number    winner_pts     loser_pts  \\\n",
       "count  48899.000000  48899.000000  48899.000000  48897.000000  48897.000000   \n",
       "mean     360.076361    361.076361      7.479539     31.192159     13.981389   \n",
       "std      215.386657    215.386657      3.950671     13.186025      9.711082   \n",
       "min        0.000000      1.000000      1.000000      0.000000      0.000000   \n",
       "25%      177.000000    178.000000      4.000000     21.000000      7.000000   \n",
       "50%      354.000000    355.000000      7.000000     30.000000     13.000000   \n",
       "75%      531.000000    532.000000     10.000000     40.000000     20.000000   \n",
       "max      883.000000    884.000000     21.000000    100.000000     72.000000   \n",
       "\n",
       "               year  \n",
       "count  48899.000000  \n",
       "mean    1985.805047  \n",
       "std       19.962510  \n",
       "min     1950.000000  \n",
       "25%     1969.000000  \n",
       "50%     1985.000000  \n",
       "75%     2004.000000  \n",
       "max     2018.000000  "
      ]
     },
     "execution_count": 119,
     "metadata": {},
     "output_type": "execute_result"
    }
   ],
   "source": [
    "records.describe()"
   ]
  },
  {
   "cell_type": "code",
   "execution_count": 120,
   "metadata": {},
   "outputs": [
    {
     "data": {
      "text/html": [
       "<div>\n",
       "<style scoped>\n",
       "    .dataframe tbody tr th:only-of-type {\n",
       "        vertical-align: middle;\n",
       "    }\n",
       "\n",
       "    .dataframe tbody tr th {\n",
       "        vertical-align: top;\n",
       "    }\n",
       "\n",
       "    .dataframe thead th {\n",
       "        text-align: right;\n",
       "    }\n",
       "</style>\n",
       "<table border=\"1\" class=\"dataframe\">\n",
       "  <thead>\n",
       "    <tr style=\"text-align: right;\">\n",
       "      <th></th>\n",
       "      <th>Unnamed: 0</th>\n",
       "      <th>row</th>\n",
       "      <th>week_number</th>\n",
       "      <th>winner</th>\n",
       "      <th>winner_pts</th>\n",
       "      <th>loser</th>\n",
       "      <th>loser_pts</th>\n",
       "      <th>game_date</th>\n",
       "      <th>game_time</th>\n",
       "      <th>game_day</th>\n",
       "      <th>game_loc</th>\n",
       "      <th>notes</th>\n",
       "      <th>year</th>\n",
       "    </tr>\n",
       "  </thead>\n",
       "  <tbody>\n",
       "    <tr>\n",
       "      <td>48894</td>\n",
       "      <td>879</td>\n",
       "      <td>880</td>\n",
       "      <td>21</td>\n",
       "      <td>(16) Kentucky</td>\n",
       "      <td>27.0</td>\n",
       "      <td>(13) Penn State</td>\n",
       "      <td>24.0</td>\n",
       "      <td>Jan 1, 2019</td>\n",
       "      <td>1:00 PM</td>\n",
       "      <td>Tue</td>\n",
       "      <td>NaN</td>\n",
       "      <td>Citrus Bowl (Camping World Stadium - Orlando, ...</td>\n",
       "      <td>2018</td>\n",
       "    </tr>\n",
       "    <tr>\n",
       "      <td>48895</td>\n",
       "      <td>880</td>\n",
       "      <td>881</td>\n",
       "      <td>21</td>\n",
       "      <td>(11) Louisiana State</td>\n",
       "      <td>40.0</td>\n",
       "      <td>(7) Central Florida</td>\n",
       "      <td>32.0</td>\n",
       "      <td>Jan 1, 2019</td>\n",
       "      <td>1:00 PM</td>\n",
       "      <td>Tue</td>\n",
       "      <td>NaN</td>\n",
       "      <td>Fiesta Bowl (State Farm Stadium - Glendale, Ar...</td>\n",
       "      <td>2018</td>\n",
       "    </tr>\n",
       "    <tr>\n",
       "      <td>48896</td>\n",
       "      <td>881</td>\n",
       "      <td>882</td>\n",
       "      <td>21</td>\n",
       "      <td>(5) Ohio State</td>\n",
       "      <td>28.0</td>\n",
       "      <td>(9) Washington</td>\n",
       "      <td>23.0</td>\n",
       "      <td>Jan 1, 2019</td>\n",
       "      <td>5:00 PM</td>\n",
       "      <td>Tue</td>\n",
       "      <td>NaN</td>\n",
       "      <td>Rose Bowl (Rose Bowl - Pasadena, California)</td>\n",
       "      <td>2018</td>\n",
       "    </tr>\n",
       "    <tr>\n",
       "      <td>48897</td>\n",
       "      <td>882</td>\n",
       "      <td>883</td>\n",
       "      <td>21</td>\n",
       "      <td>(14) Texas</td>\n",
       "      <td>28.0</td>\n",
       "      <td>(6) Georgia</td>\n",
       "      <td>21.0</td>\n",
       "      <td>Jan 1, 2019</td>\n",
       "      <td>8:45 PM</td>\n",
       "      <td>Tue</td>\n",
       "      <td>NaN</td>\n",
       "      <td>Sugar Bowl (Mercedes-Benz Superdome - New Orle...</td>\n",
       "      <td>2018</td>\n",
       "    </tr>\n",
       "    <tr>\n",
       "      <td>48898</td>\n",
       "      <td>883</td>\n",
       "      <td>884</td>\n",
       "      <td>21</td>\n",
       "      <td>(2) Clemson</td>\n",
       "      <td>44.0</td>\n",
       "      <td>(1) Alabama</td>\n",
       "      <td>16.0</td>\n",
       "      <td>Jan 7, 2019</td>\n",
       "      <td>8:00 PM</td>\n",
       "      <td>Mon</td>\n",
       "      <td>NaN</td>\n",
       "      <td>College Football Championship (Levi's Stadium ...</td>\n",
       "      <td>2018</td>\n",
       "    </tr>\n",
       "  </tbody>\n",
       "</table>\n",
       "</div>"
      ],
      "text/plain": [
       "       Unnamed: 0  row  week_number                winner  winner_pts  \\\n",
       "48894         879  880           21         (16) Kentucky        27.0   \n",
       "48895         880  881           21  (11) Louisiana State        40.0   \n",
       "48896         881  882           21        (5) Ohio State        28.0   \n",
       "48897         882  883           21            (14) Texas        28.0   \n",
       "48898         883  884           21           (2) Clemson        44.0   \n",
       "\n",
       "                     loser  loser_pts    game_date game_time game_day  \\\n",
       "48894      (13) Penn State       24.0  Jan 1, 2019   1:00 PM      Tue   \n",
       "48895  (7) Central Florida       32.0  Jan 1, 2019   1:00 PM      Tue   \n",
       "48896       (9) Washington       23.0  Jan 1, 2019   5:00 PM      Tue   \n",
       "48897          (6) Georgia       21.0  Jan 1, 2019   8:45 PM      Tue   \n",
       "48898          (1) Alabama       16.0  Jan 7, 2019   8:00 PM      Mon   \n",
       "\n",
       "      game_loc                                              notes  year  \n",
       "48894      NaN  Citrus Bowl (Camping World Stadium - Orlando, ...  2018  \n",
       "48895      NaN  Fiesta Bowl (State Farm Stadium - Glendale, Ar...  2018  \n",
       "48896      NaN       Rose Bowl (Rose Bowl - Pasadena, California)  2018  \n",
       "48897      NaN  Sugar Bowl (Mercedes-Benz Superdome - New Orle...  2018  \n",
       "48898      NaN  College Football Championship (Levi's Stadium ...  2018  "
      ]
     },
     "execution_count": 120,
     "metadata": {},
     "output_type": "execute_result"
    }
   ],
   "source": [
    "records.tail()"
   ]
  },
  {
   "cell_type": "markdown",
   "metadata": {},
   "source": [
    "We've got some data cleaning to do and theres some additional data fields that I'd like to calculate.  The below code cell cleans up some column names, separates the rank from the team name, determines a \"rank_diff\" score when ranked teams play each other, a \"pts_diff\" score to track the points difference in the game, and sets a multi-index on year, week of the season, and individual game."
   ]
  },
  {
   "cell_type": "code",
   "execution_count": 121,
   "metadata": {},
   "outputs": [],
   "source": [
    "records = pd.read_csv('scraped_results_df.csv')\n",
    "# 'game_loc' indicated where the game was played at. Since the winner is listed first in \n",
    "# the original data, the '@' indicates the game was played at the loser's home.  Therefore, \n",
    "# we can create a new column called 'Winner_home' if the '@' sign is not present.\n",
    "records['winner_home'] = records['game_loc']!='@'\n",
    "\n",
    "# The rank is included in the winner and losers name within parenthesis.  The below regex will identify \n",
    "# numerical digits within the parenthesis and extract them to a new column as 'floats'.  We'll also \n",
    "# remove the rank in parenthesis from the original winner column.  We'll do this for winners and losers.\n",
    "records['winner_rank'] = records['winner'].str.extract('\\(([0-9]+)\\)', expand=True).astype('float')\n",
    "records['winner_name'] = records['winner'].str.replace('\\(([0-9]+)\\)', '').str.replace('\\xa0', '')\n",
    "records['loser_rank'] = records['loser'].str.extract('\\(([0-9]+)\\)', expand=True).astype('float')\n",
    "records['loser_name'] = records['loser'].str.replace('\\(([0-9]+)\\)', '').str.replace('\\xa0', '')\n",
    "\n",
    "# Calculate a rank_diff socre.  The more negative this is, the more of an upset it is.\n",
    "records['rank_diff'] = records['loser_rank'] - records['winner_rank']\n",
    "\n",
    "# Add a pts_diff between the two pts as we can use margin of victory to see how close a \n",
    "# game is.\n",
    "records['pts_diff'] = records['winner_pts'] - records['loser_pts']\n",
    "\n",
    "# We no longer need several of these columns, so lets drop them.  \n",
    "records.drop(['Unnamed: 0', 'winner','loser'], axis=1, inplace=True)\n",
    "\n",
    "records.set_index(['year','week_number', 'row'], inplace=True)"
   ]
  },
  {
   "cell_type": "markdown",
   "metadata": {},
   "source": [
    "## Data Exploration and Analysis"
   ]
  },
  {
   "cell_type": "markdown",
   "metadata": {},
   "source": [
    "From the below plot, we can see a tremendous explosion in number of games in the 1970's.  In fact in 1977, the NCAA split into 1A for larger schools with better football teams and 1AA for smaller schools.  In recent years, part of the rise in number of games has been a proliferation of games played after the normal season, including bowl games and playoffs."
   ]
  },
  {
   "cell_type": "code",
   "execution_count": 122,
   "metadata": {},
   "outputs": [
    {
     "data": {
      "text/plain": [
       "Text(0.5, 0, 'Year')"
      ]
     },
     "execution_count": 122,
     "metadata": {},
     "output_type": "execute_result"
    },
    {
     "data": {
      "image/png": "[encoded data removed]",
      "text/plain": [
       "<Figure size 864x432 with 1 Axes>"
      ]
     },
     "metadata": {},
     "output_type": "display_data"
    }
   ],
   "source": [
    "ax = records.groupby('year').size().plot(figsize=(12,6), title='Games Played Per Year')\n",
    "ax.set_xlabel('Year')"
   ]
  },
  {
   "cell_type": "markdown",
   "metadata": {},
   "source": [
    "This plot shows how many games are played in each week.  The small number of games played after week 12 relative to the rest of the year highlights both a longer season in recent years and the growth in \"post-season\" bowl games, conference champions, and most recently play-off games"
   ]
  },
  {
   "cell_type": "code",
   "execution_count": 123,
   "metadata": {},
   "outputs": [
    {
     "data": {
      "text/plain": [
       "<matplotlib.axes._subplots.AxesSubplot at 0x137acebd0>"
      ]
     },
     "execution_count": 123,
     "metadata": {},
     "output_type": "execute_result"
    },
    {
     "data": {
      "image/png": "[encoded data removed]",
      "text/plain": [
       "<Figure size 864x432 with 1 Axes>"
      ]
     },
     "metadata": {},
     "output_type": "display_data"
    }
   ],
   "source": [
    "# total number of games per week\n",
    "records.groupby('week_number').size().plot()"
   ]
  },
  {
   "cell_type": "markdown",
   "metadata": {},
   "source": [
    "By looking at the distribution of winner points, loser points, difference between points, and the rank difference over the entire data, several trends emerge.  First, winner points (the total number of points a winner scores) is mostly normally distributed.  On the other hand, the loser's points and the points difference are dramatically skewed to the right with most losers scoring less than 15 points and points differences less then 20.   "
   ]
  },
  {
   "cell_type": "code",
   "execution_count": 124,
   "metadata": {},
   "outputs": [
    {
     "data": {
      "text/plain": [
       "array([[<matplotlib.axes._subplots.AxesSubplot object at 0x136e46750>,\n",
       "        <matplotlib.axes._subplots.AxesSubplot object at 0x1376a9c90>],\n",
       "       [<matplotlib.axes._subplots.AxesSubplot object at 0x1376e14d0>,\n",
       "        <matplotlib.axes._subplots.AxesSubplot object at 0x1379eecd0>]],\n",
       "      dtype=object)"
      ]
     },
     "execution_count": 124,
     "metadata": {},
     "output_type": "execute_result"
    },
    {
     "data": {
      "image/png": "[encoded data removed]",
      "text/plain": [
       "<Figure size 864x432 with 4 Axes>"
      ]
     },
     "metadata": {},
     "output_type": "display_data"
    }
   ],
   "source": [
    "records[['winner_pts', 'loser_pts', 'pts_diff', 'rank_diff']].hist(figsize=(12,6))\n"
   ]
  },
  {
   "cell_type": "markdown",
   "metadata": {},
   "source": [
    "By looking at points scored by the winners, losers, and the difference, we can see that over time more points have been scored by both teams.  However, the average points difference has remained relatively stead over the last 70 years."
   ]
  },
  {
   "cell_type": "code",
   "execution_count": 125,
   "metadata": {
    "scrolled": false
   },
   "outputs": [
    {
     "data": {
      "text/plain": [
       "<matplotlib.axes._subplots.AxesSubplot at 0x13409bb10>"
      ]
     },
     "execution_count": 125,
     "metadata": {},
     "output_type": "execute_result"
    },
    {
     "data": {
      "image/png": "[encoded data removed]",
      "text/plain": [
       "<Figure size 864x432 with 1 Axes>"
      ]
     },
     "metadata": {},
     "output_type": "display_data"
    }
   ],
   "source": [
    "records.groupby('year').mean().plot(y=['winner_pts','loser_pts','pts_diff'], title=\"Points Scored, 1950 to 2018\")"
   ]
  },
  {
   "cell_type": "markdown",
   "metadata": {},
   "source": [
    "If we want to look at how \"accurate\" the polls have been when ranked teams play each other, we could look at the rank difference between the two teams.  We would expect a positive score as that means the higher ranked team defeated the lower ranked team.  The plot below shows the variability of the average rank difference score over the last 70 years. "
   ]
  },
  {
   "cell_type": "code",
   "execution_count": 126,
   "metadata": {},
   "outputs": [
    {
     "data": {
      "text/plain": [
       "<matplotlib.axes._subplots.AxesSubplot at 0x134335910>"
      ]
     },
     "execution_count": 126,
     "metadata": {},
     "output_type": "execute_result"
    },
    {
     "data": {
      "image/png": "[encoded data removed]",
      "text/plain": [
       "<Figure size 864x432 with 1 Axes>"
      ]
     },
     "metadata": {},
     "output_type": "display_data"
    }
   ],
   "source": [
    "records.groupby('year').mean().plot(y='rank_diff', title=\"Average Rank Difference By Year, 1950 to 2018\")"
   ]
  },
  {
   "cell_type": "markdown",
   "metadata": {},
   "source": [
    "If we look at the rank difference averaged across each week, we see a far higher accuracy in the first 15 weeks wieht a score averaging between +2 and +3, before dropping to almost -2.  This is likley because it is far more difficult to pick the winner in closely matched games in the post-season when conference championships and bowl games occur."
   ]
  },
  {
   "cell_type": "code",
   "execution_count": 127,
   "metadata": {},
   "outputs": [
    {
     "data": {
      "text/plain": [
       "<matplotlib.axes._subplots.AxesSubplot at 0x1353b6f90>"
      ]
     },
     "execution_count": 127,
     "metadata": {},
     "output_type": "execute_result"
    },
    {
     "data": {
      "image/png": "[encoded data removed]",
      "text/plain": [
       "<Figure size 864x432 with 1 Axes>"
      ]
     },
     "metadata": {},
     "output_type": "display_data"
    }
   ],
   "source": [
    "records.groupby('week_number').mean().plot(y='rank_diff', title=\"Average Rank Difference By Week, 1950 to 2018\")"
   ]
  },
  {
   "cell_type": "markdown",
   "metadata": {},
   "source": [
    "By plotting points difference against the rank difference, we see that the more positive the rank difference, the greater the margin of victory.  This makes sense when a higher ranked team plays and defeats a lower ranked team, the bigger difference in the rank leads to a more severe points difference.  However, this scatter plot does not work well with dense data like this.  Let's try using a hexplot from Seaborn."
   ]
  },
  {
   "cell_type": "code",
   "execution_count": 128,
   "metadata": {},
   "outputs": [
    {
     "data": {
      "text/plain": [
       "<matplotlib.axes._subplots.AxesSubplot at 0x13319cbd0>"
      ]
     },
     "execution_count": 128,
     "metadata": {},
     "output_type": "execute_result"
    },
    {
     "data": {
      "image/png": "[encoded data removed]",
      "text/plain": [
       "<Figure size 864x432 with 1 Axes>"
      ]
     },
     "metadata": {},
     "output_type": "display_data"
    }
   ],
   "source": [
    "records.plot(x='rank_diff', y='pts_diff', kind='scatter', c='black')"
   ]
  },
  {
   "cell_type": "code",
   "execution_count": 129,
   "metadata": {},
   "outputs": [
    {
     "data": {
      "text/plain": [
       "<seaborn.axisgrid.JointGrid at 0x1374d65d0>"
      ]
     },
     "execution_count": 129,
     "metadata": {},
     "output_type": "execute_result"
    },
    {
     "data": {
      "image/png": "[encoded data removed]",
      "text/plain": [
       "<Figure size 576x576 with 3 Axes>"
      ]
     },
     "metadata": {},
     "output_type": "display_data"
    }
   ],
   "source": [
    "sns.jointplot(x='rank_diff', y='pts_diff', data=records, kind='hex', height=8)"
   ]
  },
  {
   "cell_type": "markdown",
   "metadata": {},
   "source": [
    "Using the rank difference field, we can look for the biggest upsets between ranked teams.  A more negative rank difference indicates a more dramatic upset.  Next we can look at when unranked teams beat the number one ranked team."
   ]
  },
  {
   "cell_type": "code",
   "execution_count": 130,
   "metadata": {},
   "outputs": [
    {
     "data": {
      "text/html": [
       "<div>\n",
       "<style scoped>\n",
       "    .dataframe tbody tr th:only-of-type {\n",
       "        vertical-align: middle;\n",
       "    }\n",
       "\n",
       "    .dataframe tbody tr th {\n",
       "        vertical-align: top;\n",
       "    }\n",
       "\n",
       "    .dataframe thead th {\n",
       "        text-align: right;\n",
       "    }\n",
       "</style>\n",
       "<table border=\"1\" class=\"dataframe\">\n",
       "  <thead>\n",
       "    <tr style=\"text-align: right;\">\n",
       "      <th></th>\n",
       "      <th></th>\n",
       "      <th></th>\n",
       "      <th>winner_pts</th>\n",
       "      <th>loser_pts</th>\n",
       "      <th>game_date</th>\n",
       "      <th>game_time</th>\n",
       "      <th>game_day</th>\n",
       "      <th>game_loc</th>\n",
       "      <th>notes</th>\n",
       "      <th>winner_home</th>\n",
       "      <th>winner_rank</th>\n",
       "      <th>winner_name</th>\n",
       "      <th>loser_rank</th>\n",
       "      <th>loser_name</th>\n",
       "      <th>rank_diff</th>\n",
       "      <th>pts_diff</th>\n",
       "    </tr>\n",
       "    <tr>\n",
       "      <th>year</th>\n",
       "      <th>week_number</th>\n",
       "      <th>row</th>\n",
       "      <th></th>\n",
       "      <th></th>\n",
       "      <th></th>\n",
       "      <th></th>\n",
       "      <th></th>\n",
       "      <th></th>\n",
       "      <th></th>\n",
       "      <th></th>\n",
       "      <th></th>\n",
       "      <th></th>\n",
       "      <th></th>\n",
       "      <th></th>\n",
       "      <th></th>\n",
       "      <th></th>\n",
       "    </tr>\n",
       "  </thead>\n",
       "  <tbody>\n",
       "    <tr>\n",
       "      <td>1995</td>\n",
       "      <td>11</td>\n",
       "      <td>447</td>\n",
       "      <td>33.0</td>\n",
       "      <td>28.0</td>\n",
       "      <td>Nov 2, 1995</td>\n",
       "      <td>NaN</td>\n",
       "      <td>Thu</td>\n",
       "      <td>NaN</td>\n",
       "      <td>NaN</td>\n",
       "      <td>True</td>\n",
       "      <td>24.0</td>\n",
       "      <td>Virginia</td>\n",
       "      <td>2.0</td>\n",
       "      <td>Florida State</td>\n",
       "      <td>-22.0</td>\n",
       "      <td>5.0</td>\n",
       "    </tr>\n",
       "    <tr>\n",
       "      <td>2015</td>\n",
       "      <td>5</td>\n",
       "      <td>309</td>\n",
       "      <td>38.0</td>\n",
       "      <td>10.0</td>\n",
       "      <td>Oct 3, 2015</td>\n",
       "      <td>7:00 PM</td>\n",
       "      <td>Sat</td>\n",
       "      <td>NaN</td>\n",
       "      <td>NaN</td>\n",
       "      <td>True</td>\n",
       "      <td>25.0</td>\n",
       "      <td>Florida</td>\n",
       "      <td>3.0</td>\n",
       "      <td>Mississippi</td>\n",
       "      <td>-22.0</td>\n",
       "      <td>28.0</td>\n",
       "    </tr>\n",
       "    <tr>\n",
       "      <td>2017</td>\n",
       "      <td>10</td>\n",
       "      <td>539</td>\n",
       "      <td>14.0</td>\n",
       "      <td>7.0</td>\n",
       "      <td>Oct 28, 2017</td>\n",
       "      <td>3:30 PM</td>\n",
       "      <td>Sat</td>\n",
       "      <td>NaN</td>\n",
       "      <td>Jack Trice Stadium - Ames, Iowa</td>\n",
       "      <td>True</td>\n",
       "      <td>25.0</td>\n",
       "      <td>Iowa State</td>\n",
       "      <td>4.0</td>\n",
       "      <td>Texas Christian</td>\n",
       "      <td>-21.0</td>\n",
       "      <td>7.0</td>\n",
       "    </tr>\n",
       "    <tr>\n",
       "      <td rowspan=\"2\" valign=\"top\">2014</td>\n",
       "      <td>9</td>\n",
       "      <td>514</td>\n",
       "      <td>10.0</td>\n",
       "      <td>7.0</td>\n",
       "      <td>Oct 25, 2014</td>\n",
       "      <td>7:15 PM</td>\n",
       "      <td>Sat</td>\n",
       "      <td>NaN</td>\n",
       "      <td>NaN</td>\n",
       "      <td>True</td>\n",
       "      <td>24.0</td>\n",
       "      <td>Louisiana State</td>\n",
       "      <td>3.0</td>\n",
       "      <td>Mississippi</td>\n",
       "      <td>-21.0</td>\n",
       "      <td>3.0</td>\n",
       "    </tr>\n",
       "    <tr>\n",
       "      <td>6</td>\n",
       "      <td>378</td>\n",
       "      <td>37.0</td>\n",
       "      <td>33.0</td>\n",
       "      <td>Oct 4, 2014</td>\n",
       "      <td>3:30 PM</td>\n",
       "      <td>Sat</td>\n",
       "      <td>NaN</td>\n",
       "      <td>NaN</td>\n",
       "      <td>True</td>\n",
       "      <td>25.0</td>\n",
       "      <td>Texas Christian</td>\n",
       "      <td>4.0</td>\n",
       "      <td>Oklahoma</td>\n",
       "      <td>-21.0</td>\n",
       "      <td>4.0</td>\n",
       "    </tr>\n",
       "  </tbody>\n",
       "</table>\n",
       "</div>"
      ],
      "text/plain": [
       "                      winner_pts  loser_pts     game_date game_time game_day  \\\n",
       "year week_number row                                                           \n",
       "1995 11          447        33.0       28.0   Nov 2, 1995       NaN      Thu   \n",
       "2015 5           309        38.0       10.0   Oct 3, 2015   7:00 PM      Sat   \n",
       "2017 10          539        14.0        7.0  Oct 28, 2017   3:30 PM      Sat   \n",
       "2014 9           514        10.0        7.0  Oct 25, 2014   7:15 PM      Sat   \n",
       "     6           378        37.0       33.0   Oct 4, 2014   3:30 PM      Sat   \n",
       "\n",
       "                     game_loc                            notes  winner_home  \\\n",
       "year week_number row                                                          \n",
       "1995 11          447      NaN                              NaN         True   \n",
       "2015 5           309      NaN                              NaN         True   \n",
       "2017 10          539      NaN  Jack Trice Stadium - Ames, Iowa         True   \n",
       "2014 9           514      NaN                              NaN         True   \n",
       "     6           378      NaN                              NaN         True   \n",
       "\n",
       "                      winner_rank      winner_name  loser_rank  \\\n",
       "year week_number row                                             \n",
       "1995 11          447         24.0         Virginia         2.0   \n",
       "2015 5           309         25.0          Florida         3.0   \n",
       "2017 10          539         25.0       Iowa State         4.0   \n",
       "2014 9           514         24.0  Louisiana State         3.0   \n",
       "     6           378         25.0  Texas Christian         4.0   \n",
       "\n",
       "                           loser_name  rank_diff  pts_diff  \n",
       "year week_number row                                        \n",
       "1995 11          447    Florida State      -22.0       5.0  \n",
       "2015 5           309      Mississippi      -22.0      28.0  \n",
       "2017 10          539  Texas Christian      -21.0       7.0  \n",
       "2014 9           514      Mississippi      -21.0       3.0  \n",
       "     6           378         Oklahoma      -21.0       4.0  "
      ]
     },
     "execution_count": 130,
     "metadata": {},
     "output_type": "execute_result"
    }
   ],
   "source": [
    "# Biggest upsets between ranked teams\n",
    "records[records['rank_diff'] < -18].sort_values('rank_diff')[:5]"
   ]
  },
  {
   "cell_type": "markdown",
   "metadata": {},
   "source": [
    "We can look at when a winner is not ranked and the loser is ranked 1, which has happened 35 times in the data."
   ]
  },
  {
   "cell_type": "code",
   "execution_count": 131,
   "metadata": {
    "scrolled": true
   },
   "outputs": [
    {
     "data": {
      "text/html": [
       "<div>\n",
       "<style scoped>\n",
       "    .dataframe tbody tr th:only-of-type {\n",
       "        vertical-align: middle;\n",
       "    }\n",
       "\n",
       "    .dataframe tbody tr th {\n",
       "        vertical-align: top;\n",
       "    }\n",
       "\n",
       "    .dataframe thead th {\n",
       "        text-align: right;\n",
       "    }\n",
       "</style>\n",
       "<table border=\"1\" class=\"dataframe\">\n",
       "  <thead>\n",
       "    <tr style=\"text-align: right;\">\n",
       "      <th></th>\n",
       "      <th></th>\n",
       "      <th></th>\n",
       "      <th>winner_pts</th>\n",
       "      <th>loser_pts</th>\n",
       "      <th>game_date</th>\n",
       "      <th>game_time</th>\n",
       "      <th>game_day</th>\n",
       "      <th>game_loc</th>\n",
       "      <th>notes</th>\n",
       "      <th>winner_home</th>\n",
       "      <th>winner_rank</th>\n",
       "      <th>winner_name</th>\n",
       "      <th>loser_rank</th>\n",
       "      <th>loser_name</th>\n",
       "      <th>rank_diff</th>\n",
       "      <th>pts_diff</th>\n",
       "    </tr>\n",
       "    <tr>\n",
       "      <th>year</th>\n",
       "      <th>week_number</th>\n",
       "      <th>row</th>\n",
       "      <th></th>\n",
       "      <th></th>\n",
       "      <th></th>\n",
       "      <th></th>\n",
       "      <th></th>\n",
       "      <th></th>\n",
       "      <th></th>\n",
       "      <th></th>\n",
       "      <th></th>\n",
       "      <th></th>\n",
       "      <th></th>\n",
       "      <th></th>\n",
       "      <th></th>\n",
       "      <th></th>\n",
       "    </tr>\n",
       "  </thead>\n",
       "  <tbody>\n",
       "    <tr>\n",
       "      <td>1950</td>\n",
       "      <td>4</td>\n",
       "      <td>167</td>\n",
       "      <td>28.0</td>\n",
       "      <td>14.0</td>\n",
       "      <td>Oct 7, 1950</td>\n",
       "      <td>NaN</td>\n",
       "      <td>Sat</td>\n",
       "      <td>@</td>\n",
       "      <td>NaN</td>\n",
       "      <td>False</td>\n",
       "      <td>NaN</td>\n",
       "      <td>Purdue</td>\n",
       "      <td>1.0</td>\n",
       "      <td>Notre Dame</td>\n",
       "      <td>NaN</td>\n",
       "      <td>14.0</td>\n",
       "    </tr>\n",
       "    <tr>\n",
       "      <td>1952</td>\n",
       "      <td>5</td>\n",
       "      <td>203</td>\n",
       "      <td>23.0</td>\n",
       "      <td>14.0</td>\n",
       "      <td>Oct 11, 1952</td>\n",
       "      <td>NaN</td>\n",
       "      <td>Sat</td>\n",
       "      <td>NaN</td>\n",
       "      <td>NaN</td>\n",
       "      <td>True</td>\n",
       "      <td>NaN</td>\n",
       "      <td>Ohio State</td>\n",
       "      <td>1.0</td>\n",
       "      <td>Wisconsin</td>\n",
       "      <td>NaN</td>\n",
       "      <td>9.0</td>\n",
       "    </tr>\n",
       "    <tr>\n",
       "      <td>1956</td>\n",
       "      <td>7</td>\n",
       "      <td>308</td>\n",
       "      <td>20.0</td>\n",
       "      <td>13.0</td>\n",
       "      <td>Oct 27, 1956</td>\n",
       "      <td>NaN</td>\n",
       "      <td>Sat</td>\n",
       "      <td>NaN</td>\n",
       "      <td>NaN</td>\n",
       "      <td>True</td>\n",
       "      <td>NaN</td>\n",
       "      <td>Illinois</td>\n",
       "      <td>1.0</td>\n",
       "      <td>Michigan State</td>\n",
       "      <td>NaN</td>\n",
       "      <td>7.0</td>\n",
       "    </tr>\n",
       "    <tr>\n",
       "      <td>1957</td>\n",
       "      <td>6</td>\n",
       "      <td>263</td>\n",
       "      <td>20.0</td>\n",
       "      <td>13.0</td>\n",
       "      <td>Oct 19, 1957</td>\n",
       "      <td>NaN</td>\n",
       "      <td>Sat</td>\n",
       "      <td>@</td>\n",
       "      <td>NaN</td>\n",
       "      <td>False</td>\n",
       "      <td>NaN</td>\n",
       "      <td>Purdue</td>\n",
       "      <td>1.0</td>\n",
       "      <td>Michigan State</td>\n",
       "      <td>NaN</td>\n",
       "      <td>7.0</td>\n",
       "    </tr>\n",
       "    <tr>\n",
       "      <td rowspan=\"2\" valign=\"top\">1960</td>\n",
       "      <td>10</td>\n",
       "      <td>497</td>\n",
       "      <td>23.0</td>\n",
       "      <td>14.0</td>\n",
       "      <td>Nov 12, 1960</td>\n",
       "      <td>NaN</td>\n",
       "      <td>Sat</td>\n",
       "      <td>@</td>\n",
       "      <td>NaN</td>\n",
       "      <td>False</td>\n",
       "      <td>NaN</td>\n",
       "      <td>Purdue</td>\n",
       "      <td>1.0</td>\n",
       "      <td>Minnesota</td>\n",
       "      <td>NaN</td>\n",
       "      <td>9.0</td>\n",
       "    </tr>\n",
       "    <tr>\n",
       "      <td>11</td>\n",
       "      <td>534</td>\n",
       "      <td>23.0</td>\n",
       "      <td>7.0</td>\n",
       "      <td>Nov 19, 1960</td>\n",
       "      <td>NaN</td>\n",
       "      <td>Sat</td>\n",
       "      <td>@</td>\n",
       "      <td>NaN</td>\n",
       "      <td>False</td>\n",
       "      <td>NaN</td>\n",
       "      <td>Kansas</td>\n",
       "      <td>1.0</td>\n",
       "      <td>Missouri</td>\n",
       "      <td>NaN</td>\n",
       "      <td>16.0</td>\n",
       "    </tr>\n",
       "    <tr>\n",
       "      <td rowspan=\"2\" valign=\"top\">1961</td>\n",
       "      <td>8</td>\n",
       "      <td>381</td>\n",
       "      <td>13.0</td>\n",
       "      <td>0.0</td>\n",
       "      <td>Nov 4, 1961</td>\n",
       "      <td>NaN</td>\n",
       "      <td>Sat</td>\n",
       "      <td>NaN</td>\n",
       "      <td>NaN</td>\n",
       "      <td>True</td>\n",
       "      <td>NaN</td>\n",
       "      <td>Minnesota</td>\n",
       "      <td>1.0</td>\n",
       "      <td>Michigan State</td>\n",
       "      <td>NaN</td>\n",
       "      <td>13.0</td>\n",
       "    </tr>\n",
       "    <tr>\n",
       "      <td>10</td>\n",
       "      <td>518</td>\n",
       "      <td>6.0</td>\n",
       "      <td>0.0</td>\n",
       "      <td>Nov 18, 1961</td>\n",
       "      <td>NaN</td>\n",
       "      <td>Sat</td>\n",
       "      <td>@</td>\n",
       "      <td>NaN</td>\n",
       "      <td>False</td>\n",
       "      <td>NaN</td>\n",
       "      <td>Texas Christian</td>\n",
       "      <td>1.0</td>\n",
       "      <td>Texas</td>\n",
       "      <td>NaN</td>\n",
       "      <td>6.0</td>\n",
       "    </tr>\n",
       "    <tr>\n",
       "      <td rowspan=\"2\" valign=\"top\">1962</td>\n",
       "      <td>4</td>\n",
       "      <td>182</td>\n",
       "      <td>9.0</td>\n",
       "      <td>7.0</td>\n",
       "      <td>Oct 6, 1962</td>\n",
       "      <td>NaN</td>\n",
       "      <td>Sat</td>\n",
       "      <td>NaN</td>\n",
       "      <td>NaN</td>\n",
       "      <td>True</td>\n",
       "      <td>NaN</td>\n",
       "      <td>UCLA</td>\n",
       "      <td>1.0</td>\n",
       "      <td>Ohio State</td>\n",
       "      <td>NaN</td>\n",
       "      <td>2.0</td>\n",
       "    </tr>\n",
       "    <tr>\n",
       "      <td>10</td>\n",
       "      <td>521</td>\n",
       "      <td>7.0</td>\n",
       "      <td>6.0</td>\n",
       "      <td>Nov 17, 1962</td>\n",
       "      <td>NaN</td>\n",
       "      <td>Sat</td>\n",
       "      <td>NaN</td>\n",
       "      <td>NaN</td>\n",
       "      <td>True</td>\n",
       "      <td>NaN</td>\n",
       "      <td>Georgia Tech</td>\n",
       "      <td>1.0</td>\n",
       "      <td>Alabama</td>\n",
       "      <td>NaN</td>\n",
       "      <td>1.0</td>\n",
       "    </tr>\n",
       "    <tr>\n",
       "      <td rowspan=\"2\" valign=\"top\">1964</td>\n",
       "      <td>3</td>\n",
       "      <td>81</td>\n",
       "      <td>27.0</td>\n",
       "      <td>21.0</td>\n",
       "      <td>Sep 26, 1964</td>\n",
       "      <td>NaN</td>\n",
       "      <td>Sat</td>\n",
       "      <td>@</td>\n",
       "      <td>NaN</td>\n",
       "      <td>False</td>\n",
       "      <td>NaN</td>\n",
       "      <td>Kentucky</td>\n",
       "      <td>1.0</td>\n",
       "      <td>Mississippi</td>\n",
       "      <td>NaN</td>\n",
       "      <td>6.0</td>\n",
       "    </tr>\n",
       "    <tr>\n",
       "      <td>12</td>\n",
       "      <td>619</td>\n",
       "      <td>20.0</td>\n",
       "      <td>17.0</td>\n",
       "      <td>Nov 28, 1964</td>\n",
       "      <td>NaN</td>\n",
       "      <td>Sat</td>\n",
       "      <td>NaN</td>\n",
       "      <td>NaN</td>\n",
       "      <td>True</td>\n",
       "      <td>NaN</td>\n",
       "      <td>Southern California</td>\n",
       "      <td>1.0</td>\n",
       "      <td>Notre Dame</td>\n",
       "      <td>NaN</td>\n",
       "      <td>3.0</td>\n",
       "    </tr>\n",
       "    <tr>\n",
       "      <td>1967</td>\n",
       "      <td>10</td>\n",
       "      <td>489</td>\n",
       "      <td>3.0</td>\n",
       "      <td>0.0</td>\n",
       "      <td>Nov 11, 1967</td>\n",
       "      <td>NaN</td>\n",
       "      <td>Sat</td>\n",
       "      <td>NaN</td>\n",
       "      <td>NaN</td>\n",
       "      <td>True</td>\n",
       "      <td>NaN</td>\n",
       "      <td>Oregon State</td>\n",
       "      <td>1.0</td>\n",
       "      <td>Southern California</td>\n",
       "      <td>NaN</td>\n",
       "      <td>3.0</td>\n",
       "    </tr>\n",
       "    <tr>\n",
       "      <td>1972</td>\n",
       "      <td>1</td>\n",
       "      <td>28</td>\n",
       "      <td>20.0</td>\n",
       "      <td>17.0</td>\n",
       "      <td>Sep 9, 1972</td>\n",
       "      <td>NaN</td>\n",
       "      <td>Sat</td>\n",
       "      <td>NaN</td>\n",
       "      <td>NaN</td>\n",
       "      <td>True</td>\n",
       "      <td>NaN</td>\n",
       "      <td>UCLA</td>\n",
       "      <td>1.0</td>\n",
       "      <td>Nebraska</td>\n",
       "      <td>NaN</td>\n",
       "      <td>3.0</td>\n",
       "    </tr>\n",
       "    <tr>\n",
       "      <td>1974</td>\n",
       "      <td>10</td>\n",
       "      <td>575</td>\n",
       "      <td>16.0</td>\n",
       "      <td>13.0</td>\n",
       "      <td>Nov 9, 1974</td>\n",
       "      <td>NaN</td>\n",
       "      <td>Sat</td>\n",
       "      <td>NaN</td>\n",
       "      <td>NaN</td>\n",
       "      <td>True</td>\n",
       "      <td>NaN</td>\n",
       "      <td>Michigan State</td>\n",
       "      <td>1.0</td>\n",
       "      <td>Ohio State</td>\n",
       "      <td>NaN</td>\n",
       "      <td>3.0</td>\n",
       "    </tr>\n",
       "    <tr>\n",
       "      <td>1976</td>\n",
       "      <td>10</td>\n",
       "      <td>609</td>\n",
       "      <td>16.0</td>\n",
       "      <td>14.0</td>\n",
       "      <td>Nov 6, 1976</td>\n",
       "      <td>NaN</td>\n",
       "      <td>Sat</td>\n",
       "      <td>NaN</td>\n",
       "      <td>NaN</td>\n",
       "      <td>True</td>\n",
       "      <td>NaN</td>\n",
       "      <td>Purdue</td>\n",
       "      <td>1.0</td>\n",
       "      <td>Michigan</td>\n",
       "      <td>NaN</td>\n",
       "      <td>2.0</td>\n",
       "    </tr>\n",
       "    <tr>\n",
       "      <td>1977</td>\n",
       "      <td>8</td>\n",
       "      <td>504</td>\n",
       "      <td>16.0</td>\n",
       "      <td>0.0</td>\n",
       "      <td>Oct 22, 1977</td>\n",
       "      <td>NaN</td>\n",
       "      <td>Sat</td>\n",
       "      <td>NaN</td>\n",
       "      <td>NaN</td>\n",
       "      <td>True</td>\n",
       "      <td>NaN</td>\n",
       "      <td>Minnesota</td>\n",
       "      <td>1.0</td>\n",
       "      <td>Michigan</td>\n",
       "      <td>NaN</td>\n",
       "      <td>16.0</td>\n",
       "    </tr>\n",
       "    <tr>\n",
       "      <td>1979</td>\n",
       "      <td>7</td>\n",
       "      <td>406</td>\n",
       "      <td>21.0</td>\n",
       "      <td>21.0</td>\n",
       "      <td>Oct 13, 1979</td>\n",
       "      <td>NaN</td>\n",
       "      <td>Sat</td>\n",
       "      <td>NaN</td>\n",
       "      <td>NaN</td>\n",
       "      <td>True</td>\n",
       "      <td>NaN</td>\n",
       "      <td>Stanford</td>\n",
       "      <td>1.0</td>\n",
       "      <td>Southern California</td>\n",
       "      <td>NaN</td>\n",
       "      <td>0.0</td>\n",
       "    </tr>\n",
       "    <tr>\n",
       "      <td>1980</td>\n",
       "      <td>10</td>\n",
       "      <td>558</td>\n",
       "      <td>6.0</td>\n",
       "      <td>3.0</td>\n",
       "      <td>Nov 1, 1980</td>\n",
       "      <td>NaN</td>\n",
       "      <td>Sat</td>\n",
       "      <td>NaN</td>\n",
       "      <td>NaN</td>\n",
       "      <td>True</td>\n",
       "      <td>NaN</td>\n",
       "      <td>Mississippi State</td>\n",
       "      <td>1.0</td>\n",
       "      <td>Alabama</td>\n",
       "      <td>NaN</td>\n",
       "      <td>3.0</td>\n",
       "    </tr>\n",
       "    <tr>\n",
       "      <td rowspan=\"4\" valign=\"top\">1981</td>\n",
       "      <td>2</td>\n",
       "      <td>99</td>\n",
       "      <td>21.0</td>\n",
       "      <td>14.0</td>\n",
       "      <td>Sep 12, 1981</td>\n",
       "      <td>NaN</td>\n",
       "      <td>Sat</td>\n",
       "      <td>NaN</td>\n",
       "      <td>NaN</td>\n",
       "      <td>True</td>\n",
       "      <td>NaN</td>\n",
       "      <td>Wisconsin</td>\n",
       "      <td>1.0</td>\n",
       "      <td>Michigan</td>\n",
       "      <td>NaN</td>\n",
       "      <td>7.0</td>\n",
       "    </tr>\n",
       "    <tr>\n",
       "      <td>6</td>\n",
       "      <td>304</td>\n",
       "      <td>13.0</td>\n",
       "      <td>10.0</td>\n",
       "      <td>Oct 10, 1981</td>\n",
       "      <td>NaN</td>\n",
       "      <td>Sat</td>\n",
       "      <td>@</td>\n",
       "      <td>NaN</td>\n",
       "      <td>False</td>\n",
       "      <td>NaN</td>\n",
       "      <td>Arizona</td>\n",
       "      <td>1.0</td>\n",
       "      <td>Southern California</td>\n",
       "      <td>NaN</td>\n",
       "      <td>3.0</td>\n",
       "    </tr>\n",
       "    <tr>\n",
       "      <td>7</td>\n",
       "      <td>373</td>\n",
       "      <td>42.0</td>\n",
       "      <td>11.0</td>\n",
       "      <td>Oct 17, 1981</td>\n",
       "      <td>NaN</td>\n",
       "      <td>Sat</td>\n",
       "      <td>NaN</td>\n",
       "      <td>NaN</td>\n",
       "      <td>True</td>\n",
       "      <td>NaN</td>\n",
       "      <td>Arkansas</td>\n",
       "      <td>1.0</td>\n",
       "      <td>Texas</td>\n",
       "      <td>NaN</td>\n",
       "      <td>31.0</td>\n",
       "    </tr>\n",
       "    <tr>\n",
       "      <td>9</td>\n",
       "      <td>538</td>\n",
       "      <td>17.0</td>\n",
       "      <td>14.0</td>\n",
       "      <td>Oct 31, 1981</td>\n",
       "      <td>NaN</td>\n",
       "      <td>Sat</td>\n",
       "      <td>NaN</td>\n",
       "      <td>NaN</td>\n",
       "      <td>True</td>\n",
       "      <td>NaN</td>\n",
       "      <td>Miami (FL)</td>\n",
       "      <td>1.0</td>\n",
       "      <td>Penn State</td>\n",
       "      <td>NaN</td>\n",
       "      <td>3.0</td>\n",
       "    </tr>\n",
       "    <tr>\n",
       "      <td>1982</td>\n",
       "      <td>10</td>\n",
       "      <td>522</td>\n",
       "      <td>31.0</td>\n",
       "      <td>16.0</td>\n",
       "      <td>Nov 6, 1982</td>\n",
       "      <td>NaN</td>\n",
       "      <td>Sat</td>\n",
       "      <td>@</td>\n",
       "      <td>NaN</td>\n",
       "      <td>False</td>\n",
       "      <td>NaN</td>\n",
       "      <td>Notre Dame</td>\n",
       "      <td>1.0</td>\n",
       "      <td>Pittsburgh</td>\n",
       "      <td>NaN</td>\n",
       "      <td>15.0</td>\n",
       "    </tr>\n",
       "    <tr>\n",
       "      <td>1984</td>\n",
       "      <td>6</td>\n",
       "      <td>236</td>\n",
       "      <td>17.0</td>\n",
       "      <td>9.0</td>\n",
       "      <td>Sep 29, 1984</td>\n",
       "      <td>NaN</td>\n",
       "      <td>Sat</td>\n",
       "      <td>NaN</td>\n",
       "      <td>NaN</td>\n",
       "      <td>True</td>\n",
       "      <td>NaN</td>\n",
       "      <td>Syracuse</td>\n",
       "      <td>1.0</td>\n",
       "      <td>Nebraska</td>\n",
       "      <td>NaN</td>\n",
       "      <td>8.0</td>\n",
       "    </tr>\n",
       "    <tr>\n",
       "      <td>1985</td>\n",
       "      <td>5</td>\n",
       "      <td>215</td>\n",
       "      <td>38.0</td>\n",
       "      <td>20.0</td>\n",
       "      <td>Sep 28, 1985</td>\n",
       "      <td>NaN</td>\n",
       "      <td>Sat</td>\n",
       "      <td>NaN</td>\n",
       "      <td>NaN</td>\n",
       "      <td>True</td>\n",
       "      <td>NaN</td>\n",
       "      <td>Tennessee</td>\n",
       "      <td>1.0</td>\n",
       "      <td>Auburn</td>\n",
       "      <td>NaN</td>\n",
       "      <td>18.0</td>\n",
       "    </tr>\n",
       "    <tr>\n",
       "      <td>1988</td>\n",
       "      <td>10</td>\n",
       "      <td>446</td>\n",
       "      <td>34.0</td>\n",
       "      <td>30.0</td>\n",
       "      <td>Oct 29, 1988</td>\n",
       "      <td>NaN</td>\n",
       "      <td>Sat</td>\n",
       "      <td>@</td>\n",
       "      <td>NaN</td>\n",
       "      <td>False</td>\n",
       "      <td>NaN</td>\n",
       "      <td>Washington State</td>\n",
       "      <td>1.0</td>\n",
       "      <td>UCLA</td>\n",
       "      <td>NaN</td>\n",
       "      <td>4.0</td>\n",
       "    </tr>\n",
       "    <tr>\n",
       "      <td rowspan=\"2\" valign=\"top\">1990</td>\n",
       "      <td>7</td>\n",
       "      <td>284</td>\n",
       "      <td>36.0</td>\n",
       "      <td>31.0</td>\n",
       "      <td>Oct 6, 1990</td>\n",
       "      <td>NaN</td>\n",
       "      <td>Sat</td>\n",
       "      <td>@</td>\n",
       "      <td>NaN</td>\n",
       "      <td>False</td>\n",
       "      <td>NaN</td>\n",
       "      <td>Stanford</td>\n",
       "      <td>1.0</td>\n",
       "      <td>Notre Dame</td>\n",
       "      <td>NaN</td>\n",
       "      <td>5.0</td>\n",
       "    </tr>\n",
       "    <tr>\n",
       "      <td>8</td>\n",
       "      <td>314</td>\n",
       "      <td>28.0</td>\n",
       "      <td>27.0</td>\n",
       "      <td>Oct 13, 1990</td>\n",
       "      <td>NaN</td>\n",
       "      <td>Sat</td>\n",
       "      <td>@</td>\n",
       "      <td>NaN</td>\n",
       "      <td>False</td>\n",
       "      <td>NaN</td>\n",
       "      <td>Michigan State</td>\n",
       "      <td>1.0</td>\n",
       "      <td>Michigan</td>\n",
       "      <td>NaN</td>\n",
       "      <td>1.0</td>\n",
       "    </tr>\n",
       "    <tr>\n",
       "      <td>1998</td>\n",
       "      <td>11</td>\n",
       "      <td>500</td>\n",
       "      <td>28.0</td>\n",
       "      <td>24.0</td>\n",
       "      <td>Nov 7, 1998</td>\n",
       "      <td>NaN</td>\n",
       "      <td>Sat</td>\n",
       "      <td>@</td>\n",
       "      <td>NaN</td>\n",
       "      <td>False</td>\n",
       "      <td>NaN</td>\n",
       "      <td>Michigan State</td>\n",
       "      <td>1.0</td>\n",
       "      <td>Ohio State</td>\n",
       "      <td>NaN</td>\n",
       "      <td>4.0</td>\n",
       "    </tr>\n",
       "    <tr>\n",
       "      <td>2001</td>\n",
       "      <td>7</td>\n",
       "      <td>294</td>\n",
       "      <td>23.0</td>\n",
       "      <td>20.0</td>\n",
       "      <td>Oct 13, 2001</td>\n",
       "      <td>NaN</td>\n",
       "      <td>Sat</td>\n",
       "      <td>NaN</td>\n",
       "      <td>NaN</td>\n",
       "      <td>True</td>\n",
       "      <td>NaN</td>\n",
       "      <td>Auburn</td>\n",
       "      <td>1.0</td>\n",
       "      <td>Florida</td>\n",
       "      <td>NaN</td>\n",
       "      <td>3.0</td>\n",
       "    </tr>\n",
       "    <tr>\n",
       "      <td>2002</td>\n",
       "      <td>12</td>\n",
       "      <td>597</td>\n",
       "      <td>30.0</td>\n",
       "      <td>26.0</td>\n",
       "      <td>Nov 9, 2002</td>\n",
       "      <td>NaN</td>\n",
       "      <td>Sat</td>\n",
       "      <td>NaN</td>\n",
       "      <td>NaN</td>\n",
       "      <td>True</td>\n",
       "      <td>NaN</td>\n",
       "      <td>Texas A&amp;M</td>\n",
       "      <td>1.0</td>\n",
       "      <td>Oklahoma</td>\n",
       "      <td>NaN</td>\n",
       "      <td>4.0</td>\n",
       "    </tr>\n",
       "    <tr>\n",
       "      <td rowspan=\"2\" valign=\"top\">2007</td>\n",
       "      <td>11</td>\n",
       "      <td>610</td>\n",
       "      <td>28.0</td>\n",
       "      <td>21.0</td>\n",
       "      <td>Nov 10, 2007</td>\n",
       "      <td>NaN</td>\n",
       "      <td>Sat</td>\n",
       "      <td>@</td>\n",
       "      <td>NaN</td>\n",
       "      <td>False</td>\n",
       "      <td>NaN</td>\n",
       "      <td>Illinois</td>\n",
       "      <td>1.0</td>\n",
       "      <td>Ohio State</td>\n",
       "      <td>NaN</td>\n",
       "      <td>7.0</td>\n",
       "    </tr>\n",
       "    <tr>\n",
       "      <td>13</td>\n",
       "      <td>703</td>\n",
       "      <td>50.0</td>\n",
       "      <td>48.0</td>\n",
       "      <td>Nov 23, 2007</td>\n",
       "      <td>NaN</td>\n",
       "      <td>Fri</td>\n",
       "      <td>@</td>\n",
       "      <td>NaN</td>\n",
       "      <td>False</td>\n",
       "      <td>NaN</td>\n",
       "      <td>Arkansas</td>\n",
       "      <td>1.0</td>\n",
       "      <td>Louisiana State</td>\n",
       "      <td>NaN</td>\n",
       "      <td>2.0</td>\n",
       "    </tr>\n",
       "    <tr>\n",
       "      <td>2008</td>\n",
       "      <td>5</td>\n",
       "      <td>255</td>\n",
       "      <td>27.0</td>\n",
       "      <td>21.0</td>\n",
       "      <td>Sep 25, 2008</td>\n",
       "      <td>NaN</td>\n",
       "      <td>Thu</td>\n",
       "      <td>NaN</td>\n",
       "      <td>NaN</td>\n",
       "      <td>True</td>\n",
       "      <td>NaN</td>\n",
       "      <td>Oregon State</td>\n",
       "      <td>1.0</td>\n",
       "      <td>Southern California</td>\n",
       "      <td>NaN</td>\n",
       "      <td>6.0</td>\n",
       "    </tr>\n",
       "  </tbody>\n",
       "</table>\n",
       "</div>"
      ],
      "text/plain": [
       "                      winner_pts  loser_pts     game_date game_time game_day  \\\n",
       "year week_number row                                                           \n",
       "1950 4           167        28.0       14.0   Oct 7, 1950       NaN      Sat   \n",
       "1952 5           203        23.0       14.0  Oct 11, 1952       NaN      Sat   \n",
       "1956 7           308        20.0       13.0  Oct 27, 1956       NaN      Sat   \n",
       "1957 6           263        20.0       13.0  Oct 19, 1957       NaN      Sat   \n",
       "1960 10          497        23.0       14.0  Nov 12, 1960       NaN      Sat   \n",
       "     11          534        23.0        7.0  Nov 19, 1960       NaN      Sat   \n",
       "1961 8           381        13.0        0.0   Nov 4, 1961       NaN      Sat   \n",
       "     10          518         6.0        0.0  Nov 18, 1961       NaN      Sat   \n",
       "1962 4           182         9.0        7.0   Oct 6, 1962       NaN      Sat   \n",
       "     10          521         7.0        6.0  Nov 17, 1962       NaN      Sat   \n",
       "1964 3           81         27.0       21.0  Sep 26, 1964       NaN      Sat   \n",
       "     12          619        20.0       17.0  Nov 28, 1964       NaN      Sat   \n",
       "1967 10          489         3.0        0.0  Nov 11, 1967       NaN      Sat   \n",
       "1972 1           28         20.0       17.0   Sep 9, 1972       NaN      Sat   \n",
       "1974 10          575        16.0       13.0   Nov 9, 1974       NaN      Sat   \n",
       "1976 10          609        16.0       14.0   Nov 6, 1976       NaN      Sat   \n",
       "1977 8           504        16.0        0.0  Oct 22, 1977       NaN      Sat   \n",
       "1979 7           406        21.0       21.0  Oct 13, 1979       NaN      Sat   \n",
       "1980 10          558         6.0        3.0   Nov 1, 1980       NaN      Sat   \n",
       "1981 2           99         21.0       14.0  Sep 12, 1981       NaN      Sat   \n",
       "     6           304        13.0       10.0  Oct 10, 1981       NaN      Sat   \n",
       "     7           373        42.0       11.0  Oct 17, 1981       NaN      Sat   \n",
       "     9           538        17.0       14.0  Oct 31, 1981       NaN      Sat   \n",
       "1982 10          522        31.0       16.0   Nov 6, 1982       NaN      Sat   \n",
       "1984 6           236        17.0        9.0  Sep 29, 1984       NaN      Sat   \n",
       "1985 5           215        38.0       20.0  Sep 28, 1985       NaN      Sat   \n",
       "1988 10          446        34.0       30.0  Oct 29, 1988       NaN      Sat   \n",
       "1990 7           284        36.0       31.0   Oct 6, 1990       NaN      Sat   \n",
       "     8           314        28.0       27.0  Oct 13, 1990       NaN      Sat   \n",
       "1998 11          500        28.0       24.0   Nov 7, 1998       NaN      Sat   \n",
       "2001 7           294        23.0       20.0  Oct 13, 2001       NaN      Sat   \n",
       "2002 12          597        30.0       26.0   Nov 9, 2002       NaN      Sat   \n",
       "2007 11          610        28.0       21.0  Nov 10, 2007       NaN      Sat   \n",
       "     13          703        50.0       48.0  Nov 23, 2007       NaN      Fri   \n",
       "2008 5           255        27.0       21.0  Sep 25, 2008       NaN      Thu   \n",
       "\n",
       "                     game_loc notes  winner_home  winner_rank  \\\n",
       "year week_number row                                            \n",
       "1950 4           167        @   NaN        False          NaN   \n",
       "1952 5           203      NaN   NaN         True          NaN   \n",
       "1956 7           308      NaN   NaN         True          NaN   \n",
       "1957 6           263        @   NaN        False          NaN   \n",
       "1960 10          497        @   NaN        False          NaN   \n",
       "     11          534        @   NaN        False          NaN   \n",
       "1961 8           381      NaN   NaN         True          NaN   \n",
       "     10          518        @   NaN        False          NaN   \n",
       "1962 4           182      NaN   NaN         True          NaN   \n",
       "     10          521      NaN   NaN         True          NaN   \n",
       "1964 3           81         @   NaN        False          NaN   \n",
       "     12          619      NaN   NaN         True          NaN   \n",
       "1967 10          489      NaN   NaN         True          NaN   \n",
       "1972 1           28       NaN   NaN         True          NaN   \n",
       "1974 10          575      NaN   NaN         True          NaN   \n",
       "1976 10          609      NaN   NaN         True          NaN   \n",
       "1977 8           504      NaN   NaN         True          NaN   \n",
       "1979 7           406      NaN   NaN         True          NaN   \n",
       "1980 10          558      NaN   NaN         True          NaN   \n",
       "1981 2           99       NaN   NaN         True          NaN   \n",
       "     6           304        @   NaN        False          NaN   \n",
       "     7           373      NaN   NaN         True          NaN   \n",
       "     9           538      NaN   NaN         True          NaN   \n",
       "1982 10          522        @   NaN        False          NaN   \n",
       "1984 6           236      NaN   NaN         True          NaN   \n",
       "1985 5           215      NaN   NaN         True          NaN   \n",
       "1988 10          446        @   NaN        False          NaN   \n",
       "1990 7           284        @   NaN        False          NaN   \n",
       "     8           314        @   NaN        False          NaN   \n",
       "1998 11          500        @   NaN        False          NaN   \n",
       "2001 7           294      NaN   NaN         True          NaN   \n",
       "2002 12          597      NaN   NaN         True          NaN   \n",
       "2007 11          610        @   NaN        False          NaN   \n",
       "     13          703        @   NaN        False          NaN   \n",
       "2008 5           255      NaN   NaN         True          NaN   \n",
       "\n",
       "                              winner_name  loser_rank           loser_name  \\\n",
       "year week_number row                                                         \n",
       "1950 4           167               Purdue         1.0           Notre Dame   \n",
       "1952 5           203           Ohio State         1.0            Wisconsin   \n",
       "1956 7           308             Illinois         1.0       Michigan State   \n",
       "1957 6           263               Purdue         1.0       Michigan State   \n",
       "1960 10          497               Purdue         1.0            Minnesota   \n",
       "     11          534               Kansas         1.0             Missouri   \n",
       "1961 8           381            Minnesota         1.0       Michigan State   \n",
       "     10          518      Texas Christian         1.0                Texas   \n",
       "1962 4           182                 UCLA         1.0           Ohio State   \n",
       "     10          521         Georgia Tech         1.0              Alabama   \n",
       "1964 3           81              Kentucky         1.0          Mississippi   \n",
       "     12          619  Southern California         1.0           Notre Dame   \n",
       "1967 10          489         Oregon State         1.0  Southern California   \n",
       "1972 1           28                  UCLA         1.0             Nebraska   \n",
       "1974 10          575       Michigan State         1.0           Ohio State   \n",
       "1976 10          609               Purdue         1.0             Michigan   \n",
       "1977 8           504            Minnesota         1.0             Michigan   \n",
       "1979 7           406             Stanford         1.0  Southern California   \n",
       "1980 10          558    Mississippi State         1.0              Alabama   \n",
       "1981 2           99             Wisconsin         1.0             Michigan   \n",
       "     6           304              Arizona         1.0  Southern California   \n",
       "     7           373             Arkansas         1.0                Texas   \n",
       "     9           538           Miami (FL)         1.0           Penn State   \n",
       "1982 10          522           Notre Dame         1.0           Pittsburgh   \n",
       "1984 6           236             Syracuse         1.0             Nebraska   \n",
       "1985 5           215            Tennessee         1.0               Auburn   \n",
       "1988 10          446     Washington State         1.0                 UCLA   \n",
       "1990 7           284             Stanford         1.0           Notre Dame   \n",
       "     8           314       Michigan State         1.0             Michigan   \n",
       "1998 11          500       Michigan State         1.0           Ohio State   \n",
       "2001 7           294               Auburn         1.0              Florida   \n",
       "2002 12          597            Texas A&M         1.0             Oklahoma   \n",
       "2007 11          610             Illinois         1.0           Ohio State   \n",
       "     13          703             Arkansas         1.0      Louisiana State   \n",
       "2008 5           255         Oregon State         1.0  Southern California   \n",
       "\n",
       "                      rank_diff  pts_diff  \n",
       "year week_number row                       \n",
       "1950 4           167        NaN      14.0  \n",
       "1952 5           203        NaN       9.0  \n",
       "1956 7           308        NaN       7.0  \n",
       "1957 6           263        NaN       7.0  \n",
       "1960 10          497        NaN       9.0  \n",
       "     11          534        NaN      16.0  \n",
       "1961 8           381        NaN      13.0  \n",
       "     10          518        NaN       6.0  \n",
       "1962 4           182        NaN       2.0  \n",
       "     10          521        NaN       1.0  \n",
       "1964 3           81         NaN       6.0  \n",
       "     12          619        NaN       3.0  \n",
       "1967 10          489        NaN       3.0  \n",
       "1972 1           28         NaN       3.0  \n",
       "1974 10          575        NaN       3.0  \n",
       "1976 10          609        NaN       2.0  \n",
       "1977 8           504        NaN      16.0  \n",
       "1979 7           406        NaN       0.0  \n",
       "1980 10          558        NaN       3.0  \n",
       "1981 2           99         NaN       7.0  \n",
       "     6           304        NaN       3.0  \n",
       "     7           373        NaN      31.0  \n",
       "     9           538        NaN       3.0  \n",
       "1982 10          522        NaN      15.0  \n",
       "1984 6           236        NaN       8.0  \n",
       "1985 5           215        NaN      18.0  \n",
       "1988 10          446        NaN       4.0  \n",
       "1990 7           284        NaN       5.0  \n",
       "     8           314        NaN       1.0  \n",
       "1998 11          500        NaN       4.0  \n",
       "2001 7           294        NaN       3.0  \n",
       "2002 12          597        NaN       4.0  \n",
       "2007 11          610        NaN       7.0  \n",
       "     13          703        NaN       2.0  \n",
       "2008 5           255        NaN       6.0  "
      ]
     },
     "execution_count": 131,
     "metadata": {},
     "output_type": "execute_result"
    }
   ],
   "source": [
    "records[(records['winner_rank'].isna()) & (records['loser_rank'] == 1)]"
   ]
  },
  {
   "cell_type": "markdown",
   "metadata": {},
   "source": [
    "We can also look at ties, when the points difference is 0.  The dataset does not break out ties, but still lists one team as a winner.  There are only 786 ties in the dataset up to 1995, when new rules instituted tie breakers.  However, we need to remember that ties are not properly recorded in this dataset."
   ]
  },
  {
   "cell_type": "code",
   "execution_count": 132,
   "metadata": {
    "scrolled": false
   },
   "outputs": [
    {
     "name": "stdout",
     "output_type": "stream",
     "text": [
      "786\n"
     ]
    },
    {
     "data": {
      "text/html": [
       "<div>\n",
       "<style scoped>\n",
       "    .dataframe tbody tr th:only-of-type {\n",
       "        vertical-align: middle;\n",
       "    }\n",
       "\n",
       "    .dataframe tbody tr th {\n",
       "        vertical-align: top;\n",
       "    }\n",
       "\n",
       "    .dataframe thead th {\n",
       "        text-align: right;\n",
       "    }\n",
       "</style>\n",
       "<table border=\"1\" class=\"dataframe\">\n",
       "  <thead>\n",
       "    <tr style=\"text-align: right;\">\n",
       "      <th></th>\n",
       "      <th></th>\n",
       "      <th></th>\n",
       "      <th>winner_pts</th>\n",
       "      <th>loser_pts</th>\n",
       "      <th>game_date</th>\n",
       "      <th>game_time</th>\n",
       "      <th>game_day</th>\n",
       "      <th>game_loc</th>\n",
       "      <th>notes</th>\n",
       "      <th>winner_home</th>\n",
       "      <th>winner_rank</th>\n",
       "      <th>winner_name</th>\n",
       "      <th>loser_rank</th>\n",
       "      <th>loser_name</th>\n",
       "      <th>rank_diff</th>\n",
       "      <th>pts_diff</th>\n",
       "    </tr>\n",
       "    <tr>\n",
       "      <th>year</th>\n",
       "      <th>week_number</th>\n",
       "      <th>row</th>\n",
       "      <th></th>\n",
       "      <th></th>\n",
       "      <th></th>\n",
       "      <th></th>\n",
       "      <th></th>\n",
       "      <th></th>\n",
       "      <th></th>\n",
       "      <th></th>\n",
       "      <th></th>\n",
       "      <th></th>\n",
       "      <th></th>\n",
       "      <th></th>\n",
       "      <th></th>\n",
       "      <th></th>\n",
       "    </tr>\n",
       "  </thead>\n",
       "  <tbody>\n",
       "    <tr>\n",
       "      <td rowspan=\"5\" valign=\"top\">1995</td>\n",
       "      <td>6</td>\n",
       "      <td>237</td>\n",
       "      <td>21.0</td>\n",
       "      <td>21.0</td>\n",
       "      <td>Sep 30, 1995</td>\n",
       "      <td>NaN</td>\n",
       "      <td>Sat</td>\n",
       "      <td>NaN</td>\n",
       "      <td>NaN</td>\n",
       "      <td>True</td>\n",
       "      <td>NaN</td>\n",
       "      <td>Rice</td>\n",
       "      <td>NaN</td>\n",
       "      <td>Army</td>\n",
       "      <td>NaN</td>\n",
       "      <td>0.0</td>\n",
       "    </tr>\n",
       "    <tr>\n",
       "      <td rowspan=\"2\" valign=\"top\">8</td>\n",
       "      <td>335</td>\n",
       "      <td>24.0</td>\n",
       "      <td>24.0</td>\n",
       "      <td>Oct 14, 1995</td>\n",
       "      <td>NaN</td>\n",
       "      <td>Sat</td>\n",
       "      <td>NaN</td>\n",
       "      <td>NaN</td>\n",
       "      <td>True</td>\n",
       "      <td>18.0</td>\n",
       "      <td>Texas</td>\n",
       "      <td>13.0</td>\n",
       "      <td>Oklahoma</td>\n",
       "      <td>-5.0</td>\n",
       "      <td>0.0</td>\n",
       "    </tr>\n",
       "    <tr>\n",
       "      <td>339</td>\n",
       "      <td>28.0</td>\n",
       "      <td>28.0</td>\n",
       "      <td>Oct 14, 1995</td>\n",
       "      <td>NaN</td>\n",
       "      <td>Sat</td>\n",
       "      <td>NaN</td>\n",
       "      <td>NaN</td>\n",
       "      <td>True</td>\n",
       "      <td>NaN</td>\n",
       "      <td>Toledo</td>\n",
       "      <td>NaN</td>\n",
       "      <td>Miami (OH)</td>\n",
       "      <td>NaN</td>\n",
       "      <td>0.0</td>\n",
       "    </tr>\n",
       "    <tr>\n",
       "      <td>10</td>\n",
       "      <td>436</td>\n",
       "      <td>21.0</td>\n",
       "      <td>21.0</td>\n",
       "      <td>Oct 28, 1995</td>\n",
       "      <td>NaN</td>\n",
       "      <td>Sat</td>\n",
       "      <td>NaN</td>\n",
       "      <td>NaN</td>\n",
       "      <td>True</td>\n",
       "      <td>13.0</td>\n",
       "      <td>Southern California</td>\n",
       "      <td>17.0</td>\n",
       "      <td>Washington</td>\n",
       "      <td>4.0</td>\n",
       "      <td>0.0</td>\n",
       "    </tr>\n",
       "    <tr>\n",
       "      <td>14</td>\n",
       "      <td>608</td>\n",
       "      <td>3.0</td>\n",
       "      <td>3.0</td>\n",
       "      <td>Nov 25, 1995</td>\n",
       "      <td>NaN</td>\n",
       "      <td>Sat</td>\n",
       "      <td>NaN</td>\n",
       "      <td>NaN</td>\n",
       "      <td>True</td>\n",
       "      <td>NaN</td>\n",
       "      <td>Illinois</td>\n",
       "      <td>NaN</td>\n",
       "      <td>Wisconsin</td>\n",
       "      <td>NaN</td>\n",
       "      <td>0.0</td>\n",
       "    </tr>\n",
       "  </tbody>\n",
       "</table>\n",
       "</div>"
      ],
      "text/plain": [
       "                      winner_pts  loser_pts     game_date game_time game_day  \\\n",
       "year week_number row                                                           \n",
       "1995 6           237        21.0       21.0  Sep 30, 1995       NaN      Sat   \n",
       "     8           335        24.0       24.0  Oct 14, 1995       NaN      Sat   \n",
       "                 339        28.0       28.0  Oct 14, 1995       NaN      Sat   \n",
       "     10          436        21.0       21.0  Oct 28, 1995       NaN      Sat   \n",
       "     14          608         3.0        3.0  Nov 25, 1995       NaN      Sat   \n",
       "\n",
       "                     game_loc notes  winner_home  winner_rank  \\\n",
       "year week_number row                                            \n",
       "1995 6           237      NaN   NaN         True          NaN   \n",
       "     8           335      NaN   NaN         True         18.0   \n",
       "                 339      NaN   NaN         True          NaN   \n",
       "     10          436      NaN   NaN         True         13.0   \n",
       "     14          608      NaN   NaN         True          NaN   \n",
       "\n",
       "                              winner_name  loser_rank  loser_name  rank_diff  \\\n",
       "year week_number row                                                           \n",
       "1995 6           237                 Rice         NaN        Army        NaN   \n",
       "     8           335                Texas        13.0    Oklahoma       -5.0   \n",
       "                 339               Toledo         NaN  Miami (OH)        NaN   \n",
       "     10          436  Southern California        17.0  Washington        4.0   \n",
       "     14          608             Illinois         NaN   Wisconsin        NaN   \n",
       "\n",
       "                      pts_diff  \n",
       "year week_number row            \n",
       "1995 6           237       0.0  \n",
       "     8           335       0.0  \n",
       "                 339       0.0  \n",
       "     10          436       0.0  \n",
       "     14          608       0.0  "
      ]
     },
     "execution_count": 132,
     "metadata": {},
     "output_type": "execute_result"
    }
   ],
   "source": [
    "# ties\n",
    "print(len(records[records['pts_diff']==0]))\n",
    "(records[records['pts_diff']==0]).tail(5)"
   ]
  },
  {
   "cell_type": "markdown",
   "metadata": {},
   "source": [
    "## Lets analyze interactions amongst ranked teams, and between ranked and unranked teams."
   ]
  },
  {
   "cell_type": "markdown",
   "metadata": {},
   "source": [
    "First, lets find out how many games there should be with at least one ranked team.  There are 48,899 games, so the total numers of games with at least one ranked and no one ranked should be 48,899."
   ]
  },
  {
   "cell_type": "code",
   "execution_count": 133,
   "metadata": {},
   "outputs": [
    {
     "name": "stdout",
     "output_type": "stream",
     "text": [
      "Number of total games: 48899\n",
      "Numbers of games where at least one team is ranked: 14852\n",
      "Numbers of games where no team is ranked: 34047\n",
      "Numbers of games where both teams are ranked: 2790\n"
     ]
    }
   ],
   "source": [
    "print('Number of total games:', len(records))\n",
    "\n",
    "at_least_one_ranked = records[(records['winner_rank'] > 0) | (records['loser_rank'] > 0)]\n",
    "print('Numbers of games where at least one team is ranked:', len(at_least_one_ranked))\n",
    "\n",
    "no_ranked = records[(records['winner_rank'].isna()) & (records['loser_rank'].isna())]\n",
    "print('Numbers of games where no team is ranked:', len(no_ranked))\n",
    "\n",
    "both_ranked = records[(records['winner_rank'] > 0) & (records['loser_rank'] > 0)]\n",
    "print('Numbers of games where both teams are ranked:', len(both_ranked))"
   ]
  },
  {
   "cell_type": "markdown",
   "metadata": {},
   "source": [
    "Looks like there are two cases in our dataset where teams have the exact same rank.  In these cases the teams were tied for these ranks AND played each other."
   ]
  },
  {
   "cell_type": "code",
   "execution_count": 134,
   "metadata": {},
   "outputs": [
    {
     "data": {
      "text/html": [
       "<div>\n",
       "<style scoped>\n",
       "    .dataframe tbody tr th:only-of-type {\n",
       "        vertical-align: middle;\n",
       "    }\n",
       "\n",
       "    .dataframe tbody tr th {\n",
       "        vertical-align: top;\n",
       "    }\n",
       "\n",
       "    .dataframe thead th {\n",
       "        text-align: right;\n",
       "    }\n",
       "</style>\n",
       "<table border=\"1\" class=\"dataframe\">\n",
       "  <thead>\n",
       "    <tr style=\"text-align: right;\">\n",
       "      <th></th>\n",
       "      <th></th>\n",
       "      <th></th>\n",
       "      <th>winner_pts</th>\n",
       "      <th>loser_pts</th>\n",
       "      <th>game_date</th>\n",
       "      <th>game_time</th>\n",
       "      <th>game_day</th>\n",
       "      <th>game_loc</th>\n",
       "      <th>notes</th>\n",
       "      <th>winner_home</th>\n",
       "      <th>winner_rank</th>\n",
       "      <th>winner_name</th>\n",
       "      <th>loser_rank</th>\n",
       "      <th>loser_name</th>\n",
       "      <th>rank_diff</th>\n",
       "      <th>pts_diff</th>\n",
       "    </tr>\n",
       "    <tr>\n",
       "      <th>year</th>\n",
       "      <th>week_number</th>\n",
       "      <th>row</th>\n",
       "      <th></th>\n",
       "      <th></th>\n",
       "      <th></th>\n",
       "      <th></th>\n",
       "      <th></th>\n",
       "      <th></th>\n",
       "      <th></th>\n",
       "      <th></th>\n",
       "      <th></th>\n",
       "      <th></th>\n",
       "      <th></th>\n",
       "      <th></th>\n",
       "      <th></th>\n",
       "      <th></th>\n",
       "    </tr>\n",
       "  </thead>\n",
       "  <tbody>\n",
       "    <tr>\n",
       "      <td>1992</td>\n",
       "      <td>10</td>\n",
       "      <td>438</td>\n",
       "      <td>52.0</td>\n",
       "      <td>7.0</td>\n",
       "      <td>Oct 31, 1992</td>\n",
       "      <td>NaN</td>\n",
       "      <td>Sat</td>\n",
       "      <td>NaN</td>\n",
       "      <td>NaN</td>\n",
       "      <td>True</td>\n",
       "      <td>8.0</td>\n",
       "      <td>Nebraska</td>\n",
       "      <td>8.0</td>\n",
       "      <td>Colorado</td>\n",
       "      <td>0.0</td>\n",
       "      <td>45.0</td>\n",
       "    </tr>\n",
       "    <tr>\n",
       "      <td>1995</td>\n",
       "      <td>19</td>\n",
       "      <td>639</td>\n",
       "      <td>20.0</td>\n",
       "      <td>14.0</td>\n",
       "      <td>Jan 1, 1996</td>\n",
       "      <td>NaN</td>\n",
       "      <td>Mon</td>\n",
       "      <td>NaN</td>\n",
       "      <td>Citrus Bowl (Orlando, FL)</td>\n",
       "      <td>True</td>\n",
       "      <td>4.0</td>\n",
       "      <td>Tennessee</td>\n",
       "      <td>4.0</td>\n",
       "      <td>Ohio State</td>\n",
       "      <td>0.0</td>\n",
       "      <td>6.0</td>\n",
       "    </tr>\n",
       "  </tbody>\n",
       "</table>\n",
       "</div>"
      ],
      "text/plain": [
       "                      winner_pts  loser_pts     game_date game_time game_day  \\\n",
       "year week_number row                                                           \n",
       "1992 10          438        52.0        7.0  Oct 31, 1992       NaN      Sat   \n",
       "1995 19          639        20.0       14.0   Jan 1, 1996       NaN      Mon   \n",
       "\n",
       "                     game_loc                      notes  winner_home  \\\n",
       "year week_number row                                                    \n",
       "1992 10          438      NaN                        NaN         True   \n",
       "1995 19          639      NaN  Citrus Bowl (Orlando, FL)         True   \n",
       "\n",
       "                      winner_rank winner_name  loser_rank  loser_name  \\\n",
       "year week_number row                                                    \n",
       "1992 10          438          8.0    Nebraska         8.0    Colorado   \n",
       "1995 19          639          4.0   Tennessee         4.0  Ohio State   \n",
       "\n",
       "                      rank_diff  pts_diff  \n",
       "year week_number row                       \n",
       "1992 10          438        0.0      45.0  \n",
       "1995 19          639        0.0       6.0  "
      ]
     },
     "execution_count": 134,
     "metadata": {},
     "output_type": "execute_result"
    }
   ],
   "source": [
    "records[records['rank_diff']==0]"
   ]
  },
  {
   "cell_type": "markdown",
   "metadata": {},
   "source": [
    "Looks good!  Now lets make a new column for each of the different options for games.  We'll treat these fields as booleans, which will allow us to easily compute the mean and size of each of these categories over years.\n",
    "* 'both_unranked': Both teams are unranked.\n",
    "* 'ranked_beats_unranked': A ranked team beats an unranked team.\n",
    "* 'unranked_beats_ranked': An unranked team beats a ranked team.\n",
    "* 'lower_beats_higher': A lower ranked team beats a higher ranked team.\n",
    "* 'higher_beats_lower': A higher ranked team beats a lower ranked team."
   ]
  },
  {
   "cell_type": "code",
   "execution_count": 135,
   "metadata": {},
   "outputs": [
    {
     "name": "stdout",
     "output_type": "stream",
     "text": [
      "Number of times unranked teams play: 34047\n",
      "Number of times a ranked team beats an unranked team: 9850\n",
      "Number of times an unranked team upsets a ranked team: 2212\n",
      "Number of times an a lower ranked team upsets a higher ranked team: 1070\n",
      "Number of times an a higher ranked team beats a lower ranked team: 1718\n"
     ]
    }
   ],
   "source": [
    "both_unranked = records[(records['winner_rank'].isna()) & (records['loser_rank'].isna())]\n",
    "print('Number of times unranked teams play:', len(both_unranked))\n",
    "records['both_unranked'] = (records['winner_rank'].isna()) & (records['loser_rank'].isna())\n",
    "\n",
    "ranked_beats_unranked = records[(records['winner_rank'] > 0) & (records['loser_rank'].isna())]\n",
    "print('Number of times a ranked team beats an unranked team:', len(ranked_beats_unranked))\n",
    "records['ranked_beats_unranked'] = (records['winner_rank'] > 0) & (records['loser_rank'].isna())\n",
    "\n",
    "unranked_beats_ranked = records[(records['winner_rank'].isna()) & (records['loser_rank'] > 0)]\n",
    "print('Number of times an unranked team upsets a ranked team:', len(unranked_beats_ranked))\n",
    "records['unranked_beats_ranked'] = (records['winner_rank'].isna()) & (records['loser_rank'] > 0)\n",
    "\n",
    "lower_beats_higher = both_ranked[both_ranked['rank_diff'] < 0]\n",
    "print('Number of times an a lower ranked team upsets a higher ranked team:', len(lower_beats_higher))\n",
    "records['lower_beats_higher'] = (records['winner_rank'] > 0) & (records['loser_rank'] > 0) & (records['rank_diff'] < 0)\n",
    "\n",
    "higher_beats_lower = both_ranked[both_ranked['rank_diff'] > 0]\n",
    "print('Number of times an a higher ranked team beats a lower ranked team:', len(higher_beats_lower))\n",
    "records['higher_beats_lower'] = (records['winner_rank'] > 0) & (records['loser_rank'] > 0) & (records['rank_diff'] > 0)"
   ]
  },
  {
   "cell_type": "code",
   "execution_count": 136,
   "metadata": {},
   "outputs": [
    {
     "data": {
      "text/html": [
       "<div>\n",
       "<style scoped>\n",
       "    .dataframe tbody tr th:only-of-type {\n",
       "        vertical-align: middle;\n",
       "    }\n",
       "\n",
       "    .dataframe tbody tr th {\n",
       "        vertical-align: top;\n",
       "    }\n",
       "\n",
       "    .dataframe thead th {\n",
       "        text-align: right;\n",
       "    }\n",
       "</style>\n",
       "<table border=\"1\" class=\"dataframe\">\n",
       "  <thead>\n",
       "    <tr style=\"text-align: right;\">\n",
       "      <th></th>\n",
       "      <th></th>\n",
       "      <th></th>\n",
       "      <th>winner_pts</th>\n",
       "      <th>loser_pts</th>\n",
       "      <th>game_date</th>\n",
       "      <th>game_time</th>\n",
       "      <th>game_day</th>\n",
       "      <th>game_loc</th>\n",
       "      <th>notes</th>\n",
       "      <th>winner_home</th>\n",
       "      <th>winner_rank</th>\n",
       "      <th>winner_name</th>\n",
       "      <th>loser_rank</th>\n",
       "      <th>loser_name</th>\n",
       "      <th>rank_diff</th>\n",
       "      <th>pts_diff</th>\n",
       "      <th>both_unranked</th>\n",
       "      <th>ranked_beats_unranked</th>\n",
       "      <th>unranked_beats_ranked</th>\n",
       "      <th>lower_beats_higher</th>\n",
       "      <th>higher_beats_lower</th>\n",
       "    </tr>\n",
       "    <tr>\n",
       "      <th>year</th>\n",
       "      <th>week_number</th>\n",
       "      <th>row</th>\n",
       "      <th></th>\n",
       "      <th></th>\n",
       "      <th></th>\n",
       "      <th></th>\n",
       "      <th></th>\n",
       "      <th></th>\n",
       "      <th></th>\n",
       "      <th></th>\n",
       "      <th></th>\n",
       "      <th></th>\n",
       "      <th></th>\n",
       "      <th></th>\n",
       "      <th></th>\n",
       "      <th></th>\n",
       "      <th></th>\n",
       "      <th></th>\n",
       "      <th></th>\n",
       "      <th></th>\n",
       "      <th></th>\n",
       "    </tr>\n",
       "  </thead>\n",
       "  <tbody>\n",
       "    <tr>\n",
       "      <td rowspan=\"5\" valign=\"top\">1950</td>\n",
       "      <td rowspan=\"5\" valign=\"top\">1</td>\n",
       "      <td>1</td>\n",
       "      <td>13.0</td>\n",
       "      <td>12.0</td>\n",
       "      <td>Sep 15, 1950</td>\n",
       "      <td>NaN</td>\n",
       "      <td>Fri</td>\n",
       "      <td>@</td>\n",
       "      <td>NaN</td>\n",
       "      <td>False</td>\n",
       "      <td>NaN</td>\n",
       "      <td>Presbyterian</td>\n",
       "      <td>NaN</td>\n",
       "      <td>Furman</td>\n",
       "      <td>NaN</td>\n",
       "      <td>1.0</td>\n",
       "      <td>True</td>\n",
       "      <td>False</td>\n",
       "      <td>False</td>\n",
       "      <td>False</td>\n",
       "      <td>False</td>\n",
       "    </tr>\n",
       "    <tr>\n",
       "      <td>2</td>\n",
       "      <td>14.0</td>\n",
       "      <td>13.0</td>\n",
       "      <td>Sep 16, 1950</td>\n",
       "      <td>NaN</td>\n",
       "      <td>Sat</td>\n",
       "      <td>@</td>\n",
       "      <td>NaN</td>\n",
       "      <td>False</td>\n",
       "      <td>NaN</td>\n",
       "      <td>Brigham Young</td>\n",
       "      <td>NaN</td>\n",
       "      <td>Idaho State</td>\n",
       "      <td>NaN</td>\n",
       "      <td>1.0</td>\n",
       "      <td>True</td>\n",
       "      <td>False</td>\n",
       "      <td>False</td>\n",
       "      <td>False</td>\n",
       "      <td>False</td>\n",
       "    </tr>\n",
       "    <tr>\n",
       "      <td>3</td>\n",
       "      <td>32.0</td>\n",
       "      <td>0.0</td>\n",
       "      <td>Sep 16, 1950</td>\n",
       "      <td>NaN</td>\n",
       "      <td>Sat</td>\n",
       "      <td>NaN</td>\n",
       "      <td>NaN</td>\n",
       "      <td>True</td>\n",
       "      <td>NaN</td>\n",
       "      <td>Cincinnati</td>\n",
       "      <td>NaN</td>\n",
       "      <td>Texas-El Paso</td>\n",
       "      <td>NaN</td>\n",
       "      <td>32.0</td>\n",
       "      <td>True</td>\n",
       "      <td>False</td>\n",
       "      <td>False</td>\n",
       "      <td>False</td>\n",
       "      <td>False</td>\n",
       "    </tr>\n",
       "    <tr>\n",
       "      <td>4</td>\n",
       "      <td>56.0</td>\n",
       "      <td>0.0</td>\n",
       "      <td>Sep 16, 1950</td>\n",
       "      <td>NaN</td>\n",
       "      <td>Sat</td>\n",
       "      <td>NaN</td>\n",
       "      <td>NaN</td>\n",
       "      <td>True</td>\n",
       "      <td>NaN</td>\n",
       "      <td>Citadel</td>\n",
       "      <td>NaN</td>\n",
       "      <td>Parris Island Marines</td>\n",
       "      <td>NaN</td>\n",
       "      <td>56.0</td>\n",
       "      <td>True</td>\n",
       "      <td>False</td>\n",
       "      <td>False</td>\n",
       "      <td>False</td>\n",
       "      <td>False</td>\n",
       "    </tr>\n",
       "    <tr>\n",
       "      <td>5</td>\n",
       "      <td>7.0</td>\n",
       "      <td>0.0</td>\n",
       "      <td>Sep 16, 1950</td>\n",
       "      <td>NaN</td>\n",
       "      <td>Sat</td>\n",
       "      <td>NaN</td>\n",
       "      <td>NaN</td>\n",
       "      <td>True</td>\n",
       "      <td>NaN</td>\n",
       "      <td>Drake</td>\n",
       "      <td>NaN</td>\n",
       "      <td>Denver</td>\n",
       "      <td>NaN</td>\n",
       "      <td>7.0</td>\n",
       "      <td>True</td>\n",
       "      <td>False</td>\n",
       "      <td>False</td>\n",
       "      <td>False</td>\n",
       "      <td>False</td>\n",
       "    </tr>\n",
       "  </tbody>\n",
       "</table>\n",
       "</div>"
      ],
      "text/plain": [
       "                      winner_pts  loser_pts     game_date game_time game_day  \\\n",
       "year week_number row                                                           \n",
       "1950 1           1          13.0       12.0  Sep 15, 1950       NaN      Fri   \n",
       "                 2          14.0       13.0  Sep 16, 1950       NaN      Sat   \n",
       "                 3          32.0        0.0  Sep 16, 1950       NaN      Sat   \n",
       "                 4          56.0        0.0  Sep 16, 1950       NaN      Sat   \n",
       "                 5           7.0        0.0  Sep 16, 1950       NaN      Sat   \n",
       "\n",
       "                     game_loc notes  winner_home  winner_rank    winner_name  \\\n",
       "year week_number row                                                           \n",
       "1950 1           1          @   NaN        False          NaN   Presbyterian   \n",
       "                 2          @   NaN        False          NaN  Brigham Young   \n",
       "                 3        NaN   NaN         True          NaN     Cincinnati   \n",
       "                 4        NaN   NaN         True          NaN        Citadel   \n",
       "                 5        NaN   NaN         True          NaN          Drake   \n",
       "\n",
       "                      loser_rank             loser_name  rank_diff  pts_diff  \\\n",
       "year week_number row                                                           \n",
       "1950 1           1           NaN                 Furman        NaN       1.0   \n",
       "                 2           NaN            Idaho State        NaN       1.0   \n",
       "                 3           NaN          Texas-El Paso        NaN      32.0   \n",
       "                 4           NaN  Parris Island Marines        NaN      56.0   \n",
       "                 5           NaN                 Denver        NaN       7.0   \n",
       "\n",
       "                      both_unranked  ranked_beats_unranked  \\\n",
       "year week_number row                                         \n",
       "1950 1           1             True                  False   \n",
       "                 2             True                  False   \n",
       "                 3             True                  False   \n",
       "                 4             True                  False   \n",
       "                 5             True                  False   \n",
       "\n",
       "                      unranked_beats_ranked  lower_beats_higher  \\\n",
       "year week_number row                                              \n",
       "1950 1           1                    False               False   \n",
       "                 2                    False               False   \n",
       "                 3                    False               False   \n",
       "                 4                    False               False   \n",
       "                 5                    False               False   \n",
       "\n",
       "                      higher_beats_lower  \n",
       "year week_number row                      \n",
       "1950 1           1                 False  \n",
       "                 2                 False  \n",
       "                 3                 False  \n",
       "                 4                 False  \n",
       "                 5                 False  "
      ]
     },
     "execution_count": 136,
     "metadata": {},
     "output_type": "execute_result"
    }
   ],
   "source": [
    "records.head()"
   ]
  },
  {
   "cell_type": "markdown",
   "metadata": {},
   "source": [
    "## Types of Team Interactions Over Time"
   ]
  },
  {
   "cell_type": "markdown",
   "metadata": {},
   "source": [
    "Are there any trends to how often upsets happen?  If pollsters were doing a good job, we would rarely see unranked teams beat ranked teams, only occasionally see a lower team beat a higher ranked team, usually see higher ranked teams beat lower, and almost always see ranked teams beat unranked teams.  Since we dont have any insight into how much better the 26th best team is compared to the 125th team, we will not be concerned about the fifth type of interaction, unranked teams beating unranked teams."
   ]
  },
  {
   "cell_type": "code",
   "execution_count": 137,
   "metadata": {},
   "outputs": [],
   "source": [
    "ratios = records[['both_unranked', 'ranked_beats_unranked', 'higher_beats_lower',\n",
    "                  'lower_beats_higher', 'unranked_beats_ranked', ]]"
   ]
  },
  {
   "cell_type": "code",
   "execution_count": 138,
   "metadata": {},
   "outputs": [],
   "source": [
    "ratios_sum = ratios.groupby('year').sum()\n",
    "ratios_mean = ratios.groupby('year').mean()"
   ]
  },
  {
   "cell_type": "markdown",
   "metadata": {},
   "source": [
    "These colors are grouped by level of expected outcome.  Blue are neutral games, darker colors are more extreme, greens are expected, and reds are unexpected.  Therefore, an unranked team beating a ranked team is dark red as it is very unexpected."
   ]
  },
  {
   "cell_type": "code",
   "execution_count": 139,
   "metadata": {},
   "outputs": [],
   "source": [
    "colors = ['steelblue', 'darkgreen', 'forestgreen', 'salmon', 'firebrick']"
   ]
  },
  {
   "cell_type": "markdown",
   "metadata": {},
   "source": [
    "We can look at the data as both an area chart of counts of the different types, and an area chart of percentage of types of interactions."
   ]
  },
  {
   "cell_type": "code",
   "execution_count": 140,
   "metadata": {},
   "outputs": [
    {
     "data": {
      "image/png": "[encoded data removed]",
      "text/plain": [
       "<Figure size 864x432 with 1 Axes>"
      ]
     },
     "metadata": {},
     "output_type": "display_data"
    },
    {
     "data": {
      "image/png": "[encoded data removed]",
      "text/plain": [
       "<Figure size 864x432 with 1 Axes>"
      ]
     },
     "metadata": {},
     "output_type": "display_data"
    }
   ],
   "source": [
    "ax = ratios_sum.plot.area(figsize=(12,6), color=colors, title='Stacked Area Chart of Types of Games, Total Games, 1950 to 2018')\n",
    "ax = ratios_mean.plot.area(figsize=(12,6), color=colors, title='Stacked Area Chart of Types of Games, Averages, 1950 to 2018')"
   ]
  },
  {
   "cell_type": "markdown",
   "metadata": {},
   "source": [
    "However, these plots are still lacking in that there is a lot of information that is not easily accessible.  An interactive plot will make it easier to see this data."
   ]
  },
  {
   "cell_type": "code",
   "execution_count": 141,
   "metadata": {},
   "outputs": [
    {
     "data": {
      "application/vnd.plotly.v1+json": {
       "config": {
        "plotlyServerURL": "https://plot.ly"
       },
       "data": [
        {
         "hoverinfo": "x+y",
         "line": {
          "color": "steelblue",
          "width": 0.5
         },
         "mode": "lines",
         "name": "Both Unranked",
         "stackgroup": "one",
         "type": "scatter",
         "x": [
          1950,
          1951,
          1952,
          1953,
          1954,
          1955,
          1956,
          1957,
          1958,
          1959,
          1960,
          1961,
          1962,
          1963,
          1964,
          1965,
          1966,
          1967,
          1968,
          1969,
          1970,
          1971,
          1972,
          1973,
          1974,
          1975,
          1976,
          1977,
          1978,
          1979,
          1980,
          1981,
          1982,
          1983,
          1984,
          1985,
          1986,
          1987,
          1988,
          1989,
          1990,
          1991,
          1992,
          1993,
          1994,
          1995,
          1996,
          1997,
          1998,
          1999,
          2000,
          2001,
          2002,
          2003,
          2004,
          2005,
          2006,
          2007,
          2008,
          2009,
          2010,
          2011,
          2012,
          2013,
          2014,
          2015,
          2016,
          2017,
          2018
         ],
         "y": [
          474,
          455,
          429,
          399,
          416,
          406,
          417,
          420,
          419,
          424,
          434,
          492,
          535,
          524,
          538,
          546,
          542,
          539,
          465,
          478,
          510,
          541,
          547,
          558,
          558,
          605,
          607,
          664,
          614,
          618,
          616,
          599,
          486,
          489,
          468,
          466,
          430,
          432,
          428,
          382,
          390,
          393,
          387,
          384,
          384,
          391,
          403,
          409,
          417,
          431,
          447,
          460,
          492,
          491,
          460,
          466,
          508,
          515,
          534,
          531,
          537,
          544,
          556,
          564,
          594,
          590,
          596,
          600,
          603
         ]
        },
        {
         "hoverinfo": "x+y",
         "line": {
          "color": "darkgreen",
          "width": 0.5
         },
         "mode": "lines",
         "name": "Ranked Beats Unranked",
         "stackgroup": "one",
         "type": "scatter",
         "x": [
          1950,
          1951,
          1952,
          1953,
          1954,
          1955,
          1956,
          1957,
          1958,
          1959,
          1960,
          1961,
          1962,
          1963,
          1964,
          1965,
          1966,
          1967,
          1968,
          1969,
          1970,
          1971,
          1972,
          1973,
          1974,
          1975,
          1976,
          1977,
          1978,
          1979,
          1980,
          1981,
          1982,
          1983,
          1984,
          1985,
          1986,
          1987,
          1988,
          1989,
          1990,
          1991,
          1992,
          1993,
          1994,
          1995,
          1996,
          1997,
          1998,
          1999,
          2000,
          2001,
          2002,
          2003,
          2004,
          2005,
          2006,
          2007,
          2008,
          2009,
          2010,
          2011,
          2012,
          2013,
          2014,
          2015,
          2016,
          2017,
          2018
         ],
         "y": [
          118,
          115,
          112,
          119,
          105,
          105,
          113,
          104,
          103,
          110,
          106,
          64,
          69,
          71,
          62,
          67,
          73,
          67,
          113,
          134,
          134,
          156,
          134,
          152,
          134,
          137,
          126,
          141,
          139,
          142,
          140,
          135,
          138,
          146,
          131,
          144,
          132,
          138,
          149,
          166,
          170,
          166,
          160,
          163,
          160,
          160,
          182,
          168,
          171,
          157,
          166,
          151,
          179,
          180,
          190,
          156,
          206,
          173,
          175,
          203,
          191,
          194,
          194,
          196,
          180,
          184,
          170,
          187,
          174
         ]
        },
        {
         "hoverinfo": "x+y",
         "line": {
          "color": "forestgreen",
          "width": 0.5
         },
         "mode": "lines",
         "name": "Higher Beats Lower Ranked",
         "stackgroup": "one",
         "type": "scatter",
         "x": [
          1950,
          1951,
          1952,
          1953,
          1954,
          1955,
          1956,
          1957,
          1958,
          1959,
          1960,
          1961,
          1962,
          1963,
          1964,
          1965,
          1966,
          1967,
          1968,
          1969,
          1970,
          1971,
          1972,
          1973,
          1974,
          1975,
          1976,
          1977,
          1978,
          1979,
          1980,
          1981,
          1982,
          1983,
          1984,
          1985,
          1986,
          1987,
          1988,
          1989,
          1990,
          1991,
          1992,
          1993,
          1994,
          1995,
          1996,
          1997,
          1998,
          1999,
          2000,
          2001,
          2002,
          2003,
          2004,
          2005,
          2006,
          2007,
          2008,
          2009,
          2010,
          2011,
          2012,
          2013,
          2014,
          2015,
          2016,
          2017,
          2018
         ],
         "y": [
          18,
          17,
          21,
          20,
          20,
          16,
          17,
          23,
          24,
          19,
          15,
          10,
          7,
          1,
          7,
          3,
          6,
          3,
          20,
          22,
          18,
          18,
          25,
          24,
          17,
          25,
          22,
          20,
          22,
          16,
          22,
          19,
          24,
          19,
          19,
          16,
          18,
          29,
          24,
          31,
          23,
          39,
          36,
          33,
          29,
          32,
          28,
          37,
          39,
          35,
          33,
          38,
          37,
          32,
          25,
          32,
          31,
          37,
          39,
          31,
          44,
          40,
          38,
          32,
          39,
          34,
          34,
          37,
          37
         ]
        },
        {
         "hoverinfo": "x+y",
         "line": {
          "color": "salmon",
          "width": 0.5
         },
         "mode": "lines",
         "name": "Lower Beats Higher Ranked",
         "stackgroup": "one",
         "type": "scatter",
         "x": [
          1950,
          1951,
          1952,
          1953,
          1954,
          1955,
          1956,
          1957,
          1958,
          1959,
          1960,
          1961,
          1962,
          1963,
          1964,
          1965,
          1966,
          1967,
          1968,
          1969,
          1970,
          1971,
          1972,
          1973,
          1974,
          1975,
          1976,
          1977,
          1978,
          1979,
          1980,
          1981,
          1982,
          1983,
          1984,
          1985,
          1986,
          1987,
          1988,
          1989,
          1990,
          1991,
          1992,
          1993,
          1994,
          1995,
          1996,
          1997,
          1998,
          1999,
          2000,
          2001,
          2002,
          2003,
          2004,
          2005,
          2006,
          2007,
          2008,
          2009,
          2010,
          2011,
          2012,
          2013,
          2014,
          2015,
          2016,
          2017,
          2018
         ],
         "y": [
          7,
          11,
          14,
          7,
          15,
          13,
          13,
          11,
          8,
          16,
          16,
          2,
          4,
          8,
          4,
          8,
          4,
          4,
          14,
          11,
          11,
          9,
          11,
          8,
          11,
          12,
          19,
          13,
          14,
          18,
          14,
          13,
          12,
          13,
          19,
          22,
          21,
          12,
          15,
          20,
          24,
          18,
          20,
          27,
          24,
          25,
          19,
          15,
          17,
          23,
          19,
          19,
          18,
          23,
          15,
          20,
          17,
          16,
          22,
          19,
          19,
          21,
          16,
          23,
          26,
          24,
          22,
          21,
          21
         ]
        },
        {
         "hoverinfo": "x+y",
         "line": {
          "color": "firebrick",
          "width": 0.5
         },
         "mode": "lines",
         "name": "Unranked Beats Ranked",
         "stackgroup": "one",
         "type": "scatter",
         "x": [
          1950,
          1951,
          1952,
          1953,
          1954,
          1955,
          1956,
          1957,
          1958,
          1959,
          1960,
          1961,
          1962,
          1963,
          1964,
          1965,
          1966,
          1967,
          1968,
          1969,
          1970,
          1971,
          1972,
          1973,
          1974,
          1975,
          1976,
          1977,
          1978,
          1979,
          1980,
          1981,
          1982,
          1983,
          1984,
          1985,
          1986,
          1987,
          1988,
          1989,
          1990,
          1991,
          1992,
          1993,
          1994,
          1995,
          1996,
          1997,
          1998,
          1999,
          2000,
          2001,
          2002,
          2003,
          2004,
          2005,
          2006,
          2007,
          2008,
          2009,
          2010,
          2011,
          2012,
          2013,
          2014,
          2015,
          2016,
          2017,
          2018
         ],
         "y": [
          34,
          27,
          24,
          30,
          30,
          35,
          27,
          32,
          36,
          28,
          32,
          23,
          16,
          17,
          23,
          20,
          13,
          23,
          32,
          16,
          32,
          24,
          27,
          20,
          45,
          27,
          30,
          29,
          27,
          31,
          24,
          38,
          27,
          29,
          39,
          25,
          36,
          22,
          20,
          33,
          39,
          23,
          33,
          25,
          39,
          31,
          30,
          37,
          30,
          40,
          37,
          41,
          46,
          45,
          34,
          44,
          30,
          57,
          54,
          51,
          35,
          35,
          36,
          34,
          31,
          39,
          51,
          33,
          49
         ]
        }
       ],
       "layout": {
        "template": {
         "data": {
          "bar": [
           {
            "error_x": {
             "color": "#2a3f5f"
            },
            "error_y": {
             "color": "#2a3f5f"
            },
            "marker": {
             "line": {
              "color": "#E5ECF6",
              "width": 0.5
             }
            },
            "type": "bar"
           }
          ],
          "barpolar": [
           {
            "marker": {
             "line": {
              "color": "#E5ECF6",
              "width": 0.5
             }
            },
            "type": "barpolar"
           }
          ],
          "carpet": [
           {
            "aaxis": {
             "endlinecolor": "#2a3f5f",
             "gridcolor": "white",
             "linecolor": "white",
             "minorgridcolor": "white",
             "startlinecolor": "#2a3f5f"
            },
            "baxis": {
             "endlinecolor": "#2a3f5f",
             "gridcolor": "white",
             "linecolor": "white",
             "minorgridcolor": "white",
             "startlinecolor": "#2a3f5f"
            },
            "type": "carpet"
           }
          ],
          "choropleth": [
           {
            "colorbar": {
             "outlinewidth": 0,
             "ticks": ""
            },
            "type": "choropleth"
           }
          ],
          "contour": [
           {
            "colorbar": {
             "outlinewidth": 0,
             "ticks": ""
            },
            "colorscale": [
             [
              0,
              "#0d0887"
             ],
             [
              0.1111111111111111,
              "#46039f"
             ],
             [
              0.2222222222222222,
              "#7201a8"
             ],
             [
              0.3333333333333333,
              "#9c179e"
             ],
             [
              0.4444444444444444,
              "#bd3786"
             ],
             [
              0.5555555555555556,
              "#d8576b"
             ],
             [
              0.6666666666666666,
              "#ed7953"
             ],
             [
              0.7777777777777778,
              "#fb9f3a"
             ],
             [
              0.8888888888888888,
              "#fdca26"
             ],
             [
              1,
              "#f0f921"
             ]
            ],
            "type": "contour"
           }
          ],
          "contourcarpet": [
           {
            "colorbar": {
             "outlinewidth": 0,
             "ticks": ""
            },
            "type": "contourcarpet"
           }
          ],
          "heatmap": [
           {
            "colorbar": {
             "outlinewidth": 0,
             "ticks": ""
            },
            "colorscale": [
             [
              0,
              "#0d0887"
             ],
             [
              0.1111111111111111,
              "#46039f"
             ],
             [
              0.2222222222222222,
              "#7201a8"
             ],
             [
              0.3333333333333333,
              "#9c179e"
             ],
             [
              0.4444444444444444,
              "#bd3786"
             ],
             [
              0.5555555555555556,
              "#d8576b"
             ],
             [
              0.6666666666666666,
              "#ed7953"
             ],
             [
              0.7777777777777778,
              "#fb9f3a"
             ],
             [
              0.8888888888888888,
              "#fdca26"
             ],
             [
              1,
              "#f0f921"
             ]
            ],
            "type": "heatmap"
           }
          ],
          "heatmapgl": [
           {
            "colorbar": {
             "outlinewidth": 0,
             "ticks": ""
            },
            "colorscale": [
             [
              0,
              "#0d0887"
             ],
             [
              0.1111111111111111,
              "#46039f"
             ],
             [
              0.2222222222222222,
              "#7201a8"
             ],
             [
              0.3333333333333333,
              "#9c179e"
             ],
             [
              0.4444444444444444,
              "#bd3786"
             ],
             [
              0.5555555555555556,
              "#d8576b"
             ],
             [
              0.6666666666666666,
              "#ed7953"
             ],
             [
              0.7777777777777778,
              "#fb9f3a"
             ],
             [
              0.8888888888888888,
              "#fdca26"
             ],
             [
              1,
              "#f0f921"
             ]
            ],
            "type": "heatmapgl"
           }
          ],
          "histogram": [
           {
            "marker": {
             "colorbar": {
              "outlinewidth": 0,
              "ticks": ""
             }
            },
            "type": "histogram"
           }
          ],
          "histogram2d": [
           {
            "colorbar": {
             "outlinewidth": 0,
             "ticks": ""
            },
            "colorscale": [
             [
              0,
              "#0d0887"
             ],
             [
              0.1111111111111111,
              "#46039f"
             ],
             [
              0.2222222222222222,
              "#7201a8"
             ],
             [
              0.3333333333333333,
              "#9c179e"
             ],
             [
              0.4444444444444444,
              "#bd3786"
             ],
             [
              0.5555555555555556,
              "#d8576b"
             ],
             [
              0.6666666666666666,
              "#ed7953"
             ],
             [
              0.7777777777777778,
              "#fb9f3a"
             ],
             [
              0.8888888888888888,
              "#fdca26"
             ],
             [
              1,
              "#f0f921"
             ]
            ],
            "type": "histogram2d"
           }
          ],
          "histogram2dcontour": [
           {
            "colorbar": {
             "outlinewidth": 0,
             "ticks": ""
            },
            "colorscale": [
             [
              0,
              "#0d0887"
             ],
             [
              0.1111111111111111,
              "#46039f"
             ],
             [
              0.2222222222222222,
              "#7201a8"
             ],
             [
              0.3333333333333333,
              "#9c179e"
             ],
             [
              0.4444444444444444,
              "#bd3786"
             ],
             [
              0.5555555555555556,
              "#d8576b"
             ],
             [
              0.6666666666666666,
              "#ed7953"
             ],
             [
              0.7777777777777778,
              "#fb9f3a"
             ],
             [
              0.8888888888888888,
              "#fdca26"
             ],
             [
              1,
              "#f0f921"
             ]
            ],
            "type": "histogram2dcontour"
           }
          ],
          "mesh3d": [
           {
            "colorbar": {
             "outlinewidth": 0,
             "ticks": ""
            },
            "type": "mesh3d"
           }
          ],
          "parcoords": [
           {
            "line": {
             "colorbar": {
              "outlinewidth": 0,
              "ticks": ""
             }
            },
            "type": "parcoords"
           }
          ],
          "scatter": [
           {
            "marker": {
             "colorbar": {
              "outlinewidth": 0,
              "ticks": ""
             }
            },
            "type": "scatter"
           }
          ],
          "scatter3d": [
           {
            "line": {
             "colorbar": {
              "outlinewidth": 0,
              "ticks": ""
             }
            },
            "marker": {
             "colorbar": {
              "outlinewidth": 0,
              "ticks": ""
             }
            },
            "type": "scatter3d"
           }
          ],
          "scattercarpet": [
           {
            "marker": {
             "colorbar": {
              "outlinewidth": 0,
              "ticks": ""
             }
            },
            "type": "scattercarpet"
           }
          ],
          "scattergeo": [
           {
            "marker": {
             "colorbar": {
              "outlinewidth": 0,
              "ticks": ""
             }
            },
            "type": "scattergeo"
           }
          ],
          "scattergl": [
           {
            "marker": {
             "colorbar": {
              "outlinewidth": 0,
              "ticks": ""
             }
            },
            "type": "scattergl"
           }
          ],
          "scattermapbox": [
           {
            "marker": {
             "colorbar": {
              "outlinewidth": 0,
              "ticks": ""
             }
            },
            "type": "scattermapbox"
           }
          ],
          "scatterpolar": [
           {
            "marker": {
             "colorbar": {
              "outlinewidth": 0,
              "ticks": ""
             }
            },
            "type": "scatterpolar"
           }
          ],
          "scatterpolargl": [
           {
            "marker": {
             "colorbar": {
              "outlinewidth": 0,
              "ticks": ""
             }
            },
            "type": "scatterpolargl"
           }
          ],
          "scatterternary": [
           {
            "marker": {
             "colorbar": {
              "outlinewidth": 0,
              "ticks": ""
             }
            },
            "type": "scatterternary"
           }
          ],
          "surface": [
           {
            "colorbar": {
             "outlinewidth": 0,
             "ticks": ""
            },
            "colorscale": [
             [
              0,
              "#0d0887"
             ],
             [
              0.1111111111111111,
              "#46039f"
             ],
             [
              0.2222222222222222,
              "#7201a8"
             ],
             [
              0.3333333333333333,
              "#9c179e"
             ],
             [
              0.4444444444444444,
              "#bd3786"
             ],
             [
              0.5555555555555556,
              "#d8576b"
             ],
             [
              0.6666666666666666,
              "#ed7953"
             ],
             [
              0.7777777777777778,
              "#fb9f3a"
             ],
             [
              0.8888888888888888,
              "#fdca26"
             ],
             [
              1,
              "#f0f921"
             ]
            ],
            "type": "surface"
           }
          ],
          "table": [
           {
            "cells": {
             "fill": {
              "color": "#EBF0F8"
             },
             "line": {
              "color": "white"
             }
            },
            "header": {
             "fill": {
              "color": "#C8D4E3"
             },
             "line": {
              "color": "white"
             }
            },
            "type": "table"
           }
          ]
         },
         "layout": {
          "annotationdefaults": {
           "arrowcolor": "#2a3f5f",
           "arrowhead": 0,
           "arrowwidth": 1
          },
          "colorscale": {
           "diverging": [
            [
             0,
             "#8e0152"
            ],
            [
             0.1,
             "#c51b7d"
            ],
            [
             0.2,
             "#de77ae"
            ],
            [
             0.3,
             "#f1b6da"
            ],
            [
             0.4,
             "#fde0ef"
            ],
            [
             0.5,
             "#f7f7f7"
            ],
            [
             0.6,
             "#e6f5d0"
            ],
            [
             0.7,
             "#b8e186"
            ],
            [
             0.8,
             "#7fbc41"
            ],
            [
             0.9,
             "#4d9221"
            ],
            [
             1,
             "#276419"
            ]
           ],
           "sequential": [
            [
             0,
             "#0d0887"
            ],
            [
             0.1111111111111111,
             "#46039f"
            ],
            [
             0.2222222222222222,
             "#7201a8"
            ],
            [
             0.3333333333333333,
             "#9c179e"
            ],
            [
             0.4444444444444444,
             "#bd3786"
            ],
            [
             0.5555555555555556,
             "#d8576b"
            ],
            [
             0.6666666666666666,
             "#ed7953"
            ],
            [
             0.7777777777777778,
             "#fb9f3a"
            ],
            [
             0.8888888888888888,
             "#fdca26"
            ],
            [
             1,
             "#f0f921"
            ]
           ],
           "sequentialminus": [
            [
             0,
             "#0d0887"
            ],
            [
             0.1111111111111111,
             "#46039f"
            ],
            [
             0.2222222222222222,
             "#7201a8"
            ],
            [
             0.3333333333333333,
             "#9c179e"
            ],
            [
             0.4444444444444444,
             "#bd3786"
            ],
            [
             0.5555555555555556,
             "#d8576b"
            ],
            [
             0.6666666666666666,
             "#ed7953"
            ],
            [
             0.7777777777777778,
             "#fb9f3a"
            ],
            [
             0.8888888888888888,
             "#fdca26"
            ],
            [
             1,
             "#f0f921"
            ]
           ]
          },
          "colorway": [
           "#636efa",
           "#EF553B",
           "#00cc96",
           "#ab63fa",
           "#FFA15A",
           "#19d3f3",
           "#FF6692",
           "#B6E880",
           "#FF97FF",
           "#FECB52"
          ],
          "font": {
           "color": "#2a3f5f"
          },
          "geo": {
           "bgcolor": "white",
           "lakecolor": "white",
           "landcolor": "#E5ECF6",
           "showlakes": true,
           "showland": true,
           "subunitcolor": "white"
          },
          "hoverlabel": {
           "align": "left"
          },
          "hovermode": "closest",
          "mapbox": {
           "style": "light"
          },
          "paper_bgcolor": "white",
          "plot_bgcolor": "#E5ECF6",
          "polar": {
           "angularaxis": {
            "gridcolor": "white",
            "linecolor": "white",
            "ticks": ""
           },
           "bgcolor": "#E5ECF6",
           "radialaxis": {
            "gridcolor": "white",
            "linecolor": "white",
            "ticks": ""
           }
          },
          "scene": {
           "xaxis": {
            "backgroundcolor": "#E5ECF6",
            "gridcolor": "white",
            "gridwidth": 2,
            "linecolor": "white",
            "showbackground": true,
            "ticks": "",
            "zerolinecolor": "white"
           },
           "yaxis": {
            "backgroundcolor": "#E5ECF6",
            "gridcolor": "white",
            "gridwidth": 2,
            "linecolor": "white",
            "showbackground": true,
            "ticks": "",
            "zerolinecolor": "white"
           },
           "zaxis": {
            "backgroundcolor": "#E5ECF6",
            "gridcolor": "white",
            "gridwidth": 2,
            "linecolor": "white",
            "showbackground": true,
            "ticks": "",
            "zerolinecolor": "white"
           }
          },
          "shapedefaults": {
           "line": {
            "color": "#2a3f5f"
           }
          },
          "ternary": {
           "aaxis": {
            "gridcolor": "white",
            "linecolor": "white",
            "ticks": ""
           },
           "baxis": {
            "gridcolor": "white",
            "linecolor": "white",
            "ticks": ""
           },
           "bgcolor": "#E5ECF6",
           "caxis": {
            "gridcolor": "white",
            "linecolor": "white",
            "ticks": ""
           }
          },
          "title": {
           "x": 0.05
          },
          "xaxis": {
           "automargin": true,
           "gridcolor": "white",
           "linecolor": "white",
           "ticks": "",
           "zerolinecolor": "white",
           "zerolinewidth": 2
          },
          "yaxis": {
           "automargin": true,
           "gridcolor": "white",
           "linecolor": "white",
           "ticks": "",
           "zerolinecolor": "white",
           "zerolinewidth": 2
          }
         }
        },
        "title": {
         "text": "Stacked Area Chart of Types of Games, Total Games, 1950 to 2018"
        }
       }
      },
      "text/html": [
       "<div>\n",
       "        \n",
       "        \n",
       "            <div id=\"15066b89-fb45-4d01-983b-580ccb5d3b9c\" class=\"plotly-graph-div\" style=\"height:525px; width:100%;\"></div>\n",
       "            <script type=\"text/javascript\">\n",
       "                require([\"plotly\"], function(Plotly) {\n",
       "                    window.PLOTLYENV=window.PLOTLYENV || {};\n",
       "                    \n",
       "                if (document.getElementById(\"15066b89-fb45-4d01-983b-580ccb5d3b9c\")) {\n",
       "                    Plotly.newPlot(\n",
       "                        '15066b89-fb45-4d01-983b-580ccb5d3b9c',\n",
       "                        [{\"hoverinfo\": \"x+y\", \"line\": {\"color\": \"steelblue\", \"width\": 0.5}, \"mode\": \"lines\", \"name\": \"Both Unranked\", \"stackgroup\": \"one\", \"type\": \"scatter\", \"x\": [1950, 1951, 1952, 1953, 1954, 1955, 1956, 1957, 1958, 1959, 1960, 1961, 1962, 1963, 1964, 1965, 1966, 1967, 1968, 1969, 1970, 1971, 1972, 1973, 1974, 1975, 1976, 1977, 1978, 1979, 1980, 1981, 1982, 1983, 1984, 1985, 1986, 1987, 1988, 1989, 1990, 1991, 1992, 1993, 1994, 1995, 1996, 1997, 1998, 1999, 2000, 2001, 2002, 2003, 2004, 2005, 2006, 2007, 2008, 2009, 2010, 2011, 2012, 2013, 2014, 2015, 2016, 2017, 2018], \"y\": [474.0, 455.0, 429.0, 399.0, 416.0, 406.0, 417.0, 420.0, 419.0, 424.0, 434.0, 492.0, 535.0, 524.0, 538.0, 546.0, 542.0, 539.0, 465.0, 478.0, 510.0, 541.0, 547.0, 558.0, 558.0, 605.0, 607.0, 664.0, 614.0, 618.0, 616.0, 599.0, 486.0, 489.0, 468.0, 466.0, 430.0, 432.0, 428.0, 382.0, 390.0, 393.0, 387.0, 384.0, 384.0, 391.0, 403.0, 409.0, 417.0, 431.0, 447.0, 460.0, 492.0, 491.0, 460.0, 466.0, 508.0, 515.0, 534.0, 531.0, 537.0, 544.0, 556.0, 564.0, 594.0, 590.0, 596.0, 600.0, 603.0]}, {\"hoverinfo\": \"x+y\", \"line\": {\"color\": \"darkgreen\", \"width\": 0.5}, \"mode\": \"lines\", \"name\": \"Ranked Beats Unranked\", \"stackgroup\": \"one\", \"type\": \"scatter\", \"x\": [1950, 1951, 1952, 1953, 1954, 1955, 1956, 1957, 1958, 1959, 1960, 1961, 1962, 1963, 1964, 1965, 1966, 1967, 1968, 1969, 1970, 1971, 1972, 1973, 1974, 1975, 1976, 1977, 1978, 1979, 1980, 1981, 1982, 1983, 1984, 1985, 1986, 1987, 1988, 1989, 1990, 1991, 1992, 1993, 1994, 1995, 1996, 1997, 1998, 1999, 2000, 2001, 2002, 2003, 2004, 2005, 2006, 2007, 2008, 2009, 2010, 2011, 2012, 2013, 2014, 2015, 2016, 2017, 2018], \"y\": [118.0, 115.0, 112.0, 119.0, 105.0, 105.0, 113.0, 104.0, 103.0, 110.0, 106.0, 64.0, 69.0, 71.0, 62.0, 67.0, 73.0, 67.0, 113.0, 134.0, 134.0, 156.0, 134.0, 152.0, 134.0, 137.0, 126.0, 141.0, 139.0, 142.0, 140.0, 135.0, 138.0, 146.0, 131.0, 144.0, 132.0, 138.0, 149.0, 166.0, 170.0, 166.0, 160.0, 163.0, 160.0, 160.0, 182.0, 168.0, 171.0, 157.0, 166.0, 151.0, 179.0, 180.0, 190.0, 156.0, 206.0, 173.0, 175.0, 203.0, 191.0, 194.0, 194.0, 196.0, 180.0, 184.0, 170.0, 187.0, 174.0]}, {\"hoverinfo\": \"x+y\", \"line\": {\"color\": \"forestgreen\", \"width\": 0.5}, \"mode\": \"lines\", \"name\": \"Higher Beats Lower Ranked\", \"stackgroup\": \"one\", \"type\": \"scatter\", \"x\": [1950, 1951, 1952, 1953, 1954, 1955, 1956, 1957, 1958, 1959, 1960, 1961, 1962, 1963, 1964, 1965, 1966, 1967, 1968, 1969, 1970, 1971, 1972, 1973, 1974, 1975, 1976, 1977, 1978, 1979, 1980, 1981, 1982, 1983, 1984, 1985, 1986, 1987, 1988, 1989, 1990, 1991, 1992, 1993, 1994, 1995, 1996, 1997, 1998, 1999, 2000, 2001, 2002, 2003, 2004, 2005, 2006, 2007, 2008, 2009, 2010, 2011, 2012, 2013, 2014, 2015, 2016, 2017, 2018], \"y\": [18.0, 17.0, 21.0, 20.0, 20.0, 16.0, 17.0, 23.0, 24.0, 19.0, 15.0, 10.0, 7.0, 1.0, 7.0, 3.0, 6.0, 3.0, 20.0, 22.0, 18.0, 18.0, 25.0, 24.0, 17.0, 25.0, 22.0, 20.0, 22.0, 16.0, 22.0, 19.0, 24.0, 19.0, 19.0, 16.0, 18.0, 29.0, 24.0, 31.0, 23.0, 39.0, 36.0, 33.0, 29.0, 32.0, 28.0, 37.0, 39.0, 35.0, 33.0, 38.0, 37.0, 32.0, 25.0, 32.0, 31.0, 37.0, 39.0, 31.0, 44.0, 40.0, 38.0, 32.0, 39.0, 34.0, 34.0, 37.0, 37.0]}, {\"hoverinfo\": \"x+y\", \"line\": {\"color\": \"salmon\", \"width\": 0.5}, \"mode\": \"lines\", \"name\": \"Lower Beats Higher Ranked\", \"stackgroup\": \"one\", \"type\": \"scatter\", \"x\": [1950, 1951, 1952, 1953, 1954, 1955, 1956, 1957, 1958, 1959, 1960, 1961, 1962, 1963, 1964, 1965, 1966, 1967, 1968, 1969, 1970, 1971, 1972, 1973, 1974, 1975, 1976, 1977, 1978, 1979, 1980, 1981, 1982, 1983, 1984, 1985, 1986, 1987, 1988, 1989, 1990, 1991, 1992, 1993, 1994, 1995, 1996, 1997, 1998, 1999, 2000, 2001, 2002, 2003, 2004, 2005, 2006, 2007, 2008, 2009, 2010, 2011, 2012, 2013, 2014, 2015, 2016, 2017, 2018], \"y\": [7.0, 11.0, 14.0, 7.0, 15.0, 13.0, 13.0, 11.0, 8.0, 16.0, 16.0, 2.0, 4.0, 8.0, 4.0, 8.0, 4.0, 4.0, 14.0, 11.0, 11.0, 9.0, 11.0, 8.0, 11.0, 12.0, 19.0, 13.0, 14.0, 18.0, 14.0, 13.0, 12.0, 13.0, 19.0, 22.0, 21.0, 12.0, 15.0, 20.0, 24.0, 18.0, 20.0, 27.0, 24.0, 25.0, 19.0, 15.0, 17.0, 23.0, 19.0, 19.0, 18.0, 23.0, 15.0, 20.0, 17.0, 16.0, 22.0, 19.0, 19.0, 21.0, 16.0, 23.0, 26.0, 24.0, 22.0, 21.0, 21.0]}, {\"hoverinfo\": \"x+y\", \"line\": {\"color\": \"firebrick\", \"width\": 0.5}, \"mode\": \"lines\", \"name\": \"Unranked Beats Ranked\", \"stackgroup\": \"one\", \"type\": \"scatter\", \"x\": [1950, 1951, 1952, 1953, 1954, 1955, 1956, 1957, 1958, 1959, 1960, 1961, 1962, 1963, 1964, 1965, 1966, 1967, 1968, 1969, 1970, 1971, 1972, 1973, 1974, 1975, 1976, 1977, 1978, 1979, 1980, 1981, 1982, 1983, 1984, 1985, 1986, 1987, 1988, 1989, 1990, 1991, 1992, 1993, 1994, 1995, 1996, 1997, 1998, 1999, 2000, 2001, 2002, 2003, 2004, 2005, 2006, 2007, 2008, 2009, 2010, 2011, 2012, 2013, 2014, 2015, 2016, 2017, 2018], \"y\": [34.0, 27.0, 24.0, 30.0, 30.0, 35.0, 27.0, 32.0, 36.0, 28.0, 32.0, 23.0, 16.0, 17.0, 23.0, 20.0, 13.0, 23.0, 32.0, 16.0, 32.0, 24.0, 27.0, 20.0, 45.0, 27.0, 30.0, 29.0, 27.0, 31.0, 24.0, 38.0, 27.0, 29.0, 39.0, 25.0, 36.0, 22.0, 20.0, 33.0, 39.0, 23.0, 33.0, 25.0, 39.0, 31.0, 30.0, 37.0, 30.0, 40.0, 37.0, 41.0, 46.0, 45.0, 34.0, 44.0, 30.0, 57.0, 54.0, 51.0, 35.0, 35.0, 36.0, 34.0, 31.0, 39.0, 51.0, 33.0, 49.0]}],\n",
       "                        {\"template\": {\"data\": {\"bar\": [{\"error_x\": {\"color\": \"#2a3f5f\"}, \"error_y\": {\"color\": \"#2a3f5f\"}, \"marker\": {\"line\": {\"color\": \"#E5ECF6\", \"width\": 0.5}}, \"type\": \"bar\"}], \"barpolar\": [{\"marker\": {\"line\": {\"color\": \"#E5ECF6\", \"width\": 0.5}}, \"type\": \"barpolar\"}], \"carpet\": [{\"aaxis\": {\"endlinecolor\": \"#2a3f5f\", \"gridcolor\": \"white\", \"linecolor\": \"white\", \"minorgridcolor\": \"white\", \"startlinecolor\": \"#2a3f5f\"}, \"baxis\": {\"endlinecolor\": \"#2a3f5f\", \"gridcolor\": \"white\", \"linecolor\": \"white\", \"minorgridcolor\": \"white\", \"startlinecolor\": \"#2a3f5f\"}, \"type\": \"carpet\"}], \"choropleth\": [{\"colorbar\": {\"outlinewidth\": 0, \"ticks\": \"\"}, \"type\": \"choropleth\"}], \"contour\": [{\"colorbar\": {\"outlinewidth\": 0, \"ticks\": \"\"}, \"colorscale\": [[0.0, \"#0d0887\"], [0.1111111111111111, \"#46039f\"], [0.2222222222222222, \"#7201a8\"], [0.3333333333333333, \"#9c179e\"], [0.4444444444444444, \"#bd3786\"], [0.5555555555555556, \"#d8576b\"], [0.6666666666666666, \"#ed7953\"], [0.7777777777777778, \"#fb9f3a\"], [0.8888888888888888, \"#fdca26\"], [1.0, \"#f0f921\"]], \"type\": \"contour\"}], \"contourcarpet\": [{\"colorbar\": {\"outlinewidth\": 0, \"ticks\": \"\"}, \"type\": \"contourcarpet\"}], \"heatmap\": [{\"colorbar\": {\"outlinewidth\": 0, \"ticks\": \"\"}, \"colorscale\": [[0.0, \"#0d0887\"], [0.1111111111111111, \"#46039f\"], [0.2222222222222222, \"#7201a8\"], [0.3333333333333333, \"#9c179e\"], [0.4444444444444444, \"#bd3786\"], [0.5555555555555556, \"#d8576b\"], [0.6666666666666666, \"#ed7953\"], [0.7777777777777778, \"#fb9f3a\"], [0.8888888888888888, \"#fdca26\"], [1.0, \"#f0f921\"]], \"type\": \"heatmap\"}], \"heatmapgl\": [{\"colorbar\": {\"outlinewidth\": 0, \"ticks\": \"\"}, \"colorscale\": [[0.0, \"#0d0887\"], [0.1111111111111111, \"#46039f\"], [0.2222222222222222, \"#7201a8\"], [0.3333333333333333, \"#9c179e\"], [0.4444444444444444, \"#bd3786\"], [0.5555555555555556, \"#d8576b\"], [0.6666666666666666, \"#ed7953\"], [0.7777777777777778, \"#fb9f3a\"], [0.8888888888888888, \"#fdca26\"], [1.0, \"#f0f921\"]], \"type\": \"heatmapgl\"}], \"histogram\": [{\"marker\": {\"colorbar\": {\"outlinewidth\": 0, \"ticks\": \"\"}}, \"type\": \"histogram\"}], \"histogram2d\": [{\"colorbar\": {\"outlinewidth\": 0, \"ticks\": \"\"}, \"colorscale\": [[0.0, \"#0d0887\"], [0.1111111111111111, \"#46039f\"], [0.2222222222222222, \"#7201a8\"], [0.3333333333333333, \"#9c179e\"], [0.4444444444444444, \"#bd3786\"], [0.5555555555555556, \"#d8576b\"], [0.6666666666666666, \"#ed7953\"], [0.7777777777777778, \"#fb9f3a\"], [0.8888888888888888, \"#fdca26\"], [1.0, \"#f0f921\"]], \"type\": \"histogram2d\"}], \"histogram2dcontour\": [{\"colorbar\": {\"outlinewidth\": 0, \"ticks\": \"\"}, \"colorscale\": [[0.0, \"#0d0887\"], [0.1111111111111111, \"#46039f\"], [0.2222222222222222, \"#7201a8\"], [0.3333333333333333, \"#9c179e\"], [0.4444444444444444, \"#bd3786\"], [0.5555555555555556, \"#d8576b\"], [0.6666666666666666, \"#ed7953\"], [0.7777777777777778, \"#fb9f3a\"], [0.8888888888888888, \"#fdca26\"], [1.0, \"#f0f921\"]], \"type\": \"histogram2dcontour\"}], \"mesh3d\": [{\"colorbar\": {\"outlinewidth\": 0, \"ticks\": \"\"}, \"type\": \"mesh3d\"}], \"parcoords\": [{\"line\": {\"colorbar\": {\"outlinewidth\": 0, \"ticks\": \"\"}}, \"type\": \"parcoords\"}], \"scatter\": [{\"marker\": {\"colorbar\": {\"outlinewidth\": 0, \"ticks\": \"\"}}, \"type\": \"scatter\"}], \"scatter3d\": [{\"line\": {\"colorbar\": {\"outlinewidth\": 0, \"ticks\": \"\"}}, \"marker\": {\"colorbar\": {\"outlinewidth\": 0, \"ticks\": \"\"}}, \"type\": \"scatter3d\"}], \"scattercarpet\": [{\"marker\": {\"colorbar\": {\"outlinewidth\": 0, \"ticks\": \"\"}}, \"type\": \"scattercarpet\"}], \"scattergeo\": [{\"marker\": {\"colorbar\": {\"outlinewidth\": 0, \"ticks\": \"\"}}, \"type\": \"scattergeo\"}], \"scattergl\": [{\"marker\": {\"colorbar\": {\"outlinewidth\": 0, \"ticks\": \"\"}}, \"type\": \"scattergl\"}], \"scattermapbox\": [{\"marker\": {\"colorbar\": {\"outlinewidth\": 0, \"ticks\": \"\"}}, \"type\": \"scattermapbox\"}], \"scatterpolar\": [{\"marker\": {\"colorbar\": {\"outlinewidth\": 0, \"ticks\": \"\"}}, \"type\": \"scatterpolar\"}], \"scatterpolargl\": [{\"marker\": {\"colorbar\": {\"outlinewidth\": 0, \"ticks\": \"\"}}, \"type\": \"scatterpolargl\"}], \"scatterternary\": [{\"marker\": {\"colorbar\": {\"outlinewidth\": 0, \"ticks\": \"\"}}, \"type\": \"scatterternary\"}], \"surface\": [{\"colorbar\": {\"outlinewidth\": 0, \"ticks\": \"\"}, \"colorscale\": [[0.0, \"#0d0887\"], [0.1111111111111111, \"#46039f\"], [0.2222222222222222, \"#7201a8\"], [0.3333333333333333, \"#9c179e\"], [0.4444444444444444, \"#bd3786\"], [0.5555555555555556, \"#d8576b\"], [0.6666666666666666, \"#ed7953\"], [0.7777777777777778, \"#fb9f3a\"], [0.8888888888888888, \"#fdca26\"], [1.0, \"#f0f921\"]], \"type\": \"surface\"}], \"table\": [{\"cells\": {\"fill\": {\"color\": \"#EBF0F8\"}, \"line\": {\"color\": \"white\"}}, \"header\": {\"fill\": {\"color\": \"#C8D4E3\"}, \"line\": {\"color\": \"white\"}}, \"type\": \"table\"}]}, \"layout\": {\"annotationdefaults\": {\"arrowcolor\": \"#2a3f5f\", \"arrowhead\": 0, \"arrowwidth\": 1}, \"colorscale\": {\"diverging\": [[0, \"#8e0152\"], [0.1, \"#c51b7d\"], [0.2, \"#de77ae\"], [0.3, \"#f1b6da\"], [0.4, \"#fde0ef\"], [0.5, \"#f7f7f7\"], [0.6, \"#e6f5d0\"], [0.7, \"#b8e186\"], [0.8, \"#7fbc41\"], [0.9, \"#4d9221\"], [1, \"#276419\"]], \"sequential\": [[0.0, \"#0d0887\"], [0.1111111111111111, \"#46039f\"], [0.2222222222222222, \"#7201a8\"], [0.3333333333333333, \"#9c179e\"], [0.4444444444444444, \"#bd3786\"], [0.5555555555555556, \"#d8576b\"], [0.6666666666666666, \"#ed7953\"], [0.7777777777777778, \"#fb9f3a\"], [0.8888888888888888, \"#fdca26\"], [1.0, \"#f0f921\"]], \"sequentialminus\": [[0.0, \"#0d0887\"], [0.1111111111111111, \"#46039f\"], [0.2222222222222222, \"#7201a8\"], [0.3333333333333333, \"#9c179e\"], [0.4444444444444444, \"#bd3786\"], [0.5555555555555556, \"#d8576b\"], [0.6666666666666666, \"#ed7953\"], [0.7777777777777778, \"#fb9f3a\"], [0.8888888888888888, \"#fdca26\"], [1.0, \"#f0f921\"]]}, \"colorway\": [\"#636efa\", \"#EF553B\", \"#00cc96\", \"#ab63fa\", \"#FFA15A\", \"#19d3f3\", \"#FF6692\", \"#B6E880\", \"#FF97FF\", \"#FECB52\"], \"font\": {\"color\": \"#2a3f5f\"}, \"geo\": {\"bgcolor\": \"white\", \"lakecolor\": \"white\", \"landcolor\": \"#E5ECF6\", \"showlakes\": true, \"showland\": true, \"subunitcolor\": \"white\"}, \"hoverlabel\": {\"align\": \"left\"}, \"hovermode\": \"closest\", \"mapbox\": {\"style\": \"light\"}, \"paper_bgcolor\": \"white\", \"plot_bgcolor\": \"#E5ECF6\", \"polar\": {\"angularaxis\": {\"gridcolor\": \"white\", \"linecolor\": \"white\", \"ticks\": \"\"}, \"bgcolor\": \"#E5ECF6\", \"radialaxis\": {\"gridcolor\": \"white\", \"linecolor\": \"white\", \"ticks\": \"\"}}, \"scene\": {\"xaxis\": {\"backgroundcolor\": \"#E5ECF6\", \"gridcolor\": \"white\", \"gridwidth\": 2, \"linecolor\": \"white\", \"showbackground\": true, \"ticks\": \"\", \"zerolinecolor\": \"white\"}, \"yaxis\": {\"backgroundcolor\": \"#E5ECF6\", \"gridcolor\": \"white\", \"gridwidth\": 2, \"linecolor\": \"white\", \"showbackground\": true, \"ticks\": \"\", \"zerolinecolor\": \"white\"}, \"zaxis\": {\"backgroundcolor\": \"#E5ECF6\", \"gridcolor\": \"white\", \"gridwidth\": 2, \"linecolor\": \"white\", \"showbackground\": true, \"ticks\": \"\", \"zerolinecolor\": \"white\"}}, \"shapedefaults\": {\"line\": {\"color\": \"#2a3f5f\"}}, \"ternary\": {\"aaxis\": {\"gridcolor\": \"white\", \"linecolor\": \"white\", \"ticks\": \"\"}, \"baxis\": {\"gridcolor\": \"white\", \"linecolor\": \"white\", \"ticks\": \"\"}, \"bgcolor\": \"#E5ECF6\", \"caxis\": {\"gridcolor\": \"white\", \"linecolor\": \"white\", \"ticks\": \"\"}}, \"title\": {\"x\": 0.05}, \"xaxis\": {\"automargin\": true, \"gridcolor\": \"white\", \"linecolor\": \"white\", \"ticks\": \"\", \"zerolinecolor\": \"white\", \"zerolinewidth\": 2}, \"yaxis\": {\"automargin\": true, \"gridcolor\": \"white\", \"linecolor\": \"white\", \"ticks\": \"\", \"zerolinecolor\": \"white\", \"zerolinewidth\": 2}}}, \"title\": {\"text\": \"Stacked Area Chart of Types of Games, Total Games, 1950 to 2018\"}},\n",
       "                        {\"responsive\": true}\n",
       "                    ).then(function(){\n",
       "                            \n",
       "var gd = document.getElementById('15066b89-fb45-4d01-983b-580ccb5d3b9c');\n",
       "var x = new MutationObserver(function (mutations, observer) {{\n",
       "        var display = window.getComputedStyle(gd).display;\n",
       "        if (!display || display === 'none') {{\n",
       "            console.log([gd, 'removed!']);\n",
       "            Plotly.purge(gd);\n",
       "            observer.disconnect();\n",
       "        }}\n",
       "}});\n",
       "\n",
       "// Listen for the removal of the full notebook cells\n",
       "var notebookContainer = gd.closest('#notebook-container');\n",
       "if (notebookContainer) {{\n",
       "    x.observe(notebookContainer, {childList: true});\n",
       "}}\n",
       "\n",
       "// Listen for the clearing of the current output cell\n",
       "var outputEl = gd.closest('.output');\n",
       "if (outputEl) {{\n",
       "    x.observe(outputEl, {childList: true});\n",
       "}}\n",
       "\n",
       "                        })\n",
       "                };\n",
       "                });\n",
       "            </script>\n",
       "        </div>"
      ]
     },
     "metadata": {},
     "output_type": "display_data"
    }
   ],
   "source": [
    "x=ratios_sum.index.to_list()\n",
    " \n",
    "fig = go.Figure()\n",
    "fig.add_trace(go.Scatter(\n",
    "    x=x, y=ratios_sum['both_unranked'],\n",
    "    name='Both Unranked',\n",
    "    hoverinfo='x+y',\n",
    "    mode='lines',\n",
    "    line=dict(width=0.5, color=colors[0]),\n",
    "    stackgroup='one' # define stack group\n",
    "))\n",
    "fig.add_trace(go.Scatter(\n",
    "    x=x, y=ratios_sum['ranked_beats_unranked'],\n",
    "    name='Ranked Beats Unranked',\n",
    "    hoverinfo='x+y',\n",
    "    mode='lines',\n",
    "    line=dict(width=0.5, color=colors[1]),\n",
    "    stackgroup='one' # define stack group\n",
    "))\n",
    "fig.add_trace(go.Scatter(\n",
    "    x=x, y=ratios_sum['higher_beats_lower'],\n",
    "    name='Higher Beats Lower Ranked',\n",
    "    hoverinfo='x+y',\n",
    "    mode='lines',\n",
    "    line=dict(width=0.5, color=colors[2]),\n",
    "    stackgroup='one' # define stack group\n",
    "))\n",
    "fig.add_trace(go.Scatter(\n",
    "    x=x, y=ratios_sum['lower_beats_higher'],\n",
    "    name='Lower Beats Higher Ranked',\n",
    "    hoverinfo='x+y',\n",
    "    mode='lines',\n",
    "    line=dict(width=0.5, color=colors[3]),\n",
    "    stackgroup='one' # define stack group\n",
    "))\n",
    "fig.add_trace(go.Scatter(\n",
    "    x=x, y=ratios_sum['unranked_beats_ranked'],\n",
    "    name='Unranked Beats Ranked',\n",
    "    hoverinfo='x+y',\n",
    "    mode='lines',\n",
    "    line=dict(width=0.5, color=colors[4]),\n",
    "    stackgroup='one' # define stack group\n",
    "))\n",
    " \n",
    "fig.update_layout(title=\"Stacked Area Chart of Types of Games, Total Games, 1950 to 2018\")\n",
    "fig.show()"
   ]
  },
  {
   "cell_type": "code",
   "execution_count": 142,
   "metadata": {},
   "outputs": [
    {
     "data": {
      "application/vnd.plotly.v1+json": {
       "config": {
        "plotlyServerURL": "https://plot.ly"
       },
       "data": [
        {
         "groupnorm": "percent",
         "hoverinfo": "x+y",
         "line": {
          "color": "steelblue",
          "width": 0.5
         },
         "mode": "lines",
         "name": "Both Unranked",
         "stackgroup": "one",
         "type": "scatter",
         "x": [
          1950,
          1951,
          1952,
          1953,
          1954,
          1955,
          1956,
          1957,
          1958,
          1959,
          1960,
          1961,
          1962,
          1963,
          1964,
          1965,
          1966,
          1967,
          1968,
          1969,
          1970,
          1971,
          1972,
          1973,
          1974,
          1975,
          1976,
          1977,
          1978,
          1979,
          1980,
          1981,
          1982,
          1983,
          1984,
          1985,
          1986,
          1987,
          1988,
          1989,
          1990,
          1991,
          1992,
          1993,
          1994,
          1995,
          1996,
          1997,
          1998,
          1999,
          2000,
          2001,
          2002,
          2003,
          2004,
          2005,
          2006,
          2007,
          2008,
          2009,
          2010,
          2011,
          2012,
          2013,
          2014,
          2015,
          2016,
          2017,
          2018
         ],
         "y": [
          474,
          455,
          429,
          399,
          416,
          406,
          417,
          420,
          419,
          424,
          434,
          492,
          535,
          524,
          538,
          546,
          542,
          539,
          465,
          478,
          510,
          541,
          547,
          558,
          558,
          605,
          607,
          664,
          614,
          618,
          616,
          599,
          486,
          489,
          468,
          466,
          430,
          432,
          428,
          382,
          390,
          393,
          387,
          384,
          384,
          391,
          403,
          409,
          417,
          431,
          447,
          460,
          492,
          491,
          460,
          466,
          508,
          515,
          534,
          531,
          537,
          544,
          556,
          564,
          594,
          590,
          596,
          600,
          603
         ]
        },
        {
         "groupnorm": "percent",
         "hoverinfo": "x+y",
         "line": {
          "color": "darkgreen",
          "width": 0.5
         },
         "mode": "lines",
         "name": "Ranked Beats Unranked",
         "stackgroup": "one",
         "type": "scatter",
         "x": [
          1950,
          1951,
          1952,
          1953,
          1954,
          1955,
          1956,
          1957,
          1958,
          1959,
          1960,
          1961,
          1962,
          1963,
          1964,
          1965,
          1966,
          1967,
          1968,
          1969,
          1970,
          1971,
          1972,
          1973,
          1974,
          1975,
          1976,
          1977,
          1978,
          1979,
          1980,
          1981,
          1982,
          1983,
          1984,
          1985,
          1986,
          1987,
          1988,
          1989,
          1990,
          1991,
          1992,
          1993,
          1994,
          1995,
          1996,
          1997,
          1998,
          1999,
          2000,
          2001,
          2002,
          2003,
          2004,
          2005,
          2006,
          2007,
          2008,
          2009,
          2010,
          2011,
          2012,
          2013,
          2014,
          2015,
          2016,
          2017,
          2018
         ],
         "y": [
          118,
          115,
          112,
          119,
          105,
          105,
          113,
          104,
          103,
          110,
          106,
          64,
          69,
          71,
          62,
          67,
          73,
          67,
          113,
          134,
          134,
          156,
          134,
          152,
          134,
          137,
          126,
          141,
          139,
          142,
          140,
          135,
          138,
          146,
          131,
          144,
          132,
          138,
          149,
          166,
          170,
          166,
          160,
          163,
          160,
          160,
          182,
          168,
          171,
          157,
          166,
          151,
          179,
          180,
          190,
          156,
          206,
          173,
          175,
          203,
          191,
          194,
          194,
          196,
          180,
          184,
          170,
          187,
          174
         ]
        },
        {
         "hoverinfo": "x+y",
         "line": {
          "color": "forestgreen",
          "width": 0.5
         },
         "mode": "lines",
         "name": "Higher Beats Lower Ranked",
         "stackgroup": "one",
         "type": "scatter",
         "x": [
          1950,
          1951,
          1952,
          1953,
          1954,
          1955,
          1956,
          1957,
          1958,
          1959,
          1960,
          1961,
          1962,
          1963,
          1964,
          1965,
          1966,
          1967,
          1968,
          1969,
          1970,
          1971,
          1972,
          1973,
          1974,
          1975,
          1976,
          1977,
          1978,
          1979,
          1980,
          1981,
          1982,
          1983,
          1984,
          1985,
          1986,
          1987,
          1988,
          1989,
          1990,
          1991,
          1992,
          1993,
          1994,
          1995,
          1996,
          1997,
          1998,
          1999,
          2000,
          2001,
          2002,
          2003,
          2004,
          2005,
          2006,
          2007,
          2008,
          2009,
          2010,
          2011,
          2012,
          2013,
          2014,
          2015,
          2016,
          2017,
          2018
         ],
         "y": [
          18,
          17,
          21,
          20,
          20,
          16,
          17,
          23,
          24,
          19,
          15,
          10,
          7,
          1,
          7,
          3,
          6,
          3,
          20,
          22,
          18,
          18,
          25,
          24,
          17,
          25,
          22,
          20,
          22,
          16,
          22,
          19,
          24,
          19,
          19,
          16,
          18,
          29,
          24,
          31,
          23,
          39,
          36,
          33,
          29,
          32,
          28,
          37,
          39,
          35,
          33,
          38,
          37,
          32,
          25,
          32,
          31,
          37,
          39,
          31,
          44,
          40,
          38,
          32,
          39,
          34,
          34,
          37,
          37
         ]
        },
        {
         "groupnorm": "percent",
         "hoverinfo": "x+y",
         "line": {
          "color": "salmon",
          "width": 0.5
         },
         "mode": "lines",
         "name": "Lower Beats Higher Ranked",
         "stackgroup": "one",
         "type": "scatter",
         "x": [
          1950,
          1951,
          1952,
          1953,
          1954,
          1955,
          1956,
          1957,
          1958,
          1959,
          1960,
          1961,
          1962,
          1963,
          1964,
          1965,
          1966,
          1967,
          1968,
          1969,
          1970,
          1971,
          1972,
          1973,
          1974,
          1975,
          1976,
          1977,
          1978,
          1979,
          1980,
          1981,
          1982,
          1983,
          1984,
          1985,
          1986,
          1987,
          1988,
          1989,
          1990,
          1991,
          1992,
          1993,
          1994,
          1995,
          1996,
          1997,
          1998,
          1999,
          2000,
          2001,
          2002,
          2003,
          2004,
          2005,
          2006,
          2007,
          2008,
          2009,
          2010,
          2011,
          2012,
          2013,
          2014,
          2015,
          2016,
          2017,
          2018
         ],
         "y": [
          7,
          11,
          14,
          7,
          15,
          13,
          13,
          11,
          8,
          16,
          16,
          2,
          4,
          8,
          4,
          8,
          4,
          4,
          14,
          11,
          11,
          9,
          11,
          8,
          11,
          12,
          19,
          13,
          14,
          18,
          14,
          13,
          12,
          13,
          19,
          22,
          21,
          12,
          15,
          20,
          24,
          18,
          20,
          27,
          24,
          25,
          19,
          15,
          17,
          23,
          19,
          19,
          18,
          23,
          15,
          20,
          17,
          16,
          22,
          19,
          19,
          21,
          16,
          23,
          26,
          24,
          22,
          21,
          21
         ]
        },
        {
         "groupnorm": "percent",
         "hoverinfo": "x+y",
         "line": {
          "color": "firebrick",
          "width": 0.5
         },
         "mode": "lines",
         "name": "Unranked Beats Ranked",
         "stackgroup": "one",
         "type": "scatter",
         "x": [
          1950,
          1951,
          1952,
          1953,
          1954,
          1955,
          1956,
          1957,
          1958,
          1959,
          1960,
          1961,
          1962,
          1963,
          1964,
          1965,
          1966,
          1967,
          1968,
          1969,
          1970,
          1971,
          1972,
          1973,
          1974,
          1975,
          1976,
          1977,
          1978,
          1979,
          1980,
          1981,
          1982,
          1983,
          1984,
          1985,
          1986,
          1987,
          1988,
          1989,
          1990,
          1991,
          1992,
          1993,
          1994,
          1995,
          1996,
          1997,
          1998,
          1999,
          2000,
          2001,
          2002,
          2003,
          2004,
          2005,
          2006,
          2007,
          2008,
          2009,
          2010,
          2011,
          2012,
          2013,
          2014,
          2015,
          2016,
          2017,
          2018
         ],
         "y": [
          34,
          27,
          24,
          30,
          30,
          35,
          27,
          32,
          36,
          28,
          32,
          23,
          16,
          17,
          23,
          20,
          13,
          23,
          32,
          16,
          32,
          24,
          27,
          20,
          45,
          27,
          30,
          29,
          27,
          31,
          24,
          38,
          27,
          29,
          39,
          25,
          36,
          22,
          20,
          33,
          39,
          23,
          33,
          25,
          39,
          31,
          30,
          37,
          30,
          40,
          37,
          41,
          46,
          45,
          34,
          44,
          30,
          57,
          54,
          51,
          35,
          35,
          36,
          34,
          31,
          39,
          51,
          33,
          49
         ]
        }
       ],
       "layout": {
        "showlegend": true,
        "template": {
         "data": {
          "bar": [
           {
            "error_x": {
             "color": "#2a3f5f"
            },
            "error_y": {
             "color": "#2a3f5f"
            },
            "marker": {
             "line": {
              "color": "#E5ECF6",
              "width": 0.5
             }
            },
            "type": "bar"
           }
          ],
          "barpolar": [
           {
            "marker": {
             "line": {
              "color": "#E5ECF6",
              "width": 0.5
             }
            },
            "type": "barpolar"
           }
          ],
          "carpet": [
           {
            "aaxis": {
             "endlinecolor": "#2a3f5f",
             "gridcolor": "white",
             "linecolor": "white",
             "minorgridcolor": "white",
             "startlinecolor": "#2a3f5f"
            },
            "baxis": {
             "endlinecolor": "#2a3f5f",
             "gridcolor": "white",
             "linecolor": "white",
             "minorgridcolor": "white",
             "startlinecolor": "#2a3f5f"
            },
            "type": "carpet"
           }
          ],
          "choropleth": [
           {
            "colorbar": {
             "outlinewidth": 0,
             "ticks": ""
            },
            "type": "choropleth"
           }
          ],
          "contour": [
           {
            "colorbar": {
             "outlinewidth": 0,
             "ticks": ""
            },
            "colorscale": [
             [
              0,
              "#0d0887"
             ],
             [
              0.1111111111111111,
              "#46039f"
             ],
             [
              0.2222222222222222,
              "#7201a8"
             ],
             [
              0.3333333333333333,
              "#9c179e"
             ],
             [
              0.4444444444444444,
              "#bd3786"
             ],
             [
              0.5555555555555556,
              "#d8576b"
             ],
             [
              0.6666666666666666,
              "#ed7953"
             ],
             [
              0.7777777777777778,
              "#fb9f3a"
             ],
             [
              0.8888888888888888,
              "#fdca26"
             ],
             [
              1,
              "#f0f921"
             ]
            ],
            "type": "contour"
           }
          ],
          "contourcarpet": [
           {
            "colorbar": {
             "outlinewidth": 0,
             "ticks": ""
            },
            "type": "contourcarpet"
           }
          ],
          "heatmap": [
           {
            "colorbar": {
             "outlinewidth": 0,
             "ticks": ""
            },
            "colorscale": [
             [
              0,
              "#0d0887"
             ],
             [
              0.1111111111111111,
              "#46039f"
             ],
             [
              0.2222222222222222,
              "#7201a8"
             ],
             [
              0.3333333333333333,
              "#9c179e"
             ],
             [
              0.4444444444444444,
              "#bd3786"
             ],
             [
              0.5555555555555556,
              "#d8576b"
             ],
             [
              0.6666666666666666,
              "#ed7953"
             ],
             [
              0.7777777777777778,
              "#fb9f3a"
             ],
             [
              0.8888888888888888,
              "#fdca26"
             ],
             [
              1,
              "#f0f921"
             ]
            ],
            "type": "heatmap"
           }
          ],
          "heatmapgl": [
           {
            "colorbar": {
             "outlinewidth": 0,
             "ticks": ""
            },
            "colorscale": [
             [
              0,
              "#0d0887"
             ],
             [
              0.1111111111111111,
              "#46039f"
             ],
             [
              0.2222222222222222,
              "#7201a8"
             ],
             [
              0.3333333333333333,
              "#9c179e"
             ],
             [
              0.4444444444444444,
              "#bd3786"
             ],
             [
              0.5555555555555556,
              "#d8576b"
             ],
             [
              0.6666666666666666,
              "#ed7953"
             ],
             [
              0.7777777777777778,
              "#fb9f3a"
             ],
             [
              0.8888888888888888,
              "#fdca26"
             ],
             [
              1,
              "#f0f921"
             ]
            ],
            "type": "heatmapgl"
           }
          ],
          "histogram": [
           {
            "marker": {
             "colorbar": {
              "outlinewidth": 0,
              "ticks": ""
             }
            },
            "type": "histogram"
           }
          ],
          "histogram2d": [
           {
            "colorbar": {
             "outlinewidth": 0,
             "ticks": ""
            },
            "colorscale": [
             [
              0,
              "#0d0887"
             ],
             [
              0.1111111111111111,
              "#46039f"
             ],
             [
              0.2222222222222222,
              "#7201a8"
             ],
             [
              0.3333333333333333,
              "#9c179e"
             ],
             [
              0.4444444444444444,
              "#bd3786"
             ],
             [
              0.5555555555555556,
              "#d8576b"
             ],
             [
              0.6666666666666666,
              "#ed7953"
             ],
             [
              0.7777777777777778,
              "#fb9f3a"
             ],
             [
              0.8888888888888888,
              "#fdca26"
             ],
             [
              1,
              "#f0f921"
             ]
            ],
            "type": "histogram2d"
           }
          ],
          "histogram2dcontour": [
           {
            "colorbar": {
             "outlinewidth": 0,
             "ticks": ""
            },
            "colorscale": [
             [
              0,
              "#0d0887"
             ],
             [
              0.1111111111111111,
              "#46039f"
             ],
             [
              0.2222222222222222,
              "#7201a8"
             ],
             [
              0.3333333333333333,
              "#9c179e"
             ],
             [
              0.4444444444444444,
              "#bd3786"
             ],
             [
              0.5555555555555556,
              "#d8576b"
             ],
             [
              0.6666666666666666,
              "#ed7953"
             ],
             [
              0.7777777777777778,
              "#fb9f3a"
             ],
             [
              0.8888888888888888,
              "#fdca26"
             ],
             [
              1,
              "#f0f921"
             ]
            ],
            "type": "histogram2dcontour"
           }
          ],
          "mesh3d": [
           {
            "colorbar": {
             "outlinewidth": 0,
             "ticks": ""
            },
            "type": "mesh3d"
           }
          ],
          "parcoords": [
           {
            "line": {
             "colorbar": {
              "outlinewidth": 0,
              "ticks": ""
             }
            },
            "type": "parcoords"
           }
          ],
          "scatter": [
           {
            "marker": {
             "colorbar": {
              "outlinewidth": 0,
              "ticks": ""
             }
            },
            "type": "scatter"
           }
          ],
          "scatter3d": [
           {
            "line": {
             "colorbar": {
              "outlinewidth": 0,
              "ticks": ""
             }
            },
            "marker": {
             "colorbar": {
              "outlinewidth": 0,
              "ticks": ""
             }
            },
            "type": "scatter3d"
           }
          ],
          "scattercarpet": [
           {
            "marker": {
             "colorbar": {
              "outlinewidth": 0,
              "ticks": ""
             }
            },
            "type": "scattercarpet"
           }
          ],
          "scattergeo": [
           {
            "marker": {
             "colorbar": {
              "outlinewidth": 0,
              "ticks": ""
             }
            },
            "type": "scattergeo"
           }
          ],
          "scattergl": [
           {
            "marker": {
             "colorbar": {
              "outlinewidth": 0,
              "ticks": ""
             }
            },
            "type": "scattergl"
           }
          ],
          "scattermapbox": [
           {
            "marker": {
             "colorbar": {
              "outlinewidth": 0,
              "ticks": ""
             }
            },
            "type": "scattermapbox"
           }
          ],
          "scatterpolar": [
           {
            "marker": {
             "colorbar": {
              "outlinewidth": 0,
              "ticks": ""
             }
            },
            "type": "scatterpolar"
           }
          ],
          "scatterpolargl": [
           {
            "marker": {
             "colorbar": {
              "outlinewidth": 0,
              "ticks": ""
             }
            },
            "type": "scatterpolargl"
           }
          ],
          "scatterternary": [
           {
            "marker": {
             "colorbar": {
              "outlinewidth": 0,
              "ticks": ""
             }
            },
            "type": "scatterternary"
           }
          ],
          "surface": [
           {
            "colorbar": {
             "outlinewidth": 0,
             "ticks": ""
            },
            "colorscale": [
             [
              0,
              "#0d0887"
             ],
             [
              0.1111111111111111,
              "#46039f"
             ],
             [
              0.2222222222222222,
              "#7201a8"
             ],
             [
              0.3333333333333333,
              "#9c179e"
             ],
             [
              0.4444444444444444,
              "#bd3786"
             ],
             [
              0.5555555555555556,
              "#d8576b"
             ],
             [
              0.6666666666666666,
              "#ed7953"
             ],
             [
              0.7777777777777778,
              "#fb9f3a"
             ],
             [
              0.8888888888888888,
              "#fdca26"
             ],
             [
              1,
              "#f0f921"
             ]
            ],
            "type": "surface"
           }
          ],
          "table": [
           {
            "cells": {
             "fill": {
              "color": "#EBF0F8"
             },
             "line": {
              "color": "white"
             }
            },
            "header": {
             "fill": {
              "color": "#C8D4E3"
             },
             "line": {
              "color": "white"
             }
            },
            "type": "table"
           }
          ]
         },
         "layout": {
          "annotationdefaults": {
           "arrowcolor": "#2a3f5f",
           "arrowhead": 0,
           "arrowwidth": 1
          },
          "colorscale": {
           "diverging": [
            [
             0,
             "#8e0152"
            ],
            [
             0.1,
             "#c51b7d"
            ],
            [
             0.2,
             "#de77ae"
            ],
            [
             0.3,
             "#f1b6da"
            ],
            [
             0.4,
             "#fde0ef"
            ],
            [
             0.5,
             "#f7f7f7"
            ],
            [
             0.6,
             "#e6f5d0"
            ],
            [
             0.7,
             "#b8e186"
            ],
            [
             0.8,
             "#7fbc41"
            ],
            [
             0.9,
             "#4d9221"
            ],
            [
             1,
             "#276419"
            ]
           ],
           "sequential": [
            [
             0,
             "#0d0887"
            ],
            [
             0.1111111111111111,
             "#46039f"
            ],
            [
             0.2222222222222222,
             "#7201a8"
            ],
            [
             0.3333333333333333,
             "#9c179e"
            ],
            [
             0.4444444444444444,
             "#bd3786"
            ],
            [
             0.5555555555555556,
             "#d8576b"
            ],
            [
             0.6666666666666666,
             "#ed7953"
            ],
            [
             0.7777777777777778,
             "#fb9f3a"
            ],
            [
             0.8888888888888888,
             "#fdca26"
            ],
            [
             1,
             "#f0f921"
            ]
           ],
           "sequentialminus": [
            [
             0,
             "#0d0887"
            ],
            [
             0.1111111111111111,
             "#46039f"
            ],
            [
             0.2222222222222222,
             "#7201a8"
            ],
            [
             0.3333333333333333,
             "#9c179e"
            ],
            [
             0.4444444444444444,
             "#bd3786"
            ],
            [
             0.5555555555555556,
             "#d8576b"
            ],
            [
             0.6666666666666666,
             "#ed7953"
            ],
            [
             0.7777777777777778,
             "#fb9f3a"
            ],
            [
             0.8888888888888888,
             "#fdca26"
            ],
            [
             1,
             "#f0f921"
            ]
           ]
          },
          "colorway": [
           "#636efa",
           "#EF553B",
           "#00cc96",
           "#ab63fa",
           "#FFA15A",
           "#19d3f3",
           "#FF6692",
           "#B6E880",
           "#FF97FF",
           "#FECB52"
          ],
          "font": {
           "color": "#2a3f5f"
          },
          "geo": {
           "bgcolor": "white",
           "lakecolor": "white",
           "landcolor": "#E5ECF6",
           "showlakes": true,
           "showland": true,
           "subunitcolor": "white"
          },
          "hoverlabel": {
           "align": "left"
          },
          "hovermode": "closest",
          "mapbox": {
           "style": "light"
          },
          "paper_bgcolor": "white",
          "plot_bgcolor": "#E5ECF6",
          "polar": {
           "angularaxis": {
            "gridcolor": "white",
            "linecolor": "white",
            "ticks": ""
           },
           "bgcolor": "#E5ECF6",
           "radialaxis": {
            "gridcolor": "white",
            "linecolor": "white",
            "ticks": ""
           }
          },
          "scene": {
           "xaxis": {
            "backgroundcolor": "#E5ECF6",
            "gridcolor": "white",
            "gridwidth": 2,
            "linecolor": "white",
            "showbackground": true,
            "ticks": "",
            "zerolinecolor": "white"
           },
           "yaxis": {
            "backgroundcolor": "#E5ECF6",
            "gridcolor": "white",
            "gridwidth": 2,
            "linecolor": "white",
            "showbackground": true,
            "ticks": "",
            "zerolinecolor": "white"
           },
           "zaxis": {
            "backgroundcolor": "#E5ECF6",
            "gridcolor": "white",
            "gridwidth": 2,
            "linecolor": "white",
            "showbackground": true,
            "ticks": "",
            "zerolinecolor": "white"
           }
          },
          "shapedefaults": {
           "line": {
            "color": "#2a3f5f"
           }
          },
          "ternary": {
           "aaxis": {
            "gridcolor": "white",
            "linecolor": "white",
            "ticks": ""
           },
           "baxis": {
            "gridcolor": "white",
            "linecolor": "white",
            "ticks": ""
           },
           "bgcolor": "#E5ECF6",
           "caxis": {
            "gridcolor": "white",
            "linecolor": "white",
            "ticks": ""
           }
          },
          "title": {
           "x": 0.05
          },
          "xaxis": {
           "automargin": true,
           "gridcolor": "white",
           "linecolor": "white",
           "ticks": "",
           "zerolinecolor": "white",
           "zerolinewidth": 2
          },
          "yaxis": {
           "automargin": true,
           "gridcolor": "white",
           "linecolor": "white",
           "ticks": "",
           "zerolinecolor": "white",
           "zerolinewidth": 2
          }
         }
        },
        "title": {
         "text": "Stacked Area Chart of Types of Games, Percentage, 1950 to 2018"
        },
        "yaxis": {
         "range": [
          1,
          100
         ],
         "ticksuffix": "%",
         "type": "linear"
        }
       }
      },
      "text/html": [
       "<div>\n",
       "        \n",
       "        \n",
       "            <div id=\"65345fa9-35df-4a75-bf5b-3f2cde625f2f\" class=\"plotly-graph-div\" style=\"height:525px; width:100%;\"></div>\n",
       "            <script type=\"text/javascript\">\n",
       "                require([\"plotly\"], function(Plotly) {\n",
       "                    window.PLOTLYENV=window.PLOTLYENV || {};\n",
       "                    \n",
       "                if (document.getElementById(\"65345fa9-35df-4a75-bf5b-3f2cde625f2f\")) {\n",
       "                    Plotly.newPlot(\n",
       "                        '65345fa9-35df-4a75-bf5b-3f2cde625f2f',\n",
       "                        [{\"groupnorm\": \"percent\", \"hoverinfo\": \"x+y\", \"line\": {\"color\": \"steelblue\", \"width\": 0.5}, \"mode\": \"lines\", \"name\": \"Both Unranked\", \"stackgroup\": \"one\", \"type\": \"scatter\", \"x\": [1950, 1951, 1952, 1953, 1954, 1955, 1956, 1957, 1958, 1959, 1960, 1961, 1962, 1963, 1964, 1965, 1966, 1967, 1968, 1969, 1970, 1971, 1972, 1973, 1974, 1975, 1976, 1977, 1978, 1979, 1980, 1981, 1982, 1983, 1984, 1985, 1986, 1987, 1988, 1989, 1990, 1991, 1992, 1993, 1994, 1995, 1996, 1997, 1998, 1999, 2000, 2001, 2002, 2003, 2004, 2005, 2006, 2007, 2008, 2009, 2010, 2011, 2012, 2013, 2014, 2015, 2016, 2017, 2018], \"y\": [474.0, 455.0, 429.0, 399.0, 416.0, 406.0, 417.0, 420.0, 419.0, 424.0, 434.0, 492.0, 535.0, 524.0, 538.0, 546.0, 542.0, 539.0, 465.0, 478.0, 510.0, 541.0, 547.0, 558.0, 558.0, 605.0, 607.0, 664.0, 614.0, 618.0, 616.0, 599.0, 486.0, 489.0, 468.0, 466.0, 430.0, 432.0, 428.0, 382.0, 390.0, 393.0, 387.0, 384.0, 384.0, 391.0, 403.0, 409.0, 417.0, 431.0, 447.0, 460.0, 492.0, 491.0, 460.0, 466.0, 508.0, 515.0, 534.0, 531.0, 537.0, 544.0, 556.0, 564.0, 594.0, 590.0, 596.0, 600.0, 603.0]}, {\"groupnorm\": \"percent\", \"hoverinfo\": \"x+y\", \"line\": {\"color\": \"darkgreen\", \"width\": 0.5}, \"mode\": \"lines\", \"name\": \"Ranked Beats Unranked\", \"stackgroup\": \"one\", \"type\": \"scatter\", \"x\": [1950, 1951, 1952, 1953, 1954, 1955, 1956, 1957, 1958, 1959, 1960, 1961, 1962, 1963, 1964, 1965, 1966, 1967, 1968, 1969, 1970, 1971, 1972, 1973, 1974, 1975, 1976, 1977, 1978, 1979, 1980, 1981, 1982, 1983, 1984, 1985, 1986, 1987, 1988, 1989, 1990, 1991, 1992, 1993, 1994, 1995, 1996, 1997, 1998, 1999, 2000, 2001, 2002, 2003, 2004, 2005, 2006, 2007, 2008, 2009, 2010, 2011, 2012, 2013, 2014, 2015, 2016, 2017, 2018], \"y\": [118.0, 115.0, 112.0, 119.0, 105.0, 105.0, 113.0, 104.0, 103.0, 110.0, 106.0, 64.0, 69.0, 71.0, 62.0, 67.0, 73.0, 67.0, 113.0, 134.0, 134.0, 156.0, 134.0, 152.0, 134.0, 137.0, 126.0, 141.0, 139.0, 142.0, 140.0, 135.0, 138.0, 146.0, 131.0, 144.0, 132.0, 138.0, 149.0, 166.0, 170.0, 166.0, 160.0, 163.0, 160.0, 160.0, 182.0, 168.0, 171.0, 157.0, 166.0, 151.0, 179.0, 180.0, 190.0, 156.0, 206.0, 173.0, 175.0, 203.0, 191.0, 194.0, 194.0, 196.0, 180.0, 184.0, 170.0, 187.0, 174.0]}, {\"hoverinfo\": \"x+y\", \"line\": {\"color\": \"forestgreen\", \"width\": 0.5}, \"mode\": \"lines\", \"name\": \"Higher Beats Lower Ranked\", \"stackgroup\": \"one\", \"type\": \"scatter\", \"x\": [1950, 1951, 1952, 1953, 1954, 1955, 1956, 1957, 1958, 1959, 1960, 1961, 1962, 1963, 1964, 1965, 1966, 1967, 1968, 1969, 1970, 1971, 1972, 1973, 1974, 1975, 1976, 1977, 1978, 1979, 1980, 1981, 1982, 1983, 1984, 1985, 1986, 1987, 1988, 1989, 1990, 1991, 1992, 1993, 1994, 1995, 1996, 1997, 1998, 1999, 2000, 2001, 2002, 2003, 2004, 2005, 2006, 2007, 2008, 2009, 2010, 2011, 2012, 2013, 2014, 2015, 2016, 2017, 2018], \"y\": [18.0, 17.0, 21.0, 20.0, 20.0, 16.0, 17.0, 23.0, 24.0, 19.0, 15.0, 10.0, 7.0, 1.0, 7.0, 3.0, 6.0, 3.0, 20.0, 22.0, 18.0, 18.0, 25.0, 24.0, 17.0, 25.0, 22.0, 20.0, 22.0, 16.0, 22.0, 19.0, 24.0, 19.0, 19.0, 16.0, 18.0, 29.0, 24.0, 31.0, 23.0, 39.0, 36.0, 33.0, 29.0, 32.0, 28.0, 37.0, 39.0, 35.0, 33.0, 38.0, 37.0, 32.0, 25.0, 32.0, 31.0, 37.0, 39.0, 31.0, 44.0, 40.0, 38.0, 32.0, 39.0, 34.0, 34.0, 37.0, 37.0]}, {\"groupnorm\": \"percent\", \"hoverinfo\": \"x+y\", \"line\": {\"color\": \"salmon\", \"width\": 0.5}, \"mode\": \"lines\", \"name\": \"Lower Beats Higher Ranked\", \"stackgroup\": \"one\", \"type\": \"scatter\", \"x\": [1950, 1951, 1952, 1953, 1954, 1955, 1956, 1957, 1958, 1959, 1960, 1961, 1962, 1963, 1964, 1965, 1966, 1967, 1968, 1969, 1970, 1971, 1972, 1973, 1974, 1975, 1976, 1977, 1978, 1979, 1980, 1981, 1982, 1983, 1984, 1985, 1986, 1987, 1988, 1989, 1990, 1991, 1992, 1993, 1994, 1995, 1996, 1997, 1998, 1999, 2000, 2001, 2002, 2003, 2004, 2005, 2006, 2007, 2008, 2009, 2010, 2011, 2012, 2013, 2014, 2015, 2016, 2017, 2018], \"y\": [7.0, 11.0, 14.0, 7.0, 15.0, 13.0, 13.0, 11.0, 8.0, 16.0, 16.0, 2.0, 4.0, 8.0, 4.0, 8.0, 4.0, 4.0, 14.0, 11.0, 11.0, 9.0, 11.0, 8.0, 11.0, 12.0, 19.0, 13.0, 14.0, 18.0, 14.0, 13.0, 12.0, 13.0, 19.0, 22.0, 21.0, 12.0, 15.0, 20.0, 24.0, 18.0, 20.0, 27.0, 24.0, 25.0, 19.0, 15.0, 17.0, 23.0, 19.0, 19.0, 18.0, 23.0, 15.0, 20.0, 17.0, 16.0, 22.0, 19.0, 19.0, 21.0, 16.0, 23.0, 26.0, 24.0, 22.0, 21.0, 21.0]}, {\"groupnorm\": \"percent\", \"hoverinfo\": \"x+y\", \"line\": {\"color\": \"firebrick\", \"width\": 0.5}, \"mode\": \"lines\", \"name\": \"Unranked Beats Ranked\", \"stackgroup\": \"one\", \"type\": \"scatter\", \"x\": [1950, 1951, 1952, 1953, 1954, 1955, 1956, 1957, 1958, 1959, 1960, 1961, 1962, 1963, 1964, 1965, 1966, 1967, 1968, 1969, 1970, 1971, 1972, 1973, 1974, 1975, 1976, 1977, 1978, 1979, 1980, 1981, 1982, 1983, 1984, 1985, 1986, 1987, 1988, 1989, 1990, 1991, 1992, 1993, 1994, 1995, 1996, 1997, 1998, 1999, 2000, 2001, 2002, 2003, 2004, 2005, 2006, 2007, 2008, 2009, 2010, 2011, 2012, 2013, 2014, 2015, 2016, 2017, 2018], \"y\": [34.0, 27.0, 24.0, 30.0, 30.0, 35.0, 27.0, 32.0, 36.0, 28.0, 32.0, 23.0, 16.0, 17.0, 23.0, 20.0, 13.0, 23.0, 32.0, 16.0, 32.0, 24.0, 27.0, 20.0, 45.0, 27.0, 30.0, 29.0, 27.0, 31.0, 24.0, 38.0, 27.0, 29.0, 39.0, 25.0, 36.0, 22.0, 20.0, 33.0, 39.0, 23.0, 33.0, 25.0, 39.0, 31.0, 30.0, 37.0, 30.0, 40.0, 37.0, 41.0, 46.0, 45.0, 34.0, 44.0, 30.0, 57.0, 54.0, 51.0, 35.0, 35.0, 36.0, 34.0, 31.0, 39.0, 51.0, 33.0, 49.0]}],\n",
       "                        {\"showlegend\": true, \"template\": {\"data\": {\"bar\": [{\"error_x\": {\"color\": \"#2a3f5f\"}, \"error_y\": {\"color\": \"#2a3f5f\"}, \"marker\": {\"line\": {\"color\": \"#E5ECF6\", \"width\": 0.5}}, \"type\": \"bar\"}], \"barpolar\": [{\"marker\": {\"line\": {\"color\": \"#E5ECF6\", \"width\": 0.5}}, \"type\": \"barpolar\"}], \"carpet\": [{\"aaxis\": {\"endlinecolor\": \"#2a3f5f\", \"gridcolor\": \"white\", \"linecolor\": \"white\", \"minorgridcolor\": \"white\", \"startlinecolor\": \"#2a3f5f\"}, \"baxis\": {\"endlinecolor\": \"#2a3f5f\", \"gridcolor\": \"white\", \"linecolor\": \"white\", \"minorgridcolor\": \"white\", \"startlinecolor\": \"#2a3f5f\"}, \"type\": \"carpet\"}], \"choropleth\": [{\"colorbar\": {\"outlinewidth\": 0, \"ticks\": \"\"}, \"type\": \"choropleth\"}], \"contour\": [{\"colorbar\": {\"outlinewidth\": 0, \"ticks\": \"\"}, \"colorscale\": [[0.0, \"#0d0887\"], [0.1111111111111111, \"#46039f\"], [0.2222222222222222, \"#7201a8\"], [0.3333333333333333, \"#9c179e\"], [0.4444444444444444, \"#bd3786\"], [0.5555555555555556, \"#d8576b\"], [0.6666666666666666, \"#ed7953\"], [0.7777777777777778, \"#fb9f3a\"], [0.8888888888888888, \"#fdca26\"], [1.0, \"#f0f921\"]], \"type\": \"contour\"}], \"contourcarpet\": [{\"colorbar\": {\"outlinewidth\": 0, \"ticks\": \"\"}, \"type\": \"contourcarpet\"}], \"heatmap\": [{\"colorbar\": {\"outlinewidth\": 0, \"ticks\": \"\"}, \"colorscale\": [[0.0, \"#0d0887\"], [0.1111111111111111, \"#46039f\"], [0.2222222222222222, \"#7201a8\"], [0.3333333333333333, \"#9c179e\"], [0.4444444444444444, \"#bd3786\"], [0.5555555555555556, \"#d8576b\"], [0.6666666666666666, \"#ed7953\"], [0.7777777777777778, \"#fb9f3a\"], [0.8888888888888888, \"#fdca26\"], [1.0, \"#f0f921\"]], \"type\": \"heatmap\"}], \"heatmapgl\": [{\"colorbar\": {\"outlinewidth\": 0, \"ticks\": \"\"}, \"colorscale\": [[0.0, \"#0d0887\"], [0.1111111111111111, \"#46039f\"], [0.2222222222222222, \"#7201a8\"], [0.3333333333333333, \"#9c179e\"], [0.4444444444444444, \"#bd3786\"], [0.5555555555555556, \"#d8576b\"], [0.6666666666666666, \"#ed7953\"], [0.7777777777777778, \"#fb9f3a\"], [0.8888888888888888, \"#fdca26\"], [1.0, \"#f0f921\"]], \"type\": \"heatmapgl\"}], \"histogram\": [{\"marker\": {\"colorbar\": {\"outlinewidth\": 0, \"ticks\": \"\"}}, \"type\": \"histogram\"}], \"histogram2d\": [{\"colorbar\": {\"outlinewidth\": 0, \"ticks\": \"\"}, \"colorscale\": [[0.0, \"#0d0887\"], [0.1111111111111111, \"#46039f\"], [0.2222222222222222, \"#7201a8\"], [0.3333333333333333, \"#9c179e\"], [0.4444444444444444, \"#bd3786\"], [0.5555555555555556, \"#d8576b\"], [0.6666666666666666, \"#ed7953\"], [0.7777777777777778, \"#fb9f3a\"], [0.8888888888888888, \"#fdca26\"], [1.0, \"#f0f921\"]], \"type\": \"histogram2d\"}], \"histogram2dcontour\": [{\"colorbar\": {\"outlinewidth\": 0, \"ticks\": \"\"}, \"colorscale\": [[0.0, \"#0d0887\"], [0.1111111111111111, \"#46039f\"], [0.2222222222222222, \"#7201a8\"], [0.3333333333333333, \"#9c179e\"], [0.4444444444444444, \"#bd3786\"], [0.5555555555555556, \"#d8576b\"], [0.6666666666666666, \"#ed7953\"], [0.7777777777777778, \"#fb9f3a\"], [0.8888888888888888, \"#fdca26\"], [1.0, \"#f0f921\"]], \"type\": \"histogram2dcontour\"}], \"mesh3d\": [{\"colorbar\": {\"outlinewidth\": 0, \"ticks\": \"\"}, \"type\": \"mesh3d\"}], \"parcoords\": [{\"line\": {\"colorbar\": {\"outlinewidth\": 0, \"ticks\": \"\"}}, \"type\": \"parcoords\"}], \"scatter\": [{\"marker\": {\"colorbar\": {\"outlinewidth\": 0, \"ticks\": \"\"}}, \"type\": \"scatter\"}], \"scatter3d\": [{\"line\": {\"colorbar\": {\"outlinewidth\": 0, \"ticks\": \"\"}}, \"marker\": {\"colorbar\": {\"outlinewidth\": 0, \"ticks\": \"\"}}, \"type\": \"scatter3d\"}], \"scattercarpet\": [{\"marker\": {\"colorbar\": {\"outlinewidth\": 0, \"ticks\": \"\"}}, \"type\": \"scattercarpet\"}], \"scattergeo\": [{\"marker\": {\"colorbar\": {\"outlinewidth\": 0, \"ticks\": \"\"}}, \"type\": \"scattergeo\"}], \"scattergl\": [{\"marker\": {\"colorbar\": {\"outlinewidth\": 0, \"ticks\": \"\"}}, \"type\": \"scattergl\"}], \"scattermapbox\": [{\"marker\": {\"colorbar\": {\"outlinewidth\": 0, \"ticks\": \"\"}}, \"type\": \"scattermapbox\"}], \"scatterpolar\": [{\"marker\": {\"colorbar\": {\"outlinewidth\": 0, \"ticks\": \"\"}}, \"type\": \"scatterpolar\"}], \"scatterpolargl\": [{\"marker\": {\"colorbar\": {\"outlinewidth\": 0, \"ticks\": \"\"}}, \"type\": \"scatterpolargl\"}], \"scatterternary\": [{\"marker\": {\"colorbar\": {\"outlinewidth\": 0, \"ticks\": \"\"}}, \"type\": \"scatterternary\"}], \"surface\": [{\"colorbar\": {\"outlinewidth\": 0, \"ticks\": \"\"}, \"colorscale\": [[0.0, \"#0d0887\"], [0.1111111111111111, \"#46039f\"], [0.2222222222222222, \"#7201a8\"], [0.3333333333333333, \"#9c179e\"], [0.4444444444444444, \"#bd3786\"], [0.5555555555555556, \"#d8576b\"], [0.6666666666666666, \"#ed7953\"], [0.7777777777777778, \"#fb9f3a\"], [0.8888888888888888, \"#fdca26\"], [1.0, \"#f0f921\"]], \"type\": \"surface\"}], \"table\": [{\"cells\": {\"fill\": {\"color\": \"#EBF0F8\"}, \"line\": {\"color\": \"white\"}}, \"header\": {\"fill\": {\"color\": \"#C8D4E3\"}, \"line\": {\"color\": \"white\"}}, \"type\": \"table\"}]}, \"layout\": {\"annotationdefaults\": {\"arrowcolor\": \"#2a3f5f\", \"arrowhead\": 0, \"arrowwidth\": 1}, \"colorscale\": {\"diverging\": [[0, \"#8e0152\"], [0.1, \"#c51b7d\"], [0.2, \"#de77ae\"], [0.3, \"#f1b6da\"], [0.4, \"#fde0ef\"], [0.5, \"#f7f7f7\"], [0.6, \"#e6f5d0\"], [0.7, \"#b8e186\"], [0.8, \"#7fbc41\"], [0.9, \"#4d9221\"], [1, \"#276419\"]], \"sequential\": [[0.0, \"#0d0887\"], [0.1111111111111111, \"#46039f\"], [0.2222222222222222, \"#7201a8\"], [0.3333333333333333, \"#9c179e\"], [0.4444444444444444, \"#bd3786\"], [0.5555555555555556, \"#d8576b\"], [0.6666666666666666, \"#ed7953\"], [0.7777777777777778, \"#fb9f3a\"], [0.8888888888888888, \"#fdca26\"], [1.0, \"#f0f921\"]], \"sequentialminus\": [[0.0, \"#0d0887\"], [0.1111111111111111, \"#46039f\"], [0.2222222222222222, \"#7201a8\"], [0.3333333333333333, \"#9c179e\"], [0.4444444444444444, \"#bd3786\"], [0.5555555555555556, \"#d8576b\"], [0.6666666666666666, \"#ed7953\"], [0.7777777777777778, \"#fb9f3a\"], [0.8888888888888888, \"#fdca26\"], [1.0, \"#f0f921\"]]}, \"colorway\": [\"#636efa\", \"#EF553B\", \"#00cc96\", \"#ab63fa\", \"#FFA15A\", \"#19d3f3\", \"#FF6692\", \"#B6E880\", \"#FF97FF\", \"#FECB52\"], \"font\": {\"color\": \"#2a3f5f\"}, \"geo\": {\"bgcolor\": \"white\", \"lakecolor\": \"white\", \"landcolor\": \"#E5ECF6\", \"showlakes\": true, \"showland\": true, \"subunitcolor\": \"white\"}, \"hoverlabel\": {\"align\": \"left\"}, \"hovermode\": \"closest\", \"mapbox\": {\"style\": \"light\"}, \"paper_bgcolor\": \"white\", \"plot_bgcolor\": \"#E5ECF6\", \"polar\": {\"angularaxis\": {\"gridcolor\": \"white\", \"linecolor\": \"white\", \"ticks\": \"\"}, \"bgcolor\": \"#E5ECF6\", \"radialaxis\": {\"gridcolor\": \"white\", \"linecolor\": \"white\", \"ticks\": \"\"}}, \"scene\": {\"xaxis\": {\"backgroundcolor\": \"#E5ECF6\", \"gridcolor\": \"white\", \"gridwidth\": 2, \"linecolor\": \"white\", \"showbackground\": true, \"ticks\": \"\", \"zerolinecolor\": \"white\"}, \"yaxis\": {\"backgroundcolor\": \"#E5ECF6\", \"gridcolor\": \"white\", \"gridwidth\": 2, \"linecolor\": \"white\", \"showbackground\": true, \"ticks\": \"\", \"zerolinecolor\": \"white\"}, \"zaxis\": {\"backgroundcolor\": \"#E5ECF6\", \"gridcolor\": \"white\", \"gridwidth\": 2, \"linecolor\": \"white\", \"showbackground\": true, \"ticks\": \"\", \"zerolinecolor\": \"white\"}}, \"shapedefaults\": {\"line\": {\"color\": \"#2a3f5f\"}}, \"ternary\": {\"aaxis\": {\"gridcolor\": \"white\", \"linecolor\": \"white\", \"ticks\": \"\"}, \"baxis\": {\"gridcolor\": \"white\", \"linecolor\": \"white\", \"ticks\": \"\"}, \"bgcolor\": \"#E5ECF6\", \"caxis\": {\"gridcolor\": \"white\", \"linecolor\": \"white\", \"ticks\": \"\"}}, \"title\": {\"x\": 0.05}, \"xaxis\": {\"automargin\": true, \"gridcolor\": \"white\", \"linecolor\": \"white\", \"ticks\": \"\", \"zerolinecolor\": \"white\", \"zerolinewidth\": 2}, \"yaxis\": {\"automargin\": true, \"gridcolor\": \"white\", \"linecolor\": \"white\", \"ticks\": \"\", \"zerolinecolor\": \"white\", \"zerolinewidth\": 2}}}, \"title\": {\"text\": \"Stacked Area Chart of Types of Games, Percentage, 1950 to 2018\"}, \"yaxis\": {\"range\": [1, 100], \"ticksuffix\": \"%\", \"type\": \"linear\"}},\n",
       "                        {\"responsive\": true}\n",
       "                    ).then(function(){\n",
       "                            \n",
       "var gd = document.getElementById('65345fa9-35df-4a75-bf5b-3f2cde625f2f');\n",
       "var x = new MutationObserver(function (mutations, observer) {{\n",
       "        var display = window.getComputedStyle(gd).display;\n",
       "        if (!display || display === 'none') {{\n",
       "            console.log([gd, 'removed!']);\n",
       "            Plotly.purge(gd);\n",
       "            observer.disconnect();\n",
       "        }}\n",
       "}});\n",
       "\n",
       "// Listen for the removal of the full notebook cells\n",
       "var notebookContainer = gd.closest('#notebook-container');\n",
       "if (notebookContainer) {{\n",
       "    x.observe(notebookContainer, {childList: true});\n",
       "}}\n",
       "\n",
       "// Listen for the clearing of the current output cell\n",
       "var outputEl = gd.closest('.output');\n",
       "if (outputEl) {{\n",
       "    x.observe(outputEl, {childList: true});\n",
       "}}\n",
       "\n",
       "                        })\n",
       "                };\n",
       "                });\n",
       "            </script>\n",
       "        </div>"
      ]
     },
     "metadata": {},
     "output_type": "display_data"
    }
   ],
   "source": [
    "fig = go.Figure()\n",
    "fig.add_trace(go.Scatter(\n",
    "    x=x, y=ratios_sum['both_unranked'],\n",
    "    name='Both Unranked',\n",
    "    hoverinfo='x+y',\n",
    "    mode='lines',\n",
    "    line=dict(width=0.5, color=colors[0]),\n",
    "    stackgroup='one', # define stack group\n",
    "    groupnorm='percent'\n",
    "))\n",
    "fig.add_trace(go.Scatter(\n",
    "    x=x, y=ratios_sum['ranked_beats_unranked'],\n",
    "    name='Ranked Beats Unranked',\n",
    "    hoverinfo='x+y',\n",
    "    mode='lines',\n",
    "    line=dict(width=0.5, color=colors[1]),\n",
    "    stackgroup='one', # define stack group\n",
    "    groupnorm='percent'\n",
    "))\n",
    "fig.add_trace(go.Scatter(\n",
    "    x=x, y=ratios_sum['higher_beats_lower'],\n",
    "    name='Higher Beats Lower Ranked',\n",
    "    hoverinfo='x+y',\n",
    "    mode='lines',\n",
    "    line=dict(width=0.5, color=colors[2]),\n",
    "    stackgroup='one', # define stack group\n",
    "))\n",
    "fig.add_trace(go.Scatter(\n",
    "    x=x, y=ratios_sum['lower_beats_higher'],\n",
    "    name='Lower Beats Higher Ranked',\n",
    "    hoverinfo='x+y',\n",
    "    mode='lines',\n",
    "    line=dict(width=0.5, color=colors[3]),\n",
    "    stackgroup='one', # define stack group\n",
    "    groupnorm='percent'\n",
    "))\n",
    "fig.add_trace(go.Scatter(\n",
    "    x=x, y=ratios_sum['unranked_beats_ranked'],\n",
    "    name='Unranked Beats Ranked',\n",
    "    hoverinfo='x+y',\n",
    "    mode='lines',\n",
    "    line=dict(width=0.5, color=colors[4]),\n",
    "    stackgroup='one', # define stack group\n",
    "    groupnorm='percent'\n",
    "))\n",
    "fig.update_layout(\n",
    "    showlegend=True,\n",
    "    yaxis=dict(\n",
    "        type='linear',\n",
    "        range=[1, 100],\n",
    "        ticksuffix='%'))\n",
    "fig.update_layout(title=\"Stacked Area Chart of Types of Games, Percentage, 1950 to 2018\")\n",
    "fig.show()"
   ]
  },
  {
   "cell_type": "markdown",
   "metadata": {},
   "source": [
    "We can look for the most 'accurate' years by computing the correct answers (ranked beats unranked and higher beats lower divided by all games with ranked teams) and the incorrect answers (unranked beats ranked and lower beats higher divided by all games with ranked teams).  Then we can find the difference between the correct answers and incorrect answers to get a rough metric for accuracy."
   ]
  },
  {
   "cell_type": "code",
   "execution_count": 143,
   "metadata": {},
   "outputs": [
    {
     "data": {
      "text/html": [
       "<div>\n",
       "<style scoped>\n",
       "    .dataframe tbody tr th:only-of-type {\n",
       "        vertical-align: middle;\n",
       "    }\n",
       "\n",
       "    .dataframe tbody tr th {\n",
       "        vertical-align: top;\n",
       "    }\n",
       "\n",
       "    .dataframe thead th {\n",
       "        text-align: right;\n",
       "    }\n",
       "</style>\n",
       "<table border=\"1\" class=\"dataframe\">\n",
       "  <thead>\n",
       "    <tr style=\"text-align: right;\">\n",
       "      <th></th>\n",
       "      <th>both_unranked</th>\n",
       "      <th>ranked_beats_unranked</th>\n",
       "      <th>higher_beats_lower</th>\n",
       "      <th>lower_beats_higher</th>\n",
       "      <th>unranked_beats_ranked</th>\n",
       "    </tr>\n",
       "    <tr>\n",
       "      <th>year</th>\n",
       "      <th></th>\n",
       "      <th></th>\n",
       "      <th></th>\n",
       "      <th></th>\n",
       "      <th></th>\n",
       "    </tr>\n",
       "  </thead>\n",
       "  <tbody>\n",
       "    <tr>\n",
       "      <td>1950</td>\n",
       "      <td>0.728111</td>\n",
       "      <td>0.181260</td>\n",
       "      <td>0.027650</td>\n",
       "      <td>0.010753</td>\n",
       "      <td>0.052227</td>\n",
       "    </tr>\n",
       "    <tr>\n",
       "      <td>1951</td>\n",
       "      <td>0.728000</td>\n",
       "      <td>0.184000</td>\n",
       "      <td>0.027200</td>\n",
       "      <td>0.017600</td>\n",
       "      <td>0.043200</td>\n",
       "    </tr>\n",
       "    <tr>\n",
       "      <td>1952</td>\n",
       "      <td>0.715000</td>\n",
       "      <td>0.186667</td>\n",
       "      <td>0.035000</td>\n",
       "      <td>0.023333</td>\n",
       "      <td>0.040000</td>\n",
       "    </tr>\n",
       "    <tr>\n",
       "      <td>1953</td>\n",
       "      <td>0.693913</td>\n",
       "      <td>0.206957</td>\n",
       "      <td>0.034783</td>\n",
       "      <td>0.012174</td>\n",
       "      <td>0.052174</td>\n",
       "    </tr>\n",
       "    <tr>\n",
       "      <td>1954</td>\n",
       "      <td>0.709898</td>\n",
       "      <td>0.179181</td>\n",
       "      <td>0.034130</td>\n",
       "      <td>0.025597</td>\n",
       "      <td>0.051195</td>\n",
       "    </tr>\n",
       "    <tr>\n",
       "      <td>...</td>\n",
       "      <td>...</td>\n",
       "      <td>...</td>\n",
       "      <td>...</td>\n",
       "      <td>...</td>\n",
       "      <td>...</td>\n",
       "    </tr>\n",
       "    <tr>\n",
       "      <td>2014</td>\n",
       "      <td>0.682759</td>\n",
       "      <td>0.206897</td>\n",
       "      <td>0.044828</td>\n",
       "      <td>0.029885</td>\n",
       "      <td>0.035632</td>\n",
       "    </tr>\n",
       "    <tr>\n",
       "      <td>2015</td>\n",
       "      <td>0.677382</td>\n",
       "      <td>0.211251</td>\n",
       "      <td>0.039036</td>\n",
       "      <td>0.027555</td>\n",
       "      <td>0.044776</td>\n",
       "    </tr>\n",
       "    <tr>\n",
       "      <td>2016</td>\n",
       "      <td>0.682703</td>\n",
       "      <td>0.194731</td>\n",
       "      <td>0.038946</td>\n",
       "      <td>0.025200</td>\n",
       "      <td>0.058419</td>\n",
       "    </tr>\n",
       "    <tr>\n",
       "      <td>2017</td>\n",
       "      <td>0.683371</td>\n",
       "      <td>0.212984</td>\n",
       "      <td>0.042141</td>\n",
       "      <td>0.023918</td>\n",
       "      <td>0.037585</td>\n",
       "    </tr>\n",
       "    <tr>\n",
       "      <td>2018</td>\n",
       "      <td>0.682127</td>\n",
       "      <td>0.196833</td>\n",
       "      <td>0.041855</td>\n",
       "      <td>0.023756</td>\n",
       "      <td>0.055430</td>\n",
       "    </tr>\n",
       "  </tbody>\n",
       "</table>\n",
       "<p>69 rows × 5 columns</p>\n",
       "</div>"
      ],
      "text/plain": [
       "      both_unranked  ranked_beats_unranked  higher_beats_lower  \\\n",
       "year                                                             \n",
       "1950       0.728111               0.181260            0.027650   \n",
       "1951       0.728000               0.184000            0.027200   \n",
       "1952       0.715000               0.186667            0.035000   \n",
       "1953       0.693913               0.206957            0.034783   \n",
       "1954       0.709898               0.179181            0.034130   \n",
       "...             ...                    ...                 ...   \n",
       "2014       0.682759               0.206897            0.044828   \n",
       "2015       0.677382               0.211251            0.039036   \n",
       "2016       0.682703               0.194731            0.038946   \n",
       "2017       0.683371               0.212984            0.042141   \n",
       "2018       0.682127               0.196833            0.041855   \n",
       "\n",
       "      lower_beats_higher  unranked_beats_ranked  \n",
       "year                                             \n",
       "1950            0.010753               0.052227  \n",
       "1951            0.017600               0.043200  \n",
       "1952            0.023333               0.040000  \n",
       "1953            0.012174               0.052174  \n",
       "1954            0.025597               0.051195  \n",
       "...                  ...                    ...  \n",
       "2014            0.029885               0.035632  \n",
       "2015            0.027555               0.044776  \n",
       "2016            0.025200               0.058419  \n",
       "2017            0.023918               0.037585  \n",
       "2018            0.023756               0.055430  \n",
       "\n",
       "[69 rows x 5 columns]"
      ]
     },
     "execution_count": 143,
     "metadata": {},
     "output_type": "execute_result"
    }
   ],
   "source": [
    "ratios_years = ratios.groupby('year').mean()\n",
    "ratios_years"
   ]
  },
  {
   "cell_type": "code",
   "execution_count": 144,
   "metadata": {},
   "outputs": [],
   "source": [
    "total = ratios_years['ranked_beats_unranked'] + ratios_years['higher_beats_lower'] + ratios_years['lower_beats_higher'] + ratios_years['unranked_beats_ranked']"
   ]
  },
  {
   "cell_type": "code",
   "execution_count": 145,
   "metadata": {},
   "outputs": [],
   "source": [
    "ratios_years['correct'] = (ratios_years['ranked_beats_unranked'] + ratios_years['higher_beats_lower'])/total\n",
    "ratios_years['incorrect'] = (ratios_years['lower_beats_higher'] + ratios_years['unranked_beats_ranked'])/total\n",
    "ratios_years['accuracy'] = ratios_years['correct'] - ratios_years['incorrect']"
   ]
  },
  {
   "cell_type": "code",
   "execution_count": 146,
   "metadata": {},
   "outputs": [
    {
     "data": {
      "text/plain": [
       "<matplotlib.axes._subplots.AxesSubplot at 0x135c8a810>"
      ]
     },
     "execution_count": 146,
     "metadata": {},
     "output_type": "execute_result"
    },
    {
     "data": {
      "image/png": "[encoded data removed]",
      "text/plain": [
       "<Figure size 864x432 with 1 Axes>"
      ]
     },
     "metadata": {},
     "output_type": "display_data"
    }
   ],
   "source": [
    "acc_df = ratios_years[['correct','incorrect','accuracy']]\n",
    "\n",
    "acc_df.plot(figsize=(12,6), color=('g','r','black'), style=['--','--','-'], linewidth=3, \n",
    "            title=\"Correct, Incorrect, and Overall Accuracy of AP Poll in Games between Ranked Teams, 1950 to 2018\")"
   ]
  },
  {
   "cell_type": "code",
   "execution_count": 147,
   "metadata": {},
   "outputs": [
    {
     "data": {
      "text/html": [
       "<div>\n",
       "<style scoped>\n",
       "    .dataframe tbody tr th:only-of-type {\n",
       "        vertical-align: middle;\n",
       "    }\n",
       "\n",
       "    .dataframe tbody tr th {\n",
       "        vertical-align: top;\n",
       "    }\n",
       "\n",
       "    .dataframe thead th {\n",
       "        text-align: right;\n",
       "    }\n",
       "</style>\n",
       "<table border=\"1\" class=\"dataframe\">\n",
       "  <thead>\n",
       "    <tr style=\"text-align: right;\">\n",
       "      <th></th>\n",
       "      <th>correct</th>\n",
       "      <th>incorrect</th>\n",
       "      <th>accuracy</th>\n",
       "    </tr>\n",
       "    <tr>\n",
       "      <th>year</th>\n",
       "      <th></th>\n",
       "      <th></th>\n",
       "      <th></th>\n",
       "    </tr>\n",
       "  </thead>\n",
       "  <tbody>\n",
       "    <tr>\n",
       "      <td>1965</td>\n",
       "      <td>0.714286</td>\n",
       "      <td>0.285714</td>\n",
       "      <td>0.428571</td>\n",
       "    </tr>\n",
       "    <tr>\n",
       "      <td>1960</td>\n",
       "      <td>0.715976</td>\n",
       "      <td>0.284024</td>\n",
       "      <td>0.431953</td>\n",
       "    </tr>\n",
       "    <tr>\n",
       "      <td>1955</td>\n",
       "      <td>0.715976</td>\n",
       "      <td>0.284024</td>\n",
       "      <td>0.431953</td>\n",
       "    </tr>\n",
       "    <tr>\n",
       "      <td>1964</td>\n",
       "      <td>0.718750</td>\n",
       "      <td>0.281250</td>\n",
       "      <td>0.437500</td>\n",
       "    </tr>\n",
       "    <tr>\n",
       "      <td>1984</td>\n",
       "      <td>0.721154</td>\n",
       "      <td>0.278846</td>\n",
       "      <td>0.442308</td>\n",
       "    </tr>\n",
       "    <tr>\n",
       "      <td>...</td>\n",
       "      <td>...</td>\n",
       "      <td>...</td>\n",
       "      <td>...</td>\n",
       "    </tr>\n",
       "    <tr>\n",
       "      <td>1991</td>\n",
       "      <td>0.833333</td>\n",
       "      <td>0.166667</td>\n",
       "      <td>0.666667</td>\n",
       "    </tr>\n",
       "    <tr>\n",
       "      <td>2006</td>\n",
       "      <td>0.834507</td>\n",
       "      <td>0.165493</td>\n",
       "      <td>0.669014</td>\n",
       "    </tr>\n",
       "    <tr>\n",
       "      <td>1971</td>\n",
       "      <td>0.840580</td>\n",
       "      <td>0.159420</td>\n",
       "      <td>0.681159</td>\n",
       "    </tr>\n",
       "    <tr>\n",
       "      <td>1969</td>\n",
       "      <td>0.852459</td>\n",
       "      <td>0.147541</td>\n",
       "      <td>0.704918</td>\n",
       "    </tr>\n",
       "    <tr>\n",
       "      <td>1973</td>\n",
       "      <td>0.862745</td>\n",
       "      <td>0.137255</td>\n",
       "      <td>0.725490</td>\n",
       "    </tr>\n",
       "  </tbody>\n",
       "</table>\n",
       "<p>69 rows × 3 columns</p>\n",
       "</div>"
      ],
      "text/plain": [
       "       correct  incorrect  accuracy\n",
       "year                               \n",
       "1965  0.714286   0.285714  0.428571\n",
       "1960  0.715976   0.284024  0.431953\n",
       "1955  0.715976   0.284024  0.431953\n",
       "1964  0.718750   0.281250  0.437500\n",
       "1984  0.721154   0.278846  0.442308\n",
       "...        ...        ...       ...\n",
       "1991  0.833333   0.166667  0.666667\n",
       "2006  0.834507   0.165493  0.669014\n",
       "1971  0.840580   0.159420  0.681159\n",
       "1969  0.852459   0.147541  0.704918\n",
       "1973  0.862745   0.137255  0.725490\n",
       "\n",
       "[69 rows x 3 columns]"
      ]
     },
     "execution_count": 147,
     "metadata": {},
     "output_type": "execute_result"
    }
   ],
   "source": [
    "acc_df.sort_values('accuracy')"
   ]
  },
  {
   "cell_type": "markdown",
   "metadata": {},
   "source": [
    "Looks like the worst years for accuracy were in the 60s.  College football at the time was still dealing with intense issues of segregation with many teams in the south still not allowing African-Americans to play.  Additionally, some of these teams did not want to play racially integrated teams.  This could be a reason for the inaccuracies of the polls.  "
   ]
  },
  {
   "cell_type": "code",
   "execution_count": 148,
   "metadata": {},
   "outputs": [
    {
     "data": {
      "application/vnd.plotly.v1+json": {
       "config": {
        "plotlyServerURL": "https://plot.ly"
       },
       "data": [
        {
         "direction": "clockwise",
         "hole": 0.2,
         "hoverinfo": "label+value",
         "labels": [
          "Both Unranked",
          "Ranked Beats Unranked",
          "Higher Beats Lower Ranked",
          "Lower Bears Higher Ranked",
          "Unranked Beats Ranked"
         ],
         "marker": {
          "colors": [
           "steelblue",
           "darkgreen",
           "forestgreen",
           "salmon",
           "firebrick"
          ],
          "line": {
           "color": "#000000",
           "width": 2
          }
         },
         "sort": false,
         "textfont": {
          "size": 16
         },
         "textinfo": "percent",
         "type": "pie",
         "values": [
          34047,
          9850,
          1718,
          1070,
          2212
         ]
        }
       ],
       "layout": {
        "template": {
         "data": {
          "bar": [
           {
            "error_x": {
             "color": "#2a3f5f"
            },
            "error_y": {
             "color": "#2a3f5f"
            },
            "marker": {
             "line": {
              "color": "#E5ECF6",
              "width": 0.5
             }
            },
            "type": "bar"
           }
          ],
          "barpolar": [
           {
            "marker": {
             "line": {
              "color": "#E5ECF6",
              "width": 0.5
             }
            },
            "type": "barpolar"
           }
          ],
          "carpet": [
           {
            "aaxis": {
             "endlinecolor": "#2a3f5f",
             "gridcolor": "white",
             "linecolor": "white",
             "minorgridcolor": "white",
             "startlinecolor": "#2a3f5f"
            },
            "baxis": {
             "endlinecolor": "#2a3f5f",
             "gridcolor": "white",
             "linecolor": "white",
             "minorgridcolor": "white",
             "startlinecolor": "#2a3f5f"
            },
            "type": "carpet"
           }
          ],
          "choropleth": [
           {
            "colorbar": {
             "outlinewidth": 0,
             "ticks": ""
            },
            "type": "choropleth"
           }
          ],
          "contour": [
           {
            "colorbar": {
             "outlinewidth": 0,
             "ticks": ""
            },
            "colorscale": [
             [
              0,
              "#0d0887"
             ],
             [
              0.1111111111111111,
              "#46039f"
             ],
             [
              0.2222222222222222,
              "#7201a8"
             ],
             [
              0.3333333333333333,
              "#9c179e"
             ],
             [
              0.4444444444444444,
              "#bd3786"
             ],
             [
              0.5555555555555556,
              "#d8576b"
             ],
             [
              0.6666666666666666,
              "#ed7953"
             ],
             [
              0.7777777777777778,
              "#fb9f3a"
             ],
             [
              0.8888888888888888,
              "#fdca26"
             ],
             [
              1,
              "#f0f921"
             ]
            ],
            "type": "contour"
           }
          ],
          "contourcarpet": [
           {
            "colorbar": {
             "outlinewidth": 0,
             "ticks": ""
            },
            "type": "contourcarpet"
           }
          ],
          "heatmap": [
           {
            "colorbar": {
             "outlinewidth": 0,
             "ticks": ""
            },
            "colorscale": [
             [
              0,
              "#0d0887"
             ],
             [
              0.1111111111111111,
              "#46039f"
             ],
             [
              0.2222222222222222,
              "#7201a8"
             ],
             [
              0.3333333333333333,
              "#9c179e"
             ],
             [
              0.4444444444444444,
              "#bd3786"
             ],
             [
              0.5555555555555556,
              "#d8576b"
             ],
             [
              0.6666666666666666,
              "#ed7953"
             ],
             [
              0.7777777777777778,
              "#fb9f3a"
             ],
             [
              0.8888888888888888,
              "#fdca26"
             ],
             [
              1,
              "#f0f921"
             ]
            ],
            "type": "heatmap"
           }
          ],
          "heatmapgl": [
           {
            "colorbar": {
             "outlinewidth": 0,
             "ticks": ""
            },
            "colorscale": [
             [
              0,
              "#0d0887"
             ],
             [
              0.1111111111111111,
              "#46039f"
             ],
             [
              0.2222222222222222,
              "#7201a8"
             ],
             [
              0.3333333333333333,
              "#9c179e"
             ],
             [
              0.4444444444444444,
              "#bd3786"
             ],
             [
              0.5555555555555556,
              "#d8576b"
             ],
             [
              0.6666666666666666,
              "#ed7953"
             ],
             [
              0.7777777777777778,
              "#fb9f3a"
             ],
             [
              0.8888888888888888,
              "#fdca26"
             ],
             [
              1,
              "#f0f921"
             ]
            ],
            "type": "heatmapgl"
           }
          ],
          "histogram": [
           {
            "marker": {
             "colorbar": {
              "outlinewidth": 0,
              "ticks": ""
             }
            },
            "type": "histogram"
           }
          ],
          "histogram2d": [
           {
            "colorbar": {
             "outlinewidth": 0,
             "ticks": ""
            },
            "colorscale": [
             [
              0,
              "#0d0887"
             ],
             [
              0.1111111111111111,
              "#46039f"
             ],
             [
              0.2222222222222222,
              "#7201a8"
             ],
             [
              0.3333333333333333,
              "#9c179e"
             ],
             [
              0.4444444444444444,
              "#bd3786"
             ],
             [
              0.5555555555555556,
              "#d8576b"
             ],
             [
              0.6666666666666666,
              "#ed7953"
             ],
             [
              0.7777777777777778,
              "#fb9f3a"
             ],
             [
              0.8888888888888888,
              "#fdca26"
             ],
             [
              1,
              "#f0f921"
             ]
            ],
            "type": "histogram2d"
           }
          ],
          "histogram2dcontour": [
           {
            "colorbar": {
             "outlinewidth": 0,
             "ticks": ""
            },
            "colorscale": [
             [
              0,
              "#0d0887"
             ],
             [
              0.1111111111111111,
              "#46039f"
             ],
             [
              0.2222222222222222,
              "#7201a8"
             ],
             [
              0.3333333333333333,
              "#9c179e"
             ],
             [
              0.4444444444444444,
              "#bd3786"
             ],
             [
              0.5555555555555556,
              "#d8576b"
             ],
             [
              0.6666666666666666,
              "#ed7953"
             ],
             [
              0.7777777777777778,
              "#fb9f3a"
             ],
             [
              0.8888888888888888,
              "#fdca26"
             ],
             [
              1,
              "#f0f921"
             ]
            ],
            "type": "histogram2dcontour"
           }
          ],
          "mesh3d": [
           {
            "colorbar": {
             "outlinewidth": 0,
             "ticks": ""
            },
            "type": "mesh3d"
           }
          ],
          "parcoords": [
           {
            "line": {
             "colorbar": {
              "outlinewidth": 0,
              "ticks": ""
             }
            },
            "type": "parcoords"
           }
          ],
          "scatter": [
           {
            "marker": {
             "colorbar": {
              "outlinewidth": 0,
              "ticks": ""
             }
            },
            "type": "scatter"
           }
          ],
          "scatter3d": [
           {
            "line": {
             "colorbar": {
              "outlinewidth": 0,
              "ticks": ""
             }
            },
            "marker": {
             "colorbar": {
              "outlinewidth": 0,
              "ticks": ""
             }
            },
            "type": "scatter3d"
           }
          ],
          "scattercarpet": [
           {
            "marker": {
             "colorbar": {
              "outlinewidth": 0,
              "ticks": ""
             }
            },
            "type": "scattercarpet"
           }
          ],
          "scattergeo": [
           {
            "marker": {
             "colorbar": {
              "outlinewidth": 0,
              "ticks": ""
             }
            },
            "type": "scattergeo"
           }
          ],
          "scattergl": [
           {
            "marker": {
             "colorbar": {
              "outlinewidth": 0,
              "ticks": ""
             }
            },
            "type": "scattergl"
           }
          ],
          "scattermapbox": [
           {
            "marker": {
             "colorbar": {
              "outlinewidth": 0,
              "ticks": ""
             }
            },
            "type": "scattermapbox"
           }
          ],
          "scatterpolar": [
           {
            "marker": {
             "colorbar": {
              "outlinewidth": 0,
              "ticks": ""
             }
            },
            "type": "scatterpolar"
           }
          ],
          "scatterpolargl": [
           {
            "marker": {
             "colorbar": {
              "outlinewidth": 0,
              "ticks": ""
             }
            },
            "type": "scatterpolargl"
           }
          ],
          "scatterternary": [
           {
            "marker": {
             "colorbar": {
              "outlinewidth": 0,
              "ticks": ""
             }
            },
            "type": "scatterternary"
           }
          ],
          "surface": [
           {
            "colorbar": {
             "outlinewidth": 0,
             "ticks": ""
            },
            "colorscale": [
             [
              0,
              "#0d0887"
             ],
             [
              0.1111111111111111,
              "#46039f"
             ],
             [
              0.2222222222222222,
              "#7201a8"
             ],
             [
              0.3333333333333333,
              "#9c179e"
             ],
             [
              0.4444444444444444,
              "#bd3786"
             ],
             [
              0.5555555555555556,
              "#d8576b"
             ],
             [
              0.6666666666666666,
              "#ed7953"
             ],
             [
              0.7777777777777778,
              "#fb9f3a"
             ],
             [
              0.8888888888888888,
              "#fdca26"
             ],
             [
              1,
              "#f0f921"
             ]
            ],
            "type": "surface"
           }
          ],
          "table": [
           {
            "cells": {
             "fill": {
              "color": "#EBF0F8"
             },
             "line": {
              "color": "white"
             }
            },
            "header": {
             "fill": {
              "color": "#C8D4E3"
             },
             "line": {
              "color": "white"
             }
            },
            "type": "table"
           }
          ]
         },
         "layout": {
          "annotationdefaults": {
           "arrowcolor": "#2a3f5f",
           "arrowhead": 0,
           "arrowwidth": 1
          },
          "colorscale": {
           "diverging": [
            [
             0,
             "#8e0152"
            ],
            [
             0.1,
             "#c51b7d"
            ],
            [
             0.2,
             "#de77ae"
            ],
            [
             0.3,
             "#f1b6da"
            ],
            [
             0.4,
             "#fde0ef"
            ],
            [
             0.5,
             "#f7f7f7"
            ],
            [
             0.6,
             "#e6f5d0"
            ],
            [
             0.7,
             "#b8e186"
            ],
            [
             0.8,
             "#7fbc41"
            ],
            [
             0.9,
             "#4d9221"
            ],
            [
             1,
             "#276419"
            ]
           ],
           "sequential": [
            [
             0,
             "#0d0887"
            ],
            [
             0.1111111111111111,
             "#46039f"
            ],
            [
             0.2222222222222222,
             "#7201a8"
            ],
            [
             0.3333333333333333,
             "#9c179e"
            ],
            [
             0.4444444444444444,
             "#bd3786"
            ],
            [
             0.5555555555555556,
             "#d8576b"
            ],
            [
             0.6666666666666666,
             "#ed7953"
            ],
            [
             0.7777777777777778,
             "#fb9f3a"
            ],
            [
             0.8888888888888888,
             "#fdca26"
            ],
            [
             1,
             "#f0f921"
            ]
           ],
           "sequentialminus": [
            [
             0,
             "#0d0887"
            ],
            [
             0.1111111111111111,
             "#46039f"
            ],
            [
             0.2222222222222222,
             "#7201a8"
            ],
            [
             0.3333333333333333,
             "#9c179e"
            ],
            [
             0.4444444444444444,
             "#bd3786"
            ],
            [
             0.5555555555555556,
             "#d8576b"
            ],
            [
             0.6666666666666666,
             "#ed7953"
            ],
            [
             0.7777777777777778,
             "#fb9f3a"
            ],
            [
             0.8888888888888888,
             "#fdca26"
            ],
            [
             1,
             "#f0f921"
            ]
           ]
          },
          "colorway": [
           "#636efa",
           "#EF553B",
           "#00cc96",
           "#ab63fa",
           "#FFA15A",
           "#19d3f3",
           "#FF6692",
           "#B6E880",
           "#FF97FF",
           "#FECB52"
          ],
          "font": {
           "color": "#2a3f5f"
          },
          "geo": {
           "bgcolor": "white",
           "lakecolor": "white",
           "landcolor": "#E5ECF6",
           "showlakes": true,
           "showland": true,
           "subunitcolor": "white"
          },
          "hoverlabel": {
           "align": "left"
          },
          "hovermode": "closest",
          "mapbox": {
           "style": "light"
          },
          "paper_bgcolor": "white",
          "plot_bgcolor": "#E5ECF6",
          "polar": {
           "angularaxis": {
            "gridcolor": "white",
            "linecolor": "white",
            "ticks": ""
           },
           "bgcolor": "#E5ECF6",
           "radialaxis": {
            "gridcolor": "white",
            "linecolor": "white",
            "ticks": ""
           }
          },
          "scene": {
           "xaxis": {
            "backgroundcolor": "#E5ECF6",
            "gridcolor": "white",
            "gridwidth": 2,
            "linecolor": "white",
            "showbackground": true,
            "ticks": "",
            "zerolinecolor": "white"
           },
           "yaxis": {
            "backgroundcolor": "#E5ECF6",
            "gridcolor": "white",
            "gridwidth": 2,
            "linecolor": "white",
            "showbackground": true,
            "ticks": "",
            "zerolinecolor": "white"
           },
           "zaxis": {
            "backgroundcolor": "#E5ECF6",
            "gridcolor": "white",
            "gridwidth": 2,
            "linecolor": "white",
            "showbackground": true,
            "ticks": "",
            "zerolinecolor": "white"
           }
          },
          "shapedefaults": {
           "line": {
            "color": "#2a3f5f"
           }
          },
          "ternary": {
           "aaxis": {
            "gridcolor": "white",
            "linecolor": "white",
            "ticks": ""
           },
           "baxis": {
            "gridcolor": "white",
            "linecolor": "white",
            "ticks": ""
           },
           "bgcolor": "#E5ECF6",
           "caxis": {
            "gridcolor": "white",
            "linecolor": "white",
            "ticks": ""
           }
          },
          "title": {
           "x": 0.05
          },
          "xaxis": {
           "automargin": true,
           "gridcolor": "white",
           "linecolor": "white",
           "ticks": "",
           "zerolinecolor": "white",
           "zerolinewidth": 2
          },
          "yaxis": {
           "automargin": true,
           "gridcolor": "white",
           "linecolor": "white",
           "ticks": "",
           "zerolinecolor": "white",
           "zerolinewidth": 2
          }
         }
        },
        "title": {
         "text": "Pie Chart of Types of Team Interactions, 1950 to 2018"
        }
       }
      },
      "text/html": [
       "<div>\n",
       "        \n",
       "        \n",
       "            <div id=\"4ad85c31-6ae9-4358-9cd8-97751877399d\" class=\"plotly-graph-div\" style=\"height:525px; width:100%;\"></div>\n",
       "            <script type=\"text/javascript\">\n",
       "                require([\"plotly\"], function(Plotly) {\n",
       "                    window.PLOTLYENV=window.PLOTLYENV || {};\n",
       "                    \n",
       "                if (document.getElementById(\"4ad85c31-6ae9-4358-9cd8-97751877399d\")) {\n",
       "                    Plotly.newPlot(\n",
       "                        '4ad85c31-6ae9-4358-9cd8-97751877399d',\n",
       "                        [{\"direction\": \"clockwise\", \"hole\": 0.2, \"hoverinfo\": \"label+value\", \"labels\": [\"Both Unranked\", \"Ranked Beats Unranked\", \"Higher Beats Lower Ranked\", \"Lower Bears Higher Ranked\", \"Unranked Beats Ranked\"], \"marker\": {\"colors\": [\"steelblue\", \"darkgreen\", \"forestgreen\", \"salmon\", \"firebrick\"], \"line\": {\"color\": \"#000000\", \"width\": 2}}, \"sort\": false, \"textfont\": {\"size\": 16}, \"textinfo\": \"percent\", \"type\": \"pie\", \"values\": [34047, 9850, 1718, 1070, 2212]}],\n",
       "                        {\"template\": {\"data\": {\"bar\": [{\"error_x\": {\"color\": \"#2a3f5f\"}, \"error_y\": {\"color\": \"#2a3f5f\"}, \"marker\": {\"line\": {\"color\": \"#E5ECF6\", \"width\": 0.5}}, \"type\": \"bar\"}], \"barpolar\": [{\"marker\": {\"line\": {\"color\": \"#E5ECF6\", \"width\": 0.5}}, \"type\": \"barpolar\"}], \"carpet\": [{\"aaxis\": {\"endlinecolor\": \"#2a3f5f\", \"gridcolor\": \"white\", \"linecolor\": \"white\", \"minorgridcolor\": \"white\", \"startlinecolor\": \"#2a3f5f\"}, \"baxis\": {\"endlinecolor\": \"#2a3f5f\", \"gridcolor\": \"white\", \"linecolor\": \"white\", \"minorgridcolor\": \"white\", \"startlinecolor\": \"#2a3f5f\"}, \"type\": \"carpet\"}], \"choropleth\": [{\"colorbar\": {\"outlinewidth\": 0, \"ticks\": \"\"}, \"type\": \"choropleth\"}], \"contour\": [{\"colorbar\": {\"outlinewidth\": 0, \"ticks\": \"\"}, \"colorscale\": [[0.0, \"#0d0887\"], [0.1111111111111111, \"#46039f\"], [0.2222222222222222, \"#7201a8\"], [0.3333333333333333, \"#9c179e\"], [0.4444444444444444, \"#bd3786\"], [0.5555555555555556, \"#d8576b\"], [0.6666666666666666, \"#ed7953\"], [0.7777777777777778, \"#fb9f3a\"], [0.8888888888888888, \"#fdca26\"], [1.0, \"#f0f921\"]], \"type\": \"contour\"}], \"contourcarpet\": [{\"colorbar\": {\"outlinewidth\": 0, \"ticks\": \"\"}, \"type\": \"contourcarpet\"}], \"heatmap\": [{\"colorbar\": {\"outlinewidth\": 0, \"ticks\": \"\"}, \"colorscale\": [[0.0, \"#0d0887\"], [0.1111111111111111, \"#46039f\"], [0.2222222222222222, \"#7201a8\"], [0.3333333333333333, \"#9c179e\"], [0.4444444444444444, \"#bd3786\"], [0.5555555555555556, \"#d8576b\"], [0.6666666666666666, \"#ed7953\"], [0.7777777777777778, \"#fb9f3a\"], [0.8888888888888888, \"#fdca26\"], [1.0, \"#f0f921\"]], \"type\": \"heatmap\"}], \"heatmapgl\": [{\"colorbar\": {\"outlinewidth\": 0, \"ticks\": \"\"}, \"colorscale\": [[0.0, \"#0d0887\"], [0.1111111111111111, \"#46039f\"], [0.2222222222222222, \"#7201a8\"], [0.3333333333333333, \"#9c179e\"], [0.4444444444444444, \"#bd3786\"], [0.5555555555555556, \"#d8576b\"], [0.6666666666666666, \"#ed7953\"], [0.7777777777777778, \"#fb9f3a\"], [0.8888888888888888, \"#fdca26\"], [1.0, \"#f0f921\"]], \"type\": \"heatmapgl\"}], \"histogram\": [{\"marker\": {\"colorbar\": {\"outlinewidth\": 0, \"ticks\": \"\"}}, \"type\": \"histogram\"}], \"histogram2d\": [{\"colorbar\": {\"outlinewidth\": 0, \"ticks\": \"\"}, \"colorscale\": [[0.0, \"#0d0887\"], [0.1111111111111111, \"#46039f\"], [0.2222222222222222, \"#7201a8\"], [0.3333333333333333, \"#9c179e\"], [0.4444444444444444, \"#bd3786\"], [0.5555555555555556, \"#d8576b\"], [0.6666666666666666, \"#ed7953\"], [0.7777777777777778, \"#fb9f3a\"], [0.8888888888888888, \"#fdca26\"], [1.0, \"#f0f921\"]], \"type\": \"histogram2d\"}], \"histogram2dcontour\": [{\"colorbar\": {\"outlinewidth\": 0, \"ticks\": \"\"}, \"colorscale\": [[0.0, \"#0d0887\"], [0.1111111111111111, \"#46039f\"], [0.2222222222222222, \"#7201a8\"], [0.3333333333333333, \"#9c179e\"], [0.4444444444444444, \"#bd3786\"], [0.5555555555555556, \"#d8576b\"], [0.6666666666666666, \"#ed7953\"], [0.7777777777777778, \"#fb9f3a\"], [0.8888888888888888, \"#fdca26\"], [1.0, \"#f0f921\"]], \"type\": \"histogram2dcontour\"}], \"mesh3d\": [{\"colorbar\": {\"outlinewidth\": 0, \"ticks\": \"\"}, \"type\": \"mesh3d\"}], \"parcoords\": [{\"line\": {\"colorbar\": {\"outlinewidth\": 0, \"ticks\": \"\"}}, \"type\": \"parcoords\"}], \"scatter\": [{\"marker\": {\"colorbar\": {\"outlinewidth\": 0, \"ticks\": \"\"}}, \"type\": \"scatter\"}], \"scatter3d\": [{\"line\": {\"colorbar\": {\"outlinewidth\": 0, \"ticks\": \"\"}}, \"marker\": {\"colorbar\": {\"outlinewidth\": 0, \"ticks\": \"\"}}, \"type\": \"scatter3d\"}], \"scattercarpet\": [{\"marker\": {\"colorbar\": {\"outlinewidth\": 0, \"ticks\": \"\"}}, \"type\": \"scattercarpet\"}], \"scattergeo\": [{\"marker\": {\"colorbar\": {\"outlinewidth\": 0, \"ticks\": \"\"}}, \"type\": \"scattergeo\"}], \"scattergl\": [{\"marker\": {\"colorbar\": {\"outlinewidth\": 0, \"ticks\": \"\"}}, \"type\": \"scattergl\"}], \"scattermapbox\": [{\"marker\": {\"colorbar\": {\"outlinewidth\": 0, \"ticks\": \"\"}}, \"type\": \"scattermapbox\"}], \"scatterpolar\": [{\"marker\": {\"colorbar\": {\"outlinewidth\": 0, \"ticks\": \"\"}}, \"type\": \"scatterpolar\"}], \"scatterpolargl\": [{\"marker\": {\"colorbar\": {\"outlinewidth\": 0, \"ticks\": \"\"}}, \"type\": \"scatterpolargl\"}], \"scatterternary\": [{\"marker\": {\"colorbar\": {\"outlinewidth\": 0, \"ticks\": \"\"}}, \"type\": \"scatterternary\"}], \"surface\": [{\"colorbar\": {\"outlinewidth\": 0, \"ticks\": \"\"}, \"colorscale\": [[0.0, \"#0d0887\"], [0.1111111111111111, \"#46039f\"], [0.2222222222222222, \"#7201a8\"], [0.3333333333333333, \"#9c179e\"], [0.4444444444444444, \"#bd3786\"], [0.5555555555555556, \"#d8576b\"], [0.6666666666666666, \"#ed7953\"], [0.7777777777777778, \"#fb9f3a\"], [0.8888888888888888, \"#fdca26\"], [1.0, \"#f0f921\"]], \"type\": \"surface\"}], \"table\": [{\"cells\": {\"fill\": {\"color\": \"#EBF0F8\"}, \"line\": {\"color\": \"white\"}}, \"header\": {\"fill\": {\"color\": \"#C8D4E3\"}, \"line\": {\"color\": \"white\"}}, \"type\": \"table\"}]}, \"layout\": {\"annotationdefaults\": {\"arrowcolor\": \"#2a3f5f\", \"arrowhead\": 0, \"arrowwidth\": 1}, \"colorscale\": {\"diverging\": [[0, \"#8e0152\"], [0.1, \"#c51b7d\"], [0.2, \"#de77ae\"], [0.3, \"#f1b6da\"], [0.4, \"#fde0ef\"], [0.5, \"#f7f7f7\"], [0.6, \"#e6f5d0\"], [0.7, \"#b8e186\"], [0.8, \"#7fbc41\"], [0.9, \"#4d9221\"], [1, \"#276419\"]], \"sequential\": [[0.0, \"#0d0887\"], [0.1111111111111111, \"#46039f\"], [0.2222222222222222, \"#7201a8\"], [0.3333333333333333, \"#9c179e\"], [0.4444444444444444, \"#bd3786\"], [0.5555555555555556, \"#d8576b\"], [0.6666666666666666, \"#ed7953\"], [0.7777777777777778, \"#fb9f3a\"], [0.8888888888888888, \"#fdca26\"], [1.0, \"#f0f921\"]], \"sequentialminus\": [[0.0, \"#0d0887\"], [0.1111111111111111, \"#46039f\"], [0.2222222222222222, \"#7201a8\"], [0.3333333333333333, \"#9c179e\"], [0.4444444444444444, \"#bd3786\"], [0.5555555555555556, \"#d8576b\"], [0.6666666666666666, \"#ed7953\"], [0.7777777777777778, \"#fb9f3a\"], [0.8888888888888888, \"#fdca26\"], [1.0, \"#f0f921\"]]}, \"colorway\": [\"#636efa\", \"#EF553B\", \"#00cc96\", \"#ab63fa\", \"#FFA15A\", \"#19d3f3\", \"#FF6692\", \"#B6E880\", \"#FF97FF\", \"#FECB52\"], \"font\": {\"color\": \"#2a3f5f\"}, \"geo\": {\"bgcolor\": \"white\", \"lakecolor\": \"white\", \"landcolor\": \"#E5ECF6\", \"showlakes\": true, \"showland\": true, \"subunitcolor\": \"white\"}, \"hoverlabel\": {\"align\": \"left\"}, \"hovermode\": \"closest\", \"mapbox\": {\"style\": \"light\"}, \"paper_bgcolor\": \"white\", \"plot_bgcolor\": \"#E5ECF6\", \"polar\": {\"angularaxis\": {\"gridcolor\": \"white\", \"linecolor\": \"white\", \"ticks\": \"\"}, \"bgcolor\": \"#E5ECF6\", \"radialaxis\": {\"gridcolor\": \"white\", \"linecolor\": \"white\", \"ticks\": \"\"}}, \"scene\": {\"xaxis\": {\"backgroundcolor\": \"#E5ECF6\", \"gridcolor\": \"white\", \"gridwidth\": 2, \"linecolor\": \"white\", \"showbackground\": true, \"ticks\": \"\", \"zerolinecolor\": \"white\"}, \"yaxis\": {\"backgroundcolor\": \"#E5ECF6\", \"gridcolor\": \"white\", \"gridwidth\": 2, \"linecolor\": \"white\", \"showbackground\": true, \"ticks\": \"\", \"zerolinecolor\": \"white\"}, \"zaxis\": {\"backgroundcolor\": \"#E5ECF6\", \"gridcolor\": \"white\", \"gridwidth\": 2, \"linecolor\": \"white\", \"showbackground\": true, \"ticks\": \"\", \"zerolinecolor\": \"white\"}}, \"shapedefaults\": {\"line\": {\"color\": \"#2a3f5f\"}}, \"ternary\": {\"aaxis\": {\"gridcolor\": \"white\", \"linecolor\": \"white\", \"ticks\": \"\"}, \"baxis\": {\"gridcolor\": \"white\", \"linecolor\": \"white\", \"ticks\": \"\"}, \"bgcolor\": \"#E5ECF6\", \"caxis\": {\"gridcolor\": \"white\", \"linecolor\": \"white\", \"ticks\": \"\"}}, \"title\": {\"x\": 0.05}, \"xaxis\": {\"automargin\": true, \"gridcolor\": \"white\", \"linecolor\": \"white\", \"ticks\": \"\", \"zerolinecolor\": \"white\", \"zerolinewidth\": 2}, \"yaxis\": {\"automargin\": true, \"gridcolor\": \"white\", \"linecolor\": \"white\", \"ticks\": \"\", \"zerolinecolor\": \"white\", \"zerolinewidth\": 2}}}, \"title\": {\"text\": \"Pie Chart of Types of Team Interactions, 1950 to 2018\"}},\n",
       "                        {\"responsive\": true}\n",
       "                    ).then(function(){\n",
       "                            \n",
       "var gd = document.getElementById('4ad85c31-6ae9-4358-9cd8-97751877399d');\n",
       "var x = new MutationObserver(function (mutations, observer) {{\n",
       "        var display = window.getComputedStyle(gd).display;\n",
       "        if (!display || display === 'none') {{\n",
       "            console.log([gd, 'removed!']);\n",
       "            Plotly.purge(gd);\n",
       "            observer.disconnect();\n",
       "        }}\n",
       "}});\n",
       "\n",
       "// Listen for the removal of the full notebook cells\n",
       "var notebookContainer = gd.closest('#notebook-container');\n",
       "if (notebookContainer) {{\n",
       "    x.observe(notebookContainer, {childList: true});\n",
       "}}\n",
       "\n",
       "// Listen for the clearing of the current output cell\n",
       "var outputEl = gd.closest('.output');\n",
       "if (outputEl) {{\n",
       "    x.observe(outputEl, {childList: true});\n",
       "}}\n",
       "\n",
       "                        })\n",
       "                };\n",
       "                });\n",
       "            </script>\n",
       "        </div>"
      ]
     },
     "metadata": {},
     "output_type": "display_data"
    }
   ],
   "source": [
    "labels = ['Both Unranked', 'Ranked Beats Unranked', 'Higher Beats Lower Ranked',\n",
    "       'Lower Bears Higher Ranked', 'Unranked Beats Ranked']\n",
    "\n",
    "fig = go.Figure(data=[go.Pie(labels=labels, values=ratios.sum().to_list(), hole=.2, \n",
    "                             direction = 'clockwise', sort=False, )])\n",
    "fig.update_traces(hoverinfo='label+value', textinfo='percent', textfont_size=16,\n",
    "                  marker=dict(colors=colors, line=dict(color='#000000', width=2)))\n",
    "fig.update_layout(title=\"Pie Chart of Types of Team Interactions, 1950 to 2018\")\n",
    "fig.show()"
   ]
  },
  {
   "cell_type": "code",
   "execution_count": 149,
   "metadata": {},
   "outputs": [],
   "source": [
    "def plot_pie(year):\n",
    "    labels = ['Both Unranked', 'Ranked Beats Unranked', 'Higher Beats Lower Ranked',\n",
    "       'Lower Bears Higher Ranked', 'Unranked Beats Ranked']\n",
    "\n",
    "    fig = go.Figure(data=[go.Pie(labels=labels, values=ratios.groupby('year').mean().loc[year].to_list(), hole=.2, \n",
    "                                 direction = 'clockwise', sort=False, )])\n",
    "    fig.update_traces(hoverinfo='label+value', textinfo='percent', textfont_size=16,\n",
    "                      marker=dict(colors=colors, line=dict(color='#000000', width=2)))\n",
    "    fig.update_layout(title=\"Pie Chart of Types of Team Interaction, {}\".format(year))\n",
    "    fig.show()"
   ]
  },
  {
   "cell_type": "code",
   "execution_count": 150,
   "metadata": {},
   "outputs": [
    {
     "data": {
      "application/vnd.plotly.v1+json": {
       "config": {
        "plotlyServerURL": "https://plot.ly"
       },
       "data": [
        {
         "direction": "clockwise",
         "hole": 0.2,
         "hoverinfo": "label+value",
         "labels": [
          "Both Unranked",
          "Ranked Beats Unranked",
          "Higher Beats Lower Ranked",
          "Lower Bears Higher Ranked",
          "Unranked Beats Ranked"
         ],
         "marker": {
          "colors": [
           "steelblue",
           "darkgreen",
           "forestgreen",
           "salmon",
           "firebrick"
          ],
          "line": {
           "color": "#000000",
           "width": 2
          }
         },
         "sort": false,
         "textfont": {
          "size": 16
         },
         "textinfo": "percent",
         "type": "pie",
         "values": [
          0.8478260869565217,
          0.10403726708074534,
          0.004658385093167702,
          0.012422360248447204,
          0.031055900621118012
         ]
        }
       ],
       "layout": {
        "template": {
         "data": {
          "bar": [
           {
            "error_x": {
             "color": "#2a3f5f"
            },
            "error_y": {
             "color": "#2a3f5f"
            },
            "marker": {
             "line": {
              "color": "#E5ECF6",
              "width": 0.5
             }
            },
            "type": "bar"
           }
          ],
          "barpolar": [
           {
            "marker": {
             "line": {
              "color": "#E5ECF6",
              "width": 0.5
             }
            },
            "type": "barpolar"
           }
          ],
          "carpet": [
           {
            "aaxis": {
             "endlinecolor": "#2a3f5f",
             "gridcolor": "white",
             "linecolor": "white",
             "minorgridcolor": "white",
             "startlinecolor": "#2a3f5f"
            },
            "baxis": {
             "endlinecolor": "#2a3f5f",
             "gridcolor": "white",
             "linecolor": "white",
             "minorgridcolor": "white",
             "startlinecolor": "#2a3f5f"
            },
            "type": "carpet"
           }
          ],
          "choropleth": [
           {
            "colorbar": {
             "outlinewidth": 0,
             "ticks": ""
            },
            "type": "choropleth"
           }
          ],
          "contour": [
           {
            "colorbar": {
             "outlinewidth": 0,
             "ticks": ""
            },
            "colorscale": [
             [
              0,
              "#0d0887"
             ],
             [
              0.1111111111111111,
              "#46039f"
             ],
             [
              0.2222222222222222,
              "#7201a8"
             ],
             [
              0.3333333333333333,
              "#9c179e"
             ],
             [
              0.4444444444444444,
              "#bd3786"
             ],
             [
              0.5555555555555556,
              "#d8576b"
             ],
             [
              0.6666666666666666,
              "#ed7953"
             ],
             [
              0.7777777777777778,
              "#fb9f3a"
             ],
             [
              0.8888888888888888,
              "#fdca26"
             ],
             [
              1,
              "#f0f921"
             ]
            ],
            "type": "contour"
           }
          ],
          "contourcarpet": [
           {
            "colorbar": {
             "outlinewidth": 0,
             "ticks": ""
            },
            "type": "contourcarpet"
           }
          ],
          "heatmap": [
           {
            "colorbar": {
             "outlinewidth": 0,
             "ticks": ""
            },
            "colorscale": [
             [
              0,
              "#0d0887"
             ],
             [
              0.1111111111111111,
              "#46039f"
             ],
             [
              0.2222222222222222,
              "#7201a8"
             ],
             [
              0.3333333333333333,
              "#9c179e"
             ],
             [
              0.4444444444444444,
              "#bd3786"
             ],
             [
              0.5555555555555556,
              "#d8576b"
             ],
             [
              0.6666666666666666,
              "#ed7953"
             ],
             [
              0.7777777777777778,
              "#fb9f3a"
             ],
             [
              0.8888888888888888,
              "#fdca26"
             ],
             [
              1,
              "#f0f921"
             ]
            ],
            "type": "heatmap"
           }
          ],
          "heatmapgl": [
           {
            "colorbar": {
             "outlinewidth": 0,
             "ticks": ""
            },
            "colorscale": [
             [
              0,
              "#0d0887"
             ],
             [
              0.1111111111111111,
              "#46039f"
             ],
             [
              0.2222222222222222,
              "#7201a8"
             ],
             [
              0.3333333333333333,
              "#9c179e"
             ],
             [
              0.4444444444444444,
              "#bd3786"
             ],
             [
              0.5555555555555556,
              "#d8576b"
             ],
             [
              0.6666666666666666,
              "#ed7953"
             ],
             [
              0.7777777777777778,
              "#fb9f3a"
             ],
             [
              0.8888888888888888,
              "#fdca26"
             ],
             [
              1,
              "#f0f921"
             ]
            ],
            "type": "heatmapgl"
           }
          ],
          "histogram": [
           {
            "marker": {
             "colorbar": {
              "outlinewidth": 0,
              "ticks": ""
             }
            },
            "type": "histogram"
           }
          ],
          "histogram2d": [
           {
            "colorbar": {
             "outlinewidth": 0,
             "ticks": ""
            },
            "colorscale": [
             [
              0,
              "#0d0887"
             ],
             [
              0.1111111111111111,
              "#46039f"
             ],
             [
              0.2222222222222222,
              "#7201a8"
             ],
             [
              0.3333333333333333,
              "#9c179e"
             ],
             [
              0.4444444444444444,
              "#bd3786"
             ],
             [
              0.5555555555555556,
              "#d8576b"
             ],
             [
              0.6666666666666666,
              "#ed7953"
             ],
             [
              0.7777777777777778,
              "#fb9f3a"
             ],
             [
              0.8888888888888888,
              "#fdca26"
             ],
             [
              1,
              "#f0f921"
             ]
            ],
            "type": "histogram2d"
           }
          ],
          "histogram2dcontour": [
           {
            "colorbar": {
             "outlinewidth": 0,
             "ticks": ""
            },
            "colorscale": [
             [
              0,
              "#0d0887"
             ],
             [
              0.1111111111111111,
              "#46039f"
             ],
             [
              0.2222222222222222,
              "#7201a8"
             ],
             [
              0.3333333333333333,
              "#9c179e"
             ],
             [
              0.4444444444444444,
              "#bd3786"
             ],
             [
              0.5555555555555556,
              "#d8576b"
             ],
             [
              0.6666666666666666,
              "#ed7953"
             ],
             [
              0.7777777777777778,
              "#fb9f3a"
             ],
             [
              0.8888888888888888,
              "#fdca26"
             ],
             [
              1,
              "#f0f921"
             ]
            ],
            "type": "histogram2dcontour"
           }
          ],
          "mesh3d": [
           {
            "colorbar": {
             "outlinewidth": 0,
             "ticks": ""
            },
            "type": "mesh3d"
           }
          ],
          "parcoords": [
           {
            "line": {
             "colorbar": {
              "outlinewidth": 0,
              "ticks": ""
             }
            },
            "type": "parcoords"
           }
          ],
          "scatter": [
           {
            "marker": {
             "colorbar": {
              "outlinewidth": 0,
              "ticks": ""
             }
            },
            "type": "scatter"
           }
          ],
          "scatter3d": [
           {
            "line": {
             "colorbar": {
              "outlinewidth": 0,
              "ticks": ""
             }
            },
            "marker": {
             "colorbar": {
              "outlinewidth": 0,
              "ticks": ""
             }
            },
            "type": "scatter3d"
           }
          ],
          "scattercarpet": [
           {
            "marker": {
             "colorbar": {
              "outlinewidth": 0,
              "ticks": ""
             }
            },
            "type": "scattercarpet"
           }
          ],
          "scattergeo": [
           {
            "marker": {
             "colorbar": {
              "outlinewidth": 0,
              "ticks": ""
             }
            },
            "type": "scattergeo"
           }
          ],
          "scattergl": [
           {
            "marker": {
             "colorbar": {
              "outlinewidth": 0,
              "ticks": ""
             }
            },
            "type": "scattergl"
           }
          ],
          "scattermapbox": [
           {
            "marker": {
             "colorbar": {
              "outlinewidth": 0,
              "ticks": ""
             }
            },
            "type": "scattermapbox"
           }
          ],
          "scatterpolar": [
           {
            "marker": {
             "colorbar": {
              "outlinewidth": 0,
              "ticks": ""
             }
            },
            "type": "scatterpolar"
           }
          ],
          "scatterpolargl": [
           {
            "marker": {
             "colorbar": {
              "outlinewidth": 0,
              "ticks": ""
             }
            },
            "type": "scatterpolargl"
           }
          ],
          "scatterternary": [
           {
            "marker": {
             "colorbar": {
              "outlinewidth": 0,
              "ticks": ""
             }
            },
            "type": "scatterternary"
           }
          ],
          "surface": [
           {
            "colorbar": {
             "outlinewidth": 0,
             "ticks": ""
            },
            "colorscale": [
             [
              0,
              "#0d0887"
             ],
             [
              0.1111111111111111,
              "#46039f"
             ],
             [
              0.2222222222222222,
              "#7201a8"
             ],
             [
              0.3333333333333333,
              "#9c179e"
             ],
             [
              0.4444444444444444,
              "#bd3786"
             ],
             [
              0.5555555555555556,
              "#d8576b"
             ],
             [
              0.6666666666666666,
              "#ed7953"
             ],
             [
              0.7777777777777778,
              "#fb9f3a"
             ],
             [
              0.8888888888888888,
              "#fdca26"
             ],
             [
              1,
              "#f0f921"
             ]
            ],
            "type": "surface"
           }
          ],
          "table": [
           {
            "cells": {
             "fill": {
              "color": "#EBF0F8"
             },
             "line": {
              "color": "white"
             }
            },
            "header": {
             "fill": {
              "color": "#C8D4E3"
             },
             "line": {
              "color": "white"
             }
            },
            "type": "table"
           }
          ]
         },
         "layout": {
          "annotationdefaults": {
           "arrowcolor": "#2a3f5f",
           "arrowhead": 0,
           "arrowwidth": 1
          },
          "colorscale": {
           "diverging": [
            [
             0,
             "#8e0152"
            ],
            [
             0.1,
             "#c51b7d"
            ],
            [
             0.2,
             "#de77ae"
            ],
            [
             0.3,
             "#f1b6da"
            ],
            [
             0.4,
             "#fde0ef"
            ],
            [
             0.5,
             "#f7f7f7"
            ],
            [
             0.6,
             "#e6f5d0"
            ],
            [
             0.7,
             "#b8e186"
            ],
            [
             0.8,
             "#7fbc41"
            ],
            [
             0.9,
             "#4d9221"
            ],
            [
             1,
             "#276419"
            ]
           ],
           "sequential": [
            [
             0,
             "#0d0887"
            ],
            [
             0.1111111111111111,
             "#46039f"
            ],
            [
             0.2222222222222222,
             "#7201a8"
            ],
            [
             0.3333333333333333,
             "#9c179e"
            ],
            [
             0.4444444444444444,
             "#bd3786"
            ],
            [
             0.5555555555555556,
             "#d8576b"
            ],
            [
             0.6666666666666666,
             "#ed7953"
            ],
            [
             0.7777777777777778,
             "#fb9f3a"
            ],
            [
             0.8888888888888888,
             "#fdca26"
            ],
            [
             1,
             "#f0f921"
            ]
           ],
           "sequentialminus": [
            [
             0,
             "#0d0887"
            ],
            [
             0.1111111111111111,
             "#46039f"
            ],
            [
             0.2222222222222222,
             "#7201a8"
            ],
            [
             0.3333333333333333,
             "#9c179e"
            ],
            [
             0.4444444444444444,
             "#bd3786"
            ],
            [
             0.5555555555555556,
             "#d8576b"
            ],
            [
             0.6666666666666666,
             "#ed7953"
            ],
            [
             0.7777777777777778,
             "#fb9f3a"
            ],
            [
             0.8888888888888888,
             "#fdca26"
            ],
            [
             1,
             "#f0f921"
            ]
           ]
          },
          "colorway": [
           "#636efa",
           "#EF553B",
           "#00cc96",
           "#ab63fa",
           "#FFA15A",
           "#19d3f3",
           "#FF6692",
           "#B6E880",
           "#FF97FF",
           "#FECB52"
          ],
          "font": {
           "color": "#2a3f5f"
          },
          "geo": {
           "bgcolor": "white",
           "lakecolor": "white",
           "landcolor": "#E5ECF6",
           "showlakes": true,
           "showland": true,
           "subunitcolor": "white"
          },
          "hoverlabel": {
           "align": "left"
          },
          "hovermode": "closest",
          "mapbox": {
           "style": "light"
          },
          "paper_bgcolor": "white",
          "plot_bgcolor": "#E5ECF6",
          "polar": {
           "angularaxis": {
            "gridcolor": "white",
            "linecolor": "white",
            "ticks": ""
           },
           "bgcolor": "#E5ECF6",
           "radialaxis": {
            "gridcolor": "white",
            "linecolor": "white",
            "ticks": ""
           }
          },
          "scene": {
           "xaxis": {
            "backgroundcolor": "#E5ECF6",
            "gridcolor": "white",
            "gridwidth": 2,
            "linecolor": "white",
            "showbackground": true,
            "ticks": "",
            "zerolinecolor": "white"
           },
           "yaxis": {
            "backgroundcolor": "#E5ECF6",
            "gridcolor": "white",
            "gridwidth": 2,
            "linecolor": "white",
            "showbackground": true,
            "ticks": "",
            "zerolinecolor": "white"
           },
           "zaxis": {
            "backgroundcolor": "#E5ECF6",
            "gridcolor": "white",
            "gridwidth": 2,
            "linecolor": "white",
            "showbackground": true,
            "ticks": "",
            "zerolinecolor": "white"
           }
          },
          "shapedefaults": {
           "line": {
            "color": "#2a3f5f"
           }
          },
          "ternary": {
           "aaxis": {
            "gridcolor": "white",
            "linecolor": "white",
            "ticks": ""
           },
           "baxis": {
            "gridcolor": "white",
            "linecolor": "white",
            "ticks": ""
           },
           "bgcolor": "#E5ECF6",
           "caxis": {
            "gridcolor": "white",
            "linecolor": "white",
            "ticks": ""
           }
          },
          "title": {
           "x": 0.05
          },
          "xaxis": {
           "automargin": true,
           "gridcolor": "white",
           "linecolor": "white",
           "ticks": "",
           "zerolinecolor": "white",
           "zerolinewidth": 2
          },
          "yaxis": {
           "automargin": true,
           "gridcolor": "white",
           "linecolor": "white",
           "ticks": "",
           "zerolinecolor": "white",
           "zerolinewidth": 2
          }
         }
        },
        "title": {
         "text": "Pie Chart of Types of Team Interaction, 1965"
        }
       }
      },
      "text/html": [
       "<div>\n",
       "        \n",
       "        \n",
       "            <div id=\"58152d77-c74f-44a0-8949-9751236618a6\" class=\"plotly-graph-div\" style=\"height:525px; width:100%;\"></div>\n",
       "            <script type=\"text/javascript\">\n",
       "                require([\"plotly\"], function(Plotly) {\n",
       "                    window.PLOTLYENV=window.PLOTLYENV || {};\n",
       "                    \n",
       "                if (document.getElementById(\"58152d77-c74f-44a0-8949-9751236618a6\")) {\n",
       "                    Plotly.newPlot(\n",
       "                        '58152d77-c74f-44a0-8949-9751236618a6',\n",
       "                        [{\"direction\": \"clockwise\", \"hole\": 0.2, \"hoverinfo\": \"label+value\", \"labels\": [\"Both Unranked\", \"Ranked Beats Unranked\", \"Higher Beats Lower Ranked\", \"Lower Bears Higher Ranked\", \"Unranked Beats Ranked\"], \"marker\": {\"colors\": [\"steelblue\", \"darkgreen\", \"forestgreen\", \"salmon\", \"firebrick\"], \"line\": {\"color\": \"#000000\", \"width\": 2}}, \"sort\": false, \"textfont\": {\"size\": 16}, \"textinfo\": \"percent\", \"type\": \"pie\", \"values\": [0.8478260869565217, 0.10403726708074534, 0.004658385093167702, 0.012422360248447204, 0.031055900621118012]}],\n",
       "                        {\"template\": {\"data\": {\"bar\": [{\"error_x\": {\"color\": \"#2a3f5f\"}, \"error_y\": {\"color\": \"#2a3f5f\"}, \"marker\": {\"line\": {\"color\": \"#E5ECF6\", \"width\": 0.5}}, \"type\": \"bar\"}], \"barpolar\": [{\"marker\": {\"line\": {\"color\": \"#E5ECF6\", \"width\": 0.5}}, \"type\": \"barpolar\"}], \"carpet\": [{\"aaxis\": {\"endlinecolor\": \"#2a3f5f\", \"gridcolor\": \"white\", \"linecolor\": \"white\", \"minorgridcolor\": \"white\", \"startlinecolor\": \"#2a3f5f\"}, \"baxis\": {\"endlinecolor\": \"#2a3f5f\", \"gridcolor\": \"white\", \"linecolor\": \"white\", \"minorgridcolor\": \"white\", \"startlinecolor\": \"#2a3f5f\"}, \"type\": \"carpet\"}], \"choropleth\": [{\"colorbar\": {\"outlinewidth\": 0, \"ticks\": \"\"}, \"type\": \"choropleth\"}], \"contour\": [{\"colorbar\": {\"outlinewidth\": 0, \"ticks\": \"\"}, \"colorscale\": [[0.0, \"#0d0887\"], [0.1111111111111111, \"#46039f\"], [0.2222222222222222, \"#7201a8\"], [0.3333333333333333, \"#9c179e\"], [0.4444444444444444, \"#bd3786\"], [0.5555555555555556, \"#d8576b\"], [0.6666666666666666, \"#ed7953\"], [0.7777777777777778, \"#fb9f3a\"], [0.8888888888888888, \"#fdca26\"], [1.0, \"#f0f921\"]], \"type\": \"contour\"}], \"contourcarpet\": [{\"colorbar\": {\"outlinewidth\": 0, \"ticks\": \"\"}, \"type\": \"contourcarpet\"}], \"heatmap\": [{\"colorbar\": {\"outlinewidth\": 0, \"ticks\": \"\"}, \"colorscale\": [[0.0, \"#0d0887\"], [0.1111111111111111, \"#46039f\"], [0.2222222222222222, \"#7201a8\"], [0.3333333333333333, \"#9c179e\"], [0.4444444444444444, \"#bd3786\"], [0.5555555555555556, \"#d8576b\"], [0.6666666666666666, \"#ed7953\"], [0.7777777777777778, \"#fb9f3a\"], [0.8888888888888888, \"#fdca26\"], [1.0, \"#f0f921\"]], \"type\": \"heatmap\"}], \"heatmapgl\": [{\"colorbar\": {\"outlinewidth\": 0, \"ticks\": \"\"}, \"colorscale\": [[0.0, \"#0d0887\"], [0.1111111111111111, \"#46039f\"], [0.2222222222222222, \"#7201a8\"], [0.3333333333333333, \"#9c179e\"], [0.4444444444444444, \"#bd3786\"], [0.5555555555555556, \"#d8576b\"], [0.6666666666666666, \"#ed7953\"], [0.7777777777777778, \"#fb9f3a\"], [0.8888888888888888, \"#fdca26\"], [1.0, \"#f0f921\"]], \"type\": \"heatmapgl\"}], \"histogram\": [{\"marker\": {\"colorbar\": {\"outlinewidth\": 0, \"ticks\": \"\"}}, \"type\": \"histogram\"}], \"histogram2d\": [{\"colorbar\": {\"outlinewidth\": 0, \"ticks\": \"\"}, \"colorscale\": [[0.0, \"#0d0887\"], [0.1111111111111111, \"#46039f\"], [0.2222222222222222, \"#7201a8\"], [0.3333333333333333, \"#9c179e\"], [0.4444444444444444, \"#bd3786\"], [0.5555555555555556, \"#d8576b\"], [0.6666666666666666, \"#ed7953\"], [0.7777777777777778, \"#fb9f3a\"], [0.8888888888888888, \"#fdca26\"], [1.0, \"#f0f921\"]], \"type\": \"histogram2d\"}], \"histogram2dcontour\": [{\"colorbar\": {\"outlinewidth\": 0, \"ticks\": \"\"}, \"colorscale\": [[0.0, \"#0d0887\"], [0.1111111111111111, \"#46039f\"], [0.2222222222222222, \"#7201a8\"], [0.3333333333333333, \"#9c179e\"], [0.4444444444444444, \"#bd3786\"], [0.5555555555555556, \"#d8576b\"], [0.6666666666666666, \"#ed7953\"], [0.7777777777777778, \"#fb9f3a\"], [0.8888888888888888, \"#fdca26\"], [1.0, \"#f0f921\"]], \"type\": \"histogram2dcontour\"}], \"mesh3d\": [{\"colorbar\": {\"outlinewidth\": 0, \"ticks\": \"\"}, \"type\": \"mesh3d\"}], \"parcoords\": [{\"line\": {\"colorbar\": {\"outlinewidth\": 0, \"ticks\": \"\"}}, \"type\": \"parcoords\"}], \"scatter\": [{\"marker\": {\"colorbar\": {\"outlinewidth\": 0, \"ticks\": \"\"}}, \"type\": \"scatter\"}], \"scatter3d\": [{\"line\": {\"colorbar\": {\"outlinewidth\": 0, \"ticks\": \"\"}}, \"marker\": {\"colorbar\": {\"outlinewidth\": 0, \"ticks\": \"\"}}, \"type\": \"scatter3d\"}], \"scattercarpet\": [{\"marker\": {\"colorbar\": {\"outlinewidth\": 0, \"ticks\": \"\"}}, \"type\": \"scattercarpet\"}], \"scattergeo\": [{\"marker\": {\"colorbar\": {\"outlinewidth\": 0, \"ticks\": \"\"}}, \"type\": \"scattergeo\"}], \"scattergl\": [{\"marker\": {\"colorbar\": {\"outlinewidth\": 0, \"ticks\": \"\"}}, \"type\": \"scattergl\"}], \"scattermapbox\": [{\"marker\": {\"colorbar\": {\"outlinewidth\": 0, \"ticks\": \"\"}}, \"type\": \"scattermapbox\"}], \"scatterpolar\": [{\"marker\": {\"colorbar\": {\"outlinewidth\": 0, \"ticks\": \"\"}}, \"type\": \"scatterpolar\"}], \"scatterpolargl\": [{\"marker\": {\"colorbar\": {\"outlinewidth\": 0, \"ticks\": \"\"}}, \"type\": \"scatterpolargl\"}], \"scatterternary\": [{\"marker\": {\"colorbar\": {\"outlinewidth\": 0, \"ticks\": \"\"}}, \"type\": \"scatterternary\"}], \"surface\": [{\"colorbar\": {\"outlinewidth\": 0, \"ticks\": \"\"}, \"colorscale\": [[0.0, \"#0d0887\"], [0.1111111111111111, \"#46039f\"], [0.2222222222222222, \"#7201a8\"], [0.3333333333333333, \"#9c179e\"], [0.4444444444444444, \"#bd3786\"], [0.5555555555555556, \"#d8576b\"], [0.6666666666666666, \"#ed7953\"], [0.7777777777777778, \"#fb9f3a\"], [0.8888888888888888, \"#fdca26\"], [1.0, \"#f0f921\"]], \"type\": \"surface\"}], \"table\": [{\"cells\": {\"fill\": {\"color\": \"#EBF0F8\"}, \"line\": {\"color\": \"white\"}}, \"header\": {\"fill\": {\"color\": \"#C8D4E3\"}, \"line\": {\"color\": \"white\"}}, \"type\": \"table\"}]}, \"layout\": {\"annotationdefaults\": {\"arrowcolor\": \"#2a3f5f\", \"arrowhead\": 0, \"arrowwidth\": 1}, \"colorscale\": {\"diverging\": [[0, \"#8e0152\"], [0.1, \"#c51b7d\"], [0.2, \"#de77ae\"], [0.3, \"#f1b6da\"], [0.4, \"#fde0ef\"], [0.5, \"#f7f7f7\"], [0.6, \"#e6f5d0\"], [0.7, \"#b8e186\"], [0.8, \"#7fbc41\"], [0.9, \"#4d9221\"], [1, \"#276419\"]], \"sequential\": [[0.0, \"#0d0887\"], [0.1111111111111111, \"#46039f\"], [0.2222222222222222, \"#7201a8\"], [0.3333333333333333, \"#9c179e\"], [0.4444444444444444, \"#bd3786\"], [0.5555555555555556, \"#d8576b\"], [0.6666666666666666, \"#ed7953\"], [0.7777777777777778, \"#fb9f3a\"], [0.8888888888888888, \"#fdca26\"], [1.0, \"#f0f921\"]], \"sequentialminus\": [[0.0, \"#0d0887\"], [0.1111111111111111, \"#46039f\"], [0.2222222222222222, \"#7201a8\"], [0.3333333333333333, \"#9c179e\"], [0.4444444444444444, \"#bd3786\"], [0.5555555555555556, \"#d8576b\"], [0.6666666666666666, \"#ed7953\"], [0.7777777777777778, \"#fb9f3a\"], [0.8888888888888888, \"#fdca26\"], [1.0, \"#f0f921\"]]}, \"colorway\": [\"#636efa\", \"#EF553B\", \"#00cc96\", \"#ab63fa\", \"#FFA15A\", \"#19d3f3\", \"#FF6692\", \"#B6E880\", \"#FF97FF\", \"#FECB52\"], \"font\": {\"color\": \"#2a3f5f\"}, \"geo\": {\"bgcolor\": \"white\", \"lakecolor\": \"white\", \"landcolor\": \"#E5ECF6\", \"showlakes\": true, \"showland\": true, \"subunitcolor\": \"white\"}, \"hoverlabel\": {\"align\": \"left\"}, \"hovermode\": \"closest\", \"mapbox\": {\"style\": \"light\"}, \"paper_bgcolor\": \"white\", \"plot_bgcolor\": \"#E5ECF6\", \"polar\": {\"angularaxis\": {\"gridcolor\": \"white\", \"linecolor\": \"white\", \"ticks\": \"\"}, \"bgcolor\": \"#E5ECF6\", \"radialaxis\": {\"gridcolor\": \"white\", \"linecolor\": \"white\", \"ticks\": \"\"}}, \"scene\": {\"xaxis\": {\"backgroundcolor\": \"#E5ECF6\", \"gridcolor\": \"white\", \"gridwidth\": 2, \"linecolor\": \"white\", \"showbackground\": true, \"ticks\": \"\", \"zerolinecolor\": \"white\"}, \"yaxis\": {\"backgroundcolor\": \"#E5ECF6\", \"gridcolor\": \"white\", \"gridwidth\": 2, \"linecolor\": \"white\", \"showbackground\": true, \"ticks\": \"\", \"zerolinecolor\": \"white\"}, \"zaxis\": {\"backgroundcolor\": \"#E5ECF6\", \"gridcolor\": \"white\", \"gridwidth\": 2, \"linecolor\": \"white\", \"showbackground\": true, \"ticks\": \"\", \"zerolinecolor\": \"white\"}}, \"shapedefaults\": {\"line\": {\"color\": \"#2a3f5f\"}}, \"ternary\": {\"aaxis\": {\"gridcolor\": \"white\", \"linecolor\": \"white\", \"ticks\": \"\"}, \"baxis\": {\"gridcolor\": \"white\", \"linecolor\": \"white\", \"ticks\": \"\"}, \"bgcolor\": \"#E5ECF6\", \"caxis\": {\"gridcolor\": \"white\", \"linecolor\": \"white\", \"ticks\": \"\"}}, \"title\": {\"x\": 0.05}, \"xaxis\": {\"automargin\": true, \"gridcolor\": \"white\", \"linecolor\": \"white\", \"ticks\": \"\", \"zerolinecolor\": \"white\", \"zerolinewidth\": 2}, \"yaxis\": {\"automargin\": true, \"gridcolor\": \"white\", \"linecolor\": \"white\", \"ticks\": \"\", \"zerolinecolor\": \"white\", \"zerolinewidth\": 2}}}, \"title\": {\"text\": \"Pie Chart of Types of Team Interaction, 1965\"}},\n",
       "                        {\"responsive\": true}\n",
       "                    ).then(function(){\n",
       "                            \n",
       "var gd = document.getElementById('58152d77-c74f-44a0-8949-9751236618a6');\n",
       "var x = new MutationObserver(function (mutations, observer) {{\n",
       "        var display = window.getComputedStyle(gd).display;\n",
       "        if (!display || display === 'none') {{\n",
       "            console.log([gd, 'removed!']);\n",
       "            Plotly.purge(gd);\n",
       "            observer.disconnect();\n",
       "        }}\n",
       "}});\n",
       "\n",
       "// Listen for the removal of the full notebook cells\n",
       "var notebookContainer = gd.closest('#notebook-container');\n",
       "if (notebookContainer) {{\n",
       "    x.observe(notebookContainer, {childList: true});\n",
       "}}\n",
       "\n",
       "// Listen for the clearing of the current output cell\n",
       "var outputEl = gd.closest('.output');\n",
       "if (outputEl) {{\n",
       "    x.observe(outputEl, {childList: true});\n",
       "}}\n",
       "\n",
       "                        })\n",
       "                };\n",
       "                });\n",
       "            </script>\n",
       "        </div>"
      ]
     },
     "metadata": {},
     "output_type": "display_data"
    }
   ],
   "source": [
    "plot_pie(1965)"
   ]
  },
  {
   "cell_type": "code",
   "execution_count": 151,
   "metadata": {},
   "outputs": [
    {
     "data": {
      "application/vnd.plotly.v1+json": {
       "config": {
        "plotlyServerURL": "https://plot.ly"
       },
       "data": [
        {
         "direction": "clockwise",
         "hole": 0.2,
         "hoverinfo": "label+value",
         "labels": [
          "Both Unranked",
          "Ranked Beats Unranked",
          "Higher Beats Lower Ranked",
          "Lower Bears Higher Ranked",
          "Unranked Beats Ranked"
         ],
         "marker": {
          "colors": [
           "steelblue",
           "darkgreen",
           "forestgreen",
           "salmon",
           "firebrick"
          ],
          "line": {
           "color": "#000000",
           "width": 2
          }
         },
         "sort": false,
         "textfont": {
          "size": 16
         },
         "textinfo": "percent",
         "type": "pie",
         "values": [
          0.7322834645669292,
          0.1994750656167979,
          0.031496062992125984,
          0.010498687664041995,
          0.026246719160104987
         ]
        }
       ],
       "layout": {
        "template": {
         "data": {
          "bar": [
           {
            "error_x": {
             "color": "#2a3f5f"
            },
            "error_y": {
             "color": "#2a3f5f"
            },
            "marker": {
             "line": {
              "color": "#E5ECF6",
              "width": 0.5
             }
            },
            "type": "bar"
           }
          ],
          "barpolar": [
           {
            "marker": {
             "line": {
              "color": "#E5ECF6",
              "width": 0.5
             }
            },
            "type": "barpolar"
           }
          ],
          "carpet": [
           {
            "aaxis": {
             "endlinecolor": "#2a3f5f",
             "gridcolor": "white",
             "linecolor": "white",
             "minorgridcolor": "white",
             "startlinecolor": "#2a3f5f"
            },
            "baxis": {
             "endlinecolor": "#2a3f5f",
             "gridcolor": "white",
             "linecolor": "white",
             "minorgridcolor": "white",
             "startlinecolor": "#2a3f5f"
            },
            "type": "carpet"
           }
          ],
          "choropleth": [
           {
            "colorbar": {
             "outlinewidth": 0,
             "ticks": ""
            },
            "type": "choropleth"
           }
          ],
          "contour": [
           {
            "colorbar": {
             "outlinewidth": 0,
             "ticks": ""
            },
            "colorscale": [
             [
              0,
              "#0d0887"
             ],
             [
              0.1111111111111111,
              "#46039f"
             ],
             [
              0.2222222222222222,
              "#7201a8"
             ],
             [
              0.3333333333333333,
              "#9c179e"
             ],
             [
              0.4444444444444444,
              "#bd3786"
             ],
             [
              0.5555555555555556,
              "#d8576b"
             ],
             [
              0.6666666666666666,
              "#ed7953"
             ],
             [
              0.7777777777777778,
              "#fb9f3a"
             ],
             [
              0.8888888888888888,
              "#fdca26"
             ],
             [
              1,
              "#f0f921"
             ]
            ],
            "type": "contour"
           }
          ],
          "contourcarpet": [
           {
            "colorbar": {
             "outlinewidth": 0,
             "ticks": ""
            },
            "type": "contourcarpet"
           }
          ],
          "heatmap": [
           {
            "colorbar": {
             "outlinewidth": 0,
             "ticks": ""
            },
            "colorscale": [
             [
              0,
              "#0d0887"
             ],
             [
              0.1111111111111111,
              "#46039f"
             ],
             [
              0.2222222222222222,
              "#7201a8"
             ],
             [
              0.3333333333333333,
              "#9c179e"
             ],
             [
              0.4444444444444444,
              "#bd3786"
             ],
             [
              0.5555555555555556,
              "#d8576b"
             ],
             [
              0.6666666666666666,
              "#ed7953"
             ],
             [
              0.7777777777777778,
              "#fb9f3a"
             ],
             [
              0.8888888888888888,
              "#fdca26"
             ],
             [
              1,
              "#f0f921"
             ]
            ],
            "type": "heatmap"
           }
          ],
          "heatmapgl": [
           {
            "colorbar": {
             "outlinewidth": 0,
             "ticks": ""
            },
            "colorscale": [
             [
              0,
              "#0d0887"
             ],
             [
              0.1111111111111111,
              "#46039f"
             ],
             [
              0.2222222222222222,
              "#7201a8"
             ],
             [
              0.3333333333333333,
              "#9c179e"
             ],
             [
              0.4444444444444444,
              "#bd3786"
             ],
             [
              0.5555555555555556,
              "#d8576b"
             ],
             [
              0.6666666666666666,
              "#ed7953"
             ],
             [
              0.7777777777777778,
              "#fb9f3a"
             ],
             [
              0.8888888888888888,
              "#fdca26"
             ],
             [
              1,
              "#f0f921"
             ]
            ],
            "type": "heatmapgl"
           }
          ],
          "histogram": [
           {
            "marker": {
             "colorbar": {
              "outlinewidth": 0,
              "ticks": ""
             }
            },
            "type": "histogram"
           }
          ],
          "histogram2d": [
           {
            "colorbar": {
             "outlinewidth": 0,
             "ticks": ""
            },
            "colorscale": [
             [
              0,
              "#0d0887"
             ],
             [
              0.1111111111111111,
              "#46039f"
             ],
             [
              0.2222222222222222,
              "#7201a8"
             ],
             [
              0.3333333333333333,
              "#9c179e"
             ],
             [
              0.4444444444444444,
              "#bd3786"
             ],
             [
              0.5555555555555556,
              "#d8576b"
             ],
             [
              0.6666666666666666,
              "#ed7953"
             ],
             [
              0.7777777777777778,
              "#fb9f3a"
             ],
             [
              0.8888888888888888,
              "#fdca26"
             ],
             [
              1,
              "#f0f921"
             ]
            ],
            "type": "histogram2d"
           }
          ],
          "histogram2dcontour": [
           {
            "colorbar": {
             "outlinewidth": 0,
             "ticks": ""
            },
            "colorscale": [
             [
              0,
              "#0d0887"
             ],
             [
              0.1111111111111111,
              "#46039f"
             ],
             [
              0.2222222222222222,
              "#7201a8"
             ],
             [
              0.3333333333333333,
              "#9c179e"
             ],
             [
              0.4444444444444444,
              "#bd3786"
             ],
             [
              0.5555555555555556,
              "#d8576b"
             ],
             [
              0.6666666666666666,
              "#ed7953"
             ],
             [
              0.7777777777777778,
              "#fb9f3a"
             ],
             [
              0.8888888888888888,
              "#fdca26"
             ],
             [
              1,
              "#f0f921"
             ]
            ],
            "type": "histogram2dcontour"
           }
          ],
          "mesh3d": [
           {
            "colorbar": {
             "outlinewidth": 0,
             "ticks": ""
            },
            "type": "mesh3d"
           }
          ],
          "parcoords": [
           {
            "line": {
             "colorbar": {
              "outlinewidth": 0,
              "ticks": ""
             }
            },
            "type": "parcoords"
           }
          ],
          "scatter": [
           {
            "marker": {
             "colorbar": {
              "outlinewidth": 0,
              "ticks": ""
             }
            },
            "type": "scatter"
           }
          ],
          "scatter3d": [
           {
            "line": {
             "colorbar": {
              "outlinewidth": 0,
              "ticks": ""
             }
            },
            "marker": {
             "colorbar": {
              "outlinewidth": 0,
              "ticks": ""
             }
            },
            "type": "scatter3d"
           }
          ],
          "scattercarpet": [
           {
            "marker": {
             "colorbar": {
              "outlinewidth": 0,
              "ticks": ""
             }
            },
            "type": "scattercarpet"
           }
          ],
          "scattergeo": [
           {
            "marker": {
             "colorbar": {
              "outlinewidth": 0,
              "ticks": ""
             }
            },
            "type": "scattergeo"
           }
          ],
          "scattergl": [
           {
            "marker": {
             "colorbar": {
              "outlinewidth": 0,
              "ticks": ""
             }
            },
            "type": "scattergl"
           }
          ],
          "scattermapbox": [
           {
            "marker": {
             "colorbar": {
              "outlinewidth": 0,
              "ticks": ""
             }
            },
            "type": "scattermapbox"
           }
          ],
          "scatterpolar": [
           {
            "marker": {
             "colorbar": {
              "outlinewidth": 0,
              "ticks": ""
             }
            },
            "type": "scatterpolar"
           }
          ],
          "scatterpolargl": [
           {
            "marker": {
             "colorbar": {
              "outlinewidth": 0,
              "ticks": ""
             }
            },
            "type": "scatterpolargl"
           }
          ],
          "scatterternary": [
           {
            "marker": {
             "colorbar": {
              "outlinewidth": 0,
              "ticks": ""
             }
            },
            "type": "scatterternary"
           }
          ],
          "surface": [
           {
            "colorbar": {
             "outlinewidth": 0,
             "ticks": ""
            },
            "colorscale": [
             [
              0,
              "#0d0887"
             ],
             [
              0.1111111111111111,
              "#46039f"
             ],
             [
              0.2222222222222222,
              "#7201a8"
             ],
             [
              0.3333333333333333,
              "#9c179e"
             ],
             [
              0.4444444444444444,
              "#bd3786"
             ],
             [
              0.5555555555555556,
              "#d8576b"
             ],
             [
              0.6666666666666666,
              "#ed7953"
             ],
             [
              0.7777777777777778,
              "#fb9f3a"
             ],
             [
              0.8888888888888888,
              "#fdca26"
             ],
             [
              1,
              "#f0f921"
             ]
            ],
            "type": "surface"
           }
          ],
          "table": [
           {
            "cells": {
             "fill": {
              "color": "#EBF0F8"
             },
             "line": {
              "color": "white"
             }
            },
            "header": {
             "fill": {
              "color": "#C8D4E3"
             },
             "line": {
              "color": "white"
             }
            },
            "type": "table"
           }
          ]
         },
         "layout": {
          "annotationdefaults": {
           "arrowcolor": "#2a3f5f",
           "arrowhead": 0,
           "arrowwidth": 1
          },
          "colorscale": {
           "diverging": [
            [
             0,
             "#8e0152"
            ],
            [
             0.1,
             "#c51b7d"
            ],
            [
             0.2,
             "#de77ae"
            ],
            [
             0.3,
             "#f1b6da"
            ],
            [
             0.4,
             "#fde0ef"
            ],
            [
             0.5,
             "#f7f7f7"
            ],
            [
             0.6,
             "#e6f5d0"
            ],
            [
             0.7,
             "#b8e186"
            ],
            [
             0.8,
             "#7fbc41"
            ],
            [
             0.9,
             "#4d9221"
            ],
            [
             1,
             "#276419"
            ]
           ],
           "sequential": [
            [
             0,
             "#0d0887"
            ],
            [
             0.1111111111111111,
             "#46039f"
            ],
            [
             0.2222222222222222,
             "#7201a8"
            ],
            [
             0.3333333333333333,
             "#9c179e"
            ],
            [
             0.4444444444444444,
             "#bd3786"
            ],
            [
             0.5555555555555556,
             "#d8576b"
            ],
            [
             0.6666666666666666,
             "#ed7953"
            ],
            [
             0.7777777777777778,
             "#fb9f3a"
            ],
            [
             0.8888888888888888,
             "#fdca26"
            ],
            [
             1,
             "#f0f921"
            ]
           ],
           "sequentialminus": [
            [
             0,
             "#0d0887"
            ],
            [
             0.1111111111111111,
             "#46039f"
            ],
            [
             0.2222222222222222,
             "#7201a8"
            ],
            [
             0.3333333333333333,
             "#9c179e"
            ],
            [
             0.4444444444444444,
             "#bd3786"
            ],
            [
             0.5555555555555556,
             "#d8576b"
            ],
            [
             0.6666666666666666,
             "#ed7953"
            ],
            [
             0.7777777777777778,
             "#fb9f3a"
            ],
            [
             0.8888888888888888,
             "#fdca26"
            ],
            [
             1,
             "#f0f921"
            ]
           ]
          },
          "colorway": [
           "#636efa",
           "#EF553B",
           "#00cc96",
           "#ab63fa",
           "#FFA15A",
           "#19d3f3",
           "#FF6692",
           "#B6E880",
           "#FF97FF",
           "#FECB52"
          ],
          "font": {
           "color": "#2a3f5f"
          },
          "geo": {
           "bgcolor": "white",
           "lakecolor": "white",
           "landcolor": "#E5ECF6",
           "showlakes": true,
           "showland": true,
           "subunitcolor": "white"
          },
          "hoverlabel": {
           "align": "left"
          },
          "hovermode": "closest",
          "mapbox": {
           "style": "light"
          },
          "paper_bgcolor": "white",
          "plot_bgcolor": "#E5ECF6",
          "polar": {
           "angularaxis": {
            "gridcolor": "white",
            "linecolor": "white",
            "ticks": ""
           },
           "bgcolor": "#E5ECF6",
           "radialaxis": {
            "gridcolor": "white",
            "linecolor": "white",
            "ticks": ""
           }
          },
          "scene": {
           "xaxis": {
            "backgroundcolor": "#E5ECF6",
            "gridcolor": "white",
            "gridwidth": 2,
            "linecolor": "white",
            "showbackground": true,
            "ticks": "",
            "zerolinecolor": "white"
           },
           "yaxis": {
            "backgroundcolor": "#E5ECF6",
            "gridcolor": "white",
            "gridwidth": 2,
            "linecolor": "white",
            "showbackground": true,
            "ticks": "",
            "zerolinecolor": "white"
           },
           "zaxis": {
            "backgroundcolor": "#E5ECF6",
            "gridcolor": "white",
            "gridwidth": 2,
            "linecolor": "white",
            "showbackground": true,
            "ticks": "",
            "zerolinecolor": "white"
           }
          },
          "shapedefaults": {
           "line": {
            "color": "#2a3f5f"
           }
          },
          "ternary": {
           "aaxis": {
            "gridcolor": "white",
            "linecolor": "white",
            "ticks": ""
           },
           "baxis": {
            "gridcolor": "white",
            "linecolor": "white",
            "ticks": ""
           },
           "bgcolor": "#E5ECF6",
           "caxis": {
            "gridcolor": "white",
            "linecolor": "white",
            "ticks": ""
           }
          },
          "title": {
           "x": 0.05
          },
          "xaxis": {
           "automargin": true,
           "gridcolor": "white",
           "linecolor": "white",
           "ticks": "",
           "zerolinecolor": "white",
           "zerolinewidth": 2
          },
          "yaxis": {
           "automargin": true,
           "gridcolor": "white",
           "linecolor": "white",
           "ticks": "",
           "zerolinecolor": "white",
           "zerolinewidth": 2
          }
         }
        },
        "title": {
         "text": "Pie Chart of Types of Team Interaction, 1973"
        }
       }
      },
      "text/html": [
       "<div>\n",
       "        \n",
       "        \n",
       "            <div id=\"efcc9cd0-87fb-4924-9f5d-ac676ef79ebe\" class=\"plotly-graph-div\" style=\"height:525px; width:100%;\"></div>\n",
       "            <script type=\"text/javascript\">\n",
       "                require([\"plotly\"], function(Plotly) {\n",
       "                    window.PLOTLYENV=window.PLOTLYENV || {};\n",
       "                    \n",
       "                if (document.getElementById(\"efcc9cd0-87fb-4924-9f5d-ac676ef79ebe\")) {\n",
       "                    Plotly.newPlot(\n",
       "                        'efcc9cd0-87fb-4924-9f5d-ac676ef79ebe',\n",
       "                        [{\"direction\": \"clockwise\", \"hole\": 0.2, \"hoverinfo\": \"label+value\", \"labels\": [\"Both Unranked\", \"Ranked Beats Unranked\", \"Higher Beats Lower Ranked\", \"Lower Bears Higher Ranked\", \"Unranked Beats Ranked\"], \"marker\": {\"colors\": [\"steelblue\", \"darkgreen\", \"forestgreen\", \"salmon\", \"firebrick\"], \"line\": {\"color\": \"#000000\", \"width\": 2}}, \"sort\": false, \"textfont\": {\"size\": 16}, \"textinfo\": \"percent\", \"type\": \"pie\", \"values\": [0.7322834645669292, 0.1994750656167979, 0.031496062992125984, 0.010498687664041995, 0.026246719160104987]}],\n",
       "                        {\"template\": {\"data\": {\"bar\": [{\"error_x\": {\"color\": \"#2a3f5f\"}, \"error_y\": {\"color\": \"#2a3f5f\"}, \"marker\": {\"line\": {\"color\": \"#E5ECF6\", \"width\": 0.5}}, \"type\": \"bar\"}], \"barpolar\": [{\"marker\": {\"line\": {\"color\": \"#E5ECF6\", \"width\": 0.5}}, \"type\": \"barpolar\"}], \"carpet\": [{\"aaxis\": {\"endlinecolor\": \"#2a3f5f\", \"gridcolor\": \"white\", \"linecolor\": \"white\", \"minorgridcolor\": \"white\", \"startlinecolor\": \"#2a3f5f\"}, \"baxis\": {\"endlinecolor\": \"#2a3f5f\", \"gridcolor\": \"white\", \"linecolor\": \"white\", \"minorgridcolor\": \"white\", \"startlinecolor\": \"#2a3f5f\"}, \"type\": \"carpet\"}], \"choropleth\": [{\"colorbar\": {\"outlinewidth\": 0, \"ticks\": \"\"}, \"type\": \"choropleth\"}], \"contour\": [{\"colorbar\": {\"outlinewidth\": 0, \"ticks\": \"\"}, \"colorscale\": [[0.0, \"#0d0887\"], [0.1111111111111111, \"#46039f\"], [0.2222222222222222, \"#7201a8\"], [0.3333333333333333, \"#9c179e\"], [0.4444444444444444, \"#bd3786\"], [0.5555555555555556, \"#d8576b\"], [0.6666666666666666, \"#ed7953\"], [0.7777777777777778, \"#fb9f3a\"], [0.8888888888888888, \"#fdca26\"], [1.0, \"#f0f921\"]], \"type\": \"contour\"}], \"contourcarpet\": [{\"colorbar\": {\"outlinewidth\": 0, \"ticks\": \"\"}, \"type\": \"contourcarpet\"}], \"heatmap\": [{\"colorbar\": {\"outlinewidth\": 0, \"ticks\": \"\"}, \"colorscale\": [[0.0, \"#0d0887\"], [0.1111111111111111, \"#46039f\"], [0.2222222222222222, \"#7201a8\"], [0.3333333333333333, \"#9c179e\"], [0.4444444444444444, \"#bd3786\"], [0.5555555555555556, \"#d8576b\"], [0.6666666666666666, \"#ed7953\"], [0.7777777777777778, \"#fb9f3a\"], [0.8888888888888888, \"#fdca26\"], [1.0, \"#f0f921\"]], \"type\": \"heatmap\"}], \"heatmapgl\": [{\"colorbar\": {\"outlinewidth\": 0, \"ticks\": \"\"}, \"colorscale\": [[0.0, \"#0d0887\"], [0.1111111111111111, \"#46039f\"], [0.2222222222222222, \"#7201a8\"], [0.3333333333333333, \"#9c179e\"], [0.4444444444444444, \"#bd3786\"], [0.5555555555555556, \"#d8576b\"], [0.6666666666666666, \"#ed7953\"], [0.7777777777777778, \"#fb9f3a\"], [0.8888888888888888, \"#fdca26\"], [1.0, \"#f0f921\"]], \"type\": \"heatmapgl\"}], \"histogram\": [{\"marker\": {\"colorbar\": {\"outlinewidth\": 0, \"ticks\": \"\"}}, \"type\": \"histogram\"}], \"histogram2d\": [{\"colorbar\": {\"outlinewidth\": 0, \"ticks\": \"\"}, \"colorscale\": [[0.0, \"#0d0887\"], [0.1111111111111111, \"#46039f\"], [0.2222222222222222, \"#7201a8\"], [0.3333333333333333, \"#9c179e\"], [0.4444444444444444, \"#bd3786\"], [0.5555555555555556, \"#d8576b\"], [0.6666666666666666, \"#ed7953\"], [0.7777777777777778, \"#fb9f3a\"], [0.8888888888888888, \"#fdca26\"], [1.0, \"#f0f921\"]], \"type\": \"histogram2d\"}], \"histogram2dcontour\": [{\"colorbar\": {\"outlinewidth\": 0, \"ticks\": \"\"}, \"colorscale\": [[0.0, \"#0d0887\"], [0.1111111111111111, \"#46039f\"], [0.2222222222222222, \"#7201a8\"], [0.3333333333333333, \"#9c179e\"], [0.4444444444444444, \"#bd3786\"], [0.5555555555555556, \"#d8576b\"], [0.6666666666666666, \"#ed7953\"], [0.7777777777777778, \"#fb9f3a\"], [0.8888888888888888, \"#fdca26\"], [1.0, \"#f0f921\"]], \"type\": \"histogram2dcontour\"}], \"mesh3d\": [{\"colorbar\": {\"outlinewidth\": 0, \"ticks\": \"\"}, \"type\": \"mesh3d\"}], \"parcoords\": [{\"line\": {\"colorbar\": {\"outlinewidth\": 0, \"ticks\": \"\"}}, \"type\": \"parcoords\"}], \"scatter\": [{\"marker\": {\"colorbar\": {\"outlinewidth\": 0, \"ticks\": \"\"}}, \"type\": \"scatter\"}], \"scatter3d\": [{\"line\": {\"colorbar\": {\"outlinewidth\": 0, \"ticks\": \"\"}}, \"marker\": {\"colorbar\": {\"outlinewidth\": 0, \"ticks\": \"\"}}, \"type\": \"scatter3d\"}], \"scattercarpet\": [{\"marker\": {\"colorbar\": {\"outlinewidth\": 0, \"ticks\": \"\"}}, \"type\": \"scattercarpet\"}], \"scattergeo\": [{\"marker\": {\"colorbar\": {\"outlinewidth\": 0, \"ticks\": \"\"}}, \"type\": \"scattergeo\"}], \"scattergl\": [{\"marker\": {\"colorbar\": {\"outlinewidth\": 0, \"ticks\": \"\"}}, \"type\": \"scattergl\"}], \"scattermapbox\": [{\"marker\": {\"colorbar\": {\"outlinewidth\": 0, \"ticks\": \"\"}}, \"type\": \"scattermapbox\"}], \"scatterpolar\": [{\"marker\": {\"colorbar\": {\"outlinewidth\": 0, \"ticks\": \"\"}}, \"type\": \"scatterpolar\"}], \"scatterpolargl\": [{\"marker\": {\"colorbar\": {\"outlinewidth\": 0, \"ticks\": \"\"}}, \"type\": \"scatterpolargl\"}], \"scatterternary\": [{\"marker\": {\"colorbar\": {\"outlinewidth\": 0, \"ticks\": \"\"}}, \"type\": \"scatterternary\"}], \"surface\": [{\"colorbar\": {\"outlinewidth\": 0, \"ticks\": \"\"}, \"colorscale\": [[0.0, \"#0d0887\"], [0.1111111111111111, \"#46039f\"], [0.2222222222222222, \"#7201a8\"], [0.3333333333333333, \"#9c179e\"], [0.4444444444444444, \"#bd3786\"], [0.5555555555555556, \"#d8576b\"], [0.6666666666666666, \"#ed7953\"], [0.7777777777777778, \"#fb9f3a\"], [0.8888888888888888, \"#fdca26\"], [1.0, \"#f0f921\"]], \"type\": \"surface\"}], \"table\": [{\"cells\": {\"fill\": {\"color\": \"#EBF0F8\"}, \"line\": {\"color\": \"white\"}}, \"header\": {\"fill\": {\"color\": \"#C8D4E3\"}, \"line\": {\"color\": \"white\"}}, \"type\": \"table\"}]}, \"layout\": {\"annotationdefaults\": {\"arrowcolor\": \"#2a3f5f\", \"arrowhead\": 0, \"arrowwidth\": 1}, \"colorscale\": {\"diverging\": [[0, \"#8e0152\"], [0.1, \"#c51b7d\"], [0.2, \"#de77ae\"], [0.3, \"#f1b6da\"], [0.4, \"#fde0ef\"], [0.5, \"#f7f7f7\"], [0.6, \"#e6f5d0\"], [0.7, \"#b8e186\"], [0.8, \"#7fbc41\"], [0.9, \"#4d9221\"], [1, \"#276419\"]], \"sequential\": [[0.0, \"#0d0887\"], [0.1111111111111111, \"#46039f\"], [0.2222222222222222, \"#7201a8\"], [0.3333333333333333, \"#9c179e\"], [0.4444444444444444, \"#bd3786\"], [0.5555555555555556, \"#d8576b\"], [0.6666666666666666, \"#ed7953\"], [0.7777777777777778, \"#fb9f3a\"], [0.8888888888888888, \"#fdca26\"], [1.0, \"#f0f921\"]], \"sequentialminus\": [[0.0, \"#0d0887\"], [0.1111111111111111, \"#46039f\"], [0.2222222222222222, \"#7201a8\"], [0.3333333333333333, \"#9c179e\"], [0.4444444444444444, \"#bd3786\"], [0.5555555555555556, \"#d8576b\"], [0.6666666666666666, \"#ed7953\"], [0.7777777777777778, \"#fb9f3a\"], [0.8888888888888888, \"#fdca26\"], [1.0, \"#f0f921\"]]}, \"colorway\": [\"#636efa\", \"#EF553B\", \"#00cc96\", \"#ab63fa\", \"#FFA15A\", \"#19d3f3\", \"#FF6692\", \"#B6E880\", \"#FF97FF\", \"#FECB52\"], \"font\": {\"color\": \"#2a3f5f\"}, \"geo\": {\"bgcolor\": \"white\", \"lakecolor\": \"white\", \"landcolor\": \"#E5ECF6\", \"showlakes\": true, \"showland\": true, \"subunitcolor\": \"white\"}, \"hoverlabel\": {\"align\": \"left\"}, \"hovermode\": \"closest\", \"mapbox\": {\"style\": \"light\"}, \"paper_bgcolor\": \"white\", \"plot_bgcolor\": \"#E5ECF6\", \"polar\": {\"angularaxis\": {\"gridcolor\": \"white\", \"linecolor\": \"white\", \"ticks\": \"\"}, \"bgcolor\": \"#E5ECF6\", \"radialaxis\": {\"gridcolor\": \"white\", \"linecolor\": \"white\", \"ticks\": \"\"}}, \"scene\": {\"xaxis\": {\"backgroundcolor\": \"#E5ECF6\", \"gridcolor\": \"white\", \"gridwidth\": 2, \"linecolor\": \"white\", \"showbackground\": true, \"ticks\": \"\", \"zerolinecolor\": \"white\"}, \"yaxis\": {\"backgroundcolor\": \"#E5ECF6\", \"gridcolor\": \"white\", \"gridwidth\": 2, \"linecolor\": \"white\", \"showbackground\": true, \"ticks\": \"\", \"zerolinecolor\": \"white\"}, \"zaxis\": {\"backgroundcolor\": \"#E5ECF6\", \"gridcolor\": \"white\", \"gridwidth\": 2, \"linecolor\": \"white\", \"showbackground\": true, \"ticks\": \"\", \"zerolinecolor\": \"white\"}}, \"shapedefaults\": {\"line\": {\"color\": \"#2a3f5f\"}}, \"ternary\": {\"aaxis\": {\"gridcolor\": \"white\", \"linecolor\": \"white\", \"ticks\": \"\"}, \"baxis\": {\"gridcolor\": \"white\", \"linecolor\": \"white\", \"ticks\": \"\"}, \"bgcolor\": \"#E5ECF6\", \"caxis\": {\"gridcolor\": \"white\", \"linecolor\": \"white\", \"ticks\": \"\"}}, \"title\": {\"x\": 0.05}, \"xaxis\": {\"automargin\": true, \"gridcolor\": \"white\", \"linecolor\": \"white\", \"ticks\": \"\", \"zerolinecolor\": \"white\", \"zerolinewidth\": 2}, \"yaxis\": {\"automargin\": true, \"gridcolor\": \"white\", \"linecolor\": \"white\", \"ticks\": \"\", \"zerolinecolor\": \"white\", \"zerolinewidth\": 2}}}, \"title\": {\"text\": \"Pie Chart of Types of Team Interaction, 1973\"}},\n",
       "                        {\"responsive\": true}\n",
       "                    ).then(function(){\n",
       "                            \n",
       "var gd = document.getElementById('efcc9cd0-87fb-4924-9f5d-ac676ef79ebe');\n",
       "var x = new MutationObserver(function (mutations, observer) {{\n",
       "        var display = window.getComputedStyle(gd).display;\n",
       "        if (!display || display === 'none') {{\n",
       "            console.log([gd, 'removed!']);\n",
       "            Plotly.purge(gd);\n",
       "            observer.disconnect();\n",
       "        }}\n",
       "}});\n",
       "\n",
       "// Listen for the removal of the full notebook cells\n",
       "var notebookContainer = gd.closest('#notebook-container');\n",
       "if (notebookContainer) {{\n",
       "    x.observe(notebookContainer, {childList: true});\n",
       "}}\n",
       "\n",
       "// Listen for the clearing of the current output cell\n",
       "var outputEl = gd.closest('.output');\n",
       "if (outputEl) {{\n",
       "    x.observe(outputEl, {childList: true});\n",
       "}}\n",
       "\n",
       "                        })\n",
       "                };\n",
       "                });\n",
       "            </script>\n",
       "        </div>"
      ]
     },
     "metadata": {},
     "output_type": "display_data"
    }
   ],
   "source": [
    "plot_pie(1973)"
   ]
  },
  {
   "cell_type": "code",
   "execution_count": 152,
   "metadata": {},
   "outputs": [
    {
     "data": {
      "application/vnd.plotly.v1+json": {
       "config": {
        "plotlyServerURL": "https://plot.ly"
       },
       "data": [
        {
         "direction": "clockwise",
         "hole": 0.2,
         "hoverinfo": "label+value",
         "labels": [
          "Both Unranked",
          "Ranked Beats Unranked",
          "Higher Beats Lower Ranked",
          "Lower Bears Higher Ranked",
          "Unranked Beats Ranked"
         ],
         "marker": {
          "colors": [
           "steelblue",
           "darkgreen",
           "forestgreen",
           "salmon",
           "firebrick"
          ],
          "line": {
           "color": "#000000",
           "width": 2
          }
         },
         "sort": false,
         "textfont": {
          "size": 16
         },
         "textinfo": "percent",
         "type": "pie",
         "values": [
          0.6821266968325792,
          0.19683257918552036,
          0.0418552036199095,
          0.023755656108597284,
          0.05542986425339366
         ]
        }
       ],
       "layout": {
        "template": {
         "data": {
          "bar": [
           {
            "error_x": {
             "color": "#2a3f5f"
            },
            "error_y": {
             "color": "#2a3f5f"
            },
            "marker": {
             "line": {
              "color": "#E5ECF6",
              "width": 0.5
             }
            },
            "type": "bar"
           }
          ],
          "barpolar": [
           {
            "marker": {
             "line": {
              "color": "#E5ECF6",
              "width": 0.5
             }
            },
            "type": "barpolar"
           }
          ],
          "carpet": [
           {
            "aaxis": {
             "endlinecolor": "#2a3f5f",
             "gridcolor": "white",
             "linecolor": "white",
             "minorgridcolor": "white",
             "startlinecolor": "#2a3f5f"
            },
            "baxis": {
             "endlinecolor": "#2a3f5f",
             "gridcolor": "white",
             "linecolor": "white",
             "minorgridcolor": "white",
             "startlinecolor": "#2a3f5f"
            },
            "type": "carpet"
           }
          ],
          "choropleth": [
           {
            "colorbar": {
             "outlinewidth": 0,
             "ticks": ""
            },
            "type": "choropleth"
           }
          ],
          "contour": [
           {
            "colorbar": {
             "outlinewidth": 0,
             "ticks": ""
            },
            "colorscale": [
             [
              0,
              "#0d0887"
             ],
             [
              0.1111111111111111,
              "#46039f"
             ],
             [
              0.2222222222222222,
              "#7201a8"
             ],
             [
              0.3333333333333333,
              "#9c179e"
             ],
             [
              0.4444444444444444,
              "#bd3786"
             ],
             [
              0.5555555555555556,
              "#d8576b"
             ],
             [
              0.6666666666666666,
              "#ed7953"
             ],
             [
              0.7777777777777778,
              "#fb9f3a"
             ],
             [
              0.8888888888888888,
              "#fdca26"
             ],
             [
              1,
              "#f0f921"
             ]
            ],
            "type": "contour"
           }
          ],
          "contourcarpet": [
           {
            "colorbar": {
             "outlinewidth": 0,
             "ticks": ""
            },
            "type": "contourcarpet"
           }
          ],
          "heatmap": [
           {
            "colorbar": {
             "outlinewidth": 0,
             "ticks": ""
            },
            "colorscale": [
             [
              0,
              "#0d0887"
             ],
             [
              0.1111111111111111,
              "#46039f"
             ],
             [
              0.2222222222222222,
              "#7201a8"
             ],
             [
              0.3333333333333333,
              "#9c179e"
             ],
             [
              0.4444444444444444,
              "#bd3786"
             ],
             [
              0.5555555555555556,
              "#d8576b"
             ],
             [
              0.6666666666666666,
              "#ed7953"
             ],
             [
              0.7777777777777778,
              "#fb9f3a"
             ],
             [
              0.8888888888888888,
              "#fdca26"
             ],
             [
              1,
              "#f0f921"
             ]
            ],
            "type": "heatmap"
           }
          ],
          "heatmapgl": [
           {
            "colorbar": {
             "outlinewidth": 0,
             "ticks": ""
            },
            "colorscale": [
             [
              0,
              "#0d0887"
             ],
             [
              0.1111111111111111,
              "#46039f"
             ],
             [
              0.2222222222222222,
              "#7201a8"
             ],
             [
              0.3333333333333333,
              "#9c179e"
             ],
             [
              0.4444444444444444,
              "#bd3786"
             ],
             [
              0.5555555555555556,
              "#d8576b"
             ],
             [
              0.6666666666666666,
              "#ed7953"
             ],
             [
              0.7777777777777778,
              "#fb9f3a"
             ],
             [
              0.8888888888888888,
              "#fdca26"
             ],
             [
              1,
              "#f0f921"
             ]
            ],
            "type": "heatmapgl"
           }
          ],
          "histogram": [
           {
            "marker": {
             "colorbar": {
              "outlinewidth": 0,
              "ticks": ""
             }
            },
            "type": "histogram"
           }
          ],
          "histogram2d": [
           {
            "colorbar": {
             "outlinewidth": 0,
             "ticks": ""
            },
            "colorscale": [
             [
              0,
              "#0d0887"
             ],
             [
              0.1111111111111111,
              "#46039f"
             ],
             [
              0.2222222222222222,
              "#7201a8"
             ],
             [
              0.3333333333333333,
              "#9c179e"
             ],
             [
              0.4444444444444444,
              "#bd3786"
             ],
             [
              0.5555555555555556,
              "#d8576b"
             ],
             [
              0.6666666666666666,
              "#ed7953"
             ],
             [
              0.7777777777777778,
              "#fb9f3a"
             ],
             [
              0.8888888888888888,
              "#fdca26"
             ],
             [
              1,
              "#f0f921"
             ]
            ],
            "type": "histogram2d"
           }
          ],
          "histogram2dcontour": [
           {
            "colorbar": {
             "outlinewidth": 0,
             "ticks": ""
            },
            "colorscale": [
             [
              0,
              "#0d0887"
             ],
             [
              0.1111111111111111,
              "#46039f"
             ],
             [
              0.2222222222222222,
              "#7201a8"
             ],
             [
              0.3333333333333333,
              "#9c179e"
             ],
             [
              0.4444444444444444,
              "#bd3786"
             ],
             [
              0.5555555555555556,
              "#d8576b"
             ],
             [
              0.6666666666666666,
              "#ed7953"
             ],
             [
              0.7777777777777778,
              "#fb9f3a"
             ],
             [
              0.8888888888888888,
              "#fdca26"
             ],
             [
              1,
              "#f0f921"
             ]
            ],
            "type": "histogram2dcontour"
           }
          ],
          "mesh3d": [
           {
            "colorbar": {
             "outlinewidth": 0,
             "ticks": ""
            },
            "type": "mesh3d"
           }
          ],
          "parcoords": [
           {
            "line": {
             "colorbar": {
              "outlinewidth": 0,
              "ticks": ""
             }
            },
            "type": "parcoords"
           }
          ],
          "scatter": [
           {
            "marker": {
             "colorbar": {
              "outlinewidth": 0,
              "ticks": ""
             }
            },
            "type": "scatter"
           }
          ],
          "scatter3d": [
           {
            "line": {
             "colorbar": {
              "outlinewidth": 0,
              "ticks": ""
             }
            },
            "marker": {
             "colorbar": {
              "outlinewidth": 0,
              "ticks": ""
             }
            },
            "type": "scatter3d"
           }
          ],
          "scattercarpet": [
           {
            "marker": {
             "colorbar": {
              "outlinewidth": 0,
              "ticks": ""
             }
            },
            "type": "scattercarpet"
           }
          ],
          "scattergeo": [
           {
            "marker": {
             "colorbar": {
              "outlinewidth": 0,
              "ticks": ""
             }
            },
            "type": "scattergeo"
           }
          ],
          "scattergl": [
           {
            "marker": {
             "colorbar": {
              "outlinewidth": 0,
              "ticks": ""
             }
            },
            "type": "scattergl"
           }
          ],
          "scattermapbox": [
           {
            "marker": {
             "colorbar": {
              "outlinewidth": 0,
              "ticks": ""
             }
            },
            "type": "scattermapbox"
           }
          ],
          "scatterpolar": [
           {
            "marker": {
             "colorbar": {
              "outlinewidth": 0,
              "ticks": ""
             }
            },
            "type": "scatterpolar"
           }
          ],
          "scatterpolargl": [
           {
            "marker": {
             "colorbar": {
              "outlinewidth": 0,
              "ticks": ""
             }
            },
            "type": "scatterpolargl"
           }
          ],
          "scatterternary": [
           {
            "marker": {
             "colorbar": {
              "outlinewidth": 0,
              "ticks": ""
             }
            },
            "type": "scatterternary"
           }
          ],
          "surface": [
           {
            "colorbar": {
             "outlinewidth": 0,
             "ticks": ""
            },
            "colorscale": [
             [
              0,
              "#0d0887"
             ],
             [
              0.1111111111111111,
              "#46039f"
             ],
             [
              0.2222222222222222,
              "#7201a8"
             ],
             [
              0.3333333333333333,
              "#9c179e"
             ],
             [
              0.4444444444444444,
              "#bd3786"
             ],
             [
              0.5555555555555556,
              "#d8576b"
             ],
             [
              0.6666666666666666,
              "#ed7953"
             ],
             [
              0.7777777777777778,
              "#fb9f3a"
             ],
             [
              0.8888888888888888,
              "#fdca26"
             ],
             [
              1,
              "#f0f921"
             ]
            ],
            "type": "surface"
           }
          ],
          "table": [
           {
            "cells": {
             "fill": {
              "color": "#EBF0F8"
             },
             "line": {
              "color": "white"
             }
            },
            "header": {
             "fill": {
              "color": "#C8D4E3"
             },
             "line": {
              "color": "white"
             }
            },
            "type": "table"
           }
          ]
         },
         "layout": {
          "annotationdefaults": {
           "arrowcolor": "#2a3f5f",
           "arrowhead": 0,
           "arrowwidth": 1
          },
          "colorscale": {
           "diverging": [
            [
             0,
             "#8e0152"
            ],
            [
             0.1,
             "#c51b7d"
            ],
            [
             0.2,
             "#de77ae"
            ],
            [
             0.3,
             "#f1b6da"
            ],
            [
             0.4,
             "#fde0ef"
            ],
            [
             0.5,
             "#f7f7f7"
            ],
            [
             0.6,
             "#e6f5d0"
            ],
            [
             0.7,
             "#b8e186"
            ],
            [
             0.8,
             "#7fbc41"
            ],
            [
             0.9,
             "#4d9221"
            ],
            [
             1,
             "#276419"
            ]
           ],
           "sequential": [
            [
             0,
             "#0d0887"
            ],
            [
             0.1111111111111111,
             "#46039f"
            ],
            [
             0.2222222222222222,
             "#7201a8"
            ],
            [
             0.3333333333333333,
             "#9c179e"
            ],
            [
             0.4444444444444444,
             "#bd3786"
            ],
            [
             0.5555555555555556,
             "#d8576b"
            ],
            [
             0.6666666666666666,
             "#ed7953"
            ],
            [
             0.7777777777777778,
             "#fb9f3a"
            ],
            [
             0.8888888888888888,
             "#fdca26"
            ],
            [
             1,
             "#f0f921"
            ]
           ],
           "sequentialminus": [
            [
             0,
             "#0d0887"
            ],
            [
             0.1111111111111111,
             "#46039f"
            ],
            [
             0.2222222222222222,
             "#7201a8"
            ],
            [
             0.3333333333333333,
             "#9c179e"
            ],
            [
             0.4444444444444444,
             "#bd3786"
            ],
            [
             0.5555555555555556,
             "#d8576b"
            ],
            [
             0.6666666666666666,
             "#ed7953"
            ],
            [
             0.7777777777777778,
             "#fb9f3a"
            ],
            [
             0.8888888888888888,
             "#fdca26"
            ],
            [
             1,
             "#f0f921"
            ]
           ]
          },
          "colorway": [
           "#636efa",
           "#EF553B",
           "#00cc96",
           "#ab63fa",
           "#FFA15A",
           "#19d3f3",
           "#FF6692",
           "#B6E880",
           "#FF97FF",
           "#FECB52"
          ],
          "font": {
           "color": "#2a3f5f"
          },
          "geo": {
           "bgcolor": "white",
           "lakecolor": "white",
           "landcolor": "#E5ECF6",
           "showlakes": true,
           "showland": true,
           "subunitcolor": "white"
          },
          "hoverlabel": {
           "align": "left"
          },
          "hovermode": "closest",
          "mapbox": {
           "style": "light"
          },
          "paper_bgcolor": "white",
          "plot_bgcolor": "#E5ECF6",
          "polar": {
           "angularaxis": {
            "gridcolor": "white",
            "linecolor": "white",
            "ticks": ""
           },
           "bgcolor": "#E5ECF6",
           "radialaxis": {
            "gridcolor": "white",
            "linecolor": "white",
            "ticks": ""
           }
          },
          "scene": {
           "xaxis": {
            "backgroundcolor": "#E5ECF6",
            "gridcolor": "white",
            "gridwidth": 2,
            "linecolor": "white",
            "showbackground": true,
            "ticks": "",
            "zerolinecolor": "white"
           },
           "yaxis": {
            "backgroundcolor": "#E5ECF6",
            "gridcolor": "white",
            "gridwidth": 2,
            "linecolor": "white",
            "showbackground": true,
            "ticks": "",
            "zerolinecolor": "white"
           },
           "zaxis": {
            "backgroundcolor": "#E5ECF6",
            "gridcolor": "white",
            "gridwidth": 2,
            "linecolor": "white",
            "showbackground": true,
            "ticks": "",
            "zerolinecolor": "white"
           }
          },
          "shapedefaults": {
           "line": {
            "color": "#2a3f5f"
           }
          },
          "ternary": {
           "aaxis": {
            "gridcolor": "white",
            "linecolor": "white",
            "ticks": ""
           },
           "baxis": {
            "gridcolor": "white",
            "linecolor": "white",
            "ticks": ""
           },
           "bgcolor": "#E5ECF6",
           "caxis": {
            "gridcolor": "white",
            "linecolor": "white",
            "ticks": ""
           }
          },
          "title": {
           "x": 0.05
          },
          "xaxis": {
           "automargin": true,
           "gridcolor": "white",
           "linecolor": "white",
           "ticks": "",
           "zerolinecolor": "white",
           "zerolinewidth": 2
          },
          "yaxis": {
           "automargin": true,
           "gridcolor": "white",
           "linecolor": "white",
           "ticks": "",
           "zerolinecolor": "white",
           "zerolinewidth": 2
          }
         }
        },
        "title": {
         "text": "Pie Chart of Types of Team Interaction, 2018"
        }
       }
      },
      "text/html": [
       "<div>\n",
       "        \n",
       "        \n",
       "            <div id=\"f25f4247-eff7-4cdd-8f7a-50f108d217cc\" class=\"plotly-graph-div\" style=\"height:525px; width:100%;\"></div>\n",
       "            <script type=\"text/javascript\">\n",
       "                require([\"plotly\"], function(Plotly) {\n",
       "                    window.PLOTLYENV=window.PLOTLYENV || {};\n",
       "                    \n",
       "                if (document.getElementById(\"f25f4247-eff7-4cdd-8f7a-50f108d217cc\")) {\n",
       "                    Plotly.newPlot(\n",
       "                        'f25f4247-eff7-4cdd-8f7a-50f108d217cc',\n",
       "                        [{\"direction\": \"clockwise\", \"hole\": 0.2, \"hoverinfo\": \"label+value\", \"labels\": [\"Both Unranked\", \"Ranked Beats Unranked\", \"Higher Beats Lower Ranked\", \"Lower Bears Higher Ranked\", \"Unranked Beats Ranked\"], \"marker\": {\"colors\": [\"steelblue\", \"darkgreen\", \"forestgreen\", \"salmon\", \"firebrick\"], \"line\": {\"color\": \"#000000\", \"width\": 2}}, \"sort\": false, \"textfont\": {\"size\": 16}, \"textinfo\": \"percent\", \"type\": \"pie\", \"values\": [0.6821266968325792, 0.19683257918552036, 0.0418552036199095, 0.023755656108597284, 0.05542986425339366]}],\n",
       "                        {\"template\": {\"data\": {\"bar\": [{\"error_x\": {\"color\": \"#2a3f5f\"}, \"error_y\": {\"color\": \"#2a3f5f\"}, \"marker\": {\"line\": {\"color\": \"#E5ECF6\", \"width\": 0.5}}, \"type\": \"bar\"}], \"barpolar\": [{\"marker\": {\"line\": {\"color\": \"#E5ECF6\", \"width\": 0.5}}, \"type\": \"barpolar\"}], \"carpet\": [{\"aaxis\": {\"endlinecolor\": \"#2a3f5f\", \"gridcolor\": \"white\", \"linecolor\": \"white\", \"minorgridcolor\": \"white\", \"startlinecolor\": \"#2a3f5f\"}, \"baxis\": {\"endlinecolor\": \"#2a3f5f\", \"gridcolor\": \"white\", \"linecolor\": \"white\", \"minorgridcolor\": \"white\", \"startlinecolor\": \"#2a3f5f\"}, \"type\": \"carpet\"}], \"choropleth\": [{\"colorbar\": {\"outlinewidth\": 0, \"ticks\": \"\"}, \"type\": \"choropleth\"}], \"contour\": [{\"colorbar\": {\"outlinewidth\": 0, \"ticks\": \"\"}, \"colorscale\": [[0.0, \"#0d0887\"], [0.1111111111111111, \"#46039f\"], [0.2222222222222222, \"#7201a8\"], [0.3333333333333333, \"#9c179e\"], [0.4444444444444444, \"#bd3786\"], [0.5555555555555556, \"#d8576b\"], [0.6666666666666666, \"#ed7953\"], [0.7777777777777778, \"#fb9f3a\"], [0.8888888888888888, \"#fdca26\"], [1.0, \"#f0f921\"]], \"type\": \"contour\"}], \"contourcarpet\": [{\"colorbar\": {\"outlinewidth\": 0, \"ticks\": \"\"}, \"type\": \"contourcarpet\"}], \"heatmap\": [{\"colorbar\": {\"outlinewidth\": 0, \"ticks\": \"\"}, \"colorscale\": [[0.0, \"#0d0887\"], [0.1111111111111111, \"#46039f\"], [0.2222222222222222, \"#7201a8\"], [0.3333333333333333, \"#9c179e\"], [0.4444444444444444, \"#bd3786\"], [0.5555555555555556, \"#d8576b\"], [0.6666666666666666, \"#ed7953\"], [0.7777777777777778, \"#fb9f3a\"], [0.8888888888888888, \"#fdca26\"], [1.0, \"#f0f921\"]], \"type\": \"heatmap\"}], \"heatmapgl\": [{\"colorbar\": {\"outlinewidth\": 0, \"ticks\": \"\"}, \"colorscale\": [[0.0, \"#0d0887\"], [0.1111111111111111, \"#46039f\"], [0.2222222222222222, \"#7201a8\"], [0.3333333333333333, \"#9c179e\"], [0.4444444444444444, \"#bd3786\"], [0.5555555555555556, \"#d8576b\"], [0.6666666666666666, \"#ed7953\"], [0.7777777777777778, \"#fb9f3a\"], [0.8888888888888888, \"#fdca26\"], [1.0, \"#f0f921\"]], \"type\": \"heatmapgl\"}], \"histogram\": [{\"marker\": {\"colorbar\": {\"outlinewidth\": 0, \"ticks\": \"\"}}, \"type\": \"histogram\"}], \"histogram2d\": [{\"colorbar\": {\"outlinewidth\": 0, \"ticks\": \"\"}, \"colorscale\": [[0.0, \"#0d0887\"], [0.1111111111111111, \"#46039f\"], [0.2222222222222222, \"#7201a8\"], [0.3333333333333333, \"#9c179e\"], [0.4444444444444444, \"#bd3786\"], [0.5555555555555556, \"#d8576b\"], [0.6666666666666666, \"#ed7953\"], [0.7777777777777778, \"#fb9f3a\"], [0.8888888888888888, \"#fdca26\"], [1.0, \"#f0f921\"]], \"type\": \"histogram2d\"}], \"histogram2dcontour\": [{\"colorbar\": {\"outlinewidth\": 0, \"ticks\": \"\"}, \"colorscale\": [[0.0, \"#0d0887\"], [0.1111111111111111, \"#46039f\"], [0.2222222222222222, \"#7201a8\"], [0.3333333333333333, \"#9c179e\"], [0.4444444444444444, \"#bd3786\"], [0.5555555555555556, \"#d8576b\"], [0.6666666666666666, \"#ed7953\"], [0.7777777777777778, \"#fb9f3a\"], [0.8888888888888888, \"#fdca26\"], [1.0, \"#f0f921\"]], \"type\": \"histogram2dcontour\"}], \"mesh3d\": [{\"colorbar\": {\"outlinewidth\": 0, \"ticks\": \"\"}, \"type\": \"mesh3d\"}], \"parcoords\": [{\"line\": {\"colorbar\": {\"outlinewidth\": 0, \"ticks\": \"\"}}, \"type\": \"parcoords\"}], \"scatter\": [{\"marker\": {\"colorbar\": {\"outlinewidth\": 0, \"ticks\": \"\"}}, \"type\": \"scatter\"}], \"scatter3d\": [{\"line\": {\"colorbar\": {\"outlinewidth\": 0, \"ticks\": \"\"}}, \"marker\": {\"colorbar\": {\"outlinewidth\": 0, \"ticks\": \"\"}}, \"type\": \"scatter3d\"}], \"scattercarpet\": [{\"marker\": {\"colorbar\": {\"outlinewidth\": 0, \"ticks\": \"\"}}, \"type\": \"scattercarpet\"}], \"scattergeo\": [{\"marker\": {\"colorbar\": {\"outlinewidth\": 0, \"ticks\": \"\"}}, \"type\": \"scattergeo\"}], \"scattergl\": [{\"marker\": {\"colorbar\": {\"outlinewidth\": 0, \"ticks\": \"\"}}, \"type\": \"scattergl\"}], \"scattermapbox\": [{\"marker\": {\"colorbar\": {\"outlinewidth\": 0, \"ticks\": \"\"}}, \"type\": \"scattermapbox\"}], \"scatterpolar\": [{\"marker\": {\"colorbar\": {\"outlinewidth\": 0, \"ticks\": \"\"}}, \"type\": \"scatterpolar\"}], \"scatterpolargl\": [{\"marker\": {\"colorbar\": {\"outlinewidth\": 0, \"ticks\": \"\"}}, \"type\": \"scatterpolargl\"}], \"scatterternary\": [{\"marker\": {\"colorbar\": {\"outlinewidth\": 0, \"ticks\": \"\"}}, \"type\": \"scatterternary\"}], \"surface\": [{\"colorbar\": {\"outlinewidth\": 0, \"ticks\": \"\"}, \"colorscale\": [[0.0, \"#0d0887\"], [0.1111111111111111, \"#46039f\"], [0.2222222222222222, \"#7201a8\"], [0.3333333333333333, \"#9c179e\"], [0.4444444444444444, \"#bd3786\"], [0.5555555555555556, \"#d8576b\"], [0.6666666666666666, \"#ed7953\"], [0.7777777777777778, \"#fb9f3a\"], [0.8888888888888888, \"#fdca26\"], [1.0, \"#f0f921\"]], \"type\": \"surface\"}], \"table\": [{\"cells\": {\"fill\": {\"color\": \"#EBF0F8\"}, \"line\": {\"color\": \"white\"}}, \"header\": {\"fill\": {\"color\": \"#C8D4E3\"}, \"line\": {\"color\": \"white\"}}, \"type\": \"table\"}]}, \"layout\": {\"annotationdefaults\": {\"arrowcolor\": \"#2a3f5f\", \"arrowhead\": 0, \"arrowwidth\": 1}, \"colorscale\": {\"diverging\": [[0, \"#8e0152\"], [0.1, \"#c51b7d\"], [0.2, \"#de77ae\"], [0.3, \"#f1b6da\"], [0.4, \"#fde0ef\"], [0.5, \"#f7f7f7\"], [0.6, \"#e6f5d0\"], [0.7, \"#b8e186\"], [0.8, \"#7fbc41\"], [0.9, \"#4d9221\"], [1, \"#276419\"]], \"sequential\": [[0.0, \"#0d0887\"], [0.1111111111111111, \"#46039f\"], [0.2222222222222222, \"#7201a8\"], [0.3333333333333333, \"#9c179e\"], [0.4444444444444444, \"#bd3786\"], [0.5555555555555556, \"#d8576b\"], [0.6666666666666666, \"#ed7953\"], [0.7777777777777778, \"#fb9f3a\"], [0.8888888888888888, \"#fdca26\"], [1.0, \"#f0f921\"]], \"sequentialminus\": [[0.0, \"#0d0887\"], [0.1111111111111111, \"#46039f\"], [0.2222222222222222, \"#7201a8\"], [0.3333333333333333, \"#9c179e\"], [0.4444444444444444, \"#bd3786\"], [0.5555555555555556, \"#d8576b\"], [0.6666666666666666, \"#ed7953\"], [0.7777777777777778, \"#fb9f3a\"], [0.8888888888888888, \"#fdca26\"], [1.0, \"#f0f921\"]]}, \"colorway\": [\"#636efa\", \"#EF553B\", \"#00cc96\", \"#ab63fa\", \"#FFA15A\", \"#19d3f3\", \"#FF6692\", \"#B6E880\", \"#FF97FF\", \"#FECB52\"], \"font\": {\"color\": \"#2a3f5f\"}, \"geo\": {\"bgcolor\": \"white\", \"lakecolor\": \"white\", \"landcolor\": \"#E5ECF6\", \"showlakes\": true, \"showland\": true, \"subunitcolor\": \"white\"}, \"hoverlabel\": {\"align\": \"left\"}, \"hovermode\": \"closest\", \"mapbox\": {\"style\": \"light\"}, \"paper_bgcolor\": \"white\", \"plot_bgcolor\": \"#E5ECF6\", \"polar\": {\"angularaxis\": {\"gridcolor\": \"white\", \"linecolor\": \"white\", \"ticks\": \"\"}, \"bgcolor\": \"#E5ECF6\", \"radialaxis\": {\"gridcolor\": \"white\", \"linecolor\": \"white\", \"ticks\": \"\"}}, \"scene\": {\"xaxis\": {\"backgroundcolor\": \"#E5ECF6\", \"gridcolor\": \"white\", \"gridwidth\": 2, \"linecolor\": \"white\", \"showbackground\": true, \"ticks\": \"\", \"zerolinecolor\": \"white\"}, \"yaxis\": {\"backgroundcolor\": \"#E5ECF6\", \"gridcolor\": \"white\", \"gridwidth\": 2, \"linecolor\": \"white\", \"showbackground\": true, \"ticks\": \"\", \"zerolinecolor\": \"white\"}, \"zaxis\": {\"backgroundcolor\": \"#E5ECF6\", \"gridcolor\": \"white\", \"gridwidth\": 2, \"linecolor\": \"white\", \"showbackground\": true, \"ticks\": \"\", \"zerolinecolor\": \"white\"}}, \"shapedefaults\": {\"line\": {\"color\": \"#2a3f5f\"}}, \"ternary\": {\"aaxis\": {\"gridcolor\": \"white\", \"linecolor\": \"white\", \"ticks\": \"\"}, \"baxis\": {\"gridcolor\": \"white\", \"linecolor\": \"white\", \"ticks\": \"\"}, \"bgcolor\": \"#E5ECF6\", \"caxis\": {\"gridcolor\": \"white\", \"linecolor\": \"white\", \"ticks\": \"\"}}, \"title\": {\"x\": 0.05}, \"xaxis\": {\"automargin\": true, \"gridcolor\": \"white\", \"linecolor\": \"white\", \"ticks\": \"\", \"zerolinecolor\": \"white\", \"zerolinewidth\": 2}, \"yaxis\": {\"automargin\": true, \"gridcolor\": \"white\", \"linecolor\": \"white\", \"ticks\": \"\", \"zerolinecolor\": \"white\", \"zerolinewidth\": 2}}}, \"title\": {\"text\": \"Pie Chart of Types of Team Interaction, 2018\"}},\n",
       "                        {\"responsive\": true}\n",
       "                    ).then(function(){\n",
       "                            \n",
       "var gd = document.getElementById('f25f4247-eff7-4cdd-8f7a-50f108d217cc');\n",
       "var x = new MutationObserver(function (mutations, observer) {{\n",
       "        var display = window.getComputedStyle(gd).display;\n",
       "        if (!display || display === 'none') {{\n",
       "            console.log([gd, 'removed!']);\n",
       "            Plotly.purge(gd);\n",
       "            observer.disconnect();\n",
       "        }}\n",
       "}});\n",
       "\n",
       "// Listen for the removal of the full notebook cells\n",
       "var notebookContainer = gd.closest('#notebook-container');\n",
       "if (notebookContainer) {{\n",
       "    x.observe(notebookContainer, {childList: true});\n",
       "}}\n",
       "\n",
       "// Listen for the clearing of the current output cell\n",
       "var outputEl = gd.closest('.output');\n",
       "if (outputEl) {{\n",
       "    x.observe(outputEl, {childList: true});\n",
       "}}\n",
       "\n",
       "                        })\n",
       "                };\n",
       "                });\n",
       "            </script>\n",
       "        </div>"
      ]
     },
     "metadata": {},
     "output_type": "display_data"
    }
   ],
   "source": [
    "plot_pie(2018)"
   ]
  },
  {
   "cell_type": "markdown",
   "metadata": {},
   "source": [
    "## Under or Over Ranked Teams"
   ]
  },
  {
   "cell_type": "code",
   "execution_count": 153,
   "metadata": {},
   "outputs": [],
   "source": [
    "records_recent = records.loc[2000:2019]"
   ]
  },
  {
   "cell_type": "code",
   "execution_count": 154,
   "metadata": {},
   "outputs": [
    {
     "data": {
      "text/html": [
       "<div>\n",
       "<style scoped>\n",
       "    .dataframe tbody tr th:only-of-type {\n",
       "        vertical-align: middle;\n",
       "    }\n",
       "\n",
       "    .dataframe tbody tr th {\n",
       "        vertical-align: top;\n",
       "    }\n",
       "\n",
       "    .dataframe thead th {\n",
       "        text-align: right;\n",
       "    }\n",
       "</style>\n",
       "<table border=\"1\" class=\"dataframe\">\n",
       "  <thead>\n",
       "    <tr style=\"text-align: right;\">\n",
       "      <th></th>\n",
       "      <th>winner_pts</th>\n",
       "      <th>loser_pts</th>\n",
       "      <th>winner_home</th>\n",
       "      <th>winner_rank</th>\n",
       "      <th>loser_rank</th>\n",
       "      <th>rank_diff</th>\n",
       "      <th>pts_diff</th>\n",
       "      <th>both_unranked</th>\n",
       "      <th>ranked_beats_unranked</th>\n",
       "      <th>unranked_beats_ranked</th>\n",
       "      <th>lower_beats_higher</th>\n",
       "      <th>higher_beats_lower</th>\n",
       "    </tr>\n",
       "    <tr>\n",
       "      <th>loser_name</th>\n",
       "      <th></th>\n",
       "      <th></th>\n",
       "      <th></th>\n",
       "      <th></th>\n",
       "      <th></th>\n",
       "      <th></th>\n",
       "      <th></th>\n",
       "      <th></th>\n",
       "      <th></th>\n",
       "      <th></th>\n",
       "      <th></th>\n",
       "      <th></th>\n",
       "    </tr>\n",
       "  </thead>\n",
       "  <tbody>\n",
       "    <tr>\n",
       "      <td>Alabama</td>\n",
       "      <td>28.177419</td>\n",
       "      <td>19.532258</td>\n",
       "      <td>0.596774</td>\n",
       "      <td>9.951220</td>\n",
       "      <td>7.857143</td>\n",
       "      <td>-2.739130</td>\n",
       "      <td>8.645161</td>\n",
       "      <td>0.258065</td>\n",
       "      <td>0.290323</td>\n",
       "      <td>0.080645</td>\n",
       "      <td>0.290323</td>\n",
       "      <td>0.080645</td>\n",
       "    </tr>\n",
       "    <tr>\n",
       "      <td>Miami (FL)</td>\n",
       "      <td>30.658228</td>\n",
       "      <td>17.316456</td>\n",
       "      <td>0.645570</td>\n",
       "      <td>13.842105</td>\n",
       "      <td>10.935484</td>\n",
       "      <td>-2.631579</td>\n",
       "      <td>13.341772</td>\n",
       "      <td>0.367089</td>\n",
       "      <td>0.240506</td>\n",
       "      <td>0.151899</td>\n",
       "      <td>0.151899</td>\n",
       "      <td>0.088608</td>\n",
       "    </tr>\n",
       "    <tr>\n",
       "      <td>Oklahoma</td>\n",
       "      <td>33.380000</td>\n",
       "      <td>21.300000</td>\n",
       "      <td>0.800000</td>\n",
       "      <td>9.914286</td>\n",
       "      <td>7.586957</td>\n",
       "      <td>-2.375000</td>\n",
       "      <td>12.080000</td>\n",
       "      <td>0.020000</td>\n",
       "      <td>0.060000</td>\n",
       "      <td>0.280000</td>\n",
       "      <td>0.340000</td>\n",
       "      <td>0.300000</td>\n",
       "    </tr>\n",
       "    <tr>\n",
       "      <td>Georgia</td>\n",
       "      <td>30.597015</td>\n",
       "      <td>19.626866</td>\n",
       "      <td>0.686567</td>\n",
       "      <td>11.489362</td>\n",
       "      <td>11.060000</td>\n",
       "      <td>-1.525000</td>\n",
       "      <td>10.970149</td>\n",
       "      <td>0.149254</td>\n",
       "      <td>0.104478</td>\n",
       "      <td>0.149254</td>\n",
       "      <td>0.343284</td>\n",
       "      <td>0.253731</td>\n",
       "    </tr>\n",
       "    <tr>\n",
       "      <td>North Carolina</td>\n",
       "      <td>34.504065</td>\n",
       "      <td>19.813008</td>\n",
       "      <td>0.585366</td>\n",
       "      <td>14.560000</td>\n",
       "      <td>18.083333</td>\n",
       "      <td>-1.500000</td>\n",
       "      <td>14.691057</td>\n",
       "      <td>0.544715</td>\n",
       "      <td>0.357724</td>\n",
       "      <td>0.048780</td>\n",
       "      <td>0.032520</td>\n",
       "      <td>0.016260</td>\n",
       "    </tr>\n",
       "  </tbody>\n",
       "</table>\n",
       "</div>"
      ],
      "text/plain": [
       "                winner_pts  loser_pts  winner_home  winner_rank  loser_rank  \\\n",
       "loser_name                                                                    \n",
       "Alabama          28.177419  19.532258     0.596774     9.951220    7.857143   \n",
       "Miami (FL)       30.658228  17.316456     0.645570    13.842105   10.935484   \n",
       "Oklahoma         33.380000  21.300000     0.800000     9.914286    7.586957   \n",
       "Georgia          30.597015  19.626866     0.686567    11.489362   11.060000   \n",
       "North Carolina   34.504065  19.813008     0.585366    14.560000   18.083333   \n",
       "\n",
       "                rank_diff   pts_diff  both_unranked  ranked_beats_unranked  \\\n",
       "loser_name                                                                   \n",
       "Alabama         -2.739130   8.645161       0.258065               0.290323   \n",
       "Miami (FL)      -2.631579  13.341772       0.367089               0.240506   \n",
       "Oklahoma        -2.375000  12.080000       0.020000               0.060000   \n",
       "Georgia         -1.525000  10.970149       0.149254               0.104478   \n",
       "North Carolina  -1.500000  14.691057       0.544715               0.357724   \n",
       "\n",
       "                unranked_beats_ranked  lower_beats_higher  higher_beats_lower  \n",
       "loser_name                                                                     \n",
       "Alabama                      0.080645            0.290323            0.080645  \n",
       "Miami (FL)                   0.151899            0.151899            0.088608  \n",
       "Oklahoma                     0.280000            0.340000            0.300000  \n",
       "Georgia                      0.149254            0.343284            0.253731  \n",
       "North Carolina               0.048780            0.032520            0.016260  "
      ]
     },
     "execution_count": 154,
     "metadata": {},
     "output_type": "execute_result"
    }
   ],
   "source": [
    "records_recent.groupby('loser_name').mean()[(records_recent.groupby('loser_name').count()['rank_diff'] > 5)].sort_values('rank_diff', ascending=True).head()"
   ]
  },
  {
   "cell_type": "code",
   "execution_count": 155,
   "metadata": {},
   "outputs": [
    {
     "data": {
      "text/html": [
       "<div>\n",
       "<style scoped>\n",
       "    .dataframe tbody tr th:only-of-type {\n",
       "        vertical-align: middle;\n",
       "    }\n",
       "\n",
       "    .dataframe tbody tr th {\n",
       "        vertical-align: top;\n",
       "    }\n",
       "\n",
       "    .dataframe thead th {\n",
       "        text-align: right;\n",
       "    }\n",
       "</style>\n",
       "<table border=\"1\" class=\"dataframe\">\n",
       "  <thead>\n",
       "    <tr style=\"text-align: right;\">\n",
       "      <th></th>\n",
       "      <th>winner_pts</th>\n",
       "      <th>loser_pts</th>\n",
       "      <th>winner_home</th>\n",
       "      <th>winner_rank</th>\n",
       "      <th>loser_rank</th>\n",
       "      <th>rank_diff</th>\n",
       "      <th>pts_diff</th>\n",
       "      <th>both_unranked</th>\n",
       "      <th>ranked_beats_unranked</th>\n",
       "      <th>unranked_beats_ranked</th>\n",
       "      <th>lower_beats_higher</th>\n",
       "      <th>higher_beats_lower</th>\n",
       "    </tr>\n",
       "    <tr>\n",
       "      <th>winner_name</th>\n",
       "      <th></th>\n",
       "      <th></th>\n",
       "      <th></th>\n",
       "      <th></th>\n",
       "      <th></th>\n",
       "      <th></th>\n",
       "      <th></th>\n",
       "      <th></th>\n",
       "      <th></th>\n",
       "      <th></th>\n",
       "      <th></th>\n",
       "      <th></th>\n",
       "    </tr>\n",
       "  </thead>\n",
       "  <tbody>\n",
       "    <tr>\n",
       "      <td>Texas</td>\n",
       "      <td>39.545455</td>\n",
       "      <td>16.778409</td>\n",
       "      <td>0.625000</td>\n",
       "      <td>8.129771</td>\n",
       "      <td>14.372093</td>\n",
       "      <td>7.129032</td>\n",
       "      <td>22.767045</td>\n",
       "      <td>0.187500</td>\n",
       "      <td>0.568182</td>\n",
       "      <td>0.068182</td>\n",
       "      <td>0.034091</td>\n",
       "      <td>0.142045</td>\n",
       "    </tr>\n",
       "    <tr>\n",
       "      <td>Ohio State</td>\n",
       "      <td>36.966667</td>\n",
       "      <td>15.304762</td>\n",
       "      <td>0.671429</td>\n",
       "      <td>7.219388</td>\n",
       "      <td>12.923077</td>\n",
       "      <td>6.716667</td>\n",
       "      <td>21.661905</td>\n",
       "      <td>0.042857</td>\n",
       "      <td>0.647619</td>\n",
       "      <td>0.023810</td>\n",
       "      <td>0.052381</td>\n",
       "      <td>0.233333</td>\n",
       "    </tr>\n",
       "    <tr>\n",
       "      <td>Alabama</td>\n",
       "      <td>35.927835</td>\n",
       "      <td>11.628866</td>\n",
       "      <td>0.716495</td>\n",
       "      <td>3.825806</td>\n",
       "      <td>11.676056</td>\n",
       "      <td>6.545455</td>\n",
       "      <td>24.298969</td>\n",
       "      <td>0.175258</td>\n",
       "      <td>0.458763</td>\n",
       "      <td>0.025773</td>\n",
       "      <td>0.092784</td>\n",
       "      <td>0.247423</td>\n",
       "    </tr>\n",
       "    <tr>\n",
       "      <td>Southern California</td>\n",
       "      <td>37.685083</td>\n",
       "      <td>17.220994</td>\n",
       "      <td>0.602210</td>\n",
       "      <td>8.283582</td>\n",
       "      <td>13.942308</td>\n",
       "      <td>6.357143</td>\n",
       "      <td>20.464088</td>\n",
       "      <td>0.204420</td>\n",
       "      <td>0.508287</td>\n",
       "      <td>0.055249</td>\n",
       "      <td>0.044199</td>\n",
       "      <td>0.187845</td>\n",
       "    </tr>\n",
       "    <tr>\n",
       "      <td>Oklahoma</td>\n",
       "      <td>42.554502</td>\n",
       "      <td>18.279621</td>\n",
       "      <td>0.672986</td>\n",
       "      <td>8.155779</td>\n",
       "      <td>13.308824</td>\n",
       "      <td>5.953125</td>\n",
       "      <td>24.274882</td>\n",
       "      <td>0.037915</td>\n",
       "      <td>0.639810</td>\n",
       "      <td>0.018957</td>\n",
       "      <td>0.061611</td>\n",
       "      <td>0.241706</td>\n",
       "    </tr>\n",
       "  </tbody>\n",
       "</table>\n",
       "</div>"
      ],
      "text/plain": [
       "                     winner_pts  loser_pts  winner_home  winner_rank  \\\n",
       "winner_name                                                            \n",
       "Texas                 39.545455  16.778409     0.625000     8.129771   \n",
       "Ohio State            36.966667  15.304762     0.671429     7.219388   \n",
       "Alabama               35.927835  11.628866     0.716495     3.825806   \n",
       "Southern California   37.685083  17.220994     0.602210     8.283582   \n",
       "Oklahoma              42.554502  18.279621     0.672986     8.155779   \n",
       "\n",
       "                     loser_rank  rank_diff   pts_diff  both_unranked  \\\n",
       "winner_name                                                            \n",
       "Texas                 14.372093   7.129032  22.767045       0.187500   \n",
       "Ohio State            12.923077   6.716667  21.661905       0.042857   \n",
       "Alabama               11.676056   6.545455  24.298969       0.175258   \n",
       "Southern California   13.942308   6.357143  20.464088       0.204420   \n",
       "Oklahoma              13.308824   5.953125  24.274882       0.037915   \n",
       "\n",
       "                     ranked_beats_unranked  unranked_beats_ranked  \\\n",
       "winner_name                                                         \n",
       "Texas                             0.568182               0.068182   \n",
       "Ohio State                        0.647619               0.023810   \n",
       "Alabama                           0.458763               0.025773   \n",
       "Southern California               0.508287               0.055249   \n",
       "Oklahoma                          0.639810               0.018957   \n",
       "\n",
       "                     lower_beats_higher  higher_beats_lower  \n",
       "winner_name                                                  \n",
       "Texas                          0.034091            0.142045  \n",
       "Ohio State                     0.052381            0.233333  \n",
       "Alabama                        0.092784            0.247423  \n",
       "Southern California            0.044199            0.187845  \n",
       "Oklahoma                       0.061611            0.241706  "
      ]
     },
     "execution_count": 155,
     "metadata": {},
     "output_type": "execute_result"
    }
   ],
   "source": [
    "records_recent.groupby('winner_name').mean()[(records_recent.groupby('winner_name').count()['rank_diff'] > 5)].sort_values('rank_diff', ascending=False).head()"
   ]
  },
  {
   "cell_type": "code",
   "execution_count": 156,
   "metadata": {},
   "outputs": [
    {
     "data": {
      "text/html": [
       "<div>\n",
       "<style scoped>\n",
       "    .dataframe tbody tr th:only-of-type {\n",
       "        vertical-align: middle;\n",
       "    }\n",
       "\n",
       "    .dataframe tbody tr th {\n",
       "        vertical-align: top;\n",
       "    }\n",
       "\n",
       "    .dataframe thead th {\n",
       "        text-align: right;\n",
       "    }\n",
       "</style>\n",
       "<table border=\"1\" class=\"dataframe\">\n",
       "  <thead>\n",
       "    <tr style=\"text-align: right;\">\n",
       "      <th></th>\n",
       "      <th></th>\n",
       "      <th></th>\n",
       "      <th>winner_pts</th>\n",
       "      <th>loser_pts</th>\n",
       "      <th>game_date</th>\n",
       "      <th>game_time</th>\n",
       "      <th>game_day</th>\n",
       "      <th>game_loc</th>\n",
       "      <th>notes</th>\n",
       "      <th>winner_home</th>\n",
       "      <th>winner_rank</th>\n",
       "      <th>winner_name</th>\n",
       "      <th>loser_rank</th>\n",
       "      <th>loser_name</th>\n",
       "      <th>rank_diff</th>\n",
       "      <th>pts_diff</th>\n",
       "      <th>both_unranked</th>\n",
       "      <th>ranked_beats_unranked</th>\n",
       "      <th>unranked_beats_ranked</th>\n",
       "      <th>lower_beats_higher</th>\n",
       "      <th>higher_beats_lower</th>\n",
       "    </tr>\n",
       "    <tr>\n",
       "      <th>year</th>\n",
       "      <th>week_number</th>\n",
       "      <th>row</th>\n",
       "      <th></th>\n",
       "      <th></th>\n",
       "      <th></th>\n",
       "      <th></th>\n",
       "      <th></th>\n",
       "      <th></th>\n",
       "      <th></th>\n",
       "      <th></th>\n",
       "      <th></th>\n",
       "      <th></th>\n",
       "      <th></th>\n",
       "      <th></th>\n",
       "      <th></th>\n",
       "      <th></th>\n",
       "      <th></th>\n",
       "      <th></th>\n",
       "      <th></th>\n",
       "      <th></th>\n",
       "      <th></th>\n",
       "    </tr>\n",
       "  </thead>\n",
       "  <tbody>\n",
       "    <tr>\n",
       "      <td rowspan=\"3\" valign=\"top\">2002</td>\n",
       "      <td>9</td>\n",
       "      <td>431</td>\n",
       "      <td>49.0</td>\n",
       "      <td>3.0</td>\n",
       "      <td>Oct 19, 2002</td>\n",
       "      <td>NaN</td>\n",
       "      <td>Sat</td>\n",
       "      <td>NaN</td>\n",
       "      <td>NaN</td>\n",
       "      <td>True</td>\n",
       "      <td>2.0</td>\n",
       "      <td>Oklahoma</td>\n",
       "      <td>9.0</td>\n",
       "      <td>Iowa State</td>\n",
       "      <td>7.0</td>\n",
       "      <td>46.0</td>\n",
       "      <td>False</td>\n",
       "      <td>False</td>\n",
       "      <td>False</td>\n",
       "      <td>False</td>\n",
       "      <td>True</td>\n",
       "    </tr>\n",
       "    <tr>\n",
       "      <td>10</td>\n",
       "      <td>494</td>\n",
       "      <td>21.0</td>\n",
       "      <td>10.0</td>\n",
       "      <td>Oct 26, 2002</td>\n",
       "      <td>NaN</td>\n",
       "      <td>Sat</td>\n",
       "      <td>NaN</td>\n",
       "      <td>NaN</td>\n",
       "      <td>True</td>\n",
       "      <td>7.0</td>\n",
       "      <td>Texas</td>\n",
       "      <td>17.0</td>\n",
       "      <td>Iowa State</td>\n",
       "      <td>10.0</td>\n",
       "      <td>11.0</td>\n",
       "      <td>False</td>\n",
       "      <td>False</td>\n",
       "      <td>False</td>\n",
       "      <td>False</td>\n",
       "      <td>True</td>\n",
       "    </tr>\n",
       "    <tr>\n",
       "      <td>12</td>\n",
       "      <td>574</td>\n",
       "      <td>58.0</td>\n",
       "      <td>7.0</td>\n",
       "      <td>Nov 9, 2002</td>\n",
       "      <td>NaN</td>\n",
       "      <td>Sat</td>\n",
       "      <td>NaN</td>\n",
       "      <td>NaN</td>\n",
       "      <td>True</td>\n",
       "      <td>12.0</td>\n",
       "      <td>Kansas State</td>\n",
       "      <td>21.0</td>\n",
       "      <td>Iowa State</td>\n",
       "      <td>9.0</td>\n",
       "      <td>51.0</td>\n",
       "      <td>False</td>\n",
       "      <td>False</td>\n",
       "      <td>False</td>\n",
       "      <td>False</td>\n",
       "      <td>True</td>\n",
       "    </tr>\n",
       "    <tr>\n",
       "      <td>2017</td>\n",
       "      <td>12</td>\n",
       "      <td>675</td>\n",
       "      <td>49.0</td>\n",
       "      <td>42.0</td>\n",
       "      <td>Nov 11, 2017</td>\n",
       "      <td>12:00 PM</td>\n",
       "      <td>Sat</td>\n",
       "      <td>@</td>\n",
       "      <td>Jack Trice Stadium - Ames, Iowa</td>\n",
       "      <td>False</td>\n",
       "      <td>12.0</td>\n",
       "      <td>Oklahoma State</td>\n",
       "      <td>24.0</td>\n",
       "      <td>Iowa State</td>\n",
       "      <td>12.0</td>\n",
       "      <td>7.0</td>\n",
       "      <td>False</td>\n",
       "      <td>False</td>\n",
       "      <td>False</td>\n",
       "      <td>False</td>\n",
       "      <td>True</td>\n",
       "    </tr>\n",
       "    <tr>\n",
       "      <td rowspan=\"2\" valign=\"top\">2018</td>\n",
       "      <td>13</td>\n",
       "      <td>752</td>\n",
       "      <td>24.0</td>\n",
       "      <td>10.0</td>\n",
       "      <td>Nov 17, 2018</td>\n",
       "      <td>8:00 PM</td>\n",
       "      <td>Sat</td>\n",
       "      <td>NaN</td>\n",
       "      <td>Darrell K Royal-Texas Memorial Stadium - Austi...</td>\n",
       "      <td>True</td>\n",
       "      <td>13.0</td>\n",
       "      <td>Texas</td>\n",
       "      <td>18.0</td>\n",
       "      <td>Iowa State</td>\n",
       "      <td>5.0</td>\n",
       "      <td>14.0</td>\n",
       "      <td>False</td>\n",
       "      <td>False</td>\n",
       "      <td>False</td>\n",
       "      <td>False</td>\n",
       "      <td>True</td>\n",
       "    </tr>\n",
       "    <tr>\n",
       "      <td>19</td>\n",
       "      <td>867</td>\n",
       "      <td>28.0</td>\n",
       "      <td>26.0</td>\n",
       "      <td>Dec 28, 2018</td>\n",
       "      <td>9:00 PM</td>\n",
       "      <td>Fri</td>\n",
       "      <td>NaN</td>\n",
       "      <td>Alamo Bowl (Alamodome - San Antonio, Texas)</td>\n",
       "      <td>True</td>\n",
       "      <td>12.0</td>\n",
       "      <td>Washington State</td>\n",
       "      <td>25.0</td>\n",
       "      <td>Iowa State</td>\n",
       "      <td>13.0</td>\n",
       "      <td>2.0</td>\n",
       "      <td>False</td>\n",
       "      <td>False</td>\n",
       "      <td>False</td>\n",
       "      <td>False</td>\n",
       "      <td>True</td>\n",
       "    </tr>\n",
       "  </tbody>\n",
       "</table>\n",
       "</div>"
      ],
      "text/plain": [
       "                      winner_pts  loser_pts     game_date game_time game_day  \\\n",
       "year week_number row                                                           \n",
       "2002 9           431        49.0        3.0  Oct 19, 2002       NaN      Sat   \n",
       "     10          494        21.0       10.0  Oct 26, 2002       NaN      Sat   \n",
       "     12          574        58.0        7.0   Nov 9, 2002       NaN      Sat   \n",
       "2017 12          675        49.0       42.0  Nov 11, 2017  12:00 PM      Sat   \n",
       "2018 13          752        24.0       10.0  Nov 17, 2018   8:00 PM      Sat   \n",
       "     19          867        28.0       26.0  Dec 28, 2018   9:00 PM      Fri   \n",
       "\n",
       "                     game_loc  \\\n",
       "year week_number row            \n",
       "2002 9           431      NaN   \n",
       "     10          494      NaN   \n",
       "     12          574      NaN   \n",
       "2017 12          675        @   \n",
       "2018 13          752      NaN   \n",
       "     19          867      NaN   \n",
       "\n",
       "                                                                  notes  \\\n",
       "year week_number row                                                      \n",
       "2002 9           431                                                NaN   \n",
       "     10          494                                                NaN   \n",
       "     12          574                                                NaN   \n",
       "2017 12          675                    Jack Trice Stadium - Ames, Iowa   \n",
       "2018 13          752  Darrell K Royal-Texas Memorial Stadium - Austi...   \n",
       "     19          867        Alamo Bowl (Alamodome - San Antonio, Texas)   \n",
       "\n",
       "                      winner_home  winner_rank       winner_name  loser_rank  \\\n",
       "year week_number row                                                           \n",
       "2002 9           431         True          2.0          Oklahoma         9.0   \n",
       "     10          494         True          7.0             Texas        17.0   \n",
       "     12          574         True         12.0      Kansas State        21.0   \n",
       "2017 12          675        False         12.0    Oklahoma State        24.0   \n",
       "2018 13          752         True         13.0             Texas        18.0   \n",
       "     19          867         True         12.0  Washington State        25.0   \n",
       "\n",
       "                      loser_name  rank_diff  pts_diff  both_unranked  \\\n",
       "year week_number row                                                   \n",
       "2002 9           431  Iowa State        7.0      46.0          False   \n",
       "     10          494  Iowa State       10.0      11.0          False   \n",
       "     12          574  Iowa State        9.0      51.0          False   \n",
       "2017 12          675  Iowa State       12.0       7.0          False   \n",
       "2018 13          752  Iowa State        5.0      14.0          False   \n",
       "     19          867  Iowa State       13.0       2.0          False   \n",
       "\n",
       "                      ranked_beats_unranked  unranked_beats_ranked  \\\n",
       "year week_number row                                                 \n",
       "2002 9           431                  False                  False   \n",
       "     10          494                  False                  False   \n",
       "     12          574                  False                  False   \n",
       "2017 12          675                  False                  False   \n",
       "2018 13          752                  False                  False   \n",
       "     19          867                  False                  False   \n",
       "\n",
       "                      lower_beats_higher  higher_beats_lower  \n",
       "year week_number row                                          \n",
       "2002 9           431               False                True  \n",
       "     10          494               False                True  \n",
       "     12          574               False                True  \n",
       "2017 12          675               False                True  \n",
       "2018 13          752               False                True  \n",
       "     19          867               False                True  "
      ]
     },
     "execution_count": 156,
     "metadata": {},
     "output_type": "execute_result"
    }
   ],
   "source": [
    "records_recent[(records_recent['loser_name'] == 'Iowa State') & (records_recent['rank_diff'] > 0)]"
   ]
  },
  {
   "cell_type": "code",
   "execution_count": 157,
   "metadata": {},
   "outputs": [
    {
     "data": {
      "text/html": [
       "<div>\n",
       "<style scoped>\n",
       "    .dataframe tbody tr th:only-of-type {\n",
       "        vertical-align: middle;\n",
       "    }\n",
       "\n",
       "    .dataframe tbody tr th {\n",
       "        vertical-align: top;\n",
       "    }\n",
       "\n",
       "    .dataframe thead th {\n",
       "        text-align: right;\n",
       "    }\n",
       "</style>\n",
       "<table border=\"1\" class=\"dataframe\">\n",
       "  <thead>\n",
       "    <tr style=\"text-align: right;\">\n",
       "      <th></th>\n",
       "      <th></th>\n",
       "      <th></th>\n",
       "      <th>winner_pts</th>\n",
       "      <th>loser_pts</th>\n",
       "      <th>game_date</th>\n",
       "      <th>game_time</th>\n",
       "      <th>game_day</th>\n",
       "      <th>game_loc</th>\n",
       "      <th>notes</th>\n",
       "      <th>winner_home</th>\n",
       "      <th>winner_rank</th>\n",
       "      <th>winner_name</th>\n",
       "      <th>loser_rank</th>\n",
       "      <th>loser_name</th>\n",
       "      <th>rank_diff</th>\n",
       "      <th>pts_diff</th>\n",
       "      <th>both_unranked</th>\n",
       "      <th>ranked_beats_unranked</th>\n",
       "      <th>unranked_beats_ranked</th>\n",
       "      <th>lower_beats_higher</th>\n",
       "      <th>higher_beats_lower</th>\n",
       "    </tr>\n",
       "    <tr>\n",
       "      <th>year</th>\n",
       "      <th>week_number</th>\n",
       "      <th>row</th>\n",
       "      <th></th>\n",
       "      <th></th>\n",
       "      <th></th>\n",
       "      <th></th>\n",
       "      <th></th>\n",
       "      <th></th>\n",
       "      <th></th>\n",
       "      <th></th>\n",
       "      <th></th>\n",
       "      <th></th>\n",
       "      <th></th>\n",
       "      <th></th>\n",
       "      <th></th>\n",
       "      <th></th>\n",
       "      <th></th>\n",
       "      <th></th>\n",
       "      <th></th>\n",
       "      <th></th>\n",
       "      <th></th>\n",
       "    </tr>\n",
       "  </thead>\n",
       "  <tbody>\n",
       "    <tr>\n",
       "      <td>2001</td>\n",
       "      <td>2</td>\n",
       "      <td>57</td>\n",
       "      <td>20.0</td>\n",
       "      <td>17.0</td>\n",
       "      <td>Sep 1, 2001</td>\n",
       "      <td>NaN</td>\n",
       "      <td>Sat</td>\n",
       "      <td>@</td>\n",
       "      <td>NaN</td>\n",
       "      <td>False</td>\n",
       "      <td>17.0</td>\n",
       "      <td>UCLA</td>\n",
       "      <td>25.0</td>\n",
       "      <td>Alabama</td>\n",
       "      <td>8.0</td>\n",
       "      <td>3.0</td>\n",
       "      <td>False</td>\n",
       "      <td>False</td>\n",
       "      <td>False</td>\n",
       "      <td>False</td>\n",
       "      <td>True</td>\n",
       "    </tr>\n",
       "    <tr>\n",
       "      <td>2002</td>\n",
       "      <td>7</td>\n",
       "      <td>308</td>\n",
       "      <td>27.0</td>\n",
       "      <td>25.0</td>\n",
       "      <td>Oct 5, 2002</td>\n",
       "      <td>NaN</td>\n",
       "      <td>Sat</td>\n",
       "      <td>@</td>\n",
       "      <td>NaN</td>\n",
       "      <td>False</td>\n",
       "      <td>7.0</td>\n",
       "      <td>Georgia</td>\n",
       "      <td>22.0</td>\n",
       "      <td>Alabama</td>\n",
       "      <td>15.0</td>\n",
       "      <td>2.0</td>\n",
       "      <td>False</td>\n",
       "      <td>False</td>\n",
       "      <td>False</td>\n",
       "      <td>False</td>\n",
       "      <td>True</td>\n",
       "    </tr>\n",
       "    <tr>\n",
       "      <td>2007</td>\n",
       "      <td>10</td>\n",
       "      <td>564</td>\n",
       "      <td>41.0</td>\n",
       "      <td>34.0</td>\n",
       "      <td>Nov 3, 2007</td>\n",
       "      <td>NaN</td>\n",
       "      <td>Sat</td>\n",
       "      <td>@</td>\n",
       "      <td>NaN</td>\n",
       "      <td>False</td>\n",
       "      <td>3.0</td>\n",
       "      <td>Louisiana State</td>\n",
       "      <td>17.0</td>\n",
       "      <td>Alabama</td>\n",
       "      <td>14.0</td>\n",
       "      <td>7.0</td>\n",
       "      <td>False</td>\n",
       "      <td>False</td>\n",
       "      <td>False</td>\n",
       "      <td>False</td>\n",
       "      <td>True</td>\n",
       "    </tr>\n",
       "    <tr>\n",
       "      <td>2010</td>\n",
       "      <td>13</td>\n",
       "      <td>704</td>\n",
       "      <td>28.0</td>\n",
       "      <td>27.0</td>\n",
       "      <td>Nov 26, 2010</td>\n",
       "      <td>NaN</td>\n",
       "      <td>Fri</td>\n",
       "      <td>@</td>\n",
       "      <td>NaN</td>\n",
       "      <td>False</td>\n",
       "      <td>2.0</td>\n",
       "      <td>Auburn</td>\n",
       "      <td>9.0</td>\n",
       "      <td>Alabama</td>\n",
       "      <td>7.0</td>\n",
       "      <td>1.0</td>\n",
       "      <td>False</td>\n",
       "      <td>False</td>\n",
       "      <td>False</td>\n",
       "      <td>False</td>\n",
       "      <td>True</td>\n",
       "    </tr>\n",
       "    <tr>\n",
       "      <td>2011</td>\n",
       "      <td>10</td>\n",
       "      <td>560</td>\n",
       "      <td>9.0</td>\n",
       "      <td>6.0</td>\n",
       "      <td>Nov 5, 2011</td>\n",
       "      <td>NaN</td>\n",
       "      <td>Sat</td>\n",
       "      <td>@</td>\n",
       "      <td>NaN</td>\n",
       "      <td>False</td>\n",
       "      <td>1.0</td>\n",
       "      <td>Louisiana State</td>\n",
       "      <td>2.0</td>\n",
       "      <td>Alabama</td>\n",
       "      <td>1.0</td>\n",
       "      <td>3.0</td>\n",
       "      <td>False</td>\n",
       "      <td>False</td>\n",
       "      <td>False</td>\n",
       "      <td>False</td>\n",
       "      <td>True</td>\n",
       "    </tr>\n",
       "  </tbody>\n",
       "</table>\n",
       "</div>"
      ],
      "text/plain": [
       "                      winner_pts  loser_pts     game_date game_time game_day  \\\n",
       "year week_number row                                                           \n",
       "2001 2           57         20.0       17.0   Sep 1, 2001       NaN      Sat   \n",
       "2002 7           308        27.0       25.0   Oct 5, 2002       NaN      Sat   \n",
       "2007 10          564        41.0       34.0   Nov 3, 2007       NaN      Sat   \n",
       "2010 13          704        28.0       27.0  Nov 26, 2010       NaN      Fri   \n",
       "2011 10          560         9.0        6.0   Nov 5, 2011       NaN      Sat   \n",
       "\n",
       "                     game_loc notes  winner_home  winner_rank  \\\n",
       "year week_number row                                            \n",
       "2001 2           57         @   NaN        False         17.0   \n",
       "2002 7           308        @   NaN        False          7.0   \n",
       "2007 10          564        @   NaN        False          3.0   \n",
       "2010 13          704        @   NaN        False          2.0   \n",
       "2011 10          560        @   NaN        False          1.0   \n",
       "\n",
       "                          winner_name  loser_rank loser_name  rank_diff  \\\n",
       "year week_number row                                                      \n",
       "2001 2           57              UCLA        25.0    Alabama        8.0   \n",
       "2002 7           308          Georgia        22.0    Alabama       15.0   \n",
       "2007 10          564  Louisiana State        17.0    Alabama       14.0   \n",
       "2010 13          704           Auburn         9.0    Alabama        7.0   \n",
       "2011 10          560  Louisiana State         2.0    Alabama        1.0   \n",
       "\n",
       "                      pts_diff  both_unranked  ranked_beats_unranked  \\\n",
       "year week_number row                                                   \n",
       "2001 2           57        3.0          False                  False   \n",
       "2002 7           308       2.0          False                  False   \n",
       "2007 10          564       7.0          False                  False   \n",
       "2010 13          704       1.0          False                  False   \n",
       "2011 10          560       3.0          False                  False   \n",
       "\n",
       "                      unranked_beats_ranked  lower_beats_higher  \\\n",
       "year week_number row                                              \n",
       "2001 2           57                   False               False   \n",
       "2002 7           308                  False               False   \n",
       "2007 10          564                  False               False   \n",
       "2010 13          704                  False               False   \n",
       "2011 10          560                  False               False   \n",
       "\n",
       "                      higher_beats_lower  \n",
       "year week_number row                      \n",
       "2001 2           57                 True  \n",
       "2002 7           308                True  \n",
       "2007 10          564                True  \n",
       "2010 13          704                True  \n",
       "2011 10          560                True  "
      ]
     },
     "execution_count": 157,
     "metadata": {},
     "output_type": "execute_result"
    }
   ],
   "source": [
    "records_recent[(records_recent['loser_name'] == 'Alabama') & (records_recent['rank_diff'] > 0)]"
   ]
  },
  {
   "cell_type": "code",
   "execution_count": 158,
   "metadata": {},
   "outputs": [
    {
     "data": {
      "text/html": [
       "<div>\n",
       "<style scoped>\n",
       "    .dataframe tbody tr th:only-of-type {\n",
       "        vertical-align: middle;\n",
       "    }\n",
       "\n",
       "    .dataframe tbody tr th {\n",
       "        vertical-align: top;\n",
       "    }\n",
       "\n",
       "    .dataframe thead th {\n",
       "        text-align: right;\n",
       "    }\n",
       "</style>\n",
       "<table border=\"1\" class=\"dataframe\">\n",
       "  <thead>\n",
       "    <tr style=\"text-align: right;\">\n",
       "      <th></th>\n",
       "      <th></th>\n",
       "      <th></th>\n",
       "      <th>winner_pts</th>\n",
       "      <th>loser_pts</th>\n",
       "      <th>game_date</th>\n",
       "      <th>game_time</th>\n",
       "      <th>game_day</th>\n",
       "      <th>game_loc</th>\n",
       "      <th>notes</th>\n",
       "      <th>winner_home</th>\n",
       "      <th>winner_rank</th>\n",
       "      <th>winner_name</th>\n",
       "      <th>loser_rank</th>\n",
       "      <th>loser_name</th>\n",
       "      <th>rank_diff</th>\n",
       "      <th>pts_diff</th>\n",
       "      <th>both_unranked</th>\n",
       "      <th>ranked_beats_unranked</th>\n",
       "      <th>unranked_beats_ranked</th>\n",
       "      <th>lower_beats_higher</th>\n",
       "      <th>higher_beats_lower</th>\n",
       "    </tr>\n",
       "    <tr>\n",
       "      <th>year</th>\n",
       "      <th>week_number</th>\n",
       "      <th>row</th>\n",
       "      <th></th>\n",
       "      <th></th>\n",
       "      <th></th>\n",
       "      <th></th>\n",
       "      <th></th>\n",
       "      <th></th>\n",
       "      <th></th>\n",
       "      <th></th>\n",
       "      <th></th>\n",
       "      <th></th>\n",
       "      <th></th>\n",
       "      <th></th>\n",
       "      <th></th>\n",
       "      <th></th>\n",
       "      <th></th>\n",
       "      <th></th>\n",
       "      <th></th>\n",
       "      <th></th>\n",
       "      <th></th>\n",
       "    </tr>\n",
       "  </thead>\n",
       "  <tbody>\n",
       "    <tr>\n",
       "      <td rowspan=\"2\" valign=\"top\">2000</td>\n",
       "      <td>7</td>\n",
       "      <td>321</td>\n",
       "      <td>63.0</td>\n",
       "      <td>14.0</td>\n",
       "      <td>Oct 7, 2000</td>\n",
       "      <td>NaN</td>\n",
       "      <td>Sat</td>\n",
       "      <td>NaN</td>\n",
       "      <td>NaN</td>\n",
       "      <td>True</td>\n",
       "      <td>10.0</td>\n",
       "      <td>Oklahoma</td>\n",
       "      <td>11.0</td>\n",
       "      <td>Texas</td>\n",
       "      <td>1.0</td>\n",
       "      <td>49.0</td>\n",
       "      <td>False</td>\n",
       "      <td>False</td>\n",
       "      <td>False</td>\n",
       "      <td>False</td>\n",
       "      <td>True</td>\n",
       "    </tr>\n",
       "    <tr>\n",
       "      <td>17</td>\n",
       "      <td>690</td>\n",
       "      <td>35.0</td>\n",
       "      <td>30.0</td>\n",
       "      <td>Dec 29, 2000</td>\n",
       "      <td>NaN</td>\n",
       "      <td>Fri</td>\n",
       "      <td>NaN</td>\n",
       "      <td>Holiday Bowl (San Diego, CA)</td>\n",
       "      <td>True</td>\n",
       "      <td>8.0</td>\n",
       "      <td>Oregon</td>\n",
       "      <td>12.0</td>\n",
       "      <td>Texas</td>\n",
       "      <td>4.0</td>\n",
       "      <td>5.0</td>\n",
       "      <td>False</td>\n",
       "      <td>False</td>\n",
       "      <td>False</td>\n",
       "      <td>False</td>\n",
       "      <td>True</td>\n",
       "    </tr>\n",
       "    <tr>\n",
       "      <td>2001</td>\n",
       "      <td>6</td>\n",
       "      <td>276</td>\n",
       "      <td>14.0</td>\n",
       "      <td>3.0</td>\n",
       "      <td>Oct 6, 2001</td>\n",
       "      <td>NaN</td>\n",
       "      <td>Sat</td>\n",
       "      <td>NaN</td>\n",
       "      <td>NaN</td>\n",
       "      <td>True</td>\n",
       "      <td>3.0</td>\n",
       "      <td>Oklahoma</td>\n",
       "      <td>5.0</td>\n",
       "      <td>Texas</td>\n",
       "      <td>2.0</td>\n",
       "      <td>11.0</td>\n",
       "      <td>False</td>\n",
       "      <td>False</td>\n",
       "      <td>False</td>\n",
       "      <td>False</td>\n",
       "      <td>True</td>\n",
       "    </tr>\n",
       "    <tr>\n",
       "      <td>2002</td>\n",
       "      <td>8</td>\n",
       "      <td>381</td>\n",
       "      <td>35.0</td>\n",
       "      <td>24.0</td>\n",
       "      <td>Oct 12, 2002</td>\n",
       "      <td>NaN</td>\n",
       "      <td>Sat</td>\n",
       "      <td>NaN</td>\n",
       "      <td>NaN</td>\n",
       "      <td>True</td>\n",
       "      <td>2.0</td>\n",
       "      <td>Oklahoma</td>\n",
       "      <td>3.0</td>\n",
       "      <td>Texas</td>\n",
       "      <td>1.0</td>\n",
       "      <td>11.0</td>\n",
       "      <td>False</td>\n",
       "      <td>False</td>\n",
       "      <td>False</td>\n",
       "      <td>False</td>\n",
       "      <td>True</td>\n",
       "    </tr>\n",
       "    <tr>\n",
       "      <td>2003</td>\n",
       "      <td>8</td>\n",
       "      <td>384</td>\n",
       "      <td>65.0</td>\n",
       "      <td>13.0</td>\n",
       "      <td>Oct 11, 2003</td>\n",
       "      <td>NaN</td>\n",
       "      <td>Sat</td>\n",
       "      <td>NaN</td>\n",
       "      <td>NaN</td>\n",
       "      <td>True</td>\n",
       "      <td>1.0</td>\n",
       "      <td>Oklahoma</td>\n",
       "      <td>11.0</td>\n",
       "      <td>Texas</td>\n",
       "      <td>10.0</td>\n",
       "      <td>52.0</td>\n",
       "      <td>False</td>\n",
       "      <td>False</td>\n",
       "      <td>False</td>\n",
       "      <td>False</td>\n",
       "      <td>True</td>\n",
       "    </tr>\n",
       "    <tr>\n",
       "      <td>2004</td>\n",
       "      <td>7</td>\n",
       "      <td>325</td>\n",
       "      <td>12.0</td>\n",
       "      <td>0.0</td>\n",
       "      <td>Oct 9, 2004</td>\n",
       "      <td>NaN</td>\n",
       "      <td>Sat</td>\n",
       "      <td>NaN</td>\n",
       "      <td>NaN</td>\n",
       "      <td>True</td>\n",
       "      <td>2.0</td>\n",
       "      <td>Oklahoma</td>\n",
       "      <td>5.0</td>\n",
       "      <td>Texas</td>\n",
       "      <td>3.0</td>\n",
       "      <td>12.0</td>\n",
       "      <td>False</td>\n",
       "      <td>False</td>\n",
       "      <td>False</td>\n",
       "      <td>False</td>\n",
       "      <td>True</td>\n",
       "    </tr>\n",
       "    <tr>\n",
       "      <td>2006</td>\n",
       "      <td>2</td>\n",
       "      <td>116</td>\n",
       "      <td>24.0</td>\n",
       "      <td>7.0</td>\n",
       "      <td>Sep 9, 2006</td>\n",
       "      <td>NaN</td>\n",
       "      <td>Sat</td>\n",
       "      <td>@</td>\n",
       "      <td>NaN</td>\n",
       "      <td>False</td>\n",
       "      <td>1.0</td>\n",
       "      <td>Ohio State</td>\n",
       "      <td>2.0</td>\n",
       "      <td>Texas</td>\n",
       "      <td>1.0</td>\n",
       "      <td>17.0</td>\n",
       "      <td>False</td>\n",
       "      <td>False</td>\n",
       "      <td>False</td>\n",
       "      <td>False</td>\n",
       "      <td>True</td>\n",
       "    </tr>\n",
       "    <tr>\n",
       "      <td>2007</td>\n",
       "      <td>6</td>\n",
       "      <td>354</td>\n",
       "      <td>28.0</td>\n",
       "      <td>21.0</td>\n",
       "      <td>Oct 6, 2007</td>\n",
       "      <td>NaN</td>\n",
       "      <td>Sat</td>\n",
       "      <td>NaN</td>\n",
       "      <td>NaN</td>\n",
       "      <td>True</td>\n",
       "      <td>10.0</td>\n",
       "      <td>Oklahoma</td>\n",
       "      <td>19.0</td>\n",
       "      <td>Texas</td>\n",
       "      <td>9.0</td>\n",
       "      <td>7.0</td>\n",
       "      <td>False</td>\n",
       "      <td>False</td>\n",
       "      <td>False</td>\n",
       "      <td>False</td>\n",
       "      <td>True</td>\n",
       "    </tr>\n",
       "    <tr>\n",
       "      <td>2009</td>\n",
       "      <td>20</td>\n",
       "      <td>835</td>\n",
       "      <td>37.0</td>\n",
       "      <td>21.0</td>\n",
       "      <td>Jan 7, 2010</td>\n",
       "      <td>NaN</td>\n",
       "      <td>Thu</td>\n",
       "      <td>NaN</td>\n",
       "      <td>BCS Championship (Pasadena, CA)</td>\n",
       "      <td>True</td>\n",
       "      <td>1.0</td>\n",
       "      <td>Alabama</td>\n",
       "      <td>2.0</td>\n",
       "      <td>Texas</td>\n",
       "      <td>1.0</td>\n",
       "      <td>16.0</td>\n",
       "      <td>False</td>\n",
       "      <td>False</td>\n",
       "      <td>False</td>\n",
       "      <td>False</td>\n",
       "      <td>True</td>\n",
       "    </tr>\n",
       "    <tr>\n",
       "      <td>2010</td>\n",
       "      <td>5</td>\n",
       "      <td>301</td>\n",
       "      <td>28.0</td>\n",
       "      <td>20.0</td>\n",
       "      <td>Oct 2, 2010</td>\n",
       "      <td>NaN</td>\n",
       "      <td>Sat</td>\n",
       "      <td>NaN</td>\n",
       "      <td>NaN</td>\n",
       "      <td>True</td>\n",
       "      <td>8.0</td>\n",
       "      <td>Oklahoma</td>\n",
       "      <td>21.0</td>\n",
       "      <td>Texas</td>\n",
       "      <td>13.0</td>\n",
       "      <td>8.0</td>\n",
       "      <td>False</td>\n",
       "      <td>False</td>\n",
       "      <td>False</td>\n",
       "      <td>False</td>\n",
       "      <td>True</td>\n",
       "    </tr>\n",
       "    <tr>\n",
       "      <td rowspan=\"3\" valign=\"top\">2011</td>\n",
       "      <td rowspan=\"2\" valign=\"top\">6</td>\n",
       "      <td>357</td>\n",
       "      <td>55.0</td>\n",
       "      <td>17.0</td>\n",
       "      <td>Oct 8, 2011</td>\n",
       "      <td>NaN</td>\n",
       "      <td>Sat</td>\n",
       "      <td>NaN</td>\n",
       "      <td>Cotton Bowl - Dallas, Texas</td>\n",
       "      <td>True</td>\n",
       "      <td>3.0</td>\n",
       "      <td>Oklahoma</td>\n",
       "      <td>11.0</td>\n",
       "      <td>Texas</td>\n",
       "      <td>8.0</td>\n",
       "      <td>38.0</td>\n",
       "      <td>False</td>\n",
       "      <td>False</td>\n",
       "      <td>False</td>\n",
       "      <td>False</td>\n",
       "      <td>True</td>\n",
       "    </tr>\n",
       "    <tr>\n",
       "      <td>358</td>\n",
       "      <td>55.0</td>\n",
       "      <td>17.0</td>\n",
       "      <td>Oct 8, 2011</td>\n",
       "      <td>NaN</td>\n",
       "      <td>Sat</td>\n",
       "      <td>NaN</td>\n",
       "      <td>NaN</td>\n",
       "      <td>True</td>\n",
       "      <td>3.0</td>\n",
       "      <td>Oklahoma</td>\n",
       "      <td>11.0</td>\n",
       "      <td>Texas</td>\n",
       "      <td>8.0</td>\n",
       "      <td>38.0</td>\n",
       "      <td>False</td>\n",
       "      <td>False</td>\n",
       "      <td>False</td>\n",
       "      <td>False</td>\n",
       "      <td>True</td>\n",
       "    </tr>\n",
       "    <tr>\n",
       "      <td>7</td>\n",
       "      <td>410</td>\n",
       "      <td>38.0</td>\n",
       "      <td>26.0</td>\n",
       "      <td>Oct 15, 2011</td>\n",
       "      <td>NaN</td>\n",
       "      <td>Sat</td>\n",
       "      <td>@</td>\n",
       "      <td>NaN</td>\n",
       "      <td>False</td>\n",
       "      <td>6.0</td>\n",
       "      <td>Oklahoma State</td>\n",
       "      <td>22.0</td>\n",
       "      <td>Texas</td>\n",
       "      <td>16.0</td>\n",
       "      <td>12.0</td>\n",
       "      <td>False</td>\n",
       "      <td>False</td>\n",
       "      <td>False</td>\n",
       "      <td>False</td>\n",
       "      <td>True</td>\n",
       "    </tr>\n",
       "    <tr>\n",
       "      <td rowspan=\"3\" valign=\"top\">2012</td>\n",
       "      <td>6</td>\n",
       "      <td>383</td>\n",
       "      <td>48.0</td>\n",
       "      <td>45.0</td>\n",
       "      <td>Oct 6, 2012</td>\n",
       "      <td>NaN</td>\n",
       "      <td>Sat</td>\n",
       "      <td>@</td>\n",
       "      <td>NaN</td>\n",
       "      <td>False</td>\n",
       "      <td>8.0</td>\n",
       "      <td>West Virginia</td>\n",
       "      <td>11.0</td>\n",
       "      <td>Texas</td>\n",
       "      <td>3.0</td>\n",
       "      <td>3.0</td>\n",
       "      <td>False</td>\n",
       "      <td>False</td>\n",
       "      <td>False</td>\n",
       "      <td>False</td>\n",
       "      <td>True</td>\n",
       "    </tr>\n",
       "    <tr>\n",
       "      <td>7</td>\n",
       "      <td>423</td>\n",
       "      <td>63.0</td>\n",
       "      <td>21.0</td>\n",
       "      <td>Oct 13, 2012</td>\n",
       "      <td>NaN</td>\n",
       "      <td>Sat</td>\n",
       "      <td>NaN</td>\n",
       "      <td>NaN</td>\n",
       "      <td>True</td>\n",
       "      <td>13.0</td>\n",
       "      <td>Oklahoma</td>\n",
       "      <td>15.0</td>\n",
       "      <td>Texas</td>\n",
       "      <td>2.0</td>\n",
       "      <td>42.0</td>\n",
       "      <td>False</td>\n",
       "      <td>False</td>\n",
       "      <td>False</td>\n",
       "      <td>False</td>\n",
       "      <td>True</td>\n",
       "    </tr>\n",
       "    <tr>\n",
       "      <td>14</td>\n",
       "      <td>796</td>\n",
       "      <td>42.0</td>\n",
       "      <td>24.0</td>\n",
       "      <td>Dec 1, 2012</td>\n",
       "      <td>NaN</td>\n",
       "      <td>Sat</td>\n",
       "      <td>NaN</td>\n",
       "      <td>NaN</td>\n",
       "      <td>True</td>\n",
       "      <td>7.0</td>\n",
       "      <td>Kansas State</td>\n",
       "      <td>23.0</td>\n",
       "      <td>Texas</td>\n",
       "      <td>16.0</td>\n",
       "      <td>18.0</td>\n",
       "      <td>False</td>\n",
       "      <td>False</td>\n",
       "      <td>False</td>\n",
       "      <td>False</td>\n",
       "      <td>True</td>\n",
       "    </tr>\n",
       "    <tr>\n",
       "      <td rowspan=\"2\" valign=\"top\">2013</td>\n",
       "      <td>12</td>\n",
       "      <td>670</td>\n",
       "      <td>38.0</td>\n",
       "      <td>13.0</td>\n",
       "      <td>Nov 16, 2013</td>\n",
       "      <td>3:30 PM</td>\n",
       "      <td>Sat</td>\n",
       "      <td>@</td>\n",
       "      <td>NaN</td>\n",
       "      <td>False</td>\n",
       "      <td>12.0</td>\n",
       "      <td>Oklahoma State</td>\n",
       "      <td>23.0</td>\n",
       "      <td>Texas</td>\n",
       "      <td>11.0</td>\n",
       "      <td>25.0</td>\n",
       "      <td>False</td>\n",
       "      <td>False</td>\n",
       "      <td>False</td>\n",
       "      <td>False</td>\n",
       "      <td>True</td>\n",
       "    </tr>\n",
       "    <tr>\n",
       "      <td>15</td>\n",
       "      <td>803</td>\n",
       "      <td>30.0</td>\n",
       "      <td>10.0</td>\n",
       "      <td>Dec 7, 2013</td>\n",
       "      <td>3:30 PM</td>\n",
       "      <td>Sat</td>\n",
       "      <td>NaN</td>\n",
       "      <td>NaN</td>\n",
       "      <td>True</td>\n",
       "      <td>9.0</td>\n",
       "      <td>Baylor</td>\n",
       "      <td>23.0</td>\n",
       "      <td>Texas</td>\n",
       "      <td>14.0</td>\n",
       "      <td>20.0</td>\n",
       "      <td>False</td>\n",
       "      <td>False</td>\n",
       "      <td>False</td>\n",
       "      <td>False</td>\n",
       "      <td>True</td>\n",
       "    </tr>\n",
       "    <tr>\n",
       "      <td rowspan=\"2\" valign=\"top\">2018</td>\n",
       "      <td>11</td>\n",
       "      <td>634</td>\n",
       "      <td>42.0</td>\n",
       "      <td>41.0</td>\n",
       "      <td>Nov 3, 2018</td>\n",
       "      <td>3:30 PM</td>\n",
       "      <td>Sat</td>\n",
       "      <td>@</td>\n",
       "      <td>Darrell K Royal-Texas Memorial Stadium - Austi...</td>\n",
       "      <td>False</td>\n",
       "      <td>12.0</td>\n",
       "      <td>West Virginia</td>\n",
       "      <td>15.0</td>\n",
       "      <td>Texas</td>\n",
       "      <td>3.0</td>\n",
       "      <td>1.0</td>\n",
       "      <td>False</td>\n",
       "      <td>False</td>\n",
       "      <td>False</td>\n",
       "      <td>False</td>\n",
       "      <td>True</td>\n",
       "    </tr>\n",
       "    <tr>\n",
       "      <td>15</td>\n",
       "      <td>841</td>\n",
       "      <td>39.0</td>\n",
       "      <td>27.0</td>\n",
       "      <td>Dec 1, 2018</td>\n",
       "      <td>12:00 PM</td>\n",
       "      <td>Sat</td>\n",
       "      <td>NaN</td>\n",
       "      <td>AT&amp;T Stadium - Arlington, Texas</td>\n",
       "      <td>True</td>\n",
       "      <td>5.0</td>\n",
       "      <td>Oklahoma</td>\n",
       "      <td>9.0</td>\n",
       "      <td>Texas</td>\n",
       "      <td>4.0</td>\n",
       "      <td>12.0</td>\n",
       "      <td>False</td>\n",
       "      <td>False</td>\n",
       "      <td>False</td>\n",
       "      <td>False</td>\n",
       "      <td>True</td>\n",
       "    </tr>\n",
       "  </tbody>\n",
       "</table>\n",
       "</div>"
      ],
      "text/plain": [
       "                      winner_pts  loser_pts     game_date game_time game_day  \\\n",
       "year week_number row                                                           \n",
       "2000 7           321        63.0       14.0   Oct 7, 2000       NaN      Sat   \n",
       "     17          690        35.0       30.0  Dec 29, 2000       NaN      Fri   \n",
       "2001 6           276        14.0        3.0   Oct 6, 2001       NaN      Sat   \n",
       "2002 8           381        35.0       24.0  Oct 12, 2002       NaN      Sat   \n",
       "2003 8           384        65.0       13.0  Oct 11, 2003       NaN      Sat   \n",
       "2004 7           325        12.0        0.0   Oct 9, 2004       NaN      Sat   \n",
       "2006 2           116        24.0        7.0   Sep 9, 2006       NaN      Sat   \n",
       "2007 6           354        28.0       21.0   Oct 6, 2007       NaN      Sat   \n",
       "2009 20          835        37.0       21.0   Jan 7, 2010       NaN      Thu   \n",
       "2010 5           301        28.0       20.0   Oct 2, 2010       NaN      Sat   \n",
       "2011 6           357        55.0       17.0   Oct 8, 2011       NaN      Sat   \n",
       "                 358        55.0       17.0   Oct 8, 2011       NaN      Sat   \n",
       "     7           410        38.0       26.0  Oct 15, 2011       NaN      Sat   \n",
       "2012 6           383        48.0       45.0   Oct 6, 2012       NaN      Sat   \n",
       "     7           423        63.0       21.0  Oct 13, 2012       NaN      Sat   \n",
       "     14          796        42.0       24.0   Dec 1, 2012       NaN      Sat   \n",
       "2013 12          670        38.0       13.0  Nov 16, 2013   3:30 PM      Sat   \n",
       "     15          803        30.0       10.0   Dec 7, 2013   3:30 PM      Sat   \n",
       "2018 11          634        42.0       41.0   Nov 3, 2018   3:30 PM      Sat   \n",
       "     15          841        39.0       27.0   Dec 1, 2018  12:00 PM      Sat   \n",
       "\n",
       "                     game_loc  \\\n",
       "year week_number row            \n",
       "2000 7           321      NaN   \n",
       "     17          690      NaN   \n",
       "2001 6           276      NaN   \n",
       "2002 8           381      NaN   \n",
       "2003 8           384      NaN   \n",
       "2004 7           325      NaN   \n",
       "2006 2           116        @   \n",
       "2007 6           354      NaN   \n",
       "2009 20          835      NaN   \n",
       "2010 5           301      NaN   \n",
       "2011 6           357      NaN   \n",
       "                 358      NaN   \n",
       "     7           410        @   \n",
       "2012 6           383        @   \n",
       "     7           423      NaN   \n",
       "     14          796      NaN   \n",
       "2013 12          670        @   \n",
       "     15          803      NaN   \n",
       "2018 11          634        @   \n",
       "     15          841      NaN   \n",
       "\n",
       "                                                                  notes  \\\n",
       "year week_number row                                                      \n",
       "2000 7           321                                                NaN   \n",
       "     17          690                       Holiday Bowl (San Diego, CA)   \n",
       "2001 6           276                                                NaN   \n",
       "2002 8           381                                                NaN   \n",
       "2003 8           384                                                NaN   \n",
       "2004 7           325                                                NaN   \n",
       "2006 2           116                                                NaN   \n",
       "2007 6           354                                                NaN   \n",
       "2009 20          835                    BCS Championship (Pasadena, CA)   \n",
       "2010 5           301                                                NaN   \n",
       "2011 6           357                        Cotton Bowl - Dallas, Texas   \n",
       "                 358                                                NaN   \n",
       "     7           410                                                NaN   \n",
       "2012 6           383                                                NaN   \n",
       "     7           423                                                NaN   \n",
       "     14          796                                                NaN   \n",
       "2013 12          670                                                NaN   \n",
       "     15          803                                                NaN   \n",
       "2018 11          634  Darrell K Royal-Texas Memorial Stadium - Austi...   \n",
       "     15          841                    AT&T Stadium - Arlington, Texas   \n",
       "\n",
       "                      winner_home  winner_rank     winner_name  loser_rank  \\\n",
       "year week_number row                                                         \n",
       "2000 7           321         True         10.0        Oklahoma        11.0   \n",
       "     17          690         True          8.0          Oregon        12.0   \n",
       "2001 6           276         True          3.0        Oklahoma         5.0   \n",
       "2002 8           381         True          2.0        Oklahoma         3.0   \n",
       "2003 8           384         True          1.0        Oklahoma        11.0   \n",
       "2004 7           325         True          2.0        Oklahoma         5.0   \n",
       "2006 2           116        False          1.0      Ohio State         2.0   \n",
       "2007 6           354         True         10.0        Oklahoma        19.0   \n",
       "2009 20          835         True          1.0         Alabama         2.0   \n",
       "2010 5           301         True          8.0        Oklahoma        21.0   \n",
       "2011 6           357         True          3.0        Oklahoma        11.0   \n",
       "                 358         True          3.0        Oklahoma        11.0   \n",
       "     7           410        False          6.0  Oklahoma State        22.0   \n",
       "2012 6           383        False          8.0   West Virginia        11.0   \n",
       "     7           423         True         13.0        Oklahoma        15.0   \n",
       "     14          796         True          7.0    Kansas State        23.0   \n",
       "2013 12          670        False         12.0  Oklahoma State        23.0   \n",
       "     15          803         True          9.0          Baylor        23.0   \n",
       "2018 11          634        False         12.0   West Virginia        15.0   \n",
       "     15          841         True          5.0        Oklahoma         9.0   \n",
       "\n",
       "                     loser_name  rank_diff  pts_diff  both_unranked  \\\n",
       "year week_number row                                                  \n",
       "2000 7           321      Texas        1.0      49.0          False   \n",
       "     17          690      Texas        4.0       5.0          False   \n",
       "2001 6           276      Texas        2.0      11.0          False   \n",
       "2002 8           381      Texas        1.0      11.0          False   \n",
       "2003 8           384      Texas       10.0      52.0          False   \n",
       "2004 7           325      Texas        3.0      12.0          False   \n",
       "2006 2           116      Texas        1.0      17.0          False   \n",
       "2007 6           354      Texas        9.0       7.0          False   \n",
       "2009 20          835      Texas        1.0      16.0          False   \n",
       "2010 5           301      Texas       13.0       8.0          False   \n",
       "2011 6           357      Texas        8.0      38.0          False   \n",
       "                 358      Texas        8.0      38.0          False   \n",
       "     7           410      Texas       16.0      12.0          False   \n",
       "2012 6           383      Texas        3.0       3.0          False   \n",
       "     7           423      Texas        2.0      42.0          False   \n",
       "     14          796      Texas       16.0      18.0          False   \n",
       "2013 12          670      Texas       11.0      25.0          False   \n",
       "     15          803      Texas       14.0      20.0          False   \n",
       "2018 11          634      Texas        3.0       1.0          False   \n",
       "     15          841      Texas        4.0      12.0          False   \n",
       "\n",
       "                      ranked_beats_unranked  unranked_beats_ranked  \\\n",
       "year week_number row                                                 \n",
       "2000 7           321                  False                  False   \n",
       "     17          690                  False                  False   \n",
       "2001 6           276                  False                  False   \n",
       "2002 8           381                  False                  False   \n",
       "2003 8           384                  False                  False   \n",
       "2004 7           325                  False                  False   \n",
       "2006 2           116                  False                  False   \n",
       "2007 6           354                  False                  False   \n",
       "2009 20          835                  False                  False   \n",
       "2010 5           301                  False                  False   \n",
       "2011 6           357                  False                  False   \n",
       "                 358                  False                  False   \n",
       "     7           410                  False                  False   \n",
       "2012 6           383                  False                  False   \n",
       "     7           423                  False                  False   \n",
       "     14          796                  False                  False   \n",
       "2013 12          670                  False                  False   \n",
       "     15          803                  False                  False   \n",
       "2018 11          634                  False                  False   \n",
       "     15          841                  False                  False   \n",
       "\n",
       "                      lower_beats_higher  higher_beats_lower  \n",
       "year week_number row                                          \n",
       "2000 7           321               False                True  \n",
       "     17          690               False                True  \n",
       "2001 6           276               False                True  \n",
       "2002 8           381               False                True  \n",
       "2003 8           384               False                True  \n",
       "2004 7           325               False                True  \n",
       "2006 2           116               False                True  \n",
       "2007 6           354               False                True  \n",
       "2009 20          835               False                True  \n",
       "2010 5           301               False                True  \n",
       "2011 6           357               False                True  \n",
       "                 358               False                True  \n",
       "     7           410               False                True  \n",
       "2012 6           383               False                True  \n",
       "     7           423               False                True  \n",
       "     14          796               False                True  \n",
       "2013 12          670               False                True  \n",
       "     15          803               False                True  \n",
       "2018 11          634               False                True  \n",
       "     15          841               False                True  "
      ]
     },
     "execution_count": 158,
     "metadata": {},
     "output_type": "execute_result"
    }
   ],
   "source": [
    "records_recent[(records_recent['loser_name'] == 'Texas') & (records_recent['rank_diff'] > 0)]"
   ]
  },
  {
   "cell_type": "code",
   "execution_count": null,
   "metadata": {},
   "outputs": [],
   "source": []
  }
 ],
 "metadata": {
  "kernelspec": {
   "display_name": "Python 3",
   "language": "python",
   "name": "python3"
  },
  "language_info": {
   "codemirror_mode": {
    "name": "ipython",
    "version": 3
   },
   "file_extension": ".py",
   "mimetype": "text/x-python",
   "name": "python",
   "nbconvert_exporter": "python",
   "pygments_lexer": "ipython3",
   "version": "3.7.4"
  }
 },
 "nbformat": 4,
 "nbformat_minor": 2
}
