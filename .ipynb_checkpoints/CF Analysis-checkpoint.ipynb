{
 "cells": [
  {
   "cell_type": "code",
   "execution_count": 1,
   "metadata": {},
   "outputs": [],
   "source": [
    "import pandas as pd\n",
    "import matplotlib.pyplot as plt\n",
    "import numpy as np\n",
    "import seaborn as sns\n",
    "%matplotlib inline"
   ]
  },
  {
   "cell_type": "code",
   "execution_count": 6,
   "metadata": {},
   "outputs": [],
   "source": [
    "records = pd.read_csv('scraped_results_df.csv')"
   ]
  },
  {
   "cell_type": "code",
   "execution_count": 14,
   "metadata": {},
   "outputs": [
    {
     "name": "stdout",
     "output_type": "stream",
     "text": [
      "<class 'pandas.core.frame.DataFrame'>\n",
      "RangeIndex: 48899 entries, 0 to 48898\n",
      "Data columns (total 14 columns):\n",
      "Unnamed: 0     48899 non-null int64\n",
      "row            48899 non-null int64\n",
      "week_number    48899 non-null int64\n",
      "winner         48899 non-null object\n",
      "winner_pts     48897 non-null float64\n",
      "loser          48899 non-null object\n",
      "loser_pts      48897 non-null float64\n",
      "game_date      48899 non-null object\n",
      "game_time      5225 non-null object\n",
      "game_day       48899 non-null object\n",
      "game_loc       17923 non-null object\n",
      "notes          4066 non-null object\n",
      "year           48899 non-null int64\n",
      "winner_home    48899 non-null bool\n",
      "dtypes: bool(1), float64(2), int64(4), object(7)\n",
      "memory usage: 4.9+ MB\n"
     ]
    }
   ],
   "source": [
    "records.info()"
   ]
  },
  {
   "cell_type": "code",
   "execution_count": 9,
   "metadata": {},
   "outputs": [
    {
     "data": {
      "text/html": [
       "<div>\n",
       "<style scoped>\n",
       "    .dataframe tbody tr th:only-of-type {\n",
       "        vertical-align: middle;\n",
       "    }\n",
       "\n",
       "    .dataframe tbody tr th {\n",
       "        vertical-align: top;\n",
       "    }\n",
       "\n",
       "    .dataframe thead th {\n",
       "        text-align: right;\n",
       "    }\n",
       "</style>\n",
       "<table border=\"1\" class=\"dataframe\">\n",
       "  <thead>\n",
       "    <tr style=\"text-align: right;\">\n",
       "      <th></th>\n",
       "      <th>Unnamed: 0</th>\n",
       "      <th>row</th>\n",
       "      <th>week_number</th>\n",
       "      <th>winner_pts</th>\n",
       "      <th>loser_pts</th>\n",
       "      <th>year</th>\n",
       "    </tr>\n",
       "  </thead>\n",
       "  <tbody>\n",
       "    <tr>\n",
       "      <td>count</td>\n",
       "      <td>48899.000000</td>\n",
       "      <td>48899.000000</td>\n",
       "      <td>48899.000000</td>\n",
       "      <td>48897.000000</td>\n",
       "      <td>48897.000000</td>\n",
       "      <td>48899.000000</td>\n",
       "    </tr>\n",
       "    <tr>\n",
       "      <td>mean</td>\n",
       "      <td>360.076361</td>\n",
       "      <td>361.076361</td>\n",
       "      <td>7.479539</td>\n",
       "      <td>31.192159</td>\n",
       "      <td>13.981389</td>\n",
       "      <td>1985.805047</td>\n",
       "    </tr>\n",
       "    <tr>\n",
       "      <td>std</td>\n",
       "      <td>215.386657</td>\n",
       "      <td>215.386657</td>\n",
       "      <td>3.950671</td>\n",
       "      <td>13.186025</td>\n",
       "      <td>9.711082</td>\n",
       "      <td>19.962510</td>\n",
       "    </tr>\n",
       "    <tr>\n",
       "      <td>min</td>\n",
       "      <td>0.000000</td>\n",
       "      <td>1.000000</td>\n",
       "      <td>1.000000</td>\n",
       "      <td>0.000000</td>\n",
       "      <td>0.000000</td>\n",
       "      <td>1950.000000</td>\n",
       "    </tr>\n",
       "    <tr>\n",
       "      <td>25%</td>\n",
       "      <td>177.000000</td>\n",
       "      <td>178.000000</td>\n",
       "      <td>4.000000</td>\n",
       "      <td>21.000000</td>\n",
       "      <td>7.000000</td>\n",
       "      <td>1969.000000</td>\n",
       "    </tr>\n",
       "    <tr>\n",
       "      <td>50%</td>\n",
       "      <td>354.000000</td>\n",
       "      <td>355.000000</td>\n",
       "      <td>7.000000</td>\n",
       "      <td>30.000000</td>\n",
       "      <td>13.000000</td>\n",
       "      <td>1985.000000</td>\n",
       "    </tr>\n",
       "    <tr>\n",
       "      <td>75%</td>\n",
       "      <td>531.000000</td>\n",
       "      <td>532.000000</td>\n",
       "      <td>10.000000</td>\n",
       "      <td>40.000000</td>\n",
       "      <td>20.000000</td>\n",
       "      <td>2004.000000</td>\n",
       "    </tr>\n",
       "    <tr>\n",
       "      <td>max</td>\n",
       "      <td>883.000000</td>\n",
       "      <td>884.000000</td>\n",
       "      <td>21.000000</td>\n",
       "      <td>100.000000</td>\n",
       "      <td>72.000000</td>\n",
       "      <td>2018.000000</td>\n",
       "    </tr>\n",
       "  </tbody>\n",
       "</table>\n",
       "</div>"
      ],
      "text/plain": [
       "         Unnamed: 0           row   week_number    winner_pts     loser_pts  \\\n",
       "count  48899.000000  48899.000000  48899.000000  48897.000000  48897.000000   \n",
       "mean     360.076361    361.076361      7.479539     31.192159     13.981389   \n",
       "std      215.386657    215.386657      3.950671     13.186025      9.711082   \n",
       "min        0.000000      1.000000      1.000000      0.000000      0.000000   \n",
       "25%      177.000000    178.000000      4.000000     21.000000      7.000000   \n",
       "50%      354.000000    355.000000      7.000000     30.000000     13.000000   \n",
       "75%      531.000000    532.000000     10.000000     40.000000     20.000000   \n",
       "max      883.000000    884.000000     21.000000    100.000000     72.000000   \n",
       "\n",
       "               year  \n",
       "count  48899.000000  \n",
       "mean    1985.805047  \n",
       "std       19.962510  \n",
       "min     1950.000000  \n",
       "25%     1969.000000  \n",
       "50%     1985.000000  \n",
       "75%     2004.000000  \n",
       "max     2018.000000  "
      ]
     },
     "execution_count": 9,
     "metadata": {},
     "output_type": "execute_result"
    }
   ],
   "source": [
    "records.describe()"
   ]
  },
  {
   "cell_type": "code",
   "execution_count": 8,
   "metadata": {},
   "outputs": [
    {
     "data": {
      "text/plain": [
       "2018    884\n",
       "2017    878\n",
       "2016    873\n",
       "2015    871\n",
       "2014    870\n",
       "       ... \n",
       "1958    590\n",
       "1956    587\n",
       "1954    586\n",
       "1955    575\n",
       "1953    575\n",
       "Name: year, Length: 69, dtype: int64"
      ]
     },
     "execution_count": 8,
     "metadata": {},
     "output_type": "execute_result"
    }
   ],
   "source": [
    "records['year'].value_counts()"
   ]
  },
  {
   "cell_type": "code",
   "execution_count": 28,
   "metadata": {},
   "outputs": [
    {
     "data": {
      "text/html": [
       "<div>\n",
       "<style scoped>\n",
       "    .dataframe tbody tr th:only-of-type {\n",
       "        vertical-align: middle;\n",
       "    }\n",
       "\n",
       "    .dataframe tbody tr th {\n",
       "        vertical-align: top;\n",
       "    }\n",
       "\n",
       "    .dataframe thead th {\n",
       "        text-align: right;\n",
       "    }\n",
       "</style>\n",
       "<table border=\"1\" class=\"dataframe\">\n",
       "  <thead>\n",
       "    <tr style=\"text-align: right;\">\n",
       "      <th></th>\n",
       "      <th>row</th>\n",
       "      <th>week_number</th>\n",
       "      <th>winner_pts</th>\n",
       "      <th>loser_pts</th>\n",
       "      <th>game_date</th>\n",
       "      <th>game_time</th>\n",
       "      <th>game_day</th>\n",
       "      <th>game_loc</th>\n",
       "      <th>notes</th>\n",
       "      <th>year</th>\n",
       "      <th>winner_home</th>\n",
       "      <th>winner_rank</th>\n",
       "      <th>winner_name</th>\n",
       "      <th>loser_rank</th>\n",
       "      <th>loser_name</th>\n",
       "      <th>rank_diff</th>\n",
       "      <th>pts_diff</th>\n",
       "    </tr>\n",
       "  </thead>\n",
       "  <tbody>\n",
       "    <tr>\n",
       "      <td>0</td>\n",
       "      <td>1</td>\n",
       "      <td>1</td>\n",
       "      <td>13.0</td>\n",
       "      <td>12.0</td>\n",
       "      <td>Sep 15, 1950</td>\n",
       "      <td>NaN</td>\n",
       "      <td>Fri</td>\n",
       "      <td>@</td>\n",
       "      <td>NaN</td>\n",
       "      <td>1950</td>\n",
       "      <td>False</td>\n",
       "      <td>NaN</td>\n",
       "      <td>Presbyterian</td>\n",
       "      <td>NaN</td>\n",
       "      <td>Furman</td>\n",
       "      <td>NaN</td>\n",
       "      <td>1.0</td>\n",
       "    </tr>\n",
       "    <tr>\n",
       "      <td>1</td>\n",
       "      <td>2</td>\n",
       "      <td>1</td>\n",
       "      <td>14.0</td>\n",
       "      <td>13.0</td>\n",
       "      <td>Sep 16, 1950</td>\n",
       "      <td>NaN</td>\n",
       "      <td>Sat</td>\n",
       "      <td>@</td>\n",
       "      <td>NaN</td>\n",
       "      <td>1950</td>\n",
       "      <td>False</td>\n",
       "      <td>NaN</td>\n",
       "      <td>Brigham Young</td>\n",
       "      <td>NaN</td>\n",
       "      <td>Idaho State</td>\n",
       "      <td>NaN</td>\n",
       "      <td>1.0</td>\n",
       "    </tr>\n",
       "    <tr>\n",
       "      <td>2</td>\n",
       "      <td>3</td>\n",
       "      <td>1</td>\n",
       "      <td>32.0</td>\n",
       "      <td>0.0</td>\n",
       "      <td>Sep 16, 1950</td>\n",
       "      <td>NaN</td>\n",
       "      <td>Sat</td>\n",
       "      <td>NaN</td>\n",
       "      <td>NaN</td>\n",
       "      <td>1950</td>\n",
       "      <td>True</td>\n",
       "      <td>NaN</td>\n",
       "      <td>Cincinnati</td>\n",
       "      <td>NaN</td>\n",
       "      <td>Texas-El Paso</td>\n",
       "      <td>NaN</td>\n",
       "      <td>32.0</td>\n",
       "    </tr>\n",
       "    <tr>\n",
       "      <td>3</td>\n",
       "      <td>4</td>\n",
       "      <td>1</td>\n",
       "      <td>56.0</td>\n",
       "      <td>0.0</td>\n",
       "      <td>Sep 16, 1950</td>\n",
       "      <td>NaN</td>\n",
       "      <td>Sat</td>\n",
       "      <td>NaN</td>\n",
       "      <td>NaN</td>\n",
       "      <td>1950</td>\n",
       "      <td>True</td>\n",
       "      <td>NaN</td>\n",
       "      <td>Citadel</td>\n",
       "      <td>NaN</td>\n",
       "      <td>Parris Island Marines</td>\n",
       "      <td>NaN</td>\n",
       "      <td>56.0</td>\n",
       "    </tr>\n",
       "    <tr>\n",
       "      <td>4</td>\n",
       "      <td>5</td>\n",
       "      <td>1</td>\n",
       "      <td>7.0</td>\n",
       "      <td>0.0</td>\n",
       "      <td>Sep 16, 1950</td>\n",
       "      <td>NaN</td>\n",
       "      <td>Sat</td>\n",
       "      <td>NaN</td>\n",
       "      <td>NaN</td>\n",
       "      <td>1950</td>\n",
       "      <td>True</td>\n",
       "      <td>NaN</td>\n",
       "      <td>Drake</td>\n",
       "      <td>NaN</td>\n",
       "      <td>Denver</td>\n",
       "      <td>NaN</td>\n",
       "      <td>7.0</td>\n",
       "    </tr>\n",
       "  </tbody>\n",
       "</table>\n",
       "</div>"
      ],
      "text/plain": [
       "   row  week_number  winner_pts  loser_pts     game_date game_time game_day  \\\n",
       "0    1            1        13.0       12.0  Sep 15, 1950       NaN      Fri   \n",
       "1    2            1        14.0       13.0  Sep 16, 1950       NaN      Sat   \n",
       "2    3            1        32.0        0.0  Sep 16, 1950       NaN      Sat   \n",
       "3    4            1        56.0        0.0  Sep 16, 1950       NaN      Sat   \n",
       "4    5            1         7.0        0.0  Sep 16, 1950       NaN      Sat   \n",
       "\n",
       "  game_loc notes  year  winner_home  winner_rank    winner_name  loser_rank  \\\n",
       "0        @   NaN  1950        False          NaN   Presbyterian         NaN   \n",
       "1        @   NaN  1950        False          NaN  Brigham Young         NaN   \n",
       "2      NaN   NaN  1950         True          NaN     Cincinnati         NaN   \n",
       "3      NaN   NaN  1950         True          NaN        Citadel         NaN   \n",
       "4      NaN   NaN  1950         True          NaN          Drake         NaN   \n",
       "\n",
       "              loser_name  rank_diff  pts_diff  \n",
       "0                 Furman        NaN       1.0  \n",
       "1            Idaho State        NaN       1.0  \n",
       "2          Texas-El Paso        NaN      32.0  \n",
       "3  Parris Island Marines        NaN      56.0  \n",
       "4                 Denver        NaN       7.0  "
      ]
     },
     "execution_count": 28,
     "metadata": {},
     "output_type": "execute_result"
    }
   ],
   "source": [
    "records.head()"
   ]
  },
  {
   "cell_type": "code",
   "execution_count": 105,
   "metadata": {},
   "outputs": [],
   "source": [
    "records = pd.read_csv('scraped_results_df.csv')\n",
    "# 'Unnamed: 7' indicated where the game was played at. Since the winner is listed first in \n",
    "# the original data, the '@' indicates the game was played at the loser's home.  Therefore, \n",
    "# we can create a new column called 'Winner_home' if the '@' sign is not present.\n",
    "records['winner_home'] = records['game_loc']!='@'\n",
    "\n",
    "# The rank is included in the winner and losers name within parenthesis.  The below regex will identify \n",
    "# numerical digits within the parenthesis and extract them to a new column as 'floats'.  We'll also \n",
    "# remove the rank in parenthesis from the original winner column.  We'll do this for winners and losers.\n",
    "records['winner_rank'] = records['winner'].str.extract('\\(([0-9]+)\\)', expand=True).astype('float')\n",
    "records['winner_name'] = records['winner'].str.replace('\\(([0-9]+)\\)', '').str.replace('\\xa0', '')\n",
    "records['loser_rank'] = records['loser'].str.extract('\\(([0-9]+)\\)', expand=True).astype('float')\n",
    "records['loser_name'] = records['loser'].str.replace('\\(([0-9]+)\\)', '').str.replace('\\xa0', '')\n",
    "\n",
    "# Calculate a rank_diff socre.  The more negative this is, the more of an upset it is.\n",
    "records['rank_diff'] = records['loser_rank'] - records['winner_rank']\n",
    "\n",
    "# Add a pts_diff between the two pts as we can use margin of victory to see how close a \n",
    "# game is.\n",
    "records['pts_diff'] = records['winner_pts'] - records['loser_pts']\n",
    "\n",
    "# We no longer need several of these columns, so lets drop them.  \n",
    "records.drop(['Unnamed: 0', 'winner','loser'], axis=1, inplace=True)\n",
    "\n",
    "records.set_index(['year','week_number', 'row'], inplace=True)\n"
   ]
  },
  {
   "cell_type": "code",
   "execution_count": 106,
   "metadata": {},
   "outputs": [
    {
     "data": {
      "text/plain": [
       "array([[<matplotlib.axes._subplots.AxesSubplot object at 0x135efca10>,\n",
       "        <matplotlib.axes._subplots.AxesSubplot object at 0x135f6dad0>],\n",
       "       [<matplotlib.axes._subplots.AxesSubplot object at 0x1378a8d10>,\n",
       "        <matplotlib.axes._subplots.AxesSubplot object at 0x12f1ca9d0>]],\n",
       "      dtype=object)"
      ]
     },
     "execution_count": 106,
     "metadata": {},
     "output_type": "execute_result"
    },
    {
     "data": {
      "image/png": "[encoded data removed]",
      "text/plain": [
       "<Figure size 864x432 with 4 Axes>"
      ]
     },
     "metadata": {
      "needs_background": "light"
     },
     "output_type": "display_data"
    }
   ],
   "source": [
    "records[['winner_pts', 'loser_pts', 'pts_diff', 'rank_diff']].hist(figsize=(12,6))\n"
   ]
  },
  {
   "cell_type": "code",
   "execution_count": 107,
   "metadata": {},
   "outputs": [
    {
     "data": {
      "text/plain": [
       "<matplotlib.axes._subplots.AxesSubplot at 0x135ff2290>"
      ]
     },
     "execution_count": 107,
     "metadata": {},
     "output_type": "execute_result"
    },
    {
     "data": {
      "image/png": "[encoded data removed]",
      "text/plain": [
       "<Figure size 864x432 with 1 Axes>"
      ]
     },
     "metadata": {
      "needs_background": "light"
     },
     "output_type": "display_data"
    }
   ],
   "source": [
    "records[['winner_pts', 'loser_pts', 'pts_diff', 'rank_diff']].boxplot(figsize=(12,6))"
   ]
  },
  {
   "cell_type": "code",
   "execution_count": 108,
   "metadata": {},
   "outputs": [
    {
     "data": {
      "text/html": [
       "<div>\n",
       "<style scoped>\n",
       "    .dataframe tbody tr th:only-of-type {\n",
       "        vertical-align: middle;\n",
       "    }\n",
       "\n",
       "    .dataframe tbody tr th {\n",
       "        vertical-align: top;\n",
       "    }\n",
       "\n",
       "    .dataframe thead th {\n",
       "        text-align: right;\n",
       "    }\n",
       "</style>\n",
       "<table border=\"1\" class=\"dataframe\">\n",
       "  <thead>\n",
       "    <tr style=\"text-align: right;\">\n",
       "      <th></th>\n",
       "      <th></th>\n",
       "      <th></th>\n",
       "      <th>winner_pts</th>\n",
       "      <th>loser_pts</th>\n",
       "      <th>game_date</th>\n",
       "      <th>game_time</th>\n",
       "      <th>game_day</th>\n",
       "      <th>game_loc</th>\n",
       "      <th>notes</th>\n",
       "      <th>winner_home</th>\n",
       "      <th>winner_rank</th>\n",
       "      <th>winner_name</th>\n",
       "      <th>loser_rank</th>\n",
       "      <th>loser_name</th>\n",
       "      <th>rank_diff</th>\n",
       "      <th>pts_diff</th>\n",
       "    </tr>\n",
       "    <tr>\n",
       "      <th>year</th>\n",
       "      <th>week_number</th>\n",
       "      <th>row</th>\n",
       "      <th></th>\n",
       "      <th></th>\n",
       "      <th></th>\n",
       "      <th></th>\n",
       "      <th></th>\n",
       "      <th></th>\n",
       "      <th></th>\n",
       "      <th></th>\n",
       "      <th></th>\n",
       "      <th></th>\n",
       "      <th></th>\n",
       "      <th></th>\n",
       "      <th></th>\n",
       "      <th></th>\n",
       "    </tr>\n",
       "  </thead>\n",
       "  <tbody>\n",
       "    <tr>\n",
       "      <td>1953</td>\n",
       "      <td>10</td>\n",
       "      <td>510</td>\n",
       "      <td>14.0</td>\n",
       "      <td>14.0</td>\n",
       "      <td>Nov 21, 1953</td>\n",
       "      <td>NaN</td>\n",
       "      <td>Sat</td>\n",
       "      <td>NaN</td>\n",
       "      <td>NaN</td>\n",
       "      <td>True</td>\n",
       "      <td>20.0</td>\n",
       "      <td>Iowa</td>\n",
       "      <td>1.0</td>\n",
       "      <td>Notre Dame</td>\n",
       "      <td>-19.0</td>\n",
       "      <td>0.0</td>\n",
       "    </tr>\n",
       "    <tr>\n",
       "      <td>1957</td>\n",
       "      <td>10</td>\n",
       "      <td>490</td>\n",
       "      <td>7.0</td>\n",
       "      <td>6.0</td>\n",
       "      <td>Nov 16, 1957</td>\n",
       "      <td>NaN</td>\n",
       "      <td>Sat</td>\n",
       "      <td>NaN</td>\n",
       "      <td>NaN</td>\n",
       "      <td>True</td>\n",
       "      <td>20.0</td>\n",
       "      <td>Rice</td>\n",
       "      <td>1.0</td>\n",
       "      <td>Texas A&amp;M</td>\n",
       "      <td>-19.0</td>\n",
       "      <td>1.0</td>\n",
       "    </tr>\n",
       "    <tr>\n",
       "      <td rowspan=\"2\" valign=\"top\">1995</td>\n",
       "      <td>7</td>\n",
       "      <td>266</td>\n",
       "      <td>40.0</td>\n",
       "      <td>24.0</td>\n",
       "      <td>Oct 7, 1995</td>\n",
       "      <td>NaN</td>\n",
       "      <td>Sat</td>\n",
       "      <td>@</td>\n",
       "      <td>NaN</td>\n",
       "      <td>False</td>\n",
       "      <td>24.0</td>\n",
       "      <td>Kansas</td>\n",
       "      <td>4.0</td>\n",
       "      <td>Colorado</td>\n",
       "      <td>-20.0</td>\n",
       "      <td>16.0</td>\n",
       "    </tr>\n",
       "    <tr>\n",
       "      <td>11</td>\n",
       "      <td>447</td>\n",
       "      <td>33.0</td>\n",
       "      <td>28.0</td>\n",
       "      <td>Nov 2, 1995</td>\n",
       "      <td>NaN</td>\n",
       "      <td>Thu</td>\n",
       "      <td>NaN</td>\n",
       "      <td>NaN</td>\n",
       "      <td>True</td>\n",
       "      <td>24.0</td>\n",
       "      <td>Virginia</td>\n",
       "      <td>2.0</td>\n",
       "      <td>Florida State</td>\n",
       "      <td>-22.0</td>\n",
       "      <td>5.0</td>\n",
       "    </tr>\n",
       "    <tr>\n",
       "      <td>1996</td>\n",
       "      <td>14</td>\n",
       "      <td>603</td>\n",
       "      <td>13.0</td>\n",
       "      <td>9.0</td>\n",
       "      <td>Nov 23, 1996</td>\n",
       "      <td>NaN</td>\n",
       "      <td>Sat</td>\n",
       "      <td>@</td>\n",
       "      <td>NaN</td>\n",
       "      <td>False</td>\n",
       "      <td>21.0</td>\n",
       "      <td>Michigan</td>\n",
       "      <td>2.0</td>\n",
       "      <td>Ohio State</td>\n",
       "      <td>-19.0</td>\n",
       "      <td>4.0</td>\n",
       "    </tr>\n",
       "    <tr>\n",
       "      <td>2001</td>\n",
       "      <td>15</td>\n",
       "      <td>684</td>\n",
       "      <td>31.0</td>\n",
       "      <td>20.0</td>\n",
       "      <td>Dec 8, 2001</td>\n",
       "      <td>NaN</td>\n",
       "      <td>Sat</td>\n",
       "      <td>NaN</td>\n",
       "      <td>SEC Championship (Atlanta, GA)</td>\n",
       "      <td>True</td>\n",
       "      <td>21.0</td>\n",
       "      <td>Louisiana State</td>\n",
       "      <td>2.0</td>\n",
       "      <td>Tennessee</td>\n",
       "      <td>-19.0</td>\n",
       "      <td>11.0</td>\n",
       "    </tr>\n",
       "    <tr>\n",
       "      <td rowspan=\"4\" valign=\"top\">2003</td>\n",
       "      <td>5</td>\n",
       "      <td>224</td>\n",
       "      <td>31.0</td>\n",
       "      <td>27.0</td>\n",
       "      <td>Sep 20, 2003</td>\n",
       "      <td>NaN</td>\n",
       "      <td>Sat</td>\n",
       "      <td>NaN</td>\n",
       "      <td>NaN</td>\n",
       "      <td>True</td>\n",
       "      <td>22.0</td>\n",
       "      <td>Oregon</td>\n",
       "      <td>3.0</td>\n",
       "      <td>Michigan</td>\n",
       "      <td>-19.0</td>\n",
       "      <td>4.0</td>\n",
       "    </tr>\n",
       "    <tr>\n",
       "      <td>8</td>\n",
       "      <td>396</td>\n",
       "      <td>17.0</td>\n",
       "      <td>10.0</td>\n",
       "      <td>Oct 11, 2003</td>\n",
       "      <td>NaN</td>\n",
       "      <td>Sat</td>\n",
       "      <td>NaN</td>\n",
       "      <td>NaN</td>\n",
       "      <td>True</td>\n",
       "      <td>23.0</td>\n",
       "      <td>Wisconsin</td>\n",
       "      <td>3.0</td>\n",
       "      <td>Ohio State</td>\n",
       "      <td>-20.0</td>\n",
       "      <td>7.0</td>\n",
       "    </tr>\n",
       "    <tr>\n",
       "      <td>11</td>\n",
       "      <td>515</td>\n",
       "      <td>16.0</td>\n",
       "      <td>13.0</td>\n",
       "      <td>Nov 1, 2003</td>\n",
       "      <td>NaN</td>\n",
       "      <td>Sat</td>\n",
       "      <td>NaN</td>\n",
       "      <td>NaN</td>\n",
       "      <td>True</td>\n",
       "      <td>23.0</td>\n",
       "      <td>Florida</td>\n",
       "      <td>4.0</td>\n",
       "      <td>Georgia</td>\n",
       "      <td>-19.0</td>\n",
       "      <td>3.0</td>\n",
       "    </tr>\n",
       "    <tr>\n",
       "      <td>12</td>\n",
       "      <td>589</td>\n",
       "      <td>31.0</td>\n",
       "      <td>28.0</td>\n",
       "      <td>Nov 8, 2003</td>\n",
       "      <td>NaN</td>\n",
       "      <td>Sat</td>\n",
       "      <td>NaN</td>\n",
       "      <td>NaN</td>\n",
       "      <td>True</td>\n",
       "      <td>25.0</td>\n",
       "      <td>Pittsburgh</td>\n",
       "      <td>5.0</td>\n",
       "      <td>Virginia Tech</td>\n",
       "      <td>-20.0</td>\n",
       "      <td>3.0</td>\n",
       "    </tr>\n",
       "    <tr>\n",
       "      <td>2004</td>\n",
       "      <td>18</td>\n",
       "      <td>712</td>\n",
       "      <td>45.0</td>\n",
       "      <td>31.0</td>\n",
       "      <td>Dec 30, 2004</td>\n",
       "      <td>NaN</td>\n",
       "      <td>Thu</td>\n",
       "      <td>NaN</td>\n",
       "      <td>Holiday Bowl (San Diego, CA)</td>\n",
       "      <td>True</td>\n",
       "      <td>23.0</td>\n",
       "      <td>Texas Tech</td>\n",
       "      <td>4.0</td>\n",
       "      <td>California</td>\n",
       "      <td>-19.0</td>\n",
       "      <td>14.0</td>\n",
       "    </tr>\n",
       "    <tr>\n",
       "      <td>2011</td>\n",
       "      <td>12</td>\n",
       "      <td>661</td>\n",
       "      <td>45.0</td>\n",
       "      <td>38.0</td>\n",
       "      <td>Nov 19, 2011</td>\n",
       "      <td>NaN</td>\n",
       "      <td>Sat</td>\n",
       "      <td>NaN</td>\n",
       "      <td>NaN</td>\n",
       "      <td>True</td>\n",
       "      <td>25.0</td>\n",
       "      <td>Baylor</td>\n",
       "      <td>5.0</td>\n",
       "      <td>Oklahoma</td>\n",
       "      <td>-20.0</td>\n",
       "      <td>7.0</td>\n",
       "    </tr>\n",
       "    <tr>\n",
       "      <td>2012</td>\n",
       "      <td>3</td>\n",
       "      <td>200</td>\n",
       "      <td>21.0</td>\n",
       "      <td>14.0</td>\n",
       "      <td>Sep 15, 2012</td>\n",
       "      <td>NaN</td>\n",
       "      <td>Sat</td>\n",
       "      <td>NaN</td>\n",
       "      <td>NaN</td>\n",
       "      <td>True</td>\n",
       "      <td>21.0</td>\n",
       "      <td>Stanford</td>\n",
       "      <td>2.0</td>\n",
       "      <td>Southern California</td>\n",
       "      <td>-19.0</td>\n",
       "      <td>7.0</td>\n",
       "    </tr>\n",
       "    <tr>\n",
       "      <td rowspan=\"2\" valign=\"top\">2014</td>\n",
       "      <td>6</td>\n",
       "      <td>378</td>\n",
       "      <td>37.0</td>\n",
       "      <td>33.0</td>\n",
       "      <td>Oct 4, 2014</td>\n",
       "      <td>3:30 PM</td>\n",
       "      <td>Sat</td>\n",
       "      <td>NaN</td>\n",
       "      <td>NaN</td>\n",
       "      <td>True</td>\n",
       "      <td>25.0</td>\n",
       "      <td>Texas Christian</td>\n",
       "      <td>4.0</td>\n",
       "      <td>Oklahoma</td>\n",
       "      <td>-21.0</td>\n",
       "      <td>4.0</td>\n",
       "    </tr>\n",
       "    <tr>\n",
       "      <td>9</td>\n",
       "      <td>514</td>\n",
       "      <td>10.0</td>\n",
       "      <td>7.0</td>\n",
       "      <td>Oct 25, 2014</td>\n",
       "      <td>7:15 PM</td>\n",
       "      <td>Sat</td>\n",
       "      <td>NaN</td>\n",
       "      <td>NaN</td>\n",
       "      <td>True</td>\n",
       "      <td>24.0</td>\n",
       "      <td>Louisiana State</td>\n",
       "      <td>3.0</td>\n",
       "      <td>Mississippi</td>\n",
       "      <td>-21.0</td>\n",
       "      <td>3.0</td>\n",
       "    </tr>\n",
       "    <tr>\n",
       "      <td>2015</td>\n",
       "      <td>5</td>\n",
       "      <td>309</td>\n",
       "      <td>38.0</td>\n",
       "      <td>10.0</td>\n",
       "      <td>Oct 3, 2015</td>\n",
       "      <td>7:00 PM</td>\n",
       "      <td>Sat</td>\n",
       "      <td>NaN</td>\n",
       "      <td>NaN</td>\n",
       "      <td>True</td>\n",
       "      <td>25.0</td>\n",
       "      <td>Florida</td>\n",
       "      <td>3.0</td>\n",
       "      <td>Mississippi</td>\n",
       "      <td>-22.0</td>\n",
       "      <td>28.0</td>\n",
       "    </tr>\n",
       "    <tr>\n",
       "      <td>2017</td>\n",
       "      <td>10</td>\n",
       "      <td>539</td>\n",
       "      <td>14.0</td>\n",
       "      <td>7.0</td>\n",
       "      <td>Oct 28, 2017</td>\n",
       "      <td>3:30 PM</td>\n",
       "      <td>Sat</td>\n",
       "      <td>NaN</td>\n",
       "      <td>Jack Trice Stadium - Ames, Iowa</td>\n",
       "      <td>True</td>\n",
       "      <td>25.0</td>\n",
       "      <td>Iowa State</td>\n",
       "      <td>4.0</td>\n",
       "      <td>Texas Christian</td>\n",
       "      <td>-21.0</td>\n",
       "      <td>7.0</td>\n",
       "    </tr>\n",
       "  </tbody>\n",
       "</table>\n",
       "</div>"
      ],
      "text/plain": [
       "                      winner_pts  loser_pts     game_date game_time game_day  \\\n",
       "year week_number row                                                           \n",
       "1953 10          510        14.0       14.0  Nov 21, 1953       NaN      Sat   \n",
       "1957 10          490         7.0        6.0  Nov 16, 1957       NaN      Sat   \n",
       "1995 7           266        40.0       24.0   Oct 7, 1995       NaN      Sat   \n",
       "     11          447        33.0       28.0   Nov 2, 1995       NaN      Thu   \n",
       "1996 14          603        13.0        9.0  Nov 23, 1996       NaN      Sat   \n",
       "2001 15          684        31.0       20.0   Dec 8, 2001       NaN      Sat   \n",
       "2003 5           224        31.0       27.0  Sep 20, 2003       NaN      Sat   \n",
       "     8           396        17.0       10.0  Oct 11, 2003       NaN      Sat   \n",
       "     11          515        16.0       13.0   Nov 1, 2003       NaN      Sat   \n",
       "     12          589        31.0       28.0   Nov 8, 2003       NaN      Sat   \n",
       "2004 18          712        45.0       31.0  Dec 30, 2004       NaN      Thu   \n",
       "2011 12          661        45.0       38.0  Nov 19, 2011       NaN      Sat   \n",
       "2012 3           200        21.0       14.0  Sep 15, 2012       NaN      Sat   \n",
       "2014 6           378        37.0       33.0   Oct 4, 2014   3:30 PM      Sat   \n",
       "     9           514        10.0        7.0  Oct 25, 2014   7:15 PM      Sat   \n",
       "2015 5           309        38.0       10.0   Oct 3, 2015   7:00 PM      Sat   \n",
       "2017 10          539        14.0        7.0  Oct 28, 2017   3:30 PM      Sat   \n",
       "\n",
       "                     game_loc                            notes  winner_home  \\\n",
       "year week_number row                                                          \n",
       "1953 10          510      NaN                              NaN         True   \n",
       "1957 10          490      NaN                              NaN         True   \n",
       "1995 7           266        @                              NaN        False   \n",
       "     11          447      NaN                              NaN         True   \n",
       "1996 14          603        @                              NaN        False   \n",
       "2001 15          684      NaN   SEC Championship (Atlanta, GA)         True   \n",
       "2003 5           224      NaN                              NaN         True   \n",
       "     8           396      NaN                              NaN         True   \n",
       "     11          515      NaN                              NaN         True   \n",
       "     12          589      NaN                              NaN         True   \n",
       "2004 18          712      NaN     Holiday Bowl (San Diego, CA)         True   \n",
       "2011 12          661      NaN                              NaN         True   \n",
       "2012 3           200      NaN                              NaN         True   \n",
       "2014 6           378      NaN                              NaN         True   \n",
       "     9           514      NaN                              NaN         True   \n",
       "2015 5           309      NaN                              NaN         True   \n",
       "2017 10          539      NaN  Jack Trice Stadium - Ames, Iowa         True   \n",
       "\n",
       "                      winner_rank      winner_name  loser_rank  \\\n",
       "year week_number row                                             \n",
       "1953 10          510         20.0             Iowa         1.0   \n",
       "1957 10          490         20.0             Rice         1.0   \n",
       "1995 7           266         24.0           Kansas         4.0   \n",
       "     11          447         24.0         Virginia         2.0   \n",
       "1996 14          603         21.0         Michigan         2.0   \n",
       "2001 15          684         21.0  Louisiana State         2.0   \n",
       "2003 5           224         22.0           Oregon         3.0   \n",
       "     8           396         23.0        Wisconsin         3.0   \n",
       "     11          515         23.0          Florida         4.0   \n",
       "     12          589         25.0       Pittsburgh         5.0   \n",
       "2004 18          712         23.0       Texas Tech         4.0   \n",
       "2011 12          661         25.0           Baylor         5.0   \n",
       "2012 3           200         21.0         Stanford         2.0   \n",
       "2014 6           378         25.0  Texas Christian         4.0   \n",
       "     9           514         24.0  Louisiana State         3.0   \n",
       "2015 5           309         25.0          Florida         3.0   \n",
       "2017 10          539         25.0       Iowa State         4.0   \n",
       "\n",
       "                               loser_name  rank_diff  pts_diff  \n",
       "year week_number row                                            \n",
       "1953 10          510           Notre Dame      -19.0       0.0  \n",
       "1957 10          490            Texas A&M      -19.0       1.0  \n",
       "1995 7           266             Colorado      -20.0      16.0  \n",
       "     11          447        Florida State      -22.0       5.0  \n",
       "1996 14          603           Ohio State      -19.0       4.0  \n",
       "2001 15          684            Tennessee      -19.0      11.0  \n",
       "2003 5           224             Michigan      -19.0       4.0  \n",
       "     8           396           Ohio State      -20.0       7.0  \n",
       "     11          515              Georgia      -19.0       3.0  \n",
       "     12          589        Virginia Tech      -20.0       3.0  \n",
       "2004 18          712           California      -19.0      14.0  \n",
       "2011 12          661             Oklahoma      -20.0       7.0  \n",
       "2012 3           200  Southern California      -19.0       7.0  \n",
       "2014 6           378             Oklahoma      -21.0       4.0  \n",
       "     9           514          Mississippi      -21.0       3.0  \n",
       "2015 5           309          Mississippi      -22.0      28.0  \n",
       "2017 10          539      Texas Christian      -21.0       7.0  "
      ]
     },
     "execution_count": 108,
     "metadata": {},
     "output_type": "execute_result"
    }
   ],
   "source": [
    "# Biggest upsets\n",
    "records[records['rank_diff'] < -18]"
   ]
  },
  {
   "cell_type": "code",
   "execution_count": 109,
   "metadata": {
    "scrolled": true
   },
   "outputs": [
    {
     "data": {
      "text/html": [
       "<div>\n",
       "<style scoped>\n",
       "    .dataframe tbody tr th:only-of-type {\n",
       "        vertical-align: middle;\n",
       "    }\n",
       "\n",
       "    .dataframe tbody tr th {\n",
       "        vertical-align: top;\n",
       "    }\n",
       "\n",
       "    .dataframe thead th {\n",
       "        text-align: right;\n",
       "    }\n",
       "</style>\n",
       "<table border=\"1\" class=\"dataframe\">\n",
       "  <thead>\n",
       "    <tr style=\"text-align: right;\">\n",
       "      <th></th>\n",
       "      <th></th>\n",
       "      <th></th>\n",
       "      <th>winner_pts</th>\n",
       "      <th>loser_pts</th>\n",
       "      <th>game_date</th>\n",
       "      <th>game_time</th>\n",
       "      <th>game_day</th>\n",
       "      <th>game_loc</th>\n",
       "      <th>notes</th>\n",
       "      <th>winner_home</th>\n",
       "      <th>winner_rank</th>\n",
       "      <th>winner_name</th>\n",
       "      <th>loser_rank</th>\n",
       "      <th>loser_name</th>\n",
       "      <th>rank_diff</th>\n",
       "      <th>pts_diff</th>\n",
       "    </tr>\n",
       "    <tr>\n",
       "      <th>year</th>\n",
       "      <th>week_number</th>\n",
       "      <th>row</th>\n",
       "      <th></th>\n",
       "      <th></th>\n",
       "      <th></th>\n",
       "      <th></th>\n",
       "      <th></th>\n",
       "      <th></th>\n",
       "      <th></th>\n",
       "      <th></th>\n",
       "      <th></th>\n",
       "      <th></th>\n",
       "      <th></th>\n",
       "      <th></th>\n",
       "      <th></th>\n",
       "      <th></th>\n",
       "    </tr>\n",
       "  </thead>\n",
       "  <tbody>\n",
       "    <tr>\n",
       "      <td rowspan=\"5\" valign=\"top\">1950</td>\n",
       "      <td>1</td>\n",
       "      <td>13</td>\n",
       "      <td>14.0</td>\n",
       "      <td>14.0</td>\n",
       "      <td>Sep 18, 1950</td>\n",
       "      <td>NaN</td>\n",
       "      <td>Mon</td>\n",
       "      <td>NaN</td>\n",
       "      <td>NaN</td>\n",
       "      <td>True</td>\n",
       "      <td>NaN</td>\n",
       "      <td>Duquesne</td>\n",
       "      <td>NaN</td>\n",
       "      <td>St. Vincent's (Pennsylvania)</td>\n",
       "      <td>NaN</td>\n",
       "      <td>0.0</td>\n",
       "    </tr>\n",
       "    <tr>\n",
       "      <td>2</td>\n",
       "      <td>19</td>\n",
       "      <td>7.0</td>\n",
       "      <td>7.0</td>\n",
       "      <td>Sep 22, 1950</td>\n",
       "      <td>NaN</td>\n",
       "      <td>Fri</td>\n",
       "      <td>NaN</td>\n",
       "      <td>NaN</td>\n",
       "      <td>True</td>\n",
       "      <td>NaN</td>\n",
       "      <td>Wake Forest</td>\n",
       "      <td>NaN</td>\n",
       "      <td>Boston College</td>\n",
       "      <td>NaN</td>\n",
       "      <td>0.0</td>\n",
       "    </tr>\n",
       "    <tr>\n",
       "      <td rowspan=\"3\" valign=\"top\">3</td>\n",
       "      <td>68</td>\n",
       "      <td>7.0</td>\n",
       "      <td>7.0</td>\n",
       "      <td>Sep 29, 1950</td>\n",
       "      <td>NaN</td>\n",
       "      <td>Fri</td>\n",
       "      <td>NaN</td>\n",
       "      <td>NaN</td>\n",
       "      <td>True</td>\n",
       "      <td>NaN</td>\n",
       "      <td>Georgia</td>\n",
       "      <td>NaN</td>\n",
       "      <td>Saint Mary's (CA)</td>\n",
       "      <td>NaN</td>\n",
       "      <td>0.0</td>\n",
       "    </tr>\n",
       "    <tr>\n",
       "      <td>92</td>\n",
       "      <td>21.0</td>\n",
       "      <td>21.0</td>\n",
       "      <td>Sep 30, 1950</td>\n",
       "      <td>NaN</td>\n",
       "      <td>Sat</td>\n",
       "      <td>NaN</td>\n",
       "      <td>NaN</td>\n",
       "      <td>True</td>\n",
       "      <td>NaN</td>\n",
       "      <td>Holy Cross</td>\n",
       "      <td>NaN</td>\n",
       "      <td>Dartmouth</td>\n",
       "      <td>NaN</td>\n",
       "      <td>0.0</td>\n",
       "    </tr>\n",
       "    <tr>\n",
       "      <td>95</td>\n",
       "      <td>20.0</td>\n",
       "      <td>20.0</td>\n",
       "      <td>Sep 30, 1950</td>\n",
       "      <td>NaN</td>\n",
       "      <td>Sat</td>\n",
       "      <td>NaN</td>\n",
       "      <td>NaN</td>\n",
       "      <td>True</td>\n",
       "      <td>NaN</td>\n",
       "      <td>Indiana</td>\n",
       "      <td>NaN</td>\n",
       "      <td>Nebraska</td>\n",
       "      <td>NaN</td>\n",
       "      <td>0.0</td>\n",
       "    </tr>\n",
       "    <tr>\n",
       "      <td>...</td>\n",
       "      <td>...</td>\n",
       "      <td>...</td>\n",
       "      <td>...</td>\n",
       "      <td>...</td>\n",
       "      <td>...</td>\n",
       "      <td>...</td>\n",
       "      <td>...</td>\n",
       "      <td>...</td>\n",
       "      <td>...</td>\n",
       "      <td>...</td>\n",
       "      <td>...</td>\n",
       "      <td>...</td>\n",
       "      <td>...</td>\n",
       "      <td>...</td>\n",
       "      <td>...</td>\n",
       "      <td>...</td>\n",
       "    </tr>\n",
       "    <tr>\n",
       "      <td rowspan=\"5\" valign=\"top\">1995</td>\n",
       "      <td>6</td>\n",
       "      <td>237</td>\n",
       "      <td>21.0</td>\n",
       "      <td>21.0</td>\n",
       "      <td>Sep 30, 1995</td>\n",
       "      <td>NaN</td>\n",
       "      <td>Sat</td>\n",
       "      <td>NaN</td>\n",
       "      <td>NaN</td>\n",
       "      <td>True</td>\n",
       "      <td>NaN</td>\n",
       "      <td>Rice</td>\n",
       "      <td>NaN</td>\n",
       "      <td>Army</td>\n",
       "      <td>NaN</td>\n",
       "      <td>0.0</td>\n",
       "    </tr>\n",
       "    <tr>\n",
       "      <td rowspan=\"2\" valign=\"top\">8</td>\n",
       "      <td>335</td>\n",
       "      <td>24.0</td>\n",
       "      <td>24.0</td>\n",
       "      <td>Oct 14, 1995</td>\n",
       "      <td>NaN</td>\n",
       "      <td>Sat</td>\n",
       "      <td>NaN</td>\n",
       "      <td>NaN</td>\n",
       "      <td>True</td>\n",
       "      <td>18.0</td>\n",
       "      <td>Texas</td>\n",
       "      <td>13.0</td>\n",
       "      <td>Oklahoma</td>\n",
       "      <td>-5.0</td>\n",
       "      <td>0.0</td>\n",
       "    </tr>\n",
       "    <tr>\n",
       "      <td>339</td>\n",
       "      <td>28.0</td>\n",
       "      <td>28.0</td>\n",
       "      <td>Oct 14, 1995</td>\n",
       "      <td>NaN</td>\n",
       "      <td>Sat</td>\n",
       "      <td>NaN</td>\n",
       "      <td>NaN</td>\n",
       "      <td>True</td>\n",
       "      <td>NaN</td>\n",
       "      <td>Toledo</td>\n",
       "      <td>NaN</td>\n",
       "      <td>Miami (OH)</td>\n",
       "      <td>NaN</td>\n",
       "      <td>0.0</td>\n",
       "    </tr>\n",
       "    <tr>\n",
       "      <td>10</td>\n",
       "      <td>436</td>\n",
       "      <td>21.0</td>\n",
       "      <td>21.0</td>\n",
       "      <td>Oct 28, 1995</td>\n",
       "      <td>NaN</td>\n",
       "      <td>Sat</td>\n",
       "      <td>NaN</td>\n",
       "      <td>NaN</td>\n",
       "      <td>True</td>\n",
       "      <td>13.0</td>\n",
       "      <td>Southern California</td>\n",
       "      <td>17.0</td>\n",
       "      <td>Washington</td>\n",
       "      <td>4.0</td>\n",
       "      <td>0.0</td>\n",
       "    </tr>\n",
       "    <tr>\n",
       "      <td>14</td>\n",
       "      <td>608</td>\n",
       "      <td>3.0</td>\n",
       "      <td>3.0</td>\n",
       "      <td>Nov 25, 1995</td>\n",
       "      <td>NaN</td>\n",
       "      <td>Sat</td>\n",
       "      <td>NaN</td>\n",
       "      <td>NaN</td>\n",
       "      <td>True</td>\n",
       "      <td>NaN</td>\n",
       "      <td>Illinois</td>\n",
       "      <td>NaN</td>\n",
       "      <td>Wisconsin</td>\n",
       "      <td>NaN</td>\n",
       "      <td>0.0</td>\n",
       "    </tr>\n",
       "  </tbody>\n",
       "</table>\n",
       "<p>786 rows × 14 columns</p>\n",
       "</div>"
      ],
      "text/plain": [
       "                      winner_pts  loser_pts     game_date game_time game_day  \\\n",
       "year week_number row                                                           \n",
       "1950 1           13         14.0       14.0  Sep 18, 1950       NaN      Mon   \n",
       "     2           19          7.0        7.0  Sep 22, 1950       NaN      Fri   \n",
       "     3           68          7.0        7.0  Sep 29, 1950       NaN      Fri   \n",
       "                 92         21.0       21.0  Sep 30, 1950       NaN      Sat   \n",
       "                 95         20.0       20.0  Sep 30, 1950       NaN      Sat   \n",
       "...                          ...        ...           ...       ...      ...   \n",
       "1995 6           237        21.0       21.0  Sep 30, 1995       NaN      Sat   \n",
       "     8           335        24.0       24.0  Oct 14, 1995       NaN      Sat   \n",
       "                 339        28.0       28.0  Oct 14, 1995       NaN      Sat   \n",
       "     10          436        21.0       21.0  Oct 28, 1995       NaN      Sat   \n",
       "     14          608         3.0        3.0  Nov 25, 1995       NaN      Sat   \n",
       "\n",
       "                     game_loc notes  winner_home  winner_rank  \\\n",
       "year week_number row                                            \n",
       "1950 1           13       NaN   NaN         True          NaN   \n",
       "     2           19       NaN   NaN         True          NaN   \n",
       "     3           68       NaN   NaN         True          NaN   \n",
       "                 92       NaN   NaN         True          NaN   \n",
       "                 95       NaN   NaN         True          NaN   \n",
       "...                       ...   ...          ...          ...   \n",
       "1995 6           237      NaN   NaN         True          NaN   \n",
       "     8           335      NaN   NaN         True         18.0   \n",
       "                 339      NaN   NaN         True          NaN   \n",
       "     10          436      NaN   NaN         True         13.0   \n",
       "     14          608      NaN   NaN         True          NaN   \n",
       "\n",
       "                              winner_name  loser_rank  \\\n",
       "year week_number row                                    \n",
       "1950 1           13              Duquesne         NaN   \n",
       "     2           19           Wake Forest         NaN   \n",
       "     3           68               Georgia         NaN   \n",
       "                 92            Holy Cross         NaN   \n",
       "                 95               Indiana         NaN   \n",
       "...                                   ...         ...   \n",
       "1995 6           237                 Rice         NaN   \n",
       "     8           335                Texas        13.0   \n",
       "                 339               Toledo         NaN   \n",
       "     10          436  Southern California        17.0   \n",
       "     14          608             Illinois         NaN   \n",
       "\n",
       "                                        loser_name  rank_diff  pts_diff  \n",
       "year week_number row                                                     \n",
       "1950 1           13   St. Vincent's (Pennsylvania)        NaN       0.0  \n",
       "     2           19                 Boston College        NaN       0.0  \n",
       "     3           68              Saint Mary's (CA)        NaN       0.0  \n",
       "                 92                      Dartmouth        NaN       0.0  \n",
       "                 95                       Nebraska        NaN       0.0  \n",
       "...                                            ...        ...       ...  \n",
       "1995 6           237                          Army        NaN       0.0  \n",
       "     8           335                      Oklahoma       -5.0       0.0  \n",
       "                 339                    Miami (OH)        NaN       0.0  \n",
       "     10          436                    Washington        4.0       0.0  \n",
       "     14          608                     Wisconsin        NaN       0.0  \n",
       "\n",
       "[786 rows x 14 columns]"
      ]
     },
     "execution_count": 109,
     "metadata": {},
     "output_type": "execute_result"
    }
   ],
   "source": [
    "# ties\n",
    "records[records['pts_diff']==0]\n",
    "# so 768 records and its unclear how ties are counted in our data before 1995"
   ]
  },
  {
   "cell_type": "markdown",
   "metadata": {},
   "source": [
    "## Lets look at ranked teams vs unranked teams"
   ]
  },
  {
   "cell_type": "markdown",
   "metadata": {},
   "source": [
    "First, lets find out how many games there should be with at least one ranked team.  There are 884 games, so the total numers of games with at least one ranked and no one ranked should be 884."
   ]
  },
  {
   "cell_type": "code",
   "execution_count": 110,
   "metadata": {},
   "outputs": [
    {
     "name": "stdout",
     "output_type": "stream",
     "text": [
      "Numbers of games where at least one team is ranked: 14852\n",
      "Numbers of games where no team is ranked: 34047\n",
      "Numbers of games where both teams are ranked: 2790\n"
     ]
    }
   ],
   "source": [
    "at_least_one_ranked = records[(records['winner_rank'] > 0) | (records['loser_rank'] > 0)]\n",
    "print('Numbers of games where at least one team is ranked:', len(at_least_one_ranked))\n",
    "\n",
    "no_ranked = records[(records['winner_rank'].isna()) & (records['loser_rank'].isna())]\n",
    "print('Numbers of games where no team is ranked:', len(no_ranked))\n",
    "\n",
    "both_ranked = records[(records['winner_rank'] > 0) & (records['loser_rank'] > 0)]\n",
    "print('Numbers of games where both teams are ranked:', len(both_ranked))"
   ]
  },
  {
   "cell_type": "code",
   "execution_count": 111,
   "metadata": {},
   "outputs": [
    {
     "data": {
      "text/html": [
       "<div>\n",
       "<style scoped>\n",
       "    .dataframe tbody tr th:only-of-type {\n",
       "        vertical-align: middle;\n",
       "    }\n",
       "\n",
       "    .dataframe tbody tr th {\n",
       "        vertical-align: top;\n",
       "    }\n",
       "\n",
       "    .dataframe thead th {\n",
       "        text-align: right;\n",
       "    }\n",
       "</style>\n",
       "<table border=\"1\" class=\"dataframe\">\n",
       "  <thead>\n",
       "    <tr style=\"text-align: right;\">\n",
       "      <th></th>\n",
       "      <th></th>\n",
       "      <th></th>\n",
       "      <th>winner_pts</th>\n",
       "      <th>loser_pts</th>\n",
       "      <th>game_date</th>\n",
       "      <th>game_time</th>\n",
       "      <th>game_day</th>\n",
       "      <th>game_loc</th>\n",
       "      <th>notes</th>\n",
       "      <th>winner_home</th>\n",
       "      <th>winner_rank</th>\n",
       "      <th>winner_name</th>\n",
       "      <th>loser_rank</th>\n",
       "      <th>loser_name</th>\n",
       "      <th>rank_diff</th>\n",
       "      <th>pts_diff</th>\n",
       "    </tr>\n",
       "    <tr>\n",
       "      <th>year</th>\n",
       "      <th>week_number</th>\n",
       "      <th>row</th>\n",
       "      <th></th>\n",
       "      <th></th>\n",
       "      <th></th>\n",
       "      <th></th>\n",
       "      <th></th>\n",
       "      <th></th>\n",
       "      <th></th>\n",
       "      <th></th>\n",
       "      <th></th>\n",
       "      <th></th>\n",
       "      <th></th>\n",
       "      <th></th>\n",
       "      <th></th>\n",
       "      <th></th>\n",
       "    </tr>\n",
       "  </thead>\n",
       "  <tbody>\n",
       "    <tr>\n",
       "      <td>1992</td>\n",
       "      <td>10</td>\n",
       "      <td>438</td>\n",
       "      <td>52.0</td>\n",
       "      <td>7.0</td>\n",
       "      <td>Oct 31, 1992</td>\n",
       "      <td>NaN</td>\n",
       "      <td>Sat</td>\n",
       "      <td>NaN</td>\n",
       "      <td>NaN</td>\n",
       "      <td>True</td>\n",
       "      <td>8.0</td>\n",
       "      <td>Nebraska</td>\n",
       "      <td>8.0</td>\n",
       "      <td>Colorado</td>\n",
       "      <td>0.0</td>\n",
       "      <td>45.0</td>\n",
       "    </tr>\n",
       "    <tr>\n",
       "      <td>1995</td>\n",
       "      <td>19</td>\n",
       "      <td>639</td>\n",
       "      <td>20.0</td>\n",
       "      <td>14.0</td>\n",
       "      <td>Jan 1, 1996</td>\n",
       "      <td>NaN</td>\n",
       "      <td>Mon</td>\n",
       "      <td>NaN</td>\n",
       "      <td>Citrus Bowl (Orlando, FL)</td>\n",
       "      <td>True</td>\n",
       "      <td>4.0</td>\n",
       "      <td>Tennessee</td>\n",
       "      <td>4.0</td>\n",
       "      <td>Ohio State</td>\n",
       "      <td>0.0</td>\n",
       "      <td>6.0</td>\n",
       "    </tr>\n",
       "  </tbody>\n",
       "</table>\n",
       "</div>"
      ],
      "text/plain": [
       "                      winner_pts  loser_pts     game_date game_time game_day  \\\n",
       "year week_number row                                                           \n",
       "1992 10          438        52.0        7.0  Oct 31, 1992       NaN      Sat   \n",
       "1995 19          639        20.0       14.0   Jan 1, 1996       NaN      Mon   \n",
       "\n",
       "                     game_loc                      notes  winner_home  \\\n",
       "year week_number row                                                    \n",
       "1992 10          438      NaN                        NaN         True   \n",
       "1995 19          639      NaN  Citrus Bowl (Orlando, FL)         True   \n",
       "\n",
       "                      winner_rank winner_name  loser_rank  loser_name  \\\n",
       "year week_number row                                                    \n",
       "1992 10          438          8.0    Nebraska         8.0    Colorado   \n",
       "1995 19          639          4.0   Tennessee         4.0  Ohio State   \n",
       "\n",
       "                      rank_diff  pts_diff  \n",
       "year week_number row                       \n",
       "1992 10          438        0.0      45.0  \n",
       "1995 19          639        0.0       6.0  "
      ]
     },
     "execution_count": 111,
     "metadata": {},
     "output_type": "execute_result"
    }
   ],
   "source": [
    "records[records['rank_diff']==0]"
   ]
  },
  {
   "cell_type": "markdown",
   "metadata": {},
   "source": [
    "Looks good!  Now lets look closer at the games when only one team is ranked.  We'll break that out to two dataframes, when the ranked team wins and when the unranked team wins."
   ]
  },
  {
   "cell_type": "code",
   "execution_count": 112,
   "metadata": {},
   "outputs": [
    {
     "data": {
      "text/html": [
       "<div>\n",
       "<style scoped>\n",
       "    .dataframe tbody tr th:only-of-type {\n",
       "        vertical-align: middle;\n",
       "    }\n",
       "\n",
       "    .dataframe tbody tr th {\n",
       "        vertical-align: top;\n",
       "    }\n",
       "\n",
       "    .dataframe thead th {\n",
       "        text-align: right;\n",
       "    }\n",
       "</style>\n",
       "<table border=\"1\" class=\"dataframe\">\n",
       "  <thead>\n",
       "    <tr style=\"text-align: right;\">\n",
       "      <th></th>\n",
       "      <th></th>\n",
       "      <th></th>\n",
       "      <th>winner_pts</th>\n",
       "      <th>loser_pts</th>\n",
       "      <th>game_date</th>\n",
       "      <th>game_time</th>\n",
       "      <th>game_day</th>\n",
       "      <th>game_loc</th>\n",
       "      <th>notes</th>\n",
       "      <th>winner_home</th>\n",
       "      <th>winner_rank</th>\n",
       "      <th>winner_name</th>\n",
       "      <th>loser_rank</th>\n",
       "      <th>loser_name</th>\n",
       "      <th>rank_diff</th>\n",
       "      <th>pts_diff</th>\n",
       "    </tr>\n",
       "    <tr>\n",
       "      <th>year</th>\n",
       "      <th>week_number</th>\n",
       "      <th>row</th>\n",
       "      <th></th>\n",
       "      <th></th>\n",
       "      <th></th>\n",
       "      <th></th>\n",
       "      <th></th>\n",
       "      <th></th>\n",
       "      <th></th>\n",
       "      <th></th>\n",
       "      <th></th>\n",
       "      <th></th>\n",
       "      <th></th>\n",
       "      <th></th>\n",
       "      <th></th>\n",
       "      <th></th>\n",
       "    </tr>\n",
       "  </thead>\n",
       "  <tbody>\n",
       "    <tr>\n",
       "      <td rowspan=\"5\" valign=\"top\">1950</td>\n",
       "      <td rowspan=\"3\" valign=\"top\">3</td>\n",
       "      <td>99</td>\n",
       "      <td>14.0</td>\n",
       "      <td>7.0</td>\n",
       "      <td>Sep 30, 1950</td>\n",
       "      <td>NaN</td>\n",
       "      <td>Sat</td>\n",
       "      <td>@</td>\n",
       "      <td>NaN</td>\n",
       "      <td>False</td>\n",
       "      <td>19.0</td>\n",
       "      <td>Michigan State</td>\n",
       "      <td>3.0</td>\n",
       "      <td>Michigan</td>\n",
       "      <td>-16.0</td>\n",
       "      <td>7.0</td>\n",
       "    </tr>\n",
       "    <tr>\n",
       "      <td>105</td>\n",
       "      <td>14.0</td>\n",
       "      <td>7.0</td>\n",
       "      <td>Sep 30, 1950</td>\n",
       "      <td>NaN</td>\n",
       "      <td>Sat</td>\n",
       "      <td>NaN</td>\n",
       "      <td>NaN</td>\n",
       "      <td>True</td>\n",
       "      <td>1.0</td>\n",
       "      <td>Notre Dame</td>\n",
       "      <td>20.0</td>\n",
       "      <td>North Carolina</td>\n",
       "      <td>19.0</td>\n",
       "      <td>7.0</td>\n",
       "    </tr>\n",
       "    <tr>\n",
       "      <td>114</td>\n",
       "      <td>32.0</td>\n",
       "      <td>27.0</td>\n",
       "      <td>Sep 30, 1950</td>\n",
       "      <td>NaN</td>\n",
       "      <td>Sat</td>\n",
       "      <td>@</td>\n",
       "      <td>NaN</td>\n",
       "      <td>False</td>\n",
       "      <td>10.0</td>\n",
       "      <td>Southern Methodist</td>\n",
       "      <td>11.0</td>\n",
       "      <td>Ohio State</td>\n",
       "      <td>1.0</td>\n",
       "      <td>5.0</td>\n",
       "    </tr>\n",
       "    <tr>\n",
       "      <td rowspan=\"2\" valign=\"top\">4</td>\n",
       "      <td>140</td>\n",
       "      <td>14.0</td>\n",
       "      <td>7.0</td>\n",
       "      <td>Oct 7, 1950</td>\n",
       "      <td>NaN</td>\n",
       "      <td>Sat</td>\n",
       "      <td>NaN</td>\n",
       "      <td>NaN</td>\n",
       "      <td>True</td>\n",
       "      <td>9.0</td>\n",
       "      <td>California</td>\n",
       "      <td>20.0</td>\n",
       "      <td>Pennsylvania</td>\n",
       "      <td>11.0</td>\n",
       "      <td>7.0</td>\n",
       "    </tr>\n",
       "    <tr>\n",
       "      <td>186</td>\n",
       "      <td>21.0</td>\n",
       "      <td>20.0</td>\n",
       "      <td>Oct 7, 1950</td>\n",
       "      <td>NaN</td>\n",
       "      <td>Sat</td>\n",
       "      <td>NaN</td>\n",
       "      <td>NaN</td>\n",
       "      <td>True</td>\n",
       "      <td>10.0</td>\n",
       "      <td>Washington</td>\n",
       "      <td>13.0</td>\n",
       "      <td>UCLA</td>\n",
       "      <td>3.0</td>\n",
       "      <td>1.0</td>\n",
       "    </tr>\n",
       "  </tbody>\n",
       "</table>\n",
       "</div>"
      ],
      "text/plain": [
       "                      winner_pts  loser_pts     game_date game_time game_day  \\\n",
       "year week_number row                                                           \n",
       "1950 3           99         14.0        7.0  Sep 30, 1950       NaN      Sat   \n",
       "                 105        14.0        7.0  Sep 30, 1950       NaN      Sat   \n",
       "                 114        32.0       27.0  Sep 30, 1950       NaN      Sat   \n",
       "     4           140        14.0        7.0   Oct 7, 1950       NaN      Sat   \n",
       "                 186        21.0       20.0   Oct 7, 1950       NaN      Sat   \n",
       "\n",
       "                     game_loc notes  winner_home  winner_rank  \\\n",
       "year week_number row                                            \n",
       "1950 3           99         @   NaN        False         19.0   \n",
       "                 105      NaN   NaN         True          1.0   \n",
       "                 114        @   NaN        False         10.0   \n",
       "     4           140      NaN   NaN         True          9.0   \n",
       "                 186      NaN   NaN         True         10.0   \n",
       "\n",
       "                             winner_name  loser_rank      loser_name  \\\n",
       "year week_number row                                                   \n",
       "1950 3           99       Michigan State         3.0        Michigan   \n",
       "                 105          Notre Dame        20.0  North Carolina   \n",
       "                 114  Southern Methodist        11.0      Ohio State   \n",
       "     4           140          California        20.0    Pennsylvania   \n",
       "                 186          Washington        13.0            UCLA   \n",
       "\n",
       "                      rank_diff  pts_diff  \n",
       "year week_number row                       \n",
       "1950 3           99       -16.0       7.0  \n",
       "                 105       19.0       7.0  \n",
       "                 114        1.0       5.0  \n",
       "     4           140       11.0       7.0  \n",
       "                 186        3.0       1.0  "
      ]
     },
     "execution_count": 112,
     "metadata": {},
     "output_type": "execute_result"
    }
   ],
   "source": [
    "both_ranked.head()"
   ]
  },
  {
   "cell_type": "code",
   "execution_count": 115,
   "metadata": {},
   "outputs": [
    {
     "name": "stdout",
     "output_type": "stream",
     "text": [
      "Number of times a ranked team beats an unranked team: 9850\n",
      "Number of times an unranked team upsets a ranked team: 2212\n",
      "Number of times an a lower ranked team upsets a higher ranked team: 1070\n",
      "Number of times an a higher ranked team beats a lower ranked team: 1718\n"
     ]
    },
    {
     "name": "stderr",
     "output_type": "stream",
     "text": [
      "/usr/local/lib/python3.7/site-packages/ipykernel_launcher.py:17: FutureWarning: Sorting because non-concatenation axis is not aligned. A future version\n",
      "of pandas will change to not sort by default.\n",
      "\n",
      "To accept the future behavior, pass 'sort=False'.\n",
      "\n",
      "To retain the current behavior and silence the warning, pass 'sort=True'.\n",
      "\n"
     ]
    }
   ],
   "source": [
    "ranked_beats_unranked = records[(records['winner_rank'] > 0) & (records['loser_rank'].isna())]\n",
    "print('Number of times a ranked team beats an unranked team:', len(ranked_beats_unranked))\n",
    "records['ranked_beats_unranked'] = (records['winner_rank'] > 0) & (records['loser_rank'].isna())\n",
    "\n",
    "\n",
    "unranked_beats_ranked = records[(records['winner_rank'].isna()) & (records['loser_rank'] > 0)]\n",
    "print('Number of times an unranked team upsets a ranked team:', len(unranked_beats_ranked))\n",
    "records['unranked_beats_ranked'] = (records['winner_rank'].isna()) & (records['loser_rank'] > 0)\n",
    "\n",
    "lower_beats_higher = both_ranked[both_ranked['rank_diff'] < 0]\n",
    "print('Number of times an a lower ranked team upsets a higher ranked team:', len(lower_beats_higher))\n",
    "records['lower_bears_higher'] = both_ranked['rank_diff'] < 0\n",
    "\n",
    "higher_beats_lower = both_ranked[both_ranked['rank_diff'] > 0]\n",
    "print('Number of times an a higher ranked team beats a lower ranked team:', len(higher_beats_lower))\n",
    "\n",
    "upsets = pd.concat([unranked_beats_ranked, lower_beats_higher])"
   ]
  },
  {
   "cell_type": "code",
   "execution_count": 116,
   "metadata": {},
   "outputs": [
    {
     "name": "stdout",
     "output_type": "stream",
     "text": [
      "<class 'pandas.core.frame.DataFrame'>\n",
      "MultiIndex: 48899 entries, (1950, 1, 1) to (2018, 21, 884)\n",
      "Data columns (total 17 columns):\n",
      "winner_pts               48897 non-null float64\n",
      "loser_pts                48897 non-null float64\n",
      "game_date                48899 non-null object\n",
      "game_time                5225 non-null object\n",
      "game_day                 48899 non-null object\n",
      "game_loc                 17923 non-null object\n",
      "notes                    4066 non-null object\n",
      "winner_home              48899 non-null bool\n",
      "winner_rank              12640 non-null float64\n",
      "winner_name              48899 non-null object\n",
      "loser_rank               5002 non-null float64\n",
      "loser_name               48899 non-null object\n",
      "rank_diff                2790 non-null float64\n",
      "pts_diff                 48897 non-null float64\n",
      "ranked_beats_unranked    48899 non-null bool\n",
      "unranked_beats_ranked    48899 non-null bool\n",
      "lower_bears_higher       2790 non-null object\n",
      "dtypes: bool(3), float64(6), object(8)\n",
      "memory usage: 5.6+ MB\n"
     ]
    }
   ],
   "source": [
    "records.info()"
   ]
  },
  {
   "cell_type": "markdown",
   "metadata": {},
   "source": [
    "## Team Exploration"
   ]
  },
  {
   "cell_type": "code",
   "execution_count": 45,
   "metadata": {},
   "outputs": [],
   "source": [
    "winner_team = records['winner_name'].unique().tolist()\n",
    "loser_team = records['loser_name'].unique().tolist()\n",
    "teams = set(winner_team + loser_team)"
   ]
  },
  {
   "cell_type": "code",
   "execution_count": 46,
   "metadata": {},
   "outputs": [
    {
     "data": {
      "text/plain": [
       "402"
      ]
     },
     "execution_count": 46,
     "metadata": {},
     "output_type": "execute_result"
    }
   ],
   "source": [
    "len(teams)"
   ]
  },
  {
   "cell_type": "code",
   "execution_count": 79,
   "metadata": {},
   "outputs": [
    {
     "data": {
      "text/plain": [
       "New Mexico State    506\n",
       "Texas-El Paso       503\n",
       "Vanderbilt          497\n",
       "Tulane              492\n",
       "Rice                478\n",
       "Name: loser_name, dtype: int64"
      ]
     },
     "execution_count": 79,
     "metadata": {},
     "output_type": "execute_result"
    }
   ],
   "source": [
    "records['loser_name'].value_counts()[:5]"
   ]
  },
  {
   "cell_type": "code",
   "execution_count": 80,
   "metadata": {},
   "outputs": [
    {
     "data": {
      "text/plain": [
       "Oklahoma      627\n",
       "Alabama       618\n",
       "Ohio State    611\n",
       "Nebraska      585\n",
       "Penn State    580\n",
       "Name: winner_name, dtype: int64"
      ]
     },
     "execution_count": 80,
     "metadata": {},
     "output_type": "execute_result"
    }
   ],
   "source": [
    "records['winner_name'].value_counts()[:5]"
   ]
  },
  {
   "cell_type": "code",
   "execution_count": 95,
   "metadata": {},
   "outputs": [
    {
     "data": {
      "text/html": [
       "<div>\n",
       "<style scoped>\n",
       "    .dataframe tbody tr th:only-of-type {\n",
       "        vertical-align: middle;\n",
       "    }\n",
       "\n",
       "    .dataframe tbody tr th {\n",
       "        vertical-align: top;\n",
       "    }\n",
       "\n",
       "    .dataframe thead th {\n",
       "        text-align: right;\n",
       "    }\n",
       "</style>\n",
       "<table border=\"1\" class=\"dataframe\">\n",
       "  <thead>\n",
       "    <tr style=\"text-align: right;\">\n",
       "      <th></th>\n",
       "      <th>winner_name</th>\n",
       "      <th>loser_name</th>\n",
       "      <th>counts</th>\n",
       "    </tr>\n",
       "  </thead>\n",
       "  <tbody>\n",
       "    <tr>\n",
       "      <td>6445</td>\n",
       "      <td>Notre Dame</td>\n",
       "      <td>Navy</td>\n",
       "      <td>60</td>\n",
       "    </tr>\n",
       "    <tr>\n",
       "      <td>6667</td>\n",
       "      <td>Oklahoma</td>\n",
       "      <td>Oklahoma State</td>\n",
       "      <td>59</td>\n",
       "    </tr>\n",
       "    <tr>\n",
       "      <td>1837</td>\n",
       "      <td>Clemson</td>\n",
       "      <td>Wake Forest</td>\n",
       "      <td>59</td>\n",
       "    </tr>\n",
       "    <tr>\n",
       "      <td>8405</td>\n",
       "      <td>Tennessee</td>\n",
       "      <td>Vanderbilt</td>\n",
       "      <td>58</td>\n",
       "    </tr>\n",
       "    <tr>\n",
       "      <td>188</td>\n",
       "      <td>Alabama</td>\n",
       "      <td>Mississippi State</td>\n",
       "      <td>58</td>\n",
       "    </tr>\n",
       "    <tr>\n",
       "      <td>6560</td>\n",
       "      <td>Ohio State</td>\n",
       "      <td>Indiana</td>\n",
       "      <td>57</td>\n",
       "    </tr>\n",
       "    <tr>\n",
       "      <td>6647</td>\n",
       "      <td>Oklahoma</td>\n",
       "      <td>Iowa State</td>\n",
       "      <td>56</td>\n",
       "    </tr>\n",
       "    <tr>\n",
       "      <td>6649</td>\n",
       "      <td>Oklahoma</td>\n",
       "      <td>Kansas State</td>\n",
       "      <td>54</td>\n",
       "    </tr>\n",
       "    <tr>\n",
       "      <td>6648</td>\n",
       "      <td>Oklahoma</td>\n",
       "      <td>Kansas</td>\n",
       "      <td>54</td>\n",
       "    </tr>\n",
       "    <tr>\n",
       "      <td>2987</td>\n",
       "      <td>Georgia</td>\n",
       "      <td>Vanderbilt</td>\n",
       "      <td>54</td>\n",
       "    </tr>\n",
       "  </tbody>\n",
       "</table>\n",
       "</div>"
      ],
      "text/plain": [
       "     winner_name         loser_name  counts\n",
       "6445  Notre Dame               Navy      60\n",
       "6667    Oklahoma     Oklahoma State      59\n",
       "1837     Clemson        Wake Forest      59\n",
       "8405   Tennessee         Vanderbilt      58\n",
       "188      Alabama  Mississippi State      58\n",
       "6560  Ohio State            Indiana      57\n",
       "6647    Oklahoma         Iowa State      56\n",
       "6649    Oklahoma       Kansas State      54\n",
       "6648    Oklahoma             Kansas      54\n",
       "2987     Georgia         Vanderbilt      54"
      ]
     },
     "execution_count": 95,
     "metadata": {},
     "output_type": "execute_result"
    }
   ],
   "source": [
    "# should probably come back to this with networkx\n",
    "records.groupby(['winner_name','loser_name'])\\\n",
    "        .size()\\\n",
    "        .reset_index(name='counts')\\\n",
    "        .sort_values('counts', ascending=False)[:10]"
   ]
  },
  {
   "cell_type": "markdown",
   "metadata": {},
   "source": [
    "## Some plots for relationships"
   ]
  },
  {
   "cell_type": "code",
   "execution_count": 58,
   "metadata": {},
   "outputs": [
    {
     "data": {
      "text/plain": [
       "<matplotlib.axes._subplots.AxesSubplot at 0x12f354a50>"
      ]
     },
     "execution_count": 58,
     "metadata": {},
     "output_type": "execute_result"
    },
    {
     "data": {
      "image/png": "[encoded data removed]",
      "text/plain": [
       "<Figure size 432x288 with 1 Axes>"
      ]
     },
     "metadata": {
      "needs_background": "light"
     },
     "output_type": "display_data"
    }
   ],
   "source": [
    "records.plot(x='rank_diff', y='pts_diff', kind='scatter')"
   ]
  },
  {
   "cell_type": "code",
   "execution_count": 121,
   "metadata": {},
   "outputs": [
    {
     "data": {
      "text/plain": [
       "<seaborn.axisgrid.JointGrid at 0x137f07290>"
      ]
     },
     "execution_count": 121,
     "metadata": {},
     "output_type": "execute_result"
    },
    {
     "data": {
      "image/png": "[encoded data removed]",
      "text/plain": [
       "<Figure size 432x432 with 3 Axes>"
      ]
     },
     "metadata": {
      "needs_background": "light"
     },
     "output_type": "display_data"
    }
   ],
   "source": [
    "sns.jointplot(x='rank_diff', y='pts_diff', data=records, kind='hex')"
   ]
  },
  {
   "cell_type": "code",
   "execution_count": 125,
   "metadata": {},
   "outputs": [
    {
     "data": {
      "text/plain": [
       "<seaborn.axisgrid.JointGrid at 0x12d59dd90>"
      ]
     },
     "execution_count": 125,
     "metadata": {},
     "output_type": "execute_result"
    },
    {
     "data": {
      "image/png": "[encoded data removed]",
      "text/plain": [
       "<Figure size 432x432 with 3 Axes>"
      ]
     },
     "metadata": {
      "needs_background": "light"
     },
     "output_type": "display_data"
    }
   ],
   "source": [
    "sns.jointplot(x='rank_diff', y='pts_diff', data=lower_beats_higher, kind='hex')"
   ]
  },
  {
   "cell_type": "code",
   "execution_count": 124,
   "metadata": {},
   "outputs": [
    {
     "data": {
      "text/plain": [
       "<seaborn.axisgrid.JointGrid at 0x12d5d0950>"
      ]
     },
     "execution_count": 124,
     "metadata": {},
     "output_type": "execute_result"
    },
    {
     "data": {
      "image/png": "[encoded data removed]",
      "text/plain": [
       "<Figure size 432x432 with 3 Axes>"
      ]
     },
     "metadata": {
      "needs_background": "light"
     },
     "output_type": "display_data"
    }
   ],
   "source": [
    "sns.jointplot(x='rank_diff', y='pts_diff', data=higher_beats_lower, kind='hex')"
   ]
  },
  {
   "cell_type": "code",
   "execution_count": 64,
   "metadata": {},
   "outputs": [
    {
     "data": {
      "text/plain": [
       "<matplotlib.axes._subplots.AxesSubplot at 0x12f320fd0>"
      ]
     },
     "execution_count": 64,
     "metadata": {},
     "output_type": "execute_result"
    },
    {
     "data": {
      "image/png": "[encoded data removed]",
      "text/plain": [
       "<Figure size 432x288 with 1 Axes>"
      ]
     },
     "metadata": {
      "needs_background": "light"
     },
     "output_type": "display_data"
    }
   ],
   "source": [
    "lower_beats_higher.plot(x='rank_diff', y='pts_diff', kind='scatter')"
   ]
  },
  {
   "cell_type": "code",
   "execution_count": 67,
   "metadata": {},
   "outputs": [
    {
     "data": {
      "text/plain": [
       "<matplotlib.axes._subplots.AxesSubplot at 0x134240790>"
      ]
     },
     "execution_count": 67,
     "metadata": {},
     "output_type": "execute_result"
    },
    {
     "data": {
      "image/png": "[encoded data removed]",
      "text/plain": [
       "<Figure size 432x288 with 1 Axes>"
      ]
     },
     "metadata": {
      "needs_background": "light"
     },
     "output_type": "display_data"
    }
   ],
   "source": [
    "higher_beats_lower.plot(x='rank_diff', y='pts_diff', kind='scatter')"
   ]
  },
  {
   "cell_type": "code",
   "execution_count": 132,
   "metadata": {},
   "outputs": [
    {
     "data": {
      "text/plain": [
       "<matplotlib.axes._subplots.AxesSubplot at 0x12d59f410>"
      ]
     },
     "execution_count": 132,
     "metadata": {},
     "output_type": "execute_result"
    },
    {
     "data": {
      "image/png": "[encoded data removed]",
      "text/plain": [
       "<Figure size 432x288 with 1 Axes>"
      ]
     },
     "metadata": {
      "needs_background": "light"
     },
     "output_type": "display_data"
    }
   ],
   "source": [
    "records.groupby(['year','week_number']).mean().plot(y='rank_diff')"
   ]
  },
  {
   "cell_type": "code",
   "execution_count": 99,
   "metadata": {},
   "outputs": [
    {
     "data": {
      "text/plain": [
       "<matplotlib.axes._subplots.AxesSubplot at 0x137402e10>"
      ]
     },
     "execution_count": 99,
     "metadata": {},
     "output_type": "execute_result"
    },
    {
     "data": {
      "image/png": "[encoded data removed]",
      "text/plain": [
       "<Figure size 432x288 with 1 Axes>"
      ]
     },
     "metadata": {
      "needs_background": "light"
     },
     "output_type": "display_data"
    }
   ],
   "source": [
    "records.groupby('year').mean().plot(y='rank_diff')"
   ]
  },
  {
   "cell_type": "code",
   "execution_count": null,
   "metadata": {},
   "outputs": [],
   "source": [
    "records"
   ]
  },
  {
   "cell_type": "code",
   "execution_count": 69,
   "metadata": {},
   "outputs": [
    {
     "data": {
      "text/plain": [
       "<matplotlib.axes._subplots.AxesSubplot at 0x135109610>"
      ]
     },
     "execution_count": 69,
     "metadata": {},
     "output_type": "execute_result"
    },
    {
     "data": {
      "image/png": "[encoded data removed]",
      "text/plain": [
       "<Figure size 432x288 with 1 Axes>"
      ]
     },
     "metadata": {
      "needs_background": "light"
     },
     "output_type": "display_data"
    }
   ],
   "source": [
    "upsets.plot(x='winner_pts', y='loser_pts', kind='scatter')"
   ]
  },
  {
   "cell_type": "code",
   "execution_count": 78,
   "metadata": {},
   "outputs": [
    {
     "data": {
      "text/plain": [
       "<matplotlib.axes._subplots.AxesSubplot at 0x135e7dd90>"
      ]
     },
     "execution_count": 78,
     "metadata": {},
     "output_type": "execute_result"
    },
    {
     "data": {
      "image/png": "[encoded data removed]",
      "text/plain": [
       "<Figure size 432x288 with 1 Axes>"
      ]
     },
     "metadata": {
      "needs_background": "light"
     },
     "output_type": "display_data"
    }
   ],
   "source": [
    "records.groupby('year').mean().plot(y='rank_diff')"
   ]
  },
  {
   "cell_type": "code",
   "execution_count": 129,
   "metadata": {},
   "outputs": [
    {
     "data": {
      "text/plain": [
       "winner_pts               38.566038\n",
       "loser_pts                19.686140\n",
       "winner_home               0.676259\n",
       "winner_rank              12.897638\n",
       "loser_rank               15.438776\n",
       "rank_diff                 4.962264\n",
       "pts_diff                 20.045991\n",
       "ranked_beats_unranked     0.274924\n",
       "unranked_beats_ranked     0.071429\n",
       "dtype: float64"
      ]
     },
     "execution_count": 129,
     "metadata": {},
     "output_type": "execute_result"
    }
   ],
   "source": [
    "records.groupby('year').mean().max()"
   ]
  },
  {
   "cell_type": "code",
   "execution_count": 130,
   "metadata": {},
   "outputs": [
    {
     "data": {
      "text/plain": [
       "winner_pts               22.064669\n",
       "loser_pts                 7.617391\n",
       "winner_home               0.585324\n",
       "winner_rank               5.036145\n",
       "loser_rank                5.100000\n",
       "rank_diff                -2.444444\n",
       "pts_diff                 14.044164\n",
       "ranked_beats_unranked     0.097792\n",
       "unranked_beats_ranked     0.020376\n",
       "dtype: float64"
      ]
     },
     "execution_count": 130,
     "metadata": {},
     "output_type": "execute_result"
    }
   ],
   "source": [
    "records.groupby('year').mean().min()"
   ]
  },
  {
   "cell_type": "code",
   "execution_count": 77,
   "metadata": {},
   "outputs": [
    {
     "data": {
      "text/plain": [
       "<matplotlib.axes._subplots.AxesSubplot at 0x13577d910>"
      ]
     },
     "execution_count": 77,
     "metadata": {},
     "output_type": "execute_result"
    },
    {
     "data": {
      "image/png": "[encoded data removed]",
      "text/plain": [
       "<Figure size 432x288 with 1 Axes>"
      ]
     },
     "metadata": {
      "needs_background": "light"
     },
     "output_type": "display_data"
    }
   ],
   "source": [
    "records.groupby('year').mean().plot(y=['winner_pts','loser_pts','pts_diff'])"
   ]
  },
  {
   "cell_type": "code",
   "execution_count": null,
   "metadata": {},
   "outputs": [],
   "source": [
    "records.groupby('year').mean().plot(y='rank_diff')"
   ]
  },
  {
   "cell_type": "code",
   "execution_count": null,
   "metadata": {},
   "outputs": [],
   "source": []
  }
 ],
 "metadata": {
  "kernelspec": {
   "display_name": "Python 3",
   "language": "python",
   "name": "python3"
  },
  "language_info": {
   "codemirror_mode": {
    "name": "ipython",
    "version": 3
   },
   "file_extension": ".py",
   "mimetype": "text/x-python",
   "name": "python",
   "nbconvert_exporter": "python",
   "pygments_lexer": "ipython3",
   "version": "3.7.4"
  }
 },
 "nbformat": 4,
 "nbformat_minor": 2
}
