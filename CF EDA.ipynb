{
 "cells": [
  {
   "cell_type": "code",
   "execution_count": 46,
   "metadata": {},
   "outputs": [],
   "source": [
    "import pandas as pd\n",
    "import matplotlib.pyplot as plt\n",
    "import numpy as np\n",
    "%matplotlib inline"
   ]
  },
  {
   "cell_type": "code",
   "execution_count": 47,
   "metadata": {},
   "outputs": [
    {
     "data": {
      "text/html": [
       "<div>\n",
       "<style scoped>\n",
       "    .dataframe tbody tr th:only-of-type {\n",
       "        vertical-align: middle;\n",
       "    }\n",
       "\n",
       "    .dataframe tbody tr th {\n",
       "        vertical-align: top;\n",
       "    }\n",
       "\n",
       "    .dataframe thead th {\n",
       "        text-align: right;\n",
       "    }\n",
       "</style>\n",
       "<table border=\"1\" class=\"dataframe\">\n",
       "  <thead>\n",
       "    <tr style=\"text-align: right;\">\n",
       "      <th></th>\n",
       "      <th>Rk</th>\n",
       "      <th>Wk</th>\n",
       "      <th>Date</th>\n",
       "      <th>Time</th>\n",
       "      <th>Day</th>\n",
       "      <th>Winner</th>\n",
       "      <th>Pts</th>\n",
       "      <th>Unnamed: 7</th>\n",
       "      <th>Loser</th>\n",
       "      <th>Pts.1</th>\n",
       "      <th>TV</th>\n",
       "      <th>Notes</th>\n",
       "    </tr>\n",
       "  </thead>\n",
       "  <tbody>\n",
       "    <tr>\n",
       "      <td>0</td>\n",
       "      <td>▲</td>\n",
       "      <td>NaN</td>\n",
       "      <td>NaN</td>\n",
       "      <td>NaN</td>\n",
       "      <td>NaN</td>\n",
       "      <td>NaN</td>\n",
       "      <td>NaN</td>\n",
       "      <td>NaN</td>\n",
       "      <td>NaN</td>\n",
       "      <td>NaN</td>\n",
       "      <td>NaN</td>\n",
       "      <td>NaN</td>\n",
       "    </tr>\n",
       "    <tr>\n",
       "      <td>1</td>\n",
       "      <td>1</td>\n",
       "      <td>1.0</td>\n",
       "      <td>25-Aug-18</td>\n",
       "      <td>7:30 PM</td>\n",
       "      <td>Sat</td>\n",
       "      <td>Hawaii</td>\n",
       "      <td>43.0</td>\n",
       "      <td>@</td>\n",
       "      <td>Colorado State</td>\n",
       "      <td>34.0</td>\n",
       "      <td>NaN</td>\n",
       "      <td>Sonny Lubrick Field at Canvas Stadium - Fort C...</td>\n",
       "    </tr>\n",
       "    <tr>\n",
       "      <td>2</td>\n",
       "      <td>2</td>\n",
       "      <td>1.0</td>\n",
       "      <td>25-Aug-18</td>\n",
       "      <td>5:30 PM</td>\n",
       "      <td>Sat</td>\n",
       "      <td>Massachusetts</td>\n",
       "      <td>63.0</td>\n",
       "      <td>NaN</td>\n",
       "      <td>Duquesne</td>\n",
       "      <td>15.0</td>\n",
       "      <td>NaN</td>\n",
       "      <td>Warren McGuirk Alumni Stadium - Amherst, Massa...</td>\n",
       "    </tr>\n",
       "    <tr>\n",
       "      <td>3</td>\n",
       "      <td>3</td>\n",
       "      <td>1.0</td>\n",
       "      <td>25-Aug-18</td>\n",
       "      <td>7:00 PM</td>\n",
       "      <td>Sat</td>\n",
       "      <td>Rice</td>\n",
       "      <td>31.0</td>\n",
       "      <td>NaN</td>\n",
       "      <td>Prairie View A&amp;M</td>\n",
       "      <td>28.0</td>\n",
       "      <td>NaN</td>\n",
       "      <td>Rice Stadium - Houston, Texas</td>\n",
       "    </tr>\n",
       "    <tr>\n",
       "      <td>4</td>\n",
       "      <td>4</td>\n",
       "      <td>1.0</td>\n",
       "      <td>25-Aug-18</td>\n",
       "      <td>10:00 PM</td>\n",
       "      <td>Sat</td>\n",
       "      <td>Wyoming</td>\n",
       "      <td>29.0</td>\n",
       "      <td>@</td>\n",
       "      <td>New Mexico State</td>\n",
       "      <td>7.0</td>\n",
       "      <td>NaN</td>\n",
       "      <td>Aggie Memorial Stadium - Las Cruces, New Mexico</td>\n",
       "    </tr>\n",
       "  </tbody>\n",
       "</table>\n",
       "</div>"
      ],
      "text/plain": [
       "  Rk   Wk       Date      Time  Day         Winner   Pts Unnamed: 7  \\\n",
       "0  ▲  NaN        NaN       NaN  NaN            NaN   NaN        NaN   \n",
       "1  1  1.0  25-Aug-18   7:30 PM  Sat         Hawaii  43.0          @   \n",
       "2  2  1.0  25-Aug-18   5:30 PM  Sat  Massachusetts  63.0        NaN   \n",
       "3  3  1.0  25-Aug-18   7:00 PM  Sat           Rice  31.0        NaN   \n",
       "4  4  1.0  25-Aug-18  10:00 PM  Sat        Wyoming  29.0          @   \n",
       "\n",
       "              Loser  Pts.1  TV  \\\n",
       "0               NaN    NaN NaN   \n",
       "1    Colorado State   34.0 NaN   \n",
       "2          Duquesne   15.0 NaN   \n",
       "3  Prairie View A&M   28.0 NaN   \n",
       "4  New Mexico State    7.0 NaN   \n",
       "\n",
       "                                               Notes  \n",
       "0                                                NaN  \n",
       "1  Sonny Lubrick Field at Canvas Stadium - Fort C...  \n",
       "2  Warren McGuirk Alumni Stadium - Amherst, Massa...  \n",
       "3                      Rice Stadium - Houston, Texas  \n",
       "4    Aggie Memorial Stadium - Las Cruces, New Mexico  "
      ]
     },
     "execution_count": 47,
     "metadata": {},
     "output_type": "execute_result"
    }
   ],
   "source": [
    "cf_2018 = pd.read_csv('2018.csv')\n",
    "cf_2018.head()"
   ]
  },
  {
   "cell_type": "markdown",
   "metadata": {},
   "source": [
    "After exploring the data, we can reimport it and make the following changes to clean it up and provide additional, relevant information we will need for our EDA."
   ]
  },
  {
   "cell_type": "code",
   "execution_count": 48,
   "metadata": {},
   "outputs": [],
   "source": [
    "# Read in the file again.\n",
    "cf_2018 = pd.read_csv('2018.csv')\n",
    "\n",
    "# 'Unnamed: 7' indicated where the game was played at. Since the winner is listed first, the '@' indicates\n",
    "# the game was played at the loser's home.  Therefore, we can create a new column called 'Winner_home' if \n",
    "# the '@' sign is not present.\n",
    "cf_2018['Winner_home'] = cf_2018['Unnamed: 7']!='@'\n",
    "\n",
    "# The rank is included in the winner and losers name within parenthesis.  The below regex will identify \n",
    "# numerical digits within the parenthesis and extract them to a new column as 'floats'.  We'll also \n",
    "# remove the rank in parenthesis from the original winner column.  We'll do this for winners and losers.\n",
    "cf_2018['Winner_rank'] = cf_2018['Winner'].str.extract('\\(([0-9]+)\\)', expand=True).astype('float')\n",
    "cf_2018['Winner'] = cf_2018['Winner'].str.replace('\\(([0-9]+)\\)', '').str.replace('\\xa0', '')\n",
    "cf_2018['Loser_rank'] = cf_2018['Loser'].str.extract('\\(([0-9]+)\\)', expand=True).astype('float')\n",
    "cf_2018['Loser'] = cf_2018['Loser'].str.replace('\\(([0-9]+)\\)', '').str.replace('\\xa0', '')\n",
    "\n",
    "# Calculate a rank_diff socre.  The more negative this is, the more of an upset it is.\n",
    "cf_2018['Rank_diff'] = cf_2018['Loser_rank'] - cf_2018['Winner_rank']\n",
    "\n",
    "# 'Pts' and 'Pts.1' are unclear.  Lets make it a bit more obvious and also calculate the helpful difference\n",
    "# between the two values as we can use margin of victory to see how close a game is.\n",
    "cf_2018['Winner_pts'] = cf_2018['Pts']\n",
    "cf_2018['Loser_pts'] = cf_2018['Pts.1']\n",
    "cf_2018['Pts_diff'] = cf_2018['Winner_pts'] - cf_2018['Loser_pts']\n",
    "\n",
    "# We no longer need several of these columns, so lets drop them.  We can keep the time fields in case\n",
    "# we need them for later analysis.\n",
    "cf_2018.drop(['Unnamed: 7', 'Pts', 'Pts.1', 'TV', 'Notes', 'Rk'], axis=1, inplace=True)\n",
    "\n",
    "# Theres some weird formatting in the first line, and it didnt get dropped earlier.  Let's manually drop it\n",
    "# and reindex the dataframe.\n",
    "cf_2018.drop(0, axis=0, inplace=True)\n",
    "cf_2018.reset_index(inplace=True, drop=True)"
   ]
  },
  {
   "cell_type": "code",
   "execution_count": 49,
   "metadata": {},
   "outputs": [
    {
     "data": {
      "text/html": [
       "<div>\n",
       "<style scoped>\n",
       "    .dataframe tbody tr th:only-of-type {\n",
       "        vertical-align: middle;\n",
       "    }\n",
       "\n",
       "    .dataframe tbody tr th {\n",
       "        vertical-align: top;\n",
       "    }\n",
       "\n",
       "    .dataframe thead th {\n",
       "        text-align: right;\n",
       "    }\n",
       "</style>\n",
       "<table border=\"1\" class=\"dataframe\">\n",
       "  <thead>\n",
       "    <tr style=\"text-align: right;\">\n",
       "      <th></th>\n",
       "      <th>Wk</th>\n",
       "      <th>Date</th>\n",
       "      <th>Time</th>\n",
       "      <th>Day</th>\n",
       "      <th>Winner</th>\n",
       "      <th>Loser</th>\n",
       "      <th>Winner_home</th>\n",
       "      <th>Winner_rank</th>\n",
       "      <th>Loser_rank</th>\n",
       "      <th>Rank_diff</th>\n",
       "      <th>Winner_pts</th>\n",
       "      <th>Loser_pts</th>\n",
       "      <th>Pts_diff</th>\n",
       "    </tr>\n",
       "  </thead>\n",
       "  <tbody>\n",
       "    <tr>\n",
       "      <td>0</td>\n",
       "      <td>1.0</td>\n",
       "      <td>25-Aug-18</td>\n",
       "      <td>7:30 PM</td>\n",
       "      <td>Sat</td>\n",
       "      <td>Hawaii</td>\n",
       "      <td>Colorado State</td>\n",
       "      <td>False</td>\n",
       "      <td>NaN</td>\n",
       "      <td>NaN</td>\n",
       "      <td>NaN</td>\n",
       "      <td>43.0</td>\n",
       "      <td>34.0</td>\n",
       "      <td>9.0</td>\n",
       "    </tr>\n",
       "    <tr>\n",
       "      <td>1</td>\n",
       "      <td>1.0</td>\n",
       "      <td>25-Aug-18</td>\n",
       "      <td>5:30 PM</td>\n",
       "      <td>Sat</td>\n",
       "      <td>Massachusetts</td>\n",
       "      <td>Duquesne</td>\n",
       "      <td>True</td>\n",
       "      <td>NaN</td>\n",
       "      <td>NaN</td>\n",
       "      <td>NaN</td>\n",
       "      <td>63.0</td>\n",
       "      <td>15.0</td>\n",
       "      <td>48.0</td>\n",
       "    </tr>\n",
       "    <tr>\n",
       "      <td>2</td>\n",
       "      <td>1.0</td>\n",
       "      <td>25-Aug-18</td>\n",
       "      <td>7:00 PM</td>\n",
       "      <td>Sat</td>\n",
       "      <td>Rice</td>\n",
       "      <td>Prairie View A&amp;M</td>\n",
       "      <td>True</td>\n",
       "      <td>NaN</td>\n",
       "      <td>NaN</td>\n",
       "      <td>NaN</td>\n",
       "      <td>31.0</td>\n",
       "      <td>28.0</td>\n",
       "      <td>3.0</td>\n",
       "    </tr>\n",
       "    <tr>\n",
       "      <td>3</td>\n",
       "      <td>1.0</td>\n",
       "      <td>25-Aug-18</td>\n",
       "      <td>10:00 PM</td>\n",
       "      <td>Sat</td>\n",
       "      <td>Wyoming</td>\n",
       "      <td>New Mexico State</td>\n",
       "      <td>False</td>\n",
       "      <td>NaN</td>\n",
       "      <td>NaN</td>\n",
       "      <td>NaN</td>\n",
       "      <td>29.0</td>\n",
       "      <td>7.0</td>\n",
       "      <td>22.0</td>\n",
       "    </tr>\n",
       "    <tr>\n",
       "      <td>4</td>\n",
       "      <td>2.0</td>\n",
       "      <td>30-Aug-18</td>\n",
       "      <td>8:00 PM</td>\n",
       "      <td>Thu</td>\n",
       "      <td>Alabama-Birmingham</td>\n",
       "      <td>Savannah State</td>\n",
       "      <td>True</td>\n",
       "      <td>NaN</td>\n",
       "      <td>NaN</td>\n",
       "      <td>NaN</td>\n",
       "      <td>52.0</td>\n",
       "      <td>0.0</td>\n",
       "      <td>52.0</td>\n",
       "    </tr>\n",
       "  </tbody>\n",
       "</table>\n",
       "</div>"
      ],
      "text/plain": [
       "    Wk       Date      Time  Day              Winner             Loser  \\\n",
       "0  1.0  25-Aug-18   7:30 PM  Sat              Hawaii    Colorado State   \n",
       "1  1.0  25-Aug-18   5:30 PM  Sat       Massachusetts          Duquesne   \n",
       "2  1.0  25-Aug-18   7:00 PM  Sat                Rice  Prairie View A&M   \n",
       "3  1.0  25-Aug-18  10:00 PM  Sat             Wyoming  New Mexico State   \n",
       "4  2.0  30-Aug-18   8:00 PM  Thu  Alabama-Birmingham    Savannah State   \n",
       "\n",
       "   Winner_home  Winner_rank  Loser_rank  Rank_diff  Winner_pts  Loser_pts  \\\n",
       "0        False          NaN         NaN        NaN        43.0       34.0   \n",
       "1         True          NaN         NaN        NaN        63.0       15.0   \n",
       "2         True          NaN         NaN        NaN        31.0       28.0   \n",
       "3        False          NaN         NaN        NaN        29.0        7.0   \n",
       "4         True          NaN         NaN        NaN        52.0        0.0   \n",
       "\n",
       "   Pts_diff  \n",
       "0       9.0  \n",
       "1      48.0  \n",
       "2       3.0  \n",
       "3      22.0  \n",
       "4      52.0  "
      ]
     },
     "execution_count": 49,
     "metadata": {},
     "output_type": "execute_result"
    }
   ],
   "source": [
    "cf_2018.head()"
   ]
  },
  {
   "cell_type": "code",
   "execution_count": 50,
   "metadata": {},
   "outputs": [
    {
     "data": {
      "text/html": [
       "<div>\n",
       "<style scoped>\n",
       "    .dataframe tbody tr th:only-of-type {\n",
       "        vertical-align: middle;\n",
       "    }\n",
       "\n",
       "    .dataframe tbody tr th {\n",
       "        vertical-align: top;\n",
       "    }\n",
       "\n",
       "    .dataframe thead th {\n",
       "        text-align: right;\n",
       "    }\n",
       "</style>\n",
       "<table border=\"1\" class=\"dataframe\">\n",
       "  <thead>\n",
       "    <tr style=\"text-align: right;\">\n",
       "      <th></th>\n",
       "      <th>Wk</th>\n",
       "      <th>Date</th>\n",
       "      <th>Time</th>\n",
       "      <th>Day</th>\n",
       "      <th>Winner</th>\n",
       "      <th>Loser</th>\n",
       "      <th>Winner_home</th>\n",
       "      <th>Winner_rank</th>\n",
       "      <th>Loser_rank</th>\n",
       "      <th>Rank_diff</th>\n",
       "      <th>Winner_pts</th>\n",
       "      <th>Loser_pts</th>\n",
       "      <th>Pts_diff</th>\n",
       "    </tr>\n",
       "  </thead>\n",
       "  <tbody>\n",
       "    <tr>\n",
       "      <td>879</td>\n",
       "      <td>21.0</td>\n",
       "      <td>1-Jan-19</td>\n",
       "      <td>1:00 PM</td>\n",
       "      <td>Tue</td>\n",
       "      <td>Kentucky</td>\n",
       "      <td>Penn State</td>\n",
       "      <td>True</td>\n",
       "      <td>16.0</td>\n",
       "      <td>13.0</td>\n",
       "      <td>-3.0</td>\n",
       "      <td>27.0</td>\n",
       "      <td>24.0</td>\n",
       "      <td>3.0</td>\n",
       "    </tr>\n",
       "    <tr>\n",
       "      <td>880</td>\n",
       "      <td>21.0</td>\n",
       "      <td>1-Jan-19</td>\n",
       "      <td>1:00 PM</td>\n",
       "      <td>Tue</td>\n",
       "      <td>Louisiana State</td>\n",
       "      <td>Central Florida</td>\n",
       "      <td>True</td>\n",
       "      <td>11.0</td>\n",
       "      <td>7.0</td>\n",
       "      <td>-4.0</td>\n",
       "      <td>40.0</td>\n",
       "      <td>32.0</td>\n",
       "      <td>8.0</td>\n",
       "    </tr>\n",
       "    <tr>\n",
       "      <td>881</td>\n",
       "      <td>21.0</td>\n",
       "      <td>1-Jan-19</td>\n",
       "      <td>5:00 PM</td>\n",
       "      <td>Tue</td>\n",
       "      <td>Ohio State</td>\n",
       "      <td>Washington</td>\n",
       "      <td>True</td>\n",
       "      <td>5.0</td>\n",
       "      <td>9.0</td>\n",
       "      <td>4.0</td>\n",
       "      <td>28.0</td>\n",
       "      <td>23.0</td>\n",
       "      <td>5.0</td>\n",
       "    </tr>\n",
       "    <tr>\n",
       "      <td>882</td>\n",
       "      <td>21.0</td>\n",
       "      <td>1-Jan-19</td>\n",
       "      <td>8:45 PM</td>\n",
       "      <td>Tue</td>\n",
       "      <td>Texas</td>\n",
       "      <td>Georgia</td>\n",
       "      <td>True</td>\n",
       "      <td>14.0</td>\n",
       "      <td>6.0</td>\n",
       "      <td>-8.0</td>\n",
       "      <td>28.0</td>\n",
       "      <td>21.0</td>\n",
       "      <td>7.0</td>\n",
       "    </tr>\n",
       "    <tr>\n",
       "      <td>883</td>\n",
       "      <td>21.0</td>\n",
       "      <td>7-Jan-19</td>\n",
       "      <td>8:00 PM</td>\n",
       "      <td>Mon</td>\n",
       "      <td>Clemson</td>\n",
       "      <td>Alabama</td>\n",
       "      <td>True</td>\n",
       "      <td>2.0</td>\n",
       "      <td>1.0</td>\n",
       "      <td>-1.0</td>\n",
       "      <td>44.0</td>\n",
       "      <td>16.0</td>\n",
       "      <td>28.0</td>\n",
       "    </tr>\n",
       "  </tbody>\n",
       "</table>\n",
       "</div>"
      ],
      "text/plain": [
       "       Wk      Date     Time  Day           Winner            Loser  \\\n",
       "879  21.0  1-Jan-19  1:00 PM  Tue         Kentucky       Penn State   \n",
       "880  21.0  1-Jan-19  1:00 PM  Tue  Louisiana State  Central Florida   \n",
       "881  21.0  1-Jan-19  5:00 PM  Tue       Ohio State       Washington   \n",
       "882  21.0  1-Jan-19  8:45 PM  Tue            Texas          Georgia   \n",
       "883  21.0  7-Jan-19  8:00 PM  Mon          Clemson          Alabama   \n",
       "\n",
       "     Winner_home  Winner_rank  Loser_rank  Rank_diff  Winner_pts  Loser_pts  \\\n",
       "879         True         16.0        13.0       -3.0        27.0       24.0   \n",
       "880         True         11.0         7.0       -4.0        40.0       32.0   \n",
       "881         True          5.0         9.0        4.0        28.0       23.0   \n",
       "882         True         14.0         6.0       -8.0        28.0       21.0   \n",
       "883         True          2.0         1.0       -1.0        44.0       16.0   \n",
       "\n",
       "     Pts_diff  \n",
       "879       3.0  \n",
       "880       8.0  \n",
       "881       5.0  \n",
       "882       7.0  \n",
       "883      28.0  "
      ]
     },
     "execution_count": 50,
     "metadata": {},
     "output_type": "execute_result"
    }
   ],
   "source": [
    "cf_2018.tail()"
   ]
  },
  {
   "cell_type": "code",
   "execution_count": 51,
   "metadata": {},
   "outputs": [
    {
     "name": "stdout",
     "output_type": "stream",
     "text": [
      "<class 'pandas.core.frame.DataFrame'>\n",
      "RangeIndex: 884 entries, 0 to 883\n",
      "Data columns (total 13 columns):\n",
      "Wk             884 non-null float64\n",
      "Date           884 non-null object\n",
      "Time           884 non-null object\n",
      "Day            884 non-null object\n",
      "Winner         884 non-null object\n",
      "Loser          884 non-null object\n",
      "Winner_home    884 non-null bool\n",
      "Winner_rank    232 non-null float64\n",
      "Loser_rank     107 non-null float64\n",
      "Rank_diff      58 non-null float64\n",
      "Winner_pts     884 non-null float64\n",
      "Loser_pts      884 non-null float64\n",
      "Pts_diff       884 non-null float64\n",
      "dtypes: bool(1), float64(7), object(5)\n",
      "memory usage: 83.9+ KB\n"
     ]
    }
   ],
   "source": [
    "cf_2018.info()"
   ]
  },
  {
   "cell_type": "code",
   "execution_count": 52,
   "metadata": {},
   "outputs": [
    {
     "data": {
      "text/html": [
       "<div>\n",
       "<style scoped>\n",
       "    .dataframe tbody tr th:only-of-type {\n",
       "        vertical-align: middle;\n",
       "    }\n",
       "\n",
       "    .dataframe tbody tr th {\n",
       "        vertical-align: top;\n",
       "    }\n",
       "\n",
       "    .dataframe thead th {\n",
       "        text-align: right;\n",
       "    }\n",
       "</style>\n",
       "<table border=\"1\" class=\"dataframe\">\n",
       "  <thead>\n",
       "    <tr style=\"text-align: right;\">\n",
       "      <th></th>\n",
       "      <th>Wk</th>\n",
       "      <th>Winner_rank</th>\n",
       "      <th>Loser_rank</th>\n",
       "      <th>Rank_diff</th>\n",
       "      <th>Winner_pts</th>\n",
       "      <th>Loser_pts</th>\n",
       "      <th>Pts_diff</th>\n",
       "    </tr>\n",
       "  </thead>\n",
       "  <tbody>\n",
       "    <tr>\n",
       "      <td>count</td>\n",
       "      <td>884.000000</td>\n",
       "      <td>232.000000</td>\n",
       "      <td>107.000000</td>\n",
       "      <td>58.000000</td>\n",
       "      <td>884.000000</td>\n",
       "      <td>884.000000</td>\n",
       "      <td>884.000000</td>\n",
       "    </tr>\n",
       "    <tr>\n",
       "      <td>mean</td>\n",
       "      <td>8.360860</td>\n",
       "      <td>11.702586</td>\n",
       "      <td>15.252336</td>\n",
       "      <td>3.310345</td>\n",
       "      <td>38.342760</td>\n",
       "      <td>19.139140</td>\n",
       "      <td>19.203620</td>\n",
       "    </tr>\n",
       "    <tr>\n",
       "      <td>std</td>\n",
       "      <td>4.557905</td>\n",
       "      <td>7.285305</td>\n",
       "      <td>6.799131</td>\n",
       "      <td>9.492762</td>\n",
       "      <td>13.150369</td>\n",
       "      <td>10.571864</td>\n",
       "      <td>14.648055</td>\n",
       "    </tr>\n",
       "    <tr>\n",
       "      <td>min</td>\n",
       "      <td>1.000000</td>\n",
       "      <td>1.000000</td>\n",
       "      <td>1.000000</td>\n",
       "      <td>-17.000000</td>\n",
       "      <td>7.000000</td>\n",
       "      <td>0.000000</td>\n",
       "      <td>1.000000</td>\n",
       "    </tr>\n",
       "    <tr>\n",
       "      <td>25%</td>\n",
       "      <td>4.000000</td>\n",
       "      <td>5.000000</td>\n",
       "      <td>9.000000</td>\n",
       "      <td>-3.000000</td>\n",
       "      <td>28.000000</td>\n",
       "      <td>13.000000</td>\n",
       "      <td>7.000000</td>\n",
       "    </tr>\n",
       "    <tr>\n",
       "      <td>50%</td>\n",
       "      <td>8.000000</td>\n",
       "      <td>11.000000</td>\n",
       "      <td>16.000000</td>\n",
       "      <td>3.000000</td>\n",
       "      <td>38.000000</td>\n",
       "      <td>17.000000</td>\n",
       "      <td>17.000000</td>\n",
       "    </tr>\n",
       "    <tr>\n",
       "      <td>75%</td>\n",
       "      <td>12.000000</td>\n",
       "      <td>18.000000</td>\n",
       "      <td>21.000000</td>\n",
       "      <td>9.750000</td>\n",
       "      <td>48.000000</td>\n",
       "      <td>26.000000</td>\n",
       "      <td>28.000000</td>\n",
       "    </tr>\n",
       "    <tr>\n",
       "      <td>max</td>\n",
       "      <td>21.000000</td>\n",
       "      <td>25.000000</td>\n",
       "      <td>25.000000</td>\n",
       "      <td>21.000000</td>\n",
       "      <td>79.000000</td>\n",
       "      <td>72.000000</td>\n",
       "      <td>77.000000</td>\n",
       "    </tr>\n",
       "  </tbody>\n",
       "</table>\n",
       "</div>"
      ],
      "text/plain": [
       "               Wk  Winner_rank  Loser_rank  Rank_diff  Winner_pts   Loser_pts  \\\n",
       "count  884.000000   232.000000  107.000000  58.000000  884.000000  884.000000   \n",
       "mean     8.360860    11.702586   15.252336   3.310345   38.342760   19.139140   \n",
       "std      4.557905     7.285305    6.799131   9.492762   13.150369   10.571864   \n",
       "min      1.000000     1.000000    1.000000 -17.000000    7.000000    0.000000   \n",
       "25%      4.000000     5.000000    9.000000  -3.000000   28.000000   13.000000   \n",
       "50%      8.000000    11.000000   16.000000   3.000000   38.000000   17.000000   \n",
       "75%     12.000000    18.000000   21.000000   9.750000   48.000000   26.000000   \n",
       "max     21.000000    25.000000   25.000000  21.000000   79.000000   72.000000   \n",
       "\n",
       "         Pts_diff  \n",
       "count  884.000000  \n",
       "mean    19.203620  \n",
       "std     14.648055  \n",
       "min      1.000000  \n",
       "25%      7.000000  \n",
       "50%     17.000000  \n",
       "75%     28.000000  \n",
       "max     77.000000  "
      ]
     },
     "execution_count": 52,
     "metadata": {},
     "output_type": "execute_result"
    }
   ],
   "source": [
    "cf_2018.describe()"
   ]
  },
  {
   "cell_type": "code",
   "execution_count": 53,
   "metadata": {},
   "outputs": [
    {
     "data": {
      "text/plain": [
       "array([[<matplotlib.axes._subplots.AxesSubplot object at 0x11ed3b390>,\n",
       "        <matplotlib.axes._subplots.AxesSubplot object at 0x11ed5db00>],\n",
       "       [<matplotlib.axes._subplots.AxesSubplot object at 0x11e05ac50>,\n",
       "        <matplotlib.axes._subplots.AxesSubplot object at 0x11ee51048>]],\n",
       "      dtype=object)"
      ]
     },
     "execution_count": 53,
     "metadata": {},
     "output_type": "execute_result"
    },
    {
     "data": {
      "image/png": "[encoded data removed]",
      "text/plain": [
       "<Figure size 864x432 with 4 Axes>"
      ]
     },
     "metadata": {
      "needs_background": "light"
     },
     "output_type": "display_data"
    }
   ],
   "source": [
    "cf_2018[['Winner_pts', 'Loser_pts', 'Pts_diff', 'Rank_diff']].hist(figsize=(12,6))"
   ]
  },
  {
   "cell_type": "code",
   "execution_count": 54,
   "metadata": {},
   "outputs": [
    {
     "data": {
      "text/plain": [
       "<matplotlib.axes._subplots.AxesSubplot at 0x11f14e160>"
      ]
     },
     "execution_count": 54,
     "metadata": {},
     "output_type": "execute_result"
    },
    {
     "data": {
      "image/png": "[encoded data removed]",
      "text/plain": [
       "<Figure size 864x432 with 1 Axes>"
      ]
     },
     "metadata": {
      "needs_background": "light"
     },
     "output_type": "display_data"
    }
   ],
   "source": [
    "cf_2018[['Winner_pts', 'Loser_pts', 'Pts_diff', 'Rank_diff']].boxplot(figsize=(12,6))"
   ]
  },
  {
   "cell_type": "markdown",
   "metadata": {},
   "source": [
    "## Lets look at when ranked teams play other ranked teams."
   ]
  },
  {
   "cell_type": "markdown",
   "metadata": {},
   "source": [
    "Lets look at when ranked team play each other.  From 'Rank_diff', there should be 58 such games in 2018.  Turns out the polls were right 37 out of 58 times, for a success rate of .638.  We could look at the likelihood that this is chance."
   ]
  },
  {
   "cell_type": "code",
   "execution_count": 55,
   "metadata": {},
   "outputs": [
    {
     "name": "stdout",
     "output_type": "stream",
     "text": [
      "Number of times a higher ranked team beats a lower ranked team: 37\n",
      "Number of times a lower ranked team beats a higher ranked team: 21\n"
     ]
    }
   ],
   "source": [
    "higher_beats_lower = cf_2018[cf_2018['Winner_rank'] < cf_2018['Loser_rank']]\n",
    "print('Number of times a higher ranked team beats a lower ranked team:', len(higher_beats_lower))\n",
    "\n",
    "lower_beats_higher = cf_2018[cf_2018['Winner_rank'] > cf_2018['Loser_rank']]\n",
    "print('Number of times a lower ranked team beats a higher ranked team:', len(lower_beats_higher))"
   ]
  },
  {
   "cell_type": "markdown",
   "metadata": {},
   "source": [
    "It also seems that the games are closer in score when the lower ranked team beats the favored team.  The average points difference when a higher team beat a lower team was 16.03, but it was only 12.90 when the lower ranked team won.  It also seemed that a higher percentage of games was won by less than 10 points (what we could call a \"close\" game) when the lower ranked team won.\n",
    "\n",
    "Also, the absolute value of the rank_diff score is higher in the subset of data when higer teams defeat lower-ranked teams as expected.  There, the average rank_dff is 9.05.  When a lower-ranked team upsets a higher ranked team, the rank_diff is 6.81.  This suggests that polls are less accurate when the ranks between teams are less.  This makes sense because pollsters would be more likely to guess the winner when the #1 team played the #25 team than when the #12 team plays the #13 team."
   ]
  },
  {
   "cell_type": "code",
   "execution_count": 56,
   "metadata": {},
   "outputs": [
    {
     "data": {
      "text/html": [
       "<div>\n",
       "<style scoped>\n",
       "    .dataframe tbody tr th:only-of-type {\n",
       "        vertical-align: middle;\n",
       "    }\n",
       "\n",
       "    .dataframe tbody tr th {\n",
       "        vertical-align: top;\n",
       "    }\n",
       "\n",
       "    .dataframe thead th {\n",
       "        text-align: right;\n",
       "    }\n",
       "</style>\n",
       "<table border=\"1\" class=\"dataframe\">\n",
       "  <thead>\n",
       "    <tr style=\"text-align: right;\">\n",
       "      <th></th>\n",
       "      <th>Wk</th>\n",
       "      <th>Winner_rank</th>\n",
       "      <th>Loser_rank</th>\n",
       "      <th>Rank_diff</th>\n",
       "      <th>Winner_pts</th>\n",
       "      <th>Loser_pts</th>\n",
       "      <th>Pts_diff</th>\n",
       "    </tr>\n",
       "  </thead>\n",
       "  <tbody>\n",
       "    <tr>\n",
       "      <td>count</td>\n",
       "      <td>37.000000</td>\n",
       "      <td>37.000000</td>\n",
       "      <td>37.000000</td>\n",
       "      <td>37.000000</td>\n",
       "      <td>37.000000</td>\n",
       "      <td>37.000000</td>\n",
       "      <td>37.000000</td>\n",
       "    </tr>\n",
       "    <tr>\n",
       "      <td>mean</td>\n",
       "      <td>10.513514</td>\n",
       "      <td>7.108108</td>\n",
       "      <td>16.162162</td>\n",
       "      <td>9.054054</td>\n",
       "      <td>34.135135</td>\n",
       "      <td>18.108108</td>\n",
       "      <td>16.027027</td>\n",
       "    </tr>\n",
       "    <tr>\n",
       "      <td>std</td>\n",
       "      <td>4.834032</td>\n",
       "      <td>4.777167</td>\n",
       "      <td>6.589189</td>\n",
       "      <td>6.022854</td>\n",
       "      <td>9.832379</td>\n",
       "      <td>13.213595</td>\n",
       "      <td>9.864320</td>\n",
       "    </tr>\n",
       "    <tr>\n",
       "      <td>min</td>\n",
       "      <td>2.000000</td>\n",
       "      <td>1.000000</td>\n",
       "      <td>3.000000</td>\n",
       "      <td>1.000000</td>\n",
       "      <td>10.000000</td>\n",
       "      <td>0.000000</td>\n",
       "      <td>1.000000</td>\n",
       "    </tr>\n",
       "    <tr>\n",
       "      <td>25%</td>\n",
       "      <td>6.000000</td>\n",
       "      <td>3.000000</td>\n",
       "      <td>12.000000</td>\n",
       "      <td>4.000000</td>\n",
       "      <td>27.000000</td>\n",
       "      <td>7.000000</td>\n",
       "      <td>7.000000</td>\n",
       "    </tr>\n",
       "    <tr>\n",
       "      <td>50%</td>\n",
       "      <td>11.000000</td>\n",
       "      <td>6.000000</td>\n",
       "      <td>17.000000</td>\n",
       "      <td>8.000000</td>\n",
       "      <td>36.000000</td>\n",
       "      <td>17.000000</td>\n",
       "      <td>16.000000</td>\n",
       "    </tr>\n",
       "    <tr>\n",
       "      <td>75%</td>\n",
       "      <td>13.000000</td>\n",
       "      <td>11.000000</td>\n",
       "      <td>22.000000</td>\n",
       "      <td>13.000000</td>\n",
       "      <td>41.000000</td>\n",
       "      <td>26.000000</td>\n",
       "      <td>24.000000</td>\n",
       "    </tr>\n",
       "    <tr>\n",
       "      <td>max</td>\n",
       "      <td>21.000000</td>\n",
       "      <td>19.000000</td>\n",
       "      <td>25.000000</td>\n",
       "      <td>21.000000</td>\n",
       "      <td>59.000000</td>\n",
       "      <td>56.000000</td>\n",
       "      <td>35.000000</td>\n",
       "    </tr>\n",
       "  </tbody>\n",
       "</table>\n",
       "</div>"
      ],
      "text/plain": [
       "              Wk  Winner_rank  Loser_rank  Rank_diff  Winner_pts  Loser_pts  \\\n",
       "count  37.000000    37.000000   37.000000  37.000000   37.000000  37.000000   \n",
       "mean   10.513514     7.108108   16.162162   9.054054   34.135135  18.108108   \n",
       "std     4.834032     4.777167    6.589189   6.022854    9.832379  13.213595   \n",
       "min     2.000000     1.000000    3.000000   1.000000   10.000000   0.000000   \n",
       "25%     6.000000     3.000000   12.000000   4.000000   27.000000   7.000000   \n",
       "50%    11.000000     6.000000   17.000000   8.000000   36.000000  17.000000   \n",
       "75%    13.000000    11.000000   22.000000  13.000000   41.000000  26.000000   \n",
       "max    21.000000    19.000000   25.000000  21.000000   59.000000  56.000000   \n",
       "\n",
       "        Pts_diff  \n",
       "count  37.000000  \n",
       "mean   16.027027  \n",
       "std     9.864320  \n",
       "min     1.000000  \n",
       "25%     7.000000  \n",
       "50%    16.000000  \n",
       "75%    24.000000  \n",
       "max    35.000000  "
      ]
     },
     "execution_count": 56,
     "metadata": {},
     "output_type": "execute_result"
    }
   ],
   "source": [
    "higher_beats_lower.describe()"
   ]
  },
  {
   "cell_type": "code",
   "execution_count": 57,
   "metadata": {},
   "outputs": [
    {
     "data": {
      "text/plain": [
       "<matplotlib.axes._subplots.AxesSubplot at 0x11f4a88d0>"
      ]
     },
     "execution_count": 57,
     "metadata": {},
     "output_type": "execute_result"
    },
    {
     "data": {
      "image/png": "[encoded data removed]",
      "text/plain": [
       "<Figure size 432x288 with 1 Axes>"
      ]
     },
     "metadata": {
      "needs_background": "light"
     },
     "output_type": "display_data"
    }
   ],
   "source": [
    "higher_beats_lower['Pts_diff'].hist()"
   ]
  },
  {
   "cell_type": "code",
   "execution_count": 58,
   "metadata": {},
   "outputs": [
    {
     "data": {
      "text/html": [
       "<div>\n",
       "<style scoped>\n",
       "    .dataframe tbody tr th:only-of-type {\n",
       "        vertical-align: middle;\n",
       "    }\n",
       "\n",
       "    .dataframe tbody tr th {\n",
       "        vertical-align: top;\n",
       "    }\n",
       "\n",
       "    .dataframe thead th {\n",
       "        text-align: right;\n",
       "    }\n",
       "</style>\n",
       "<table border=\"1\" class=\"dataframe\">\n",
       "  <thead>\n",
       "    <tr style=\"text-align: right;\">\n",
       "      <th></th>\n",
       "      <th>Wk</th>\n",
       "      <th>Winner_rank</th>\n",
       "      <th>Loser_rank</th>\n",
       "      <th>Rank_diff</th>\n",
       "      <th>Winner_pts</th>\n",
       "      <th>Loser_pts</th>\n",
       "      <th>Pts_diff</th>\n",
       "    </tr>\n",
       "  </thead>\n",
       "  <tbody>\n",
       "    <tr>\n",
       "      <td>count</td>\n",
       "      <td>21.000000</td>\n",
       "      <td>21.000000</td>\n",
       "      <td>21.000000</td>\n",
       "      <td>21.000000</td>\n",
       "      <td>21.000000</td>\n",
       "      <td>21.000000</td>\n",
       "      <td>21.000000</td>\n",
       "    </tr>\n",
       "    <tr>\n",
       "      <td>mean</td>\n",
       "      <td>11.333333</td>\n",
       "      <td>15.904762</td>\n",
       "      <td>9.095238</td>\n",
       "      <td>-6.809524</td>\n",
       "      <td>33.952381</td>\n",
       "      <td>21.047619</td>\n",
       "      <td>12.904762</td>\n",
       "    </tr>\n",
       "    <tr>\n",
       "      <td>std</td>\n",
       "      <td>7.030884</td>\n",
       "      <td>6.363213</td>\n",
       "      <td>5.233591</td>\n",
       "      <td>4.791858</td>\n",
       "      <td>10.273637</td>\n",
       "      <td>8.991530</td>\n",
       "      <td>8.659704</td>\n",
       "    </tr>\n",
       "    <tr>\n",
       "      <td>min</td>\n",
       "      <td>2.000000</td>\n",
       "      <td>2.000000</td>\n",
       "      <td>1.000000</td>\n",
       "      <td>-17.000000</td>\n",
       "      <td>19.000000</td>\n",
       "      <td>3.000000</td>\n",
       "      <td>1.000000</td>\n",
       "    </tr>\n",
       "    <tr>\n",
       "      <td>25%</td>\n",
       "      <td>6.000000</td>\n",
       "      <td>11.000000</td>\n",
       "      <td>6.000000</td>\n",
       "      <td>-10.000000</td>\n",
       "      <td>27.000000</td>\n",
       "      <td>16.000000</td>\n",
       "      <td>5.000000</td>\n",
       "    </tr>\n",
       "    <tr>\n",
       "      <td>50%</td>\n",
       "      <td>9.000000</td>\n",
       "      <td>16.000000</td>\n",
       "      <td>7.000000</td>\n",
       "      <td>-6.000000</td>\n",
       "      <td>33.000000</td>\n",
       "      <td>19.000000</td>\n",
       "      <td>13.000000</td>\n",
       "    </tr>\n",
       "    <tr>\n",
       "      <td>75%</td>\n",
       "      <td>19.000000</td>\n",
       "      <td>20.000000</td>\n",
       "      <td>13.000000</td>\n",
       "      <td>-3.000000</td>\n",
       "      <td>40.000000</td>\n",
       "      <td>24.000000</td>\n",
       "      <td>21.000000</td>\n",
       "    </tr>\n",
       "    <tr>\n",
       "      <td>max</td>\n",
       "      <td>21.000000</td>\n",
       "      <td>25.000000</td>\n",
       "      <td>19.000000</td>\n",
       "      <td>-1.000000</td>\n",
       "      <td>62.000000</td>\n",
       "      <td>45.000000</td>\n",
       "      <td>28.000000</td>\n",
       "    </tr>\n",
       "  </tbody>\n",
       "</table>\n",
       "</div>"
      ],
      "text/plain": [
       "              Wk  Winner_rank  Loser_rank  Rank_diff  Winner_pts  Loser_pts  \\\n",
       "count  21.000000    21.000000   21.000000  21.000000   21.000000  21.000000   \n",
       "mean   11.333333    15.904762    9.095238  -6.809524   33.952381  21.047619   \n",
       "std     7.030884     6.363213    5.233591   4.791858   10.273637   8.991530   \n",
       "min     2.000000     2.000000    1.000000 -17.000000   19.000000   3.000000   \n",
       "25%     6.000000    11.000000    6.000000 -10.000000   27.000000  16.000000   \n",
       "50%     9.000000    16.000000    7.000000  -6.000000   33.000000  19.000000   \n",
       "75%    19.000000    20.000000   13.000000  -3.000000   40.000000  24.000000   \n",
       "max    21.000000    25.000000   19.000000  -1.000000   62.000000  45.000000   \n",
       "\n",
       "        Pts_diff  \n",
       "count  21.000000  \n",
       "mean   12.904762  \n",
       "std     8.659704  \n",
       "min     1.000000  \n",
       "25%     5.000000  \n",
       "50%    13.000000  \n",
       "75%    21.000000  \n",
       "max    28.000000  "
      ]
     },
     "execution_count": 58,
     "metadata": {},
     "output_type": "execute_result"
    }
   ],
   "source": [
    "lower_beats_higher.describe()"
   ]
  },
  {
   "cell_type": "code",
   "execution_count": 59,
   "metadata": {},
   "outputs": [
    {
     "data": {
      "text/plain": [
       "<matplotlib.axes._subplots.AxesSubplot at 0x11f5a3da0>"
      ]
     },
     "execution_count": 59,
     "metadata": {},
     "output_type": "execute_result"
    },
    {
     "data": {
      "image/png": "[encoded data removed]",
      "text/plain": [
       "<Figure size 432x288 with 1 Axes>"
      ]
     },
     "metadata": {
      "needs_background": "light"
     },
     "output_type": "display_data"
    }
   ],
   "source": [
    "lower_beats_higher['Pts_diff'].hist()"
   ]
  },
  {
   "cell_type": "markdown",
   "metadata": {},
   "source": [
    "## Lets look at ranked teams vs unranked teams"
   ]
  },
  {
   "cell_type": "markdown",
   "metadata": {},
   "source": [
    "First, lets find out how many games there should be with at least one ranked team.  There are 884 games, so the total numers of games with at least one ranked and no one ranked should be 884."
   ]
  },
  {
   "cell_type": "code",
   "execution_count": 60,
   "metadata": {},
   "outputs": [
    {
     "name": "stdout",
     "output_type": "stream",
     "text": [
      "Numbers of games where at least one team is ranked: 281\n",
      "Numbers of games where no team is ranked: 603\n"
     ]
    }
   ],
   "source": [
    "at_least_one_ranked = cf_2018[(cf_2018['Winner_rank'] > 0) | (cf_2018['Loser_rank'] > 0)]\n",
    "print('Numbers of games where at least one team is ranked:', len(at_least_one_ranked))\n",
    "\n",
    "no_ranked = cf_2018[(cf_2018['Winner_rank'].isna()) & (cf_2018['Loser_rank'].isna())]\n",
    "print('Numbers of games where no team is ranked:', len(no_ranked))"
   ]
  },
  {
   "cell_type": "markdown",
   "metadata": {},
   "source": [
    "Looks good!  Now lets look closer at the games when only one team is ranked.  We'll break that out to two dataframes, when the ranked team wins and when the unranked team wins."
   ]
  },
  {
   "cell_type": "code",
   "execution_count": 61,
   "metadata": {},
   "outputs": [
    {
     "name": "stdout",
     "output_type": "stream",
     "text": [
      "Number of times a ranked team beats an unranked team: 174\n",
      "Number of times an unranked team upsets a ranked team: 49\n"
     ]
    }
   ],
   "source": [
    "ranked_beats_unranked = cf_2018[(cf_2018['Winner_rank'] > 0) & (cf_2018['Loser_rank'].isna())]\n",
    "print('Number of times a ranked team beats an unranked team:', len(ranked_beats_unranked))\n",
    "\n",
    "unranked_beats_ranked = cf_2018[(cf_2018['Winner_rank'].isna()) & (cf_2018['Loser_rank'] > 0)]\n",
    "print('Number of times an unranked team upsets a ranked team:', len(unranked_beats_ranked))"
   ]
  },
  {
   "cell_type": "markdown",
   "metadata": {},
   "source": [
    "These values add to 223, which with the 58 games examined above included adds up to 281, the total number of games with at least one ranked team.  So we are inclusive with all of our conditions."
   ]
  },
  {
   "cell_type": "markdown",
   "metadata": {},
   "source": [
    "## Team Exploration"
   ]
  },
  {
   "cell_type": "code",
   "execution_count": 66,
   "metadata": {},
   "outputs": [],
   "source": [
    "winner_team = cf_2018['Winner'].unique().tolist()\n",
    "loser_team = cf_2018['Loser'].unique().tolist()\n",
    "teams = set(winner_team + loser_team)"
   ]
  },
  {
   "cell_type": "code",
   "execution_count": 69,
   "metadata": {},
   "outputs": [
    {
     "data": {
      "text/plain": [
       "219"
      ]
     },
     "execution_count": 69,
     "metadata": {},
     "output_type": "execute_result"
    }
   ],
   "source": [
    "len(teams)"
   ]
  },
  {
   "cell_type": "code",
   "execution_count": 71,
   "metadata": {},
   "outputs": [
    {
     "data": {
      "text/plain": [
       "Central Michigan    11\n",
       "Rutgers             11\n",
       "Rice                11\n",
       "San Jose State      11\n",
       "Connecticut         11\n",
       "                    ..\n",
       "South Dakota         1\n",
       "Lamar                1\n",
       "Maine                1\n",
       "Florida A&M          1\n",
       "Murray State         1\n",
       "Name: Loser, Length: 214, dtype: int64"
      ]
     },
     "execution_count": 71,
     "metadata": {},
     "output_type": "execute_result"
    }
   ],
   "source": [
    "cf_2018['Loser'].value_counts()\n"
   ]
  },
  {
   "cell_type": "code",
   "execution_count": null,
   "metadata": {},
   "outputs": [],
   "source": [
    "cf_2018['Loser'].value_counts()"
   ]
  },
  {
   "cell_type": "code",
   "execution_count": null,
   "metadata": {},
   "outputs": [],
   "source": []
  }
 ],
 "metadata": {
  "kernelspec": {
   "display_name": "Python 3",
   "language": "python",
   "name": "python3"
  },
  "language_info": {
   "codemirror_mode": {
    "name": "ipython",
    "version": 3
   },
   "file_extension": ".py",
   "mimetype": "text/x-python",
   "name": "python",
   "nbconvert_exporter": "python",
   "pygments_lexer": "ipython3",
   "version": "3.7.3"
  }
 },
 "nbformat": 4,
 "nbformat_minor": 2
}
